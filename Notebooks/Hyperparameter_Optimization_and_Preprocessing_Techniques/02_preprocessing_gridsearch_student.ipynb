{
 "cells": [
  {
   "cell_type": "markdown",
   "id": "f6017ffc-d552-45b4-87d1-d5afd19fff04",
   "metadata": {},
   "source": [
    "## Niño Matthew De La Cruz Magsano"
   ]
  },
  {
   "cell_type": "code",
   "execution_count": null,
   "id": "1a506fa9",
   "metadata": {},
   "outputs": [
    {
     "ename": "",
     "evalue": "",
     "output_type": "error",
     "traceback": [
      "\u001b[1;31mRunning cells with 'Python ('codespacesML')' requires ipykernel package.\n",
      "Run the following command to install 'ipykernel' into the Python environment. \n",
      "Command: 'conda install -n codespacesML ipykernel --update-deps --force-reinstall'"
     ]
    }
   ],
   "source": [
    "import pandas as pd \n",
    "import seaborn as sns\n",
    "import numpy as np\n",
    "\n",
    "from sklearn.preprocessing import OneHotEncoder\n",
    "from sklearn.model_selection import train_test_split\n",
    "from sklearn.metrics import precision_score, recall_score, f1_score, r2_score, accuracy_score\n",
    "from sklearn.model_selection import GridSearchCV\n",
    "from sklearn.svm import SVC\n",
    "from sklearn.preprocessing import OneHotEncoder\n",
    "from sklearn import datasets\n",
    "from numpy.testing import assert_almost_equal\n",
    "from sklearn.model_selection import GridSearchCV\n",
    "from sklearn.metrics import  make_scorer"
   ]
  },
  {
   "cell_type": "code",
   "execution_count": null,
   "id": "62e1308c-1941-4893-8575-0250b5021c0b",
   "metadata": {},
   "outputs": [
    {
     "ename": "",
     "evalue": "",
     "output_type": "error",
     "traceback": [
      "\u001b[1;31mRunning cells with 'Python ('codespacesML')' requires ipykernel package.\n",
      "Run the following command to install 'ipykernel' into the Python environment. \n",
      "Command: 'conda install -n codespacesML ipykernel --update-deps --force-reinstall'"
     ]
    }
   ],
   "source": [
    "import matplotlib.pyplot as plt \n",
    "\n",
    "sns.set_style('whitegrid')\n",
    "sns.set_palette('Set2')\n",
    "sns.color_palette('Set2')\n",
    "dlsu_green = \"#117a65ff\""
   ]
  },
  {
   "cell_type": "markdown",
   "id": "5506c52a",
   "metadata": {},
   "source": [
    "One important function of HR is to retain talent. High employee attrition in a company can result to financial cost, lower morale, decrease in producvity  and more. Therefore it's imperative for HR to be able to maintain a healthy employee attrition rate. With this, HR wants you to build a model that will predict if an employee will attrite (leave the company) or stay. By having this kind of model in the company, HR would be able to proactively retain talent and have a healthier attrition rate. \n",
    "\n",
    "They have provided you with a dataset which contains the following columns. Source from <a href=\"https://www.kaggle.com/arashnic/hr-analytics-job-change-of-data-scientists\">Kaggle</a>: \n",
    "\n",
    "- enrollee_id : Unique ID for candidate\n",
    "- city: City code\n",
    "- city_ development _index : Developement index of the city (scaled)\n",
    "- gender: Gender of candidate\n",
    "- relevent_experience: Relevant experience of candidate\n",
    "- enrolled_university: Type of University course enrolled if any\n",
    "- education_level: Education level of candidate\n",
    "- major_discipline :Education major discipline of candidate\n",
    "- experience: Candidate total experience in years\n",
    "- company_size: No of employees in current employer's company\n",
    "- company_type : Type of current employer\n",
    "- lastnewjob: Difference in years between previous job and current job\n",
    "- training_hours: training hours completed\n",
    "- target: 0 – Not looking for job change, 1 – Looking for a job change"
   ]
  },
  {
   "cell_type": "code",
   "execution_count": null,
   "id": "1046c6db",
   "metadata": {},
   "outputs": [
    {
     "data": {
      "text/html": [
       "<div>\n",
       "<style scoped>\n",
       "    .dataframe tbody tr th:only-of-type {\n",
       "        vertical-align: middle;\n",
       "    }\n",
       "\n",
       "    .dataframe tbody tr th {\n",
       "        vertical-align: top;\n",
       "    }\n",
       "\n",
       "    .dataframe thead th {\n",
       "        text-align: right;\n",
       "    }\n",
       "</style>\n",
       "<table border=\"1\" class=\"dataframe\">\n",
       "  <thead>\n",
       "    <tr style=\"text-align: right;\">\n",
       "      <th></th>\n",
       "      <th>enrollee_id</th>\n",
       "      <th>city</th>\n",
       "      <th>city_development_index</th>\n",
       "      <th>gender</th>\n",
       "      <th>relevent_experience</th>\n",
       "      <th>enrolled_university</th>\n",
       "      <th>education_level</th>\n",
       "      <th>major_discipline</th>\n",
       "      <th>experience</th>\n",
       "      <th>company_size</th>\n",
       "      <th>company_type</th>\n",
       "      <th>last_new_job</th>\n",
       "      <th>training_hours</th>\n",
       "      <th>target</th>\n",
       "    </tr>\n",
       "  </thead>\n",
       "  <tbody>\n",
       "    <tr>\n",
       "      <th>0</th>\n",
       "      <td>8949</td>\n",
       "      <td>city_103</td>\n",
       "      <td>0.920</td>\n",
       "      <td>Male</td>\n",
       "      <td>Has relevent experience</td>\n",
       "      <td>no_enrollment</td>\n",
       "      <td>Graduate</td>\n",
       "      <td>STEM</td>\n",
       "      <td>&gt;20</td>\n",
       "      <td>NaN</td>\n",
       "      <td>NaN</td>\n",
       "      <td>1</td>\n",
       "      <td>36</td>\n",
       "      <td>1.0</td>\n",
       "    </tr>\n",
       "    <tr>\n",
       "      <th>1</th>\n",
       "      <td>29725</td>\n",
       "      <td>city_40</td>\n",
       "      <td>0.776</td>\n",
       "      <td>Male</td>\n",
       "      <td>No relevent experience</td>\n",
       "      <td>no_enrollment</td>\n",
       "      <td>Graduate</td>\n",
       "      <td>STEM</td>\n",
       "      <td>15</td>\n",
       "      <td>50-99</td>\n",
       "      <td>Pvt Ltd</td>\n",
       "      <td>&gt;4</td>\n",
       "      <td>47</td>\n",
       "      <td>0.0</td>\n",
       "    </tr>\n",
       "    <tr>\n",
       "      <th>2</th>\n",
       "      <td>11561</td>\n",
       "      <td>city_21</td>\n",
       "      <td>0.624</td>\n",
       "      <td>NaN</td>\n",
       "      <td>No relevent experience</td>\n",
       "      <td>Full time course</td>\n",
       "      <td>Graduate</td>\n",
       "      <td>STEM</td>\n",
       "      <td>5</td>\n",
       "      <td>NaN</td>\n",
       "      <td>NaN</td>\n",
       "      <td>never</td>\n",
       "      <td>83</td>\n",
       "      <td>0.0</td>\n",
       "    </tr>\n",
       "    <tr>\n",
       "      <th>3</th>\n",
       "      <td>33241</td>\n",
       "      <td>city_115</td>\n",
       "      <td>0.789</td>\n",
       "      <td>NaN</td>\n",
       "      <td>No relevent experience</td>\n",
       "      <td>NaN</td>\n",
       "      <td>Graduate</td>\n",
       "      <td>Business Degree</td>\n",
       "      <td>&lt;1</td>\n",
       "      <td>NaN</td>\n",
       "      <td>Pvt Ltd</td>\n",
       "      <td>never</td>\n",
       "      <td>52</td>\n",
       "      <td>1.0</td>\n",
       "    </tr>\n",
       "    <tr>\n",
       "      <th>4</th>\n",
       "      <td>666</td>\n",
       "      <td>city_162</td>\n",
       "      <td>0.767</td>\n",
       "      <td>Male</td>\n",
       "      <td>Has relevent experience</td>\n",
       "      <td>no_enrollment</td>\n",
       "      <td>Masters</td>\n",
       "      <td>STEM</td>\n",
       "      <td>&gt;20</td>\n",
       "      <td>50-99</td>\n",
       "      <td>Funded Startup</td>\n",
       "      <td>4</td>\n",
       "      <td>8</td>\n",
       "      <td>0.0</td>\n",
       "    </tr>\n",
       "    <tr>\n",
       "      <th>...</th>\n",
       "      <td>...</td>\n",
       "      <td>...</td>\n",
       "      <td>...</td>\n",
       "      <td>...</td>\n",
       "      <td>...</td>\n",
       "      <td>...</td>\n",
       "      <td>...</td>\n",
       "      <td>...</td>\n",
       "      <td>...</td>\n",
       "      <td>...</td>\n",
       "      <td>...</td>\n",
       "      <td>...</td>\n",
       "      <td>...</td>\n",
       "      <td>...</td>\n",
       "    </tr>\n",
       "    <tr>\n",
       "      <th>19153</th>\n",
       "      <td>7386</td>\n",
       "      <td>city_173</td>\n",
       "      <td>0.878</td>\n",
       "      <td>Male</td>\n",
       "      <td>No relevent experience</td>\n",
       "      <td>no_enrollment</td>\n",
       "      <td>Graduate</td>\n",
       "      <td>Humanities</td>\n",
       "      <td>14</td>\n",
       "      <td>NaN</td>\n",
       "      <td>NaN</td>\n",
       "      <td>1</td>\n",
       "      <td>42</td>\n",
       "      <td>1.0</td>\n",
       "    </tr>\n",
       "    <tr>\n",
       "      <th>19154</th>\n",
       "      <td>31398</td>\n",
       "      <td>city_103</td>\n",
       "      <td>0.920</td>\n",
       "      <td>Male</td>\n",
       "      <td>Has relevent experience</td>\n",
       "      <td>no_enrollment</td>\n",
       "      <td>Graduate</td>\n",
       "      <td>STEM</td>\n",
       "      <td>14</td>\n",
       "      <td>NaN</td>\n",
       "      <td>NaN</td>\n",
       "      <td>4</td>\n",
       "      <td>52</td>\n",
       "      <td>1.0</td>\n",
       "    </tr>\n",
       "    <tr>\n",
       "      <th>19155</th>\n",
       "      <td>24576</td>\n",
       "      <td>city_103</td>\n",
       "      <td>0.920</td>\n",
       "      <td>Male</td>\n",
       "      <td>Has relevent experience</td>\n",
       "      <td>no_enrollment</td>\n",
       "      <td>Graduate</td>\n",
       "      <td>STEM</td>\n",
       "      <td>&gt;20</td>\n",
       "      <td>50-99</td>\n",
       "      <td>Pvt Ltd</td>\n",
       "      <td>4</td>\n",
       "      <td>44</td>\n",
       "      <td>0.0</td>\n",
       "    </tr>\n",
       "    <tr>\n",
       "      <th>19156</th>\n",
       "      <td>5756</td>\n",
       "      <td>city_65</td>\n",
       "      <td>0.802</td>\n",
       "      <td>Male</td>\n",
       "      <td>Has relevent experience</td>\n",
       "      <td>no_enrollment</td>\n",
       "      <td>High School</td>\n",
       "      <td>NaN</td>\n",
       "      <td>&lt;1</td>\n",
       "      <td>500-999</td>\n",
       "      <td>Pvt Ltd</td>\n",
       "      <td>2</td>\n",
       "      <td>97</td>\n",
       "      <td>0.0</td>\n",
       "    </tr>\n",
       "    <tr>\n",
       "      <th>19157</th>\n",
       "      <td>23834</td>\n",
       "      <td>city_67</td>\n",
       "      <td>0.855</td>\n",
       "      <td>NaN</td>\n",
       "      <td>No relevent experience</td>\n",
       "      <td>no_enrollment</td>\n",
       "      <td>Primary School</td>\n",
       "      <td>NaN</td>\n",
       "      <td>2</td>\n",
       "      <td>NaN</td>\n",
       "      <td>NaN</td>\n",
       "      <td>1</td>\n",
       "      <td>127</td>\n",
       "      <td>0.0</td>\n",
       "    </tr>\n",
       "  </tbody>\n",
       "</table>\n",
       "<p>19158 rows × 14 columns</p>\n",
       "</div>"
      ],
      "text/plain": [
       "       enrollee_id      city  city_development_index gender  \\\n",
       "0             8949  city_103                   0.920   Male   \n",
       "1            29725   city_40                   0.776   Male   \n",
       "2            11561   city_21                   0.624    NaN   \n",
       "3            33241  city_115                   0.789    NaN   \n",
       "4              666  city_162                   0.767   Male   \n",
       "...            ...       ...                     ...    ...   \n",
       "19153         7386  city_173                   0.878   Male   \n",
       "19154        31398  city_103                   0.920   Male   \n",
       "19155        24576  city_103                   0.920   Male   \n",
       "19156         5756   city_65                   0.802   Male   \n",
       "19157        23834   city_67                   0.855    NaN   \n",
       "\n",
       "           relevent_experience enrolled_university education_level  \\\n",
       "0      Has relevent experience       no_enrollment        Graduate   \n",
       "1       No relevent experience       no_enrollment        Graduate   \n",
       "2       No relevent experience    Full time course        Graduate   \n",
       "3       No relevent experience                 NaN        Graduate   \n",
       "4      Has relevent experience       no_enrollment         Masters   \n",
       "...                        ...                 ...             ...   \n",
       "19153   No relevent experience       no_enrollment        Graduate   \n",
       "19154  Has relevent experience       no_enrollment        Graduate   \n",
       "19155  Has relevent experience       no_enrollment        Graduate   \n",
       "19156  Has relevent experience       no_enrollment     High School   \n",
       "19157   No relevent experience       no_enrollment  Primary School   \n",
       "\n",
       "      major_discipline experience company_size    company_type last_new_job  \\\n",
       "0                 STEM        >20          NaN             NaN            1   \n",
       "1                 STEM         15        50-99         Pvt Ltd           >4   \n",
       "2                 STEM          5          NaN             NaN        never   \n",
       "3      Business Degree         <1          NaN         Pvt Ltd        never   \n",
       "4                 STEM        >20        50-99  Funded Startup            4   \n",
       "...                ...        ...          ...             ...          ...   \n",
       "19153       Humanities         14          NaN             NaN            1   \n",
       "19154             STEM         14          NaN             NaN            4   \n",
       "19155             STEM        >20        50-99         Pvt Ltd            4   \n",
       "19156              NaN         <1      500-999         Pvt Ltd            2   \n",
       "19157              NaN          2          NaN             NaN            1   \n",
       "\n",
       "       training_hours  target  \n",
       "0                  36     1.0  \n",
       "1                  47     0.0  \n",
       "2                  83     0.0  \n",
       "3                  52     1.0  \n",
       "4                   8     0.0  \n",
       "...               ...     ...  \n",
       "19153              42     1.0  \n",
       "19154              52     1.0  \n",
       "19155              44     0.0  \n",
       "19156              97     0.0  \n",
       "19157             127     0.0  \n",
       "\n",
       "[19158 rows x 14 columns]"
      ]
     },
     "execution_count": 38,
     "metadata": {},
     "output_type": "execute_result"
    },
    {
     "ename": "",
     "evalue": "",
     "output_type": "error",
     "traceback": [
      "\u001b[1;31mRunning cells with 'Python ('codespacesML')' requires ipykernel package.\n",
      "Run the following command to install 'ipykernel' into the Python environment. \n",
      "Command: 'conda install -n codespacesML ipykernel --update-deps --force-reinstall'"
     ]
    }
   ],
   "source": [
    "hr_train_df = pd.read_csv(\"data/hr_job_datasci_train.csv\")\n",
    "hr_train_df"
   ]
  },
  {
   "cell_type": "markdown",
   "id": "00aa279a",
   "metadata": {},
   "source": [
    "The cell below shows you the columns with missing values, # of missing values and the unique values for each column."
   ]
  },
  {
   "cell_type": "code",
   "execution_count": null,
   "id": "3f63d743",
   "metadata": {},
   "outputs": [
    {
     "data": {
      "text/plain": [
       "gender                 0.235306\n",
       "enrolled_university    0.020148\n",
       "education_level        0.024011\n",
       "major_discipline       0.146832\n",
       "experience             0.003393\n",
       "company_size           0.309949\n",
       "company_type           0.320493\n",
       "last_new_job           0.022080\n",
       "dtype: float64"
      ]
     },
     "metadata": {},
     "output_type": "display_data"
    },
    {
     "data": {
      "text/html": [
       "<div>\n",
       "<style scoped>\n",
       "    .dataframe tbody tr th:only-of-type {\n",
       "        vertical-align: middle;\n",
       "    }\n",
       "\n",
       "    .dataframe tbody tr th {\n",
       "        vertical-align: top;\n",
       "    }\n",
       "\n",
       "    .dataframe thead th {\n",
       "        text-align: right;\n",
       "    }\n",
       "</style>\n",
       "<table border=\"1\" class=\"dataframe\">\n",
       "  <thead>\n",
       "    <tr style=\"text-align: right;\">\n",
       "      <th></th>\n",
       "      <th>gender</th>\n",
       "      <th>enrolled_university</th>\n",
       "      <th>education_level</th>\n",
       "      <th>major_discipline</th>\n",
       "      <th>experience</th>\n",
       "      <th>company_size</th>\n",
       "      <th>company_type</th>\n",
       "      <th>last_new_job</th>\n",
       "    </tr>\n",
       "  </thead>\n",
       "  <tbody>\n",
       "    <tr>\n",
       "      <th>0</th>\n",
       "      <td>Male</td>\n",
       "      <td>no_enrollment</td>\n",
       "      <td>Graduate</td>\n",
       "      <td>STEM</td>\n",
       "      <td>&gt;20</td>\n",
       "      <td>NaN</td>\n",
       "      <td>NaN</td>\n",
       "      <td>1</td>\n",
       "    </tr>\n",
       "    <tr>\n",
       "      <th>1</th>\n",
       "      <td>Male</td>\n",
       "      <td>no_enrollment</td>\n",
       "      <td>Graduate</td>\n",
       "      <td>STEM</td>\n",
       "      <td>15</td>\n",
       "      <td>50-99</td>\n",
       "      <td>Pvt Ltd</td>\n",
       "      <td>&gt;4</td>\n",
       "    </tr>\n",
       "    <tr>\n",
       "      <th>2</th>\n",
       "      <td>NaN</td>\n",
       "      <td>Full time course</td>\n",
       "      <td>Graduate</td>\n",
       "      <td>STEM</td>\n",
       "      <td>5</td>\n",
       "      <td>NaN</td>\n",
       "      <td>NaN</td>\n",
       "      <td>never</td>\n",
       "    </tr>\n",
       "    <tr>\n",
       "      <th>3</th>\n",
       "      <td>NaN</td>\n",
       "      <td>NaN</td>\n",
       "      <td>Graduate</td>\n",
       "      <td>Business Degree</td>\n",
       "      <td>&lt;1</td>\n",
       "      <td>NaN</td>\n",
       "      <td>Pvt Ltd</td>\n",
       "      <td>never</td>\n",
       "    </tr>\n",
       "    <tr>\n",
       "      <th>4</th>\n",
       "      <td>Male</td>\n",
       "      <td>no_enrollment</td>\n",
       "      <td>Masters</td>\n",
       "      <td>STEM</td>\n",
       "      <td>&gt;20</td>\n",
       "      <td>50-99</td>\n",
       "      <td>Funded Startup</td>\n",
       "      <td>4</td>\n",
       "    </tr>\n",
       "    <tr>\n",
       "      <th>...</th>\n",
       "      <td>...</td>\n",
       "      <td>...</td>\n",
       "      <td>...</td>\n",
       "      <td>...</td>\n",
       "      <td>...</td>\n",
       "      <td>...</td>\n",
       "      <td>...</td>\n",
       "      <td>...</td>\n",
       "    </tr>\n",
       "    <tr>\n",
       "      <th>19153</th>\n",
       "      <td>Male</td>\n",
       "      <td>no_enrollment</td>\n",
       "      <td>Graduate</td>\n",
       "      <td>Humanities</td>\n",
       "      <td>14</td>\n",
       "      <td>NaN</td>\n",
       "      <td>NaN</td>\n",
       "      <td>1</td>\n",
       "    </tr>\n",
       "    <tr>\n",
       "      <th>19154</th>\n",
       "      <td>Male</td>\n",
       "      <td>no_enrollment</td>\n",
       "      <td>Graduate</td>\n",
       "      <td>STEM</td>\n",
       "      <td>14</td>\n",
       "      <td>NaN</td>\n",
       "      <td>NaN</td>\n",
       "      <td>4</td>\n",
       "    </tr>\n",
       "    <tr>\n",
       "      <th>19155</th>\n",
       "      <td>Male</td>\n",
       "      <td>no_enrollment</td>\n",
       "      <td>Graduate</td>\n",
       "      <td>STEM</td>\n",
       "      <td>&gt;20</td>\n",
       "      <td>50-99</td>\n",
       "      <td>Pvt Ltd</td>\n",
       "      <td>4</td>\n",
       "    </tr>\n",
       "    <tr>\n",
       "      <th>19156</th>\n",
       "      <td>Male</td>\n",
       "      <td>no_enrollment</td>\n",
       "      <td>High School</td>\n",
       "      <td>NaN</td>\n",
       "      <td>&lt;1</td>\n",
       "      <td>500-999</td>\n",
       "      <td>Pvt Ltd</td>\n",
       "      <td>2</td>\n",
       "    </tr>\n",
       "    <tr>\n",
       "      <th>19157</th>\n",
       "      <td>NaN</td>\n",
       "      <td>no_enrollment</td>\n",
       "      <td>Primary School</td>\n",
       "      <td>NaN</td>\n",
       "      <td>2</td>\n",
       "      <td>NaN</td>\n",
       "      <td>NaN</td>\n",
       "      <td>1</td>\n",
       "    </tr>\n",
       "  </tbody>\n",
       "</table>\n",
       "<p>19158 rows × 8 columns</p>\n",
       "</div>"
      ],
      "text/plain": [
       "      gender enrolled_university education_level major_discipline experience  \\\n",
       "0       Male       no_enrollment        Graduate             STEM        >20   \n",
       "1       Male       no_enrollment        Graduate             STEM         15   \n",
       "2        NaN    Full time course        Graduate             STEM          5   \n",
       "3        NaN                 NaN        Graduate  Business Degree         <1   \n",
       "4       Male       no_enrollment         Masters             STEM        >20   \n",
       "...      ...                 ...             ...              ...        ...   \n",
       "19153   Male       no_enrollment        Graduate       Humanities         14   \n",
       "19154   Male       no_enrollment        Graduate             STEM         14   \n",
       "19155   Male       no_enrollment        Graduate             STEM        >20   \n",
       "19156   Male       no_enrollment     High School              NaN         <1   \n",
       "19157    NaN       no_enrollment  Primary School              NaN          2   \n",
       "\n",
       "      company_size    company_type last_new_job  \n",
       "0              NaN             NaN            1  \n",
       "1            50-99         Pvt Ltd           >4  \n",
       "2              NaN             NaN        never  \n",
       "3              NaN         Pvt Ltd        never  \n",
       "4            50-99  Funded Startup            4  \n",
       "...            ...             ...          ...  \n",
       "19153          NaN             NaN            1  \n",
       "19154          NaN             NaN            4  \n",
       "19155        50-99         Pvt Ltd            4  \n",
       "19156      500-999         Pvt Ltd            2  \n",
       "19157          NaN             NaN            1  \n",
       "\n",
       "[19158 rows x 8 columns]"
      ]
     },
     "metadata": {},
     "output_type": "display_data"
    },
    {
     "name": "stdout",
     "output_type": "stream",
     "text": [
      "gender ['Male' nan 'Female' 'Other']\n",
      "enrolled_university ['no_enrollment' 'Full time course' nan 'Part time course']\n",
      "education_level ['Graduate' 'Masters' 'High School' nan 'Phd' 'Primary School']\n",
      "major_discipline ['STEM' 'Business Degree' nan 'Arts' 'Humanities' 'No Major' 'Other']\n",
      "experience ['>20' '15' '5' '<1' '11' '13' '7' '17' '2' '16' '1' '4' '10' '14' '18'\n",
      " '19' '12' '3' '6' '9' '8' '20' nan]\n",
      "company_size [nan '50-99' '<10' '10000+' '5000-9999' '1000-4999' '10/49' '100-500'\n",
      " '500-999']\n",
      "company_type [nan 'Pvt Ltd' 'Funded Startup' 'Early Stage Startup' 'Other'\n",
      " 'Public Sector' 'NGO']\n",
      "last_new_job ['1' '>4' 'never' '4' '3' '2' nan]\n"
     ]
    },
    {
     "ename": "",
     "evalue": "",
     "output_type": "error",
     "traceback": [
      "\u001b[1;31mRunning cells with 'Python ('codespacesML')' requires ipykernel package.\n",
      "Run the following command to install 'ipykernel' into the Python environment. \n",
      "Command: 'conda install -n codespacesML ipykernel --update-deps --force-reinstall'"
     ]
    }
   ],
   "source": [
    "columns_with_null = hr_train_df.columns[hr_train_df.isna().any()]\n",
    "display(hr_train_df[columns_with_null].isnull().sum()/hr_train_df.shape[0])\n",
    "display(hr_train_df[columns_with_null])\n",
    "for c in columns_with_null:\n",
    "    print(f\"{c} {hr_train_df[c].unique()}\")"
   ]
  },
  {
   "cell_type": "code",
   "execution_count": null,
   "id": "7c5eaab3-5510-490c-adc1-098d9bee9ab8",
   "metadata": {},
   "outputs": [
    {
     "data": {
      "text/html": [
       "<div>\n",
       "<style scoped>\n",
       "    .dataframe tbody tr th:only-of-type {\n",
       "        vertical-align: middle;\n",
       "    }\n",
       "\n",
       "    .dataframe tbody tr th {\n",
       "        vertical-align: top;\n",
       "    }\n",
       "\n",
       "    .dataframe thead th {\n",
       "        text-align: right;\n",
       "    }\n",
       "</style>\n",
       "<table border=\"1\" class=\"dataframe\">\n",
       "  <thead>\n",
       "    <tr style=\"text-align: right;\">\n",
       "      <th></th>\n",
       "      <th>enrollee_id</th>\n",
       "      <th>city</th>\n",
       "      <th>city_development_index</th>\n",
       "      <th>gender</th>\n",
       "      <th>relevent_experience</th>\n",
       "      <th>enrolled_university</th>\n",
       "      <th>education_level</th>\n",
       "      <th>major_discipline</th>\n",
       "      <th>experience</th>\n",
       "      <th>company_size</th>\n",
       "      <th>company_type</th>\n",
       "      <th>last_new_job</th>\n",
       "      <th>training_hours</th>\n",
       "      <th>target</th>\n",
       "    </tr>\n",
       "  </thead>\n",
       "  <tbody>\n",
       "    <tr>\n",
       "      <th>0</th>\n",
       "      <td>8949</td>\n",
       "      <td>city_103</td>\n",
       "      <td>0.920</td>\n",
       "      <td>Male</td>\n",
       "      <td>Has relevent experience</td>\n",
       "      <td>no_enrollment</td>\n",
       "      <td>Graduate</td>\n",
       "      <td>STEM</td>\n",
       "      <td>&gt;20</td>\n",
       "      <td>NaN</td>\n",
       "      <td>NaN</td>\n",
       "      <td>1</td>\n",
       "      <td>36</td>\n",
       "      <td>1.0</td>\n",
       "    </tr>\n",
       "    <tr>\n",
       "      <th>1</th>\n",
       "      <td>29725</td>\n",
       "      <td>city_40</td>\n",
       "      <td>0.776</td>\n",
       "      <td>Male</td>\n",
       "      <td>No relevent experience</td>\n",
       "      <td>no_enrollment</td>\n",
       "      <td>Graduate</td>\n",
       "      <td>STEM</td>\n",
       "      <td>15</td>\n",
       "      <td>50-99</td>\n",
       "      <td>Pvt Ltd</td>\n",
       "      <td>&gt;4</td>\n",
       "      <td>47</td>\n",
       "      <td>0.0</td>\n",
       "    </tr>\n",
       "    <tr>\n",
       "      <th>2</th>\n",
       "      <td>11561</td>\n",
       "      <td>city_21</td>\n",
       "      <td>0.624</td>\n",
       "      <td>NaN</td>\n",
       "      <td>No relevent experience</td>\n",
       "      <td>Full time course</td>\n",
       "      <td>Graduate</td>\n",
       "      <td>STEM</td>\n",
       "      <td>5</td>\n",
       "      <td>NaN</td>\n",
       "      <td>NaN</td>\n",
       "      <td>never</td>\n",
       "      <td>83</td>\n",
       "      <td>0.0</td>\n",
       "    </tr>\n",
       "    <tr>\n",
       "      <th>3</th>\n",
       "      <td>33241</td>\n",
       "      <td>city_115</td>\n",
       "      <td>0.789</td>\n",
       "      <td>NaN</td>\n",
       "      <td>No relevent experience</td>\n",
       "      <td>NaN</td>\n",
       "      <td>Graduate</td>\n",
       "      <td>Business Degree</td>\n",
       "      <td>&lt;1</td>\n",
       "      <td>NaN</td>\n",
       "      <td>Pvt Ltd</td>\n",
       "      <td>never</td>\n",
       "      <td>52</td>\n",
       "      <td>1.0</td>\n",
       "    </tr>\n",
       "    <tr>\n",
       "      <th>4</th>\n",
       "      <td>666</td>\n",
       "      <td>city_162</td>\n",
       "      <td>0.767</td>\n",
       "      <td>Male</td>\n",
       "      <td>Has relevent experience</td>\n",
       "      <td>no_enrollment</td>\n",
       "      <td>Masters</td>\n",
       "      <td>STEM</td>\n",
       "      <td>&gt;20</td>\n",
       "      <td>50-99</td>\n",
       "      <td>Funded Startup</td>\n",
       "      <td>4</td>\n",
       "      <td>8</td>\n",
       "      <td>0.0</td>\n",
       "    </tr>\n",
       "  </tbody>\n",
       "</table>\n",
       "</div>"
      ],
      "text/plain": [
       "   enrollee_id      city  city_development_index gender  \\\n",
       "0         8949  city_103                   0.920   Male   \n",
       "1        29725   city_40                   0.776   Male   \n",
       "2        11561   city_21                   0.624    NaN   \n",
       "3        33241  city_115                   0.789    NaN   \n",
       "4          666  city_162                   0.767   Male   \n",
       "\n",
       "       relevent_experience enrolled_university education_level  \\\n",
       "0  Has relevent experience       no_enrollment        Graduate   \n",
       "1   No relevent experience       no_enrollment        Graduate   \n",
       "2   No relevent experience    Full time course        Graduate   \n",
       "3   No relevent experience                 NaN        Graduate   \n",
       "4  Has relevent experience       no_enrollment         Masters   \n",
       "\n",
       "  major_discipline experience company_size    company_type last_new_job  \\\n",
       "0             STEM        >20          NaN             NaN            1   \n",
       "1             STEM         15        50-99         Pvt Ltd           >4   \n",
       "2             STEM          5          NaN             NaN        never   \n",
       "3  Business Degree         <1          NaN         Pvt Ltd        never   \n",
       "4             STEM        >20        50-99  Funded Startup            4   \n",
       "\n",
       "   training_hours  target  \n",
       "0              36     1.0  \n",
       "1              47     0.0  \n",
       "2              83     0.0  \n",
       "3              52     1.0  \n",
       "4               8     0.0  "
      ]
     },
     "execution_count": 40,
     "metadata": {},
     "output_type": "execute_result"
    },
    {
     "ename": "",
     "evalue": "",
     "output_type": "error",
     "traceback": [
      "\u001b[1;31mRunning cells with 'Python ('codespacesML')' requires ipykernel package.\n",
      "Run the following command to install 'ipykernel' into the Python environment. \n",
      "Command: 'conda install -n codespacesML ipykernel --update-deps --force-reinstall'"
     ]
    }
   ],
   "source": [
    "hr_train_df.head()"
   ]
  },
  {
   "cell_type": "markdown",
   "id": "65b11f4b",
   "metadata": {},
   "source": [
    "## Fill the nan values with an 'unknown' tag (2pts)"
   ]
  },
  {
   "cell_type": "code",
   "execution_count": null,
   "id": "76fac5fa",
   "metadata": {},
   "outputs": [
    {
     "ename": "",
     "evalue": "",
     "output_type": "error",
     "traceback": [
      "\u001b[1;31mRunning cells with 'Python ('codespacesML')' requires ipykernel package.\n",
      "Run the following command to install 'ipykernel' into the Python environment. \n",
      "Command: 'conda install -n codespacesML ipykernel --update-deps --force-reinstall'"
     ]
    }
   ],
   "source": [
    "df = hr_train_df.fillna('unknown')"
   ]
  },
  {
   "cell_type": "code",
   "execution_count": null,
   "id": "5b62dfff-6ef9-44ee-b63e-7ccc35d602dd",
   "metadata": {},
   "outputs": [
    {
     "data": {
      "text/html": [
       "<div>\n",
       "<style scoped>\n",
       "    .dataframe tbody tr th:only-of-type {\n",
       "        vertical-align: middle;\n",
       "    }\n",
       "\n",
       "    .dataframe tbody tr th {\n",
       "        vertical-align: top;\n",
       "    }\n",
       "\n",
       "    .dataframe thead th {\n",
       "        text-align: right;\n",
       "    }\n",
       "</style>\n",
       "<table border=\"1\" class=\"dataframe\">\n",
       "  <thead>\n",
       "    <tr style=\"text-align: right;\">\n",
       "      <th></th>\n",
       "      <th>enrollee_id</th>\n",
       "      <th>city</th>\n",
       "      <th>city_development_index</th>\n",
       "      <th>gender</th>\n",
       "      <th>relevent_experience</th>\n",
       "      <th>enrolled_university</th>\n",
       "      <th>education_level</th>\n",
       "      <th>major_discipline</th>\n",
       "      <th>experience</th>\n",
       "      <th>company_size</th>\n",
       "      <th>company_type</th>\n",
       "      <th>last_new_job</th>\n",
       "      <th>training_hours</th>\n",
       "      <th>target</th>\n",
       "    </tr>\n",
       "  </thead>\n",
       "  <tbody>\n",
       "    <tr>\n",
       "      <th>0</th>\n",
       "      <td>8949</td>\n",
       "      <td>city_103</td>\n",
       "      <td>0.920</td>\n",
       "      <td>Male</td>\n",
       "      <td>Has relevent experience</td>\n",
       "      <td>no_enrollment</td>\n",
       "      <td>Graduate</td>\n",
       "      <td>STEM</td>\n",
       "      <td>&gt;20</td>\n",
       "      <td>unknown</td>\n",
       "      <td>unknown</td>\n",
       "      <td>1</td>\n",
       "      <td>36</td>\n",
       "      <td>1.0</td>\n",
       "    </tr>\n",
       "    <tr>\n",
       "      <th>1</th>\n",
       "      <td>29725</td>\n",
       "      <td>city_40</td>\n",
       "      <td>0.776</td>\n",
       "      <td>Male</td>\n",
       "      <td>No relevent experience</td>\n",
       "      <td>no_enrollment</td>\n",
       "      <td>Graduate</td>\n",
       "      <td>STEM</td>\n",
       "      <td>15</td>\n",
       "      <td>50-99</td>\n",
       "      <td>Pvt Ltd</td>\n",
       "      <td>&gt;4</td>\n",
       "      <td>47</td>\n",
       "      <td>0.0</td>\n",
       "    </tr>\n",
       "    <tr>\n",
       "      <th>2</th>\n",
       "      <td>11561</td>\n",
       "      <td>city_21</td>\n",
       "      <td>0.624</td>\n",
       "      <td>unknown</td>\n",
       "      <td>No relevent experience</td>\n",
       "      <td>Full time course</td>\n",
       "      <td>Graduate</td>\n",
       "      <td>STEM</td>\n",
       "      <td>5</td>\n",
       "      <td>unknown</td>\n",
       "      <td>unknown</td>\n",
       "      <td>never</td>\n",
       "      <td>83</td>\n",
       "      <td>0.0</td>\n",
       "    </tr>\n",
       "    <tr>\n",
       "      <th>3</th>\n",
       "      <td>33241</td>\n",
       "      <td>city_115</td>\n",
       "      <td>0.789</td>\n",
       "      <td>unknown</td>\n",
       "      <td>No relevent experience</td>\n",
       "      <td>unknown</td>\n",
       "      <td>Graduate</td>\n",
       "      <td>Business Degree</td>\n",
       "      <td>&lt;1</td>\n",
       "      <td>unknown</td>\n",
       "      <td>Pvt Ltd</td>\n",
       "      <td>never</td>\n",
       "      <td>52</td>\n",
       "      <td>1.0</td>\n",
       "    </tr>\n",
       "    <tr>\n",
       "      <th>4</th>\n",
       "      <td>666</td>\n",
       "      <td>city_162</td>\n",
       "      <td>0.767</td>\n",
       "      <td>Male</td>\n",
       "      <td>Has relevent experience</td>\n",
       "      <td>no_enrollment</td>\n",
       "      <td>Masters</td>\n",
       "      <td>STEM</td>\n",
       "      <td>&gt;20</td>\n",
       "      <td>50-99</td>\n",
       "      <td>Funded Startup</td>\n",
       "      <td>4</td>\n",
       "      <td>8</td>\n",
       "      <td>0.0</td>\n",
       "    </tr>\n",
       "  </tbody>\n",
       "</table>\n",
       "</div>"
      ],
      "text/plain": [
       "   enrollee_id      city  city_development_index   gender  \\\n",
       "0         8949  city_103                   0.920     Male   \n",
       "1        29725   city_40                   0.776     Male   \n",
       "2        11561   city_21                   0.624  unknown   \n",
       "3        33241  city_115                   0.789  unknown   \n",
       "4          666  city_162                   0.767     Male   \n",
       "\n",
       "       relevent_experience enrolled_university education_level  \\\n",
       "0  Has relevent experience       no_enrollment        Graduate   \n",
       "1   No relevent experience       no_enrollment        Graduate   \n",
       "2   No relevent experience    Full time course        Graduate   \n",
       "3   No relevent experience             unknown        Graduate   \n",
       "4  Has relevent experience       no_enrollment         Masters   \n",
       "\n",
       "  major_discipline experience company_size    company_type last_new_job  \\\n",
       "0             STEM        >20      unknown         unknown            1   \n",
       "1             STEM         15        50-99         Pvt Ltd           >4   \n",
       "2             STEM          5      unknown         unknown        never   \n",
       "3  Business Degree         <1      unknown         Pvt Ltd        never   \n",
       "4             STEM        >20        50-99  Funded Startup            4   \n",
       "\n",
       "   training_hours  target  \n",
       "0              36     1.0  \n",
       "1              47     0.0  \n",
       "2              83     0.0  \n",
       "3              52     1.0  \n",
       "4               8     0.0  "
      ]
     },
     "execution_count": 42,
     "metadata": {},
     "output_type": "execute_result"
    },
    {
     "ename": "",
     "evalue": "",
     "output_type": "error",
     "traceback": [
      "\u001b[1;31mRunning cells with 'Python ('codespacesML')' requires ipykernel package.\n",
      "Run the following command to install 'ipykernel' into the Python environment. \n",
      "Command: 'conda install -n codespacesML ipykernel --update-deps --force-reinstall'"
     ]
    }
   ],
   "source": [
    "df.head()"
   ]
  },
  {
   "cell_type": "markdown",
   "id": "fc960b52",
   "metadata": {},
   "source": [
    "## Prepare data for modeling by OneHotEncoding the categorical variables and removing the enrolee_id as part of the data (3pts)"
   ]
  },
  {
   "cell_type": "code",
   "execution_count": null,
   "id": "c1c0349b",
   "metadata": {},
   "outputs": [
    {
     "ename": "",
     "evalue": "",
     "output_type": "error",
     "traceback": [
      "\u001b[1;31mRunning cells with 'Python ('codespacesML')' requires ipykernel package.\n",
      "Run the following command to install 'ipykernel' into the Python environment. \n",
      "Command: 'conda install -n codespacesML ipykernel --update-deps --force-reinstall'"
     ]
    }
   ],
   "source": [
    "df.drop(\"enrollee_id\", inplace=True, axis=1)"
   ]
  },
  {
   "cell_type": "code",
   "execution_count": null,
   "id": "f47d960d-19a7-4e33-acc8-8e2a2920414a",
   "metadata": {},
   "outputs": [
    {
     "ename": "",
     "evalue": "",
     "output_type": "error",
     "traceback": [
      "\u001b[1;31mRunning cells with 'Python ('codespacesML')' requires ipykernel package.\n",
      "Run the following command to install 'ipykernel' into the Python environment. \n",
      "Command: 'conda install -n codespacesML ipykernel --update-deps --force-reinstall'"
     ]
    }
   ],
   "source": [
    "features = df.columns"
   ]
  },
  {
   "cell_type": "code",
   "execution_count": null,
   "id": "8d32f99a-731f-4d21-b95f-ca546dd18807",
   "metadata": {},
   "outputs": [
    {
     "data": {
      "text/plain": [
       "Index(['city', 'city_development_index', 'gender', 'relevent_experience',\n",
       "       'enrolled_university', 'education_level', 'major_discipline',\n",
       "       'experience', 'company_size', 'company_type', 'last_new_job',\n",
       "       'training_hours', 'target'],\n",
       "      dtype='object')"
      ]
     },
     "execution_count": 45,
     "metadata": {},
     "output_type": "execute_result"
    },
    {
     "ename": "",
     "evalue": "",
     "output_type": "error",
     "traceback": [
      "\u001b[1;31mRunning cells with 'Python ('codespacesML')' requires ipykernel package.\n",
      "Run the following command to install 'ipykernel' into the Python environment. \n",
      "Command: 'conda install -n codespacesML ipykernel --update-deps --force-reinstall'"
     ]
    }
   ],
   "source": [
    "features"
   ]
  },
  {
   "cell_type": "code",
   "execution_count": null,
   "id": "637a8ba4-89e5-4f96-b57d-2a454381d389",
   "metadata": {},
   "outputs": [
    {
     "ename": "",
     "evalue": "",
     "output_type": "error",
     "traceback": [
      "\u001b[1;31mRunning cells with 'Python ('codespacesML')' requires ipykernel package.\n",
      "Run the following command to install 'ipykernel' into the Python environment. \n",
      "Command: 'conda install -n codespacesML ipykernel --update-deps --force-reinstall'"
     ]
    }
   ],
   "source": [
    "categorical_features = ['gender', 'relevent_experience', \n",
    "                        'enrolled_university', 'education_level', 'major_discipline',\n",
    "                        'company_type', 'last_new_job', 'company_size', 'experience']"
   ]
  },
  {
   "cell_type": "code",
   "execution_count": null,
   "id": "23496f28-fb4c-45d5-88e2-57025ff8f630",
   "metadata": {},
   "outputs": [
    {
     "name": "stderr",
     "output_type": "stream",
     "text": [
      "/opt/python/3.10.4/lib/python3.10/site-packages/sklearn/utils/deprecation.py:87: FutureWarning: Function get_feature_names is deprecated; get_feature_names is deprecated in 1.0 and will be removed in 1.2. Please use get_feature_names_out instead.\n",
      "  warnings.warn(msg, category=FutureWarning)\n"
     ]
    },
    {
     "data": {
      "text/html": [
       "<div>\n",
       "<style scoped>\n",
       "    .dataframe tbody tr th:only-of-type {\n",
       "        vertical-align: middle;\n",
       "    }\n",
       "\n",
       "    .dataframe tbody tr th {\n",
       "        vertical-align: top;\n",
       "    }\n",
       "\n",
       "    .dataframe thead th {\n",
       "        text-align: right;\n",
       "    }\n",
       "</style>\n",
       "<table border=\"1\" class=\"dataframe\">\n",
       "  <thead>\n",
       "    <tr style=\"text-align: right;\">\n",
       "      <th></th>\n",
       "      <th>city</th>\n",
       "      <th>city_development_index</th>\n",
       "      <th>training_hours</th>\n",
       "      <th>target</th>\n",
       "      <th>x0_Female</th>\n",
       "      <th>x0_Male</th>\n",
       "      <th>x0_Other</th>\n",
       "      <th>x0_unknown</th>\n",
       "      <th>x1_Has relevent experience</th>\n",
       "      <th>x1_No relevent experience</th>\n",
       "      <th>...</th>\n",
       "      <th>x8_3</th>\n",
       "      <th>x8_4</th>\n",
       "      <th>x8_5</th>\n",
       "      <th>x8_6</th>\n",
       "      <th>x8_7</th>\n",
       "      <th>x8_8</th>\n",
       "      <th>x8_9</th>\n",
       "      <th>x8_&lt;1</th>\n",
       "      <th>x8_&gt;20</th>\n",
       "      <th>x8_unknown</th>\n",
       "    </tr>\n",
       "  </thead>\n",
       "  <tbody>\n",
       "    <tr>\n",
       "      <th>0</th>\n",
       "      <td>city_103</td>\n",
       "      <td>0.920</td>\n",
       "      <td>36</td>\n",
       "      <td>1.0</td>\n",
       "      <td>0.0</td>\n",
       "      <td>1.0</td>\n",
       "      <td>0.0</td>\n",
       "      <td>0.0</td>\n",
       "      <td>1.0</td>\n",
       "      <td>0.0</td>\n",
       "      <td>...</td>\n",
       "      <td>0.0</td>\n",
       "      <td>0.0</td>\n",
       "      <td>0.0</td>\n",
       "      <td>0.0</td>\n",
       "      <td>0.0</td>\n",
       "      <td>0.0</td>\n",
       "      <td>0.0</td>\n",
       "      <td>0.0</td>\n",
       "      <td>1.0</td>\n",
       "      <td>0.0</td>\n",
       "    </tr>\n",
       "    <tr>\n",
       "      <th>1</th>\n",
       "      <td>city_40</td>\n",
       "      <td>0.776</td>\n",
       "      <td>47</td>\n",
       "      <td>0.0</td>\n",
       "      <td>0.0</td>\n",
       "      <td>1.0</td>\n",
       "      <td>0.0</td>\n",
       "      <td>0.0</td>\n",
       "      <td>0.0</td>\n",
       "      <td>1.0</td>\n",
       "      <td>...</td>\n",
       "      <td>0.0</td>\n",
       "      <td>0.0</td>\n",
       "      <td>0.0</td>\n",
       "      <td>0.0</td>\n",
       "      <td>0.0</td>\n",
       "      <td>0.0</td>\n",
       "      <td>0.0</td>\n",
       "      <td>0.0</td>\n",
       "      <td>0.0</td>\n",
       "      <td>0.0</td>\n",
       "    </tr>\n",
       "    <tr>\n",
       "      <th>2</th>\n",
       "      <td>city_21</td>\n",
       "      <td>0.624</td>\n",
       "      <td>83</td>\n",
       "      <td>0.0</td>\n",
       "      <td>0.0</td>\n",
       "      <td>0.0</td>\n",
       "      <td>0.0</td>\n",
       "      <td>1.0</td>\n",
       "      <td>0.0</td>\n",
       "      <td>1.0</td>\n",
       "      <td>...</td>\n",
       "      <td>0.0</td>\n",
       "      <td>0.0</td>\n",
       "      <td>1.0</td>\n",
       "      <td>0.0</td>\n",
       "      <td>0.0</td>\n",
       "      <td>0.0</td>\n",
       "      <td>0.0</td>\n",
       "      <td>0.0</td>\n",
       "      <td>0.0</td>\n",
       "      <td>0.0</td>\n",
       "    </tr>\n",
       "    <tr>\n",
       "      <th>3</th>\n",
       "      <td>city_115</td>\n",
       "      <td>0.789</td>\n",
       "      <td>52</td>\n",
       "      <td>1.0</td>\n",
       "      <td>0.0</td>\n",
       "      <td>0.0</td>\n",
       "      <td>0.0</td>\n",
       "      <td>1.0</td>\n",
       "      <td>0.0</td>\n",
       "      <td>1.0</td>\n",
       "      <td>...</td>\n",
       "      <td>0.0</td>\n",
       "      <td>0.0</td>\n",
       "      <td>0.0</td>\n",
       "      <td>0.0</td>\n",
       "      <td>0.0</td>\n",
       "      <td>0.0</td>\n",
       "      <td>0.0</td>\n",
       "      <td>1.0</td>\n",
       "      <td>0.0</td>\n",
       "      <td>0.0</td>\n",
       "    </tr>\n",
       "    <tr>\n",
       "      <th>4</th>\n",
       "      <td>city_162</td>\n",
       "      <td>0.767</td>\n",
       "      <td>8</td>\n",
       "      <td>0.0</td>\n",
       "      <td>0.0</td>\n",
       "      <td>1.0</td>\n",
       "      <td>0.0</td>\n",
       "      <td>0.0</td>\n",
       "      <td>1.0</td>\n",
       "      <td>0.0</td>\n",
       "      <td>...</td>\n",
       "      <td>0.0</td>\n",
       "      <td>0.0</td>\n",
       "      <td>0.0</td>\n",
       "      <td>0.0</td>\n",
       "      <td>0.0</td>\n",
       "      <td>0.0</td>\n",
       "      <td>0.0</td>\n",
       "      <td>0.0</td>\n",
       "      <td>1.0</td>\n",
       "      <td>0.0</td>\n",
       "    </tr>\n",
       "  </tbody>\n",
       "</table>\n",
       "<p>5 rows × 73 columns</p>\n",
       "</div>"
      ],
      "text/plain": [
       "       city  city_development_index  training_hours  target  x0_Female  \\\n",
       "0  city_103                   0.920              36     1.0        0.0   \n",
       "1   city_40                   0.776              47     0.0        0.0   \n",
       "2   city_21                   0.624              83     0.0        0.0   \n",
       "3  city_115                   0.789              52     1.0        0.0   \n",
       "4  city_162                   0.767               8     0.0        0.0   \n",
       "\n",
       "   x0_Male  x0_Other  x0_unknown  x1_Has relevent experience  \\\n",
       "0      1.0       0.0         0.0                         1.0   \n",
       "1      1.0       0.0         0.0                         0.0   \n",
       "2      0.0       0.0         1.0                         0.0   \n",
       "3      0.0       0.0         1.0                         0.0   \n",
       "4      1.0       0.0         0.0                         1.0   \n",
       "\n",
       "   x1_No relevent experience  ...  x8_3  x8_4  x8_5  x8_6  x8_7  x8_8  x8_9  \\\n",
       "0                        0.0  ...   0.0   0.0   0.0   0.0   0.0   0.0   0.0   \n",
       "1                        1.0  ...   0.0   0.0   0.0   0.0   0.0   0.0   0.0   \n",
       "2                        1.0  ...   0.0   0.0   1.0   0.0   0.0   0.0   0.0   \n",
       "3                        1.0  ...   0.0   0.0   0.0   0.0   0.0   0.0   0.0   \n",
       "4                        0.0  ...   0.0   0.0   0.0   0.0   0.0   0.0   0.0   \n",
       "\n",
       "   x8_<1  x8_>20  x8_unknown  \n",
       "0    0.0     1.0         0.0  \n",
       "1    0.0     0.0         0.0  \n",
       "2    0.0     0.0         0.0  \n",
       "3    1.0     0.0         0.0  \n",
       "4    0.0     1.0         0.0  \n",
       "\n",
       "[5 rows x 73 columns]"
      ]
     },
     "execution_count": 47,
     "metadata": {},
     "output_type": "execute_result"
    },
    {
     "ename": "",
     "evalue": "",
     "output_type": "error",
     "traceback": [
      "\u001b[1;31mRunning cells with 'Python ('codespacesML')' requires ipykernel package.\n",
      "Run the following command to install 'ipykernel' into the Python environment. \n",
      "Command: 'conda install -n codespacesML ipykernel --update-deps --force-reinstall'"
     ]
    }
   ],
   "source": [
    "enc = OneHotEncoder(handle_unknown='ignore')\n",
    "res = enc.fit_transform(df[categorical_features])\n",
    "res_df = pd.DataFrame(res.todense(), columns=enc.get_feature_names())\n",
    "\n",
    "df.drop(categorical_features, axis=1, inplace=True)\n",
    "df = pd.concat([df, res_df], axis=1)\n",
    "\n",
    "df.head()"
   ]
  },
  {
   "cell_type": "code",
   "execution_count": null,
   "id": "2e23dc2c-58b3-49e7-9051-29d8df93fe3b",
   "metadata": {},
   "outputs": [
    {
     "ename": "",
     "evalue": "",
     "output_type": "error",
     "traceback": [
      "\u001b[1;31mRunning cells with 'Python ('codespacesML')' requires ipykernel package.\n",
      "Run the following command to install 'ipykernel' into the Python environment. \n",
      "Command: 'conda install -n codespacesML ipykernel --update-deps --force-reinstall'"
     ]
    }
   ],
   "source": [
    "df[\"city\"] = df[\"city\"].str.replace(\"city_\", \"\")"
   ]
  },
  {
   "cell_type": "code",
   "execution_count": null,
   "id": "21fd57f2-0ff2-4ca0-9f8d-cfa47360700f",
   "metadata": {},
   "outputs": [
    {
     "ename": "",
     "evalue": "",
     "output_type": "error",
     "traceback": [
      "\u001b[1;31mRunning cells with 'Python ('codespacesML')' requires ipykernel package.\n",
      "Run the following command to install 'ipykernel' into the Python environment. \n",
      "Command: 'conda install -n codespacesML ipykernel --update-deps --force-reinstall'"
     ]
    }
   ],
   "source": [
    "df[\"city\"] = df[\"city\"].astype(str).astype(int)"
   ]
  },
  {
   "cell_type": "code",
   "execution_count": null,
   "id": "a01a4100-e026-4b79-b405-1db431aa6d34",
   "metadata": {},
   "outputs": [
    {
     "data": {
      "text/plain": [
       "array([103,  40,  21, 115, 162, 176, 160,  46,  61, 114,  13, 159, 102,\n",
       "        67, 100,  16,  71, 104,  64, 101,  83, 105,  73,  75,  41,  11,\n",
       "        93,  90,  36,  20,  57, 152,  19,  65,  74, 173, 136,  98,  97,\n",
       "        50, 138,  82, 157,  89, 150,  70, 175,  94,  28,  59, 165, 145,\n",
       "       142,  26,  12,  37,  43, 116,  23,  99, 149,  10,  45,  80, 128,\n",
       "       158, 123,   7,  72, 106, 143,  78, 109,  24, 134,  48, 144,  91,\n",
       "       146, 133, 126, 118,   9, 167,  27,  84,  54,  39,  79,  76,  77,\n",
       "        81, 131,  44, 117, 155,  33, 141, 127,  62,  53,  25,   2,  69,\n",
       "       120, 111,  30,   1, 140, 179,  55,  14,  42, 107,  18, 139, 180,\n",
       "       166, 121, 129,   8,  31, 171])"
      ]
     },
     "execution_count": 50,
     "metadata": {},
     "output_type": "execute_result"
    },
    {
     "ename": "",
     "evalue": "",
     "output_type": "error",
     "traceback": [
      "\u001b[1;31mRunning cells with 'Python ('codespacesML')' requires ipykernel package.\n",
      "Run the following command to install 'ipykernel' into the Python environment. \n",
      "Command: 'conda install -n codespacesML ipykernel --update-deps --force-reinstall'"
     ]
    }
   ],
   "source": [
    "df['city'].unique()"
   ]
  },
  {
   "cell_type": "code",
   "execution_count": null,
   "id": "62c317cf-4a20-4327-bcb5-232ae5c79474",
   "metadata": {},
   "outputs": [
    {
     "ename": "",
     "evalue": "",
     "output_type": "error",
     "traceback": [
      "\u001b[1;31mRunning cells with 'Python ('codespacesML')' requires ipykernel package.\n",
      "Run the following command to install 'ipykernel' into the Python environment. \n",
      "Command: 'conda install -n codespacesML ipykernel --update-deps --force-reinstall'"
     ]
    }
   ],
   "source": [
    "# df[\"city\"] = df[\"city\"].replace(np.nan, 0)"
   ]
  },
  {
   "cell_type": "code",
   "execution_count": null,
   "id": "daff57c6-76e1-4100-8f62-db3923ea4756",
   "metadata": {},
   "outputs": [
    {
     "ename": "",
     "evalue": "",
     "output_type": "error",
     "traceback": [
      "\u001b[1;31mRunning cells with 'Python ('codespacesML')' requires ipykernel package.\n",
      "Run the following command to install 'ipykernel' into the Python environment. \n",
      "Command: 'conda install -n codespacesML ipykernel --update-deps --force-reinstall'"
     ]
    }
   ],
   "source": [
    "# df = pd.concat([df, df[\"city\"]], ignore_index=True)"
   ]
  },
  {
   "cell_type": "code",
   "execution_count": null,
   "id": "6500d9a6-2ff4-429b-878d-1a7a40aa1325",
   "metadata": {},
   "outputs": [
    {
     "data": {
      "text/html": [
       "<div>\n",
       "<style scoped>\n",
       "    .dataframe tbody tr th:only-of-type {\n",
       "        vertical-align: middle;\n",
       "    }\n",
       "\n",
       "    .dataframe tbody tr th {\n",
       "        vertical-align: top;\n",
       "    }\n",
       "\n",
       "    .dataframe thead th {\n",
       "        text-align: right;\n",
       "    }\n",
       "</style>\n",
       "<table border=\"1\" class=\"dataframe\">\n",
       "  <thead>\n",
       "    <tr style=\"text-align: right;\">\n",
       "      <th></th>\n",
       "      <th>city_x</th>\n",
       "      <th>city_development_index</th>\n",
       "      <th>training_hours</th>\n",
       "      <th>target</th>\n",
       "      <th>x0_Female</th>\n",
       "      <th>x0_Male</th>\n",
       "      <th>x0_Other</th>\n",
       "      <th>x0_unknown</th>\n",
       "      <th>x1_Has relevent experience</th>\n",
       "      <th>x1_No relevent experience</th>\n",
       "      <th>...</th>\n",
       "      <th>x8_4</th>\n",
       "      <th>x8_5</th>\n",
       "      <th>x8_6</th>\n",
       "      <th>x8_7</th>\n",
       "      <th>x8_8</th>\n",
       "      <th>x8_9</th>\n",
       "      <th>x8_&lt;1</th>\n",
       "      <th>x8_&gt;20</th>\n",
       "      <th>x8_unknown</th>\n",
       "      <th>city_y</th>\n",
       "    </tr>\n",
       "  </thead>\n",
       "  <tbody>\n",
       "    <tr>\n",
       "      <th>0</th>\n",
       "      <td>103</td>\n",
       "      <td>0.920</td>\n",
       "      <td>36</td>\n",
       "      <td>1.0</td>\n",
       "      <td>0.0</td>\n",
       "      <td>1.0</td>\n",
       "      <td>0.0</td>\n",
       "      <td>0.0</td>\n",
       "      <td>1.0</td>\n",
       "      <td>0.0</td>\n",
       "      <td>...</td>\n",
       "      <td>0.0</td>\n",
       "      <td>0.0</td>\n",
       "      <td>0.0</td>\n",
       "      <td>0.0</td>\n",
       "      <td>0.0</td>\n",
       "      <td>0.0</td>\n",
       "      <td>0.0</td>\n",
       "      <td>1.0</td>\n",
       "      <td>0.0</td>\n",
       "      <td>103</td>\n",
       "    </tr>\n",
       "    <tr>\n",
       "      <th>1</th>\n",
       "      <td>40</td>\n",
       "      <td>0.776</td>\n",
       "      <td>47</td>\n",
       "      <td>0.0</td>\n",
       "      <td>0.0</td>\n",
       "      <td>1.0</td>\n",
       "      <td>0.0</td>\n",
       "      <td>0.0</td>\n",
       "      <td>0.0</td>\n",
       "      <td>1.0</td>\n",
       "      <td>...</td>\n",
       "      <td>0.0</td>\n",
       "      <td>0.0</td>\n",
       "      <td>0.0</td>\n",
       "      <td>0.0</td>\n",
       "      <td>0.0</td>\n",
       "      <td>0.0</td>\n",
       "      <td>0.0</td>\n",
       "      <td>0.0</td>\n",
       "      <td>0.0</td>\n",
       "      <td>40</td>\n",
       "    </tr>\n",
       "    <tr>\n",
       "      <th>2</th>\n",
       "      <td>21</td>\n",
       "      <td>0.624</td>\n",
       "      <td>83</td>\n",
       "      <td>0.0</td>\n",
       "      <td>0.0</td>\n",
       "      <td>0.0</td>\n",
       "      <td>0.0</td>\n",
       "      <td>1.0</td>\n",
       "      <td>0.0</td>\n",
       "      <td>1.0</td>\n",
       "      <td>...</td>\n",
       "      <td>0.0</td>\n",
       "      <td>1.0</td>\n",
       "      <td>0.0</td>\n",
       "      <td>0.0</td>\n",
       "      <td>0.0</td>\n",
       "      <td>0.0</td>\n",
       "      <td>0.0</td>\n",
       "      <td>0.0</td>\n",
       "      <td>0.0</td>\n",
       "      <td>21</td>\n",
       "    </tr>\n",
       "    <tr>\n",
       "      <th>3</th>\n",
       "      <td>115</td>\n",
       "      <td>0.789</td>\n",
       "      <td>52</td>\n",
       "      <td>1.0</td>\n",
       "      <td>0.0</td>\n",
       "      <td>0.0</td>\n",
       "      <td>0.0</td>\n",
       "      <td>1.0</td>\n",
       "      <td>0.0</td>\n",
       "      <td>1.0</td>\n",
       "      <td>...</td>\n",
       "      <td>0.0</td>\n",
       "      <td>0.0</td>\n",
       "      <td>0.0</td>\n",
       "      <td>0.0</td>\n",
       "      <td>0.0</td>\n",
       "      <td>0.0</td>\n",
       "      <td>1.0</td>\n",
       "      <td>0.0</td>\n",
       "      <td>0.0</td>\n",
       "      <td>115</td>\n",
       "    </tr>\n",
       "    <tr>\n",
       "      <th>4</th>\n",
       "      <td>162</td>\n",
       "      <td>0.767</td>\n",
       "      <td>8</td>\n",
       "      <td>0.0</td>\n",
       "      <td>0.0</td>\n",
       "      <td>1.0</td>\n",
       "      <td>0.0</td>\n",
       "      <td>0.0</td>\n",
       "      <td>1.0</td>\n",
       "      <td>0.0</td>\n",
       "      <td>...</td>\n",
       "      <td>0.0</td>\n",
       "      <td>0.0</td>\n",
       "      <td>0.0</td>\n",
       "      <td>0.0</td>\n",
       "      <td>0.0</td>\n",
       "      <td>0.0</td>\n",
       "      <td>0.0</td>\n",
       "      <td>1.0</td>\n",
       "      <td>0.0</td>\n",
       "      <td>162</td>\n",
       "    </tr>\n",
       "    <tr>\n",
       "      <th>...</th>\n",
       "      <td>...</td>\n",
       "      <td>...</td>\n",
       "      <td>...</td>\n",
       "      <td>...</td>\n",
       "      <td>...</td>\n",
       "      <td>...</td>\n",
       "      <td>...</td>\n",
       "      <td>...</td>\n",
       "      <td>...</td>\n",
       "      <td>...</td>\n",
       "      <td>...</td>\n",
       "      <td>...</td>\n",
       "      <td>...</td>\n",
       "      <td>...</td>\n",
       "      <td>...</td>\n",
       "      <td>...</td>\n",
       "      <td>...</td>\n",
       "      <td>...</td>\n",
       "      <td>...</td>\n",
       "      <td>...</td>\n",
       "      <td>...</td>\n",
       "    </tr>\n",
       "    <tr>\n",
       "      <th>19153</th>\n",
       "      <td>173</td>\n",
       "      <td>0.878</td>\n",
       "      <td>42</td>\n",
       "      <td>1.0</td>\n",
       "      <td>0.0</td>\n",
       "      <td>1.0</td>\n",
       "      <td>0.0</td>\n",
       "      <td>0.0</td>\n",
       "      <td>0.0</td>\n",
       "      <td>1.0</td>\n",
       "      <td>...</td>\n",
       "      <td>0.0</td>\n",
       "      <td>0.0</td>\n",
       "      <td>0.0</td>\n",
       "      <td>0.0</td>\n",
       "      <td>0.0</td>\n",
       "      <td>0.0</td>\n",
       "      <td>0.0</td>\n",
       "      <td>0.0</td>\n",
       "      <td>0.0</td>\n",
       "      <td>173</td>\n",
       "    </tr>\n",
       "    <tr>\n",
       "      <th>19154</th>\n",
       "      <td>103</td>\n",
       "      <td>0.920</td>\n",
       "      <td>52</td>\n",
       "      <td>1.0</td>\n",
       "      <td>0.0</td>\n",
       "      <td>1.0</td>\n",
       "      <td>0.0</td>\n",
       "      <td>0.0</td>\n",
       "      <td>1.0</td>\n",
       "      <td>0.0</td>\n",
       "      <td>...</td>\n",
       "      <td>0.0</td>\n",
       "      <td>0.0</td>\n",
       "      <td>0.0</td>\n",
       "      <td>0.0</td>\n",
       "      <td>0.0</td>\n",
       "      <td>0.0</td>\n",
       "      <td>0.0</td>\n",
       "      <td>0.0</td>\n",
       "      <td>0.0</td>\n",
       "      <td>103</td>\n",
       "    </tr>\n",
       "    <tr>\n",
       "      <th>19155</th>\n",
       "      <td>103</td>\n",
       "      <td>0.920</td>\n",
       "      <td>44</td>\n",
       "      <td>0.0</td>\n",
       "      <td>0.0</td>\n",
       "      <td>1.0</td>\n",
       "      <td>0.0</td>\n",
       "      <td>0.0</td>\n",
       "      <td>1.0</td>\n",
       "      <td>0.0</td>\n",
       "      <td>...</td>\n",
       "      <td>0.0</td>\n",
       "      <td>0.0</td>\n",
       "      <td>0.0</td>\n",
       "      <td>0.0</td>\n",
       "      <td>0.0</td>\n",
       "      <td>0.0</td>\n",
       "      <td>0.0</td>\n",
       "      <td>1.0</td>\n",
       "      <td>0.0</td>\n",
       "      <td>103</td>\n",
       "    </tr>\n",
       "    <tr>\n",
       "      <th>19156</th>\n",
       "      <td>65</td>\n",
       "      <td>0.802</td>\n",
       "      <td>97</td>\n",
       "      <td>0.0</td>\n",
       "      <td>0.0</td>\n",
       "      <td>1.0</td>\n",
       "      <td>0.0</td>\n",
       "      <td>0.0</td>\n",
       "      <td>1.0</td>\n",
       "      <td>0.0</td>\n",
       "      <td>...</td>\n",
       "      <td>0.0</td>\n",
       "      <td>0.0</td>\n",
       "      <td>0.0</td>\n",
       "      <td>0.0</td>\n",
       "      <td>0.0</td>\n",
       "      <td>0.0</td>\n",
       "      <td>1.0</td>\n",
       "      <td>0.0</td>\n",
       "      <td>0.0</td>\n",
       "      <td>65</td>\n",
       "    </tr>\n",
       "    <tr>\n",
       "      <th>19157</th>\n",
       "      <td>67</td>\n",
       "      <td>0.855</td>\n",
       "      <td>127</td>\n",
       "      <td>0.0</td>\n",
       "      <td>0.0</td>\n",
       "      <td>0.0</td>\n",
       "      <td>0.0</td>\n",
       "      <td>1.0</td>\n",
       "      <td>0.0</td>\n",
       "      <td>1.0</td>\n",
       "      <td>...</td>\n",
       "      <td>0.0</td>\n",
       "      <td>0.0</td>\n",
       "      <td>0.0</td>\n",
       "      <td>0.0</td>\n",
       "      <td>0.0</td>\n",
       "      <td>0.0</td>\n",
       "      <td>0.0</td>\n",
       "      <td>0.0</td>\n",
       "      <td>0.0</td>\n",
       "      <td>67</td>\n",
       "    </tr>\n",
       "  </tbody>\n",
       "</table>\n",
       "<p>19158 rows × 74 columns</p>\n",
       "</div>"
      ],
      "text/plain": [
       "       city_x  city_development_index  training_hours  target  x0_Female  \\\n",
       "0         103                   0.920              36     1.0        0.0   \n",
       "1          40                   0.776              47     0.0        0.0   \n",
       "2          21                   0.624              83     0.0        0.0   \n",
       "3         115                   0.789              52     1.0        0.0   \n",
       "4         162                   0.767               8     0.0        0.0   \n",
       "...       ...                     ...             ...     ...        ...   \n",
       "19153     173                   0.878              42     1.0        0.0   \n",
       "19154     103                   0.920              52     1.0        0.0   \n",
       "19155     103                   0.920              44     0.0        0.0   \n",
       "19156      65                   0.802              97     0.0        0.0   \n",
       "19157      67                   0.855             127     0.0        0.0   \n",
       "\n",
       "       x0_Male  x0_Other  x0_unknown  x1_Has relevent experience  \\\n",
       "0          1.0       0.0         0.0                         1.0   \n",
       "1          1.0       0.0         0.0                         0.0   \n",
       "2          0.0       0.0         1.0                         0.0   \n",
       "3          0.0       0.0         1.0                         0.0   \n",
       "4          1.0       0.0         0.0                         1.0   \n",
       "...        ...       ...         ...                         ...   \n",
       "19153      1.0       0.0         0.0                         0.0   \n",
       "19154      1.0       0.0         0.0                         1.0   \n",
       "19155      1.0       0.0         0.0                         1.0   \n",
       "19156      1.0       0.0         0.0                         1.0   \n",
       "19157      0.0       0.0         1.0                         0.0   \n",
       "\n",
       "       x1_No relevent experience  ...  x8_4  x8_5  x8_6  x8_7  x8_8  x8_9  \\\n",
       "0                            0.0  ...   0.0   0.0   0.0   0.0   0.0   0.0   \n",
       "1                            1.0  ...   0.0   0.0   0.0   0.0   0.0   0.0   \n",
       "2                            1.0  ...   0.0   1.0   0.0   0.0   0.0   0.0   \n",
       "3                            1.0  ...   0.0   0.0   0.0   0.0   0.0   0.0   \n",
       "4                            0.0  ...   0.0   0.0   0.0   0.0   0.0   0.0   \n",
       "...                          ...  ...   ...   ...   ...   ...   ...   ...   \n",
       "19153                        1.0  ...   0.0   0.0   0.0   0.0   0.0   0.0   \n",
       "19154                        0.0  ...   0.0   0.0   0.0   0.0   0.0   0.0   \n",
       "19155                        0.0  ...   0.0   0.0   0.0   0.0   0.0   0.0   \n",
       "19156                        0.0  ...   0.0   0.0   0.0   0.0   0.0   0.0   \n",
       "19157                        1.0  ...   0.0   0.0   0.0   0.0   0.0   0.0   \n",
       "\n",
       "       x8_<1  x8_>20  x8_unknown  city_y  \n",
       "0        0.0     1.0         0.0     103  \n",
       "1        0.0     0.0         0.0      40  \n",
       "2        0.0     0.0         0.0      21  \n",
       "3        1.0     0.0         0.0     115  \n",
       "4        0.0     1.0         0.0     162  \n",
       "...      ...     ...         ...     ...  \n",
       "19153    0.0     0.0         0.0     173  \n",
       "19154    0.0     0.0         0.0     103  \n",
       "19155    0.0     1.0         0.0     103  \n",
       "19156    1.0     0.0         0.0      65  \n",
       "19157    0.0     0.0         0.0      67  \n",
       "\n",
       "[19158 rows x 74 columns]"
      ]
     },
     "execution_count": 53,
     "metadata": {},
     "output_type": "execute_result"
    },
    {
     "ename": "",
     "evalue": "",
     "output_type": "error",
     "traceback": [
      "\u001b[1;31mRunning cells with 'Python ('codespacesML')' requires ipykernel package.\n",
      "Run the following command to install 'ipykernel' into the Python environment. \n",
      "Command: 'conda install -n codespacesML ipykernel --update-deps --force-reinstall'"
     ]
    }
   ],
   "source": [
    "pd.merge(df, df[\"city\"], left_index=True, right_index=True)"
   ]
  },
  {
   "cell_type": "code",
   "execution_count": null,
   "id": "2a364ea7-dd2d-4755-8d5c-fc550eed7c5b",
   "metadata": {
    "tags": []
   },
   "outputs": [
    {
     "ename": "",
     "evalue": "",
     "output_type": "error",
     "traceback": [
      "\u001b[1;31mRunning cells with 'Python ('codespacesML')' requires ipykernel package.\n",
      "Run the following command to install 'ipykernel' into the Python environment. \n",
      "Command: 'conda install -n codespacesML ipykernel --update-deps --force-reinstall'"
     ]
    }
   ],
   "source": [
    "# df.drop(0, inplace=True, axis=1)"
   ]
  },
  {
   "cell_type": "code",
   "execution_count": null,
   "id": "488564a8-6adc-4b6b-8f25-23858684c830",
   "metadata": {},
   "outputs": [
    {
     "ename": "",
     "evalue": "",
     "output_type": "error",
     "traceback": [
      "\u001b[1;31mRunning cells with 'Python ('codespacesML')' requires ipykernel package.\n",
      "Run the following command to install 'ipykernel' into the Python environment. \n",
      "Command: 'conda install -n codespacesML ipykernel --update-deps --force-reinstall'"
     ]
    }
   ],
   "source": [
    "df = df.replace(np.nan, 0)"
   ]
  },
  {
   "cell_type": "code",
   "execution_count": null,
   "id": "19ad9a6b-c60f-4384-ba02-a9d692e2cc7e",
   "metadata": {
    "tags": []
   },
   "outputs": [
    {
     "data": {
      "text/html": [
       "<div>\n",
       "<style scoped>\n",
       "    .dataframe tbody tr th:only-of-type {\n",
       "        vertical-align: middle;\n",
       "    }\n",
       "\n",
       "    .dataframe tbody tr th {\n",
       "        vertical-align: top;\n",
       "    }\n",
       "\n",
       "    .dataframe thead th {\n",
       "        text-align: right;\n",
       "    }\n",
       "</style>\n",
       "<table border=\"1\" class=\"dataframe\">\n",
       "  <thead>\n",
       "    <tr style=\"text-align: right;\">\n",
       "      <th></th>\n",
       "      <th>city</th>\n",
       "      <th>city_development_index</th>\n",
       "      <th>training_hours</th>\n",
       "      <th>target</th>\n",
       "      <th>x0_Female</th>\n",
       "      <th>x0_Male</th>\n",
       "      <th>x0_Other</th>\n",
       "      <th>x0_unknown</th>\n",
       "      <th>x1_Has relevent experience</th>\n",
       "      <th>x1_No relevent experience</th>\n",
       "      <th>...</th>\n",
       "      <th>x8_3</th>\n",
       "      <th>x8_4</th>\n",
       "      <th>x8_5</th>\n",
       "      <th>x8_6</th>\n",
       "      <th>x8_7</th>\n",
       "      <th>x8_8</th>\n",
       "      <th>x8_9</th>\n",
       "      <th>x8_&lt;1</th>\n",
       "      <th>x8_&gt;20</th>\n",
       "      <th>x8_unknown</th>\n",
       "    </tr>\n",
       "  </thead>\n",
       "  <tbody>\n",
       "    <tr>\n",
       "      <th>0</th>\n",
       "      <td>103</td>\n",
       "      <td>0.920</td>\n",
       "      <td>36</td>\n",
       "      <td>1.0</td>\n",
       "      <td>0.0</td>\n",
       "      <td>1.0</td>\n",
       "      <td>0.0</td>\n",
       "      <td>0.0</td>\n",
       "      <td>1.0</td>\n",
       "      <td>0.0</td>\n",
       "      <td>...</td>\n",
       "      <td>0.0</td>\n",
       "      <td>0.0</td>\n",
       "      <td>0.0</td>\n",
       "      <td>0.0</td>\n",
       "      <td>0.0</td>\n",
       "      <td>0.0</td>\n",
       "      <td>0.0</td>\n",
       "      <td>0.0</td>\n",
       "      <td>1.0</td>\n",
       "      <td>0.0</td>\n",
       "    </tr>\n",
       "    <tr>\n",
       "      <th>1</th>\n",
       "      <td>40</td>\n",
       "      <td>0.776</td>\n",
       "      <td>47</td>\n",
       "      <td>0.0</td>\n",
       "      <td>0.0</td>\n",
       "      <td>1.0</td>\n",
       "      <td>0.0</td>\n",
       "      <td>0.0</td>\n",
       "      <td>0.0</td>\n",
       "      <td>1.0</td>\n",
       "      <td>...</td>\n",
       "      <td>0.0</td>\n",
       "      <td>0.0</td>\n",
       "      <td>0.0</td>\n",
       "      <td>0.0</td>\n",
       "      <td>0.0</td>\n",
       "      <td>0.0</td>\n",
       "      <td>0.0</td>\n",
       "      <td>0.0</td>\n",
       "      <td>0.0</td>\n",
       "      <td>0.0</td>\n",
       "    </tr>\n",
       "    <tr>\n",
       "      <th>2</th>\n",
       "      <td>21</td>\n",
       "      <td>0.624</td>\n",
       "      <td>83</td>\n",
       "      <td>0.0</td>\n",
       "      <td>0.0</td>\n",
       "      <td>0.0</td>\n",
       "      <td>0.0</td>\n",
       "      <td>1.0</td>\n",
       "      <td>0.0</td>\n",
       "      <td>1.0</td>\n",
       "      <td>...</td>\n",
       "      <td>0.0</td>\n",
       "      <td>0.0</td>\n",
       "      <td>1.0</td>\n",
       "      <td>0.0</td>\n",
       "      <td>0.0</td>\n",
       "      <td>0.0</td>\n",
       "      <td>0.0</td>\n",
       "      <td>0.0</td>\n",
       "      <td>0.0</td>\n",
       "      <td>0.0</td>\n",
       "    </tr>\n",
       "    <tr>\n",
       "      <th>3</th>\n",
       "      <td>115</td>\n",
       "      <td>0.789</td>\n",
       "      <td>52</td>\n",
       "      <td>1.0</td>\n",
       "      <td>0.0</td>\n",
       "      <td>0.0</td>\n",
       "      <td>0.0</td>\n",
       "      <td>1.0</td>\n",
       "      <td>0.0</td>\n",
       "      <td>1.0</td>\n",
       "      <td>...</td>\n",
       "      <td>0.0</td>\n",
       "      <td>0.0</td>\n",
       "      <td>0.0</td>\n",
       "      <td>0.0</td>\n",
       "      <td>0.0</td>\n",
       "      <td>0.0</td>\n",
       "      <td>0.0</td>\n",
       "      <td>1.0</td>\n",
       "      <td>0.0</td>\n",
       "      <td>0.0</td>\n",
       "    </tr>\n",
       "    <tr>\n",
       "      <th>4</th>\n",
       "      <td>162</td>\n",
       "      <td>0.767</td>\n",
       "      <td>8</td>\n",
       "      <td>0.0</td>\n",
       "      <td>0.0</td>\n",
       "      <td>1.0</td>\n",
       "      <td>0.0</td>\n",
       "      <td>0.0</td>\n",
       "      <td>1.0</td>\n",
       "      <td>0.0</td>\n",
       "      <td>...</td>\n",
       "      <td>0.0</td>\n",
       "      <td>0.0</td>\n",
       "      <td>0.0</td>\n",
       "      <td>0.0</td>\n",
       "      <td>0.0</td>\n",
       "      <td>0.0</td>\n",
       "      <td>0.0</td>\n",
       "      <td>0.0</td>\n",
       "      <td>1.0</td>\n",
       "      <td>0.0</td>\n",
       "    </tr>\n",
       "  </tbody>\n",
       "</table>\n",
       "<p>5 rows × 73 columns</p>\n",
       "</div>"
      ],
      "text/plain": [
       "   city  city_development_index  training_hours  target  x0_Female  x0_Male  \\\n",
       "0   103                   0.920              36     1.0        0.0      1.0   \n",
       "1    40                   0.776              47     0.0        0.0      1.0   \n",
       "2    21                   0.624              83     0.0        0.0      0.0   \n",
       "3   115                   0.789              52     1.0        0.0      0.0   \n",
       "4   162                   0.767               8     0.0        0.0      1.0   \n",
       "\n",
       "   x0_Other  x0_unknown  x1_Has relevent experience  \\\n",
       "0       0.0         0.0                         1.0   \n",
       "1       0.0         0.0                         0.0   \n",
       "2       0.0         1.0                         0.0   \n",
       "3       0.0         1.0                         0.0   \n",
       "4       0.0         0.0                         1.0   \n",
       "\n",
       "   x1_No relevent experience  ...  x8_3  x8_4  x8_5  x8_6  x8_7  x8_8  x8_9  \\\n",
       "0                        0.0  ...   0.0   0.0   0.0   0.0   0.0   0.0   0.0   \n",
       "1                        1.0  ...   0.0   0.0   0.0   0.0   0.0   0.0   0.0   \n",
       "2                        1.0  ...   0.0   0.0   1.0   0.0   0.0   0.0   0.0   \n",
       "3                        1.0  ...   0.0   0.0   0.0   0.0   0.0   0.0   0.0   \n",
       "4                        0.0  ...   0.0   0.0   0.0   0.0   0.0   0.0   0.0   \n",
       "\n",
       "   x8_<1  x8_>20  x8_unknown  \n",
       "0    0.0     1.0         0.0  \n",
       "1    0.0     0.0         0.0  \n",
       "2    0.0     0.0         0.0  \n",
       "3    1.0     0.0         0.0  \n",
       "4    0.0     1.0         0.0  \n",
       "\n",
       "[5 rows x 73 columns]"
      ]
     },
     "execution_count": 56,
     "metadata": {},
     "output_type": "execute_result"
    },
    {
     "ename": "",
     "evalue": "",
     "output_type": "error",
     "traceback": [
      "\u001b[1;31mRunning cells with 'Python ('codespacesML')' requires ipykernel package.\n",
      "Run the following command to install 'ipykernel' into the Python environment. \n",
      "Command: 'conda install -n codespacesML ipykernel --update-deps --force-reinstall'"
     ]
    }
   ],
   "source": [
    "df.head()"
   ]
  },
  {
   "cell_type": "markdown",
   "id": "0a04ff8d",
   "metadata": {},
   "source": [
    "## Build an SVM classifier that uses gridsearch (3pts)\n"
   ]
  },
  {
   "cell_type": "code",
   "execution_count": null,
   "id": "8aa866cd-b07a-465b-bc67-037f20e75c28",
   "metadata": {},
   "outputs": [
    {
     "name": "stdout",
     "output_type": "stream",
     "text": [
      "Train  (15326, 72)\n",
      "Test  (3832, 72)\n"
     ]
    },
    {
     "ename": "",
     "evalue": "",
     "output_type": "error",
     "traceback": [
      "\u001b[1;31mRunning cells with 'Python ('codespacesML')' requires ipykernel package.\n",
      "Run the following command to install 'ipykernel' into the Python environment. \n",
      "Command: 'conda install -n codespacesML ipykernel --update-deps --force-reinstall'"
     ]
    }
   ],
   "source": [
    "X = df.drop(labels=['target'], axis=1)\n",
    "y = df['target']\n",
    "\n",
    "X_train, X_test, y_train, y_test = train_test_split(X, y, test_size=0.2, random_state=42, stratify=y)\n",
    "print(\"Train \", X_train.shape)\n",
    "print(\"Test \", X_test.shape)"
   ]
  },
  {
   "cell_type": "code",
   "execution_count": null,
   "id": "a9fdefda-8dfc-428d-a45c-c9c0a39a5f48",
   "metadata": {},
   "outputs": [
    {
     "name": "stdout",
     "output_type": "stream",
     "text": [
      "Fitting 4 folds for each of 42 candidates, totalling 168 fits\n"
     ]
    },
    {
     "name": "stderr",
     "output_type": "stream",
     "text": [
      "/opt/python/3.10.4/lib/python3.10/site-packages/sklearn/metrics/_classification.py:1327: UndefinedMetricWarning: Precision is ill-defined and being set to 0.0 due to no predicted samples. Use `zero_division` parameter to control this behavior.\n",
      "  _warn_prf(average, modifier, msg_start, len(result))\n"
     ]
    },
    {
     "name": "stdout",
     "output_type": "stream",
     "text": [
      "[CV 1/4] END C=0.1, gamma=1, kernel=rbf; accuracy_score: (test=0.751) f1: (test=0.000) precision_score: (test=0.000) recall_score: (test=0.000) total time=  53.8s\n"
     ]
    },
    {
     "name": "stderr",
     "output_type": "stream",
     "text": [
      "/opt/python/3.10.4/lib/python3.10/site-packages/sklearn/metrics/_classification.py:1327: UndefinedMetricWarning: Precision is ill-defined and being set to 0.0 due to no predicted samples. Use `zero_division` parameter to control this behavior.\n",
      "  _warn_prf(average, modifier, msg_start, len(result))\n"
     ]
    },
    {
     "name": "stdout",
     "output_type": "stream",
     "text": [
      "[CV 3/4] END C=0.1, gamma=1, kernel=rbf; accuracy_score: (test=0.751) f1: (test=0.000) precision_score: (test=0.000) recall_score: (test=0.000) total time=  54.9s\n"
     ]
    },
    {
     "name": "stderr",
     "output_type": "stream",
     "text": [
      "/opt/python/3.10.4/lib/python3.10/site-packages/sklearn/metrics/_classification.py:1327: UndefinedMetricWarning: Precision is ill-defined and being set to 0.0 due to no predicted samples. Use `zero_division` parameter to control this behavior.\n",
      "  _warn_prf(average, modifier, msg_start, len(result))\n"
     ]
    },
    {
     "name": "stdout",
     "output_type": "stream",
     "text": [
      "[CV 4/4] END C=0.1, gamma=1, kernel=rbf; accuracy_score: (test=0.751) f1: (test=0.000) precision_score: (test=0.000) recall_score: (test=0.000) total time=  55.5s\n"
     ]
    },
    {
     "name": "stderr",
     "output_type": "stream",
     "text": [
      "/opt/python/3.10.4/lib/python3.10/site-packages/sklearn/metrics/_classification.py:1327: UndefinedMetricWarning: Precision is ill-defined and being set to 0.0 due to no predicted samples. Use `zero_division` parameter to control this behavior.\n",
      "  _warn_prf(average, modifier, msg_start, len(result))\n"
     ]
    },
    {
     "name": "stdout",
     "output_type": "stream",
     "text": [
      "[CV 2/4] END C=0.1, gamma=1, kernel=rbf; accuracy_score: (test=0.751) f1: (test=0.000) precision_score: (test=0.000) recall_score: (test=0.000) total time=  55.9s\n",
      "[CV 1/4] END C=0.1, gamma=0.1, kernel=rbf; accuracy_score: (test=0.751) f1: (test=0.014) precision_score: (test=0.500) recall_score: (test=0.007) total time=  30.4s\n",
      "[CV 3/4] END C=0.1, gamma=0.1, kernel=rbf; accuracy_score: (test=0.750) f1: (test=0.002) precision_score: (test=0.200) recall_score: (test=0.001) total time=  33.3s\n",
      "[CV 4/4] END C=0.1, gamma=0.1, kernel=rbf; accuracy_score: (test=0.752) f1: (test=0.023) precision_score: (test=0.611) recall_score: (test=0.012) total time=  33.5s\n",
      "[CV 2/4] END C=0.1, gamma=0.1, kernel=rbf; accuracy_score: (test=0.752) f1: (test=0.027) precision_score: (test=0.591) recall_score: (test=0.014) total time=  34.9s\n"
     ]
    },
    {
     "name": "stderr",
     "output_type": "stream",
     "text": [
      "/opt/python/3.10.4/lib/python3.10/site-packages/sklearn/metrics/_classification.py:1327: UndefinedMetricWarning: Precision is ill-defined and being set to 0.0 due to no predicted samples. Use `zero_division` parameter to control this behavior.\n",
      "  _warn_prf(average, modifier, msg_start, len(result))\n"
     ]
    },
    {
     "name": "stdout",
     "output_type": "stream",
     "text": [
      "[CV 1/4] END C=0.1, gamma=0.01, kernel=rbf; accuracy_score: (test=0.751) f1: (test=0.000) precision_score: (test=0.000) recall_score: (test=0.000) total time=  14.8s\n"
     ]
    },
    {
     "name": "stderr",
     "output_type": "stream",
     "text": [
      "/opt/python/3.10.4/lib/python3.10/site-packages/sklearn/metrics/_classification.py:1327: UndefinedMetricWarning: Precision is ill-defined and being set to 0.0 due to no predicted samples. Use `zero_division` parameter to control this behavior.\n",
      "  _warn_prf(average, modifier, msg_start, len(result))\n"
     ]
    },
    {
     "name": "stdout",
     "output_type": "stream",
     "text": [
      "[CV 4/4] END C=0.1, gamma=0.01, kernel=rbf; accuracy_score: (test=0.751) f1: (test=0.000) precision_score: (test=0.000) recall_score: (test=0.000) total time=  16.3s\n"
     ]
    },
    {
     "name": "stderr",
     "output_type": "stream",
     "text": [
      "/opt/python/3.10.4/lib/python3.10/site-packages/sklearn/metrics/_classification.py:1327: UndefinedMetricWarning: Precision is ill-defined and being set to 0.0 due to no predicted samples. Use `zero_division` parameter to control this behavior.\n",
      "  _warn_prf(average, modifier, msg_start, len(result))\n",
      "/opt/python/3.10.4/lib/python3.10/site-packages/sklearn/metrics/_classification.py:1327: UndefinedMetricWarning: Precision is ill-defined and being set to 0.0 due to no predicted samples. Use `zero_division` parameter to control this behavior.\n",
      "  _warn_prf(average, modifier, msg_start, len(result))\n"
     ]
    },
    {
     "name": "stdout",
     "output_type": "stream",
     "text": [
      "[CV 2/4] END C=0.1, gamma=0.01, kernel=rbf; accuracy_score: (test=0.751) f1: (test=0.000) precision_score: (test=0.000) recall_score: (test=0.000) total time=  17.8s\n",
      "[CV 3/4] END C=0.1, gamma=0.01, kernel=rbf; accuracy_score: (test=0.751) f1: (test=0.000) precision_score: (test=0.000) recall_score: (test=0.000) total time=  17.3s\n"
     ]
    },
    {
     "name": "stderr",
     "output_type": "stream",
     "text": [
      "/opt/python/3.10.4/lib/python3.10/site-packages/sklearn/metrics/_classification.py:1327: UndefinedMetricWarning: Precision is ill-defined and being set to 0.0 due to no predicted samples. Use `zero_division` parameter to control this behavior.\n",
      "  _warn_prf(average, modifier, msg_start, len(result))\n"
     ]
    },
    {
     "name": "stdout",
     "output_type": "stream",
     "text": [
      "[CV 1/4] END C=0.1, gamma=0.001, kernel=rbf; accuracy_score: (test=0.751) f1: (test=0.000) precision_score: (test=0.000) recall_score: (test=0.000) total time=  12.6s\n"
     ]
    },
    {
     "name": "stderr",
     "output_type": "stream",
     "text": [
      "/opt/python/3.10.4/lib/python3.10/site-packages/sklearn/metrics/_classification.py:1327: UndefinedMetricWarning: Precision is ill-defined and being set to 0.0 due to no predicted samples. Use `zero_division` parameter to control this behavior.\n",
      "  _warn_prf(average, modifier, msg_start, len(result))\n"
     ]
    },
    {
     "name": "stdout",
     "output_type": "stream",
     "text": [
      "[CV 2/4] END C=0.1, gamma=0.001, kernel=rbf; accuracy_score: (test=0.751) f1: (test=0.000) precision_score: (test=0.000) recall_score: (test=0.000) total time=  14.7s\n"
     ]
    },
    {
     "name": "stderr",
     "output_type": "stream",
     "text": [
      "/opt/python/3.10.4/lib/python3.10/site-packages/sklearn/metrics/_classification.py:1327: UndefinedMetricWarning: Precision is ill-defined and being set to 0.0 due to no predicted samples. Use `zero_division` parameter to control this behavior.\n",
      "  _warn_prf(average, modifier, msg_start, len(result))\n",
      "/opt/python/3.10.4/lib/python3.10/site-packages/sklearn/metrics/_classification.py:1327: UndefinedMetricWarning: Precision is ill-defined and being set to 0.0 due to no predicted samples. Use `zero_division` parameter to control this behavior.\n",
      "  _warn_prf(average, modifier, msg_start, len(result))\n"
     ]
    },
    {
     "name": "stdout",
     "output_type": "stream",
     "text": [
      "[CV 4/4] END C=0.1, gamma=0.001, kernel=rbf; accuracy_score: (test=0.751) f1: (test=0.000) precision_score: (test=0.000) recall_score: (test=0.000) total time=  15.4s\n",
      "[CV 3/4] END C=0.1, gamma=0.001, kernel=rbf; accuracy_score: (test=0.751) f1: (test=0.000) precision_score: (test=0.000) recall_score: (test=0.000) total time=  15.6s\n"
     ]
    },
    {
     "name": "stderr",
     "output_type": "stream",
     "text": [
      "/opt/python/3.10.4/lib/python3.10/site-packages/sklearn/metrics/_classification.py:1327: UndefinedMetricWarning: Precision is ill-defined and being set to 0.0 due to no predicted samples. Use `zero_division` parameter to control this behavior.\n",
      "  _warn_prf(average, modifier, msg_start, len(result))\n"
     ]
    },
    {
     "name": "stdout",
     "output_type": "stream",
     "text": [
      "[CV 1/4] END C=0.1, gamma=0.0001, kernel=rbf; accuracy_score: (test=0.751) f1: (test=0.000) precision_score: (test=0.000) recall_score: (test=0.000) total time=  11.1s\n"
     ]
    },
    {
     "name": "stderr",
     "output_type": "stream",
     "text": [
      "/opt/python/3.10.4/lib/python3.10/site-packages/sklearn/metrics/_classification.py:1327: UndefinedMetricWarning: Precision is ill-defined and being set to 0.0 due to no predicted samples. Use `zero_division` parameter to control this behavior.\n",
      "  _warn_prf(average, modifier, msg_start, len(result))\n"
     ]
    },
    {
     "name": "stdout",
     "output_type": "stream",
     "text": [
      "[CV 2/4] END C=0.1, gamma=0.0001, kernel=rbf; accuracy_score: (test=0.751) f1: (test=0.000) precision_score: (test=0.000) recall_score: (test=0.000) total time=  12.3s\n"
     ]
    },
    {
     "name": "stderr",
     "output_type": "stream",
     "text": [
      "/opt/python/3.10.4/lib/python3.10/site-packages/sklearn/metrics/_classification.py:1327: UndefinedMetricWarning: Precision is ill-defined and being set to 0.0 due to no predicted samples. Use `zero_division` parameter to control this behavior.\n",
      "  _warn_prf(average, modifier, msg_start, len(result))\n"
     ]
    },
    {
     "name": "stdout",
     "output_type": "stream",
     "text": [
      "[CV 4/4] END C=0.1, gamma=0.0001, kernel=rbf; accuracy_score: (test=0.751) f1: (test=0.000) precision_score: (test=0.000) recall_score: (test=0.000) total time=  12.8s\n"
     ]
    },
    {
     "name": "stderr",
     "output_type": "stream",
     "text": [
      "/opt/python/3.10.4/lib/python3.10/site-packages/sklearn/metrics/_classification.py:1327: UndefinedMetricWarning: Precision is ill-defined and being set to 0.0 due to no predicted samples. Use `zero_division` parameter to control this behavior.\n",
      "  _warn_prf(average, modifier, msg_start, len(result))\n"
     ]
    },
    {
     "name": "stdout",
     "output_type": "stream",
     "text": [
      "[CV 3/4] END C=0.1, gamma=0.0001, kernel=rbf; accuracy_score: (test=0.751) f1: (test=0.000) precision_score: (test=0.000) recall_score: (test=0.000) total time=  13.2s\n"
     ]
    },
    {
     "name": "stderr",
     "output_type": "stream",
     "text": [
      "/opt/python/3.10.4/lib/python3.10/site-packages/sklearn/metrics/_classification.py:1327: UndefinedMetricWarning: Precision is ill-defined and being set to 0.0 due to no predicted samples. Use `zero_division` parameter to control this behavior.\n",
      "  _warn_prf(average, modifier, msg_start, len(result))\n"
     ]
    },
    {
     "name": "stdout",
     "output_type": "stream",
     "text": [
      "[CV 1/4] END C=0.1, gamma=10, kernel=rbf; accuracy_score: (test=0.751) f1: (test=0.000) precision_score: (test=0.000) recall_score: (test=0.000) total time=  50.9s\n"
     ]
    },
    {
     "name": "stderr",
     "output_type": "stream",
     "text": [
      "/opt/python/3.10.4/lib/python3.10/site-packages/sklearn/metrics/_classification.py:1327: UndefinedMetricWarning: Precision is ill-defined and being set to 0.0 due to no predicted samples. Use `zero_division` parameter to control this behavior.\n",
      "  _warn_prf(average, modifier, msg_start, len(result))\n"
     ]
    },
    {
     "name": "stdout",
     "output_type": "stream",
     "text": [
      "[CV 2/4] END C=0.1, gamma=10, kernel=rbf; accuracy_score: (test=0.751) f1: (test=0.000) precision_score: (test=0.000) recall_score: (test=0.000) total time=  53.5s\n"
     ]
    },
    {
     "name": "stderr",
     "output_type": "stream",
     "text": [
      "/opt/python/3.10.4/lib/python3.10/site-packages/sklearn/metrics/_classification.py:1327: UndefinedMetricWarning: Precision is ill-defined and being set to 0.0 due to no predicted samples. Use `zero_division` parameter to control this behavior.\n",
      "  _warn_prf(average, modifier, msg_start, len(result))\n"
     ]
    },
    {
     "name": "stdout",
     "output_type": "stream",
     "text": [
      "[CV 3/4] END C=0.1, gamma=10, kernel=rbf; accuracy_score: (test=0.751) f1: (test=0.000) precision_score: (test=0.000) recall_score: (test=0.000) total time=  55.5s\n"
     ]
    },
    {
     "name": "stderr",
     "output_type": "stream",
     "text": [
      "/opt/python/3.10.4/lib/python3.10/site-packages/sklearn/metrics/_classification.py:1327: UndefinedMetricWarning: Precision is ill-defined and being set to 0.0 due to no predicted samples. Use `zero_division` parameter to control this behavior.\n",
      "  _warn_prf(average, modifier, msg_start, len(result))\n"
     ]
    },
    {
     "name": "stdout",
     "output_type": "stream",
     "text": [
      "[CV 4/4] END C=0.1, gamma=10, kernel=rbf; accuracy_score: (test=0.751) f1: (test=0.000) precision_score: (test=0.000) recall_score: (test=0.000) total time=  56.0s\n"
     ]
    },
    {
     "name": "stderr",
     "output_type": "stream",
     "text": [
      "/opt/python/3.10.4/lib/python3.10/site-packages/sklearn/metrics/_classification.py:1327: UndefinedMetricWarning: Precision is ill-defined and being set to 0.0 due to no predicted samples. Use `zero_division` parameter to control this behavior.\n",
      "  _warn_prf(average, modifier, msg_start, len(result))\n"
     ]
    },
    {
     "name": "stdout",
     "output_type": "stream",
     "text": [
      "[CV 1/4] END C=0.1, gamma=100, kernel=rbf; accuracy_score: (test=0.751) f1: (test=0.000) precision_score: (test=0.000) recall_score: (test=0.000) total time=  49.4s\n"
     ]
    },
    {
     "name": "stderr",
     "output_type": "stream",
     "text": [
      "/opt/python/3.10.4/lib/python3.10/site-packages/sklearn/metrics/_classification.py:1327: UndefinedMetricWarning: Precision is ill-defined and being set to 0.0 due to no predicted samples. Use `zero_division` parameter to control this behavior.\n",
      "  _warn_prf(average, modifier, msg_start, len(result))\n"
     ]
    },
    {
     "name": "stdout",
     "output_type": "stream",
     "text": [
      "[CV 1/4] END C=0.001, gamma=1, kernel=rbf; accuracy_score: (test=0.751) f1: (test=0.000) precision_score: (test=0.000) recall_score: (test=0.000) total time=  11.7s\n"
     ]
    },
    {
     "name": "stderr",
     "output_type": "stream",
     "text": [
      "/opt/python/3.10.4/lib/python3.10/site-packages/sklearn/metrics/_classification.py:1327: UndefinedMetricWarning: Precision is ill-defined and being set to 0.0 due to no predicted samples. Use `zero_division` parameter to control this behavior.\n",
      "  _warn_prf(average, modifier, msg_start, len(result))\n"
     ]
    },
    {
     "name": "stdout",
     "output_type": "stream",
     "text": [
      "[CV 2/4] END C=0.1, gamma=100, kernel=rbf; accuracy_score: (test=0.751) f1: (test=0.000) precision_score: (test=0.000) recall_score: (test=0.000) total time=  51.1s\n"
     ]
    },
    {
     "name": "stderr",
     "output_type": "stream",
     "text": [
      "/opt/python/3.10.4/lib/python3.10/site-packages/sklearn/metrics/_classification.py:1327: UndefinedMetricWarning: Precision is ill-defined and being set to 0.0 due to no predicted samples. Use `zero_division` parameter to control this behavior.\n",
      "  _warn_prf(average, modifier, msg_start, len(result))\n"
     ]
    },
    {
     "name": "stdout",
     "output_type": "stream",
     "text": [
      "[CV 3/4] END C=0.1, gamma=100, kernel=rbf; accuracy_score: (test=0.751) f1: (test=0.000) precision_score: (test=0.000) recall_score: (test=0.000) total time=  53.0s\n"
     ]
    },
    {
     "name": "stderr",
     "output_type": "stream",
     "text": [
      "/opt/python/3.10.4/lib/python3.10/site-packages/sklearn/metrics/_classification.py:1327: UndefinedMetricWarning: Precision is ill-defined and being set to 0.0 due to no predicted samples. Use `zero_division` parameter to control this behavior.\n",
      "  _warn_prf(average, modifier, msg_start, len(result))\n"
     ]
    },
    {
     "name": "stdout",
     "output_type": "stream",
     "text": [
      "[CV 4/4] END C=0.1, gamma=100, kernel=rbf; accuracy_score: (test=0.751) f1: (test=0.000) precision_score: (test=0.000) recall_score: (test=0.000) total time=  53.6s\n"
     ]
    },
    {
     "name": "stderr",
     "output_type": "stream",
     "text": [
      "/opt/python/3.10.4/lib/python3.10/site-packages/sklearn/metrics/_classification.py:1327: UndefinedMetricWarning: Precision is ill-defined and being set to 0.0 due to no predicted samples. Use `zero_division` parameter to control this behavior.\n",
      "  _warn_prf(average, modifier, msg_start, len(result))\n"
     ]
    },
    {
     "name": "stdout",
     "output_type": "stream",
     "text": [
      "[CV 2/4] END C=0.001, gamma=1, kernel=rbf; accuracy_score: (test=0.751) f1: (test=0.000) precision_score: (test=0.000) recall_score: (test=0.000) total time=  10.8s\n"
     ]
    },
    {
     "name": "stderr",
     "output_type": "stream",
     "text": [
      "/opt/python/3.10.4/lib/python3.10/site-packages/sklearn/metrics/_classification.py:1327: UndefinedMetricWarning: Precision is ill-defined and being set to 0.0 due to no predicted samples. Use `zero_division` parameter to control this behavior.\n",
      "  _warn_prf(average, modifier, msg_start, len(result))\n"
     ]
    },
    {
     "name": "stdout",
     "output_type": "stream",
     "text": [
      "[CV 3/4] END C=0.001, gamma=1, kernel=rbf; accuracy_score: (test=0.751) f1: (test=0.000) precision_score: (test=0.000) recall_score: (test=0.000) total time=  11.4s\n"
     ]
    },
    {
     "name": "stderr",
     "output_type": "stream",
     "text": [
      "/opt/python/3.10.4/lib/python3.10/site-packages/sklearn/metrics/_classification.py:1327: UndefinedMetricWarning: Precision is ill-defined and being set to 0.0 due to no predicted samples. Use `zero_division` parameter to control this behavior.\n",
      "  _warn_prf(average, modifier, msg_start, len(result))\n"
     ]
    },
    {
     "name": "stdout",
     "output_type": "stream",
     "text": [
      "[CV 4/4] END C=0.001, gamma=1, kernel=rbf; accuracy_score: (test=0.751) f1: (test=0.000) precision_score: (test=0.000) recall_score: (test=0.000) total time=  12.2s\n"
     ]
    },
    {
     "name": "stderr",
     "output_type": "stream",
     "text": [
      "/opt/python/3.10.4/lib/python3.10/site-packages/sklearn/metrics/_classification.py:1327: UndefinedMetricWarning: Precision is ill-defined and being set to 0.0 due to no predicted samples. Use `zero_division` parameter to control this behavior.\n",
      "  _warn_prf(average, modifier, msg_start, len(result))\n",
      "/opt/python/3.10.4/lib/python3.10/site-packages/sklearn/metrics/_classification.py:1327: UndefinedMetricWarning: Precision is ill-defined and being set to 0.0 due to no predicted samples. Use `zero_division` parameter to control this behavior.\n",
      "  _warn_prf(average, modifier, msg_start, len(result))\n"
     ]
    },
    {
     "name": "stdout",
     "output_type": "stream",
     "text": [
      "[CV 1/4] END C=0.001, gamma=0.1, kernel=rbf; accuracy_score: (test=0.751) f1: (test=0.000) precision_score: (test=0.000) recall_score: (test=0.000) total time=  13.8s\n",
      "[CV 2/4] END C=0.001, gamma=0.1, kernel=rbf; accuracy_score: (test=0.751) f1: (test=0.000) precision_score: (test=0.000) recall_score: (test=0.000) total time=  13.1s\n"
     ]
    },
    {
     "name": "stderr",
     "output_type": "stream",
     "text": [
      "/opt/python/3.10.4/lib/python3.10/site-packages/sklearn/metrics/_classification.py:1327: UndefinedMetricWarning: Precision is ill-defined and being set to 0.0 due to no predicted samples. Use `zero_division` parameter to control this behavior.\n",
      "  _warn_prf(average, modifier, msg_start, len(result))\n"
     ]
    },
    {
     "name": "stdout",
     "output_type": "stream",
     "text": [
      "[CV 3/4] END C=0.001, gamma=0.1, kernel=rbf; accuracy_score: (test=0.751) f1: (test=0.000) precision_score: (test=0.000) recall_score: (test=0.000) total time=  12.7s\n"
     ]
    },
    {
     "name": "stderr",
     "output_type": "stream",
     "text": [
      "/opt/python/3.10.4/lib/python3.10/site-packages/sklearn/metrics/_classification.py:1327: UndefinedMetricWarning: Precision is ill-defined and being set to 0.0 due to no predicted samples. Use `zero_division` parameter to control this behavior.\n",
      "  _warn_prf(average, modifier, msg_start, len(result))\n"
     ]
    },
    {
     "name": "stdout",
     "output_type": "stream",
     "text": [
      "[CV 4/4] END C=0.001, gamma=0.1, kernel=rbf; accuracy_score: (test=0.751) f1: (test=0.000) precision_score: (test=0.000) recall_score: (test=0.000) total time=  13.7s\n"
     ]
    },
    {
     "name": "stderr",
     "output_type": "stream",
     "text": [
      "/opt/python/3.10.4/lib/python3.10/site-packages/sklearn/metrics/_classification.py:1327: UndefinedMetricWarning: Precision is ill-defined and being set to 0.0 due to no predicted samples. Use `zero_division` parameter to control this behavior.\n",
      "  _warn_prf(average, modifier, msg_start, len(result))\n",
      "/opt/python/3.10.4/lib/python3.10/site-packages/sklearn/metrics/_classification.py:1327: UndefinedMetricWarning: Precision is ill-defined and being set to 0.0 due to no predicted samples. Use `zero_division` parameter to control this behavior.\n",
      "  _warn_prf(average, modifier, msg_start, len(result))\n"
     ]
    },
    {
     "name": "stdout",
     "output_type": "stream",
     "text": [
      "[CV 2/4] END C=0.001, gamma=0.01, kernel=rbf; accuracy_score: (test=0.751) f1: (test=0.000) precision_score: (test=0.000) recall_score: (test=0.000) total time=  11.6s\n",
      "[CV 1/4] END C=0.001, gamma=0.01, kernel=rbf; accuracy_score: (test=0.751) f1: (test=0.000) precision_score: (test=0.000) recall_score: (test=0.000) total time=  11.9s\n"
     ]
    },
    {
     "name": "stderr",
     "output_type": "stream",
     "text": [
      "/opt/python/3.10.4/lib/python3.10/site-packages/sklearn/metrics/_classification.py:1327: UndefinedMetricWarning: Precision is ill-defined and being set to 0.0 due to no predicted samples. Use `zero_division` parameter to control this behavior.\n",
      "  _warn_prf(average, modifier, msg_start, len(result))\n"
     ]
    },
    {
     "name": "stdout",
     "output_type": "stream",
     "text": [
      "[CV 3/4] END C=0.001, gamma=0.01, kernel=rbf; accuracy_score: (test=0.751) f1: (test=0.000) precision_score: (test=0.000) recall_score: (test=0.000) total time=  11.0s\n"
     ]
    },
    {
     "name": "stderr",
     "output_type": "stream",
     "text": [
      "/opt/python/3.10.4/lib/python3.10/site-packages/sklearn/metrics/_classification.py:1327: UndefinedMetricWarning: Precision is ill-defined and being set to 0.0 due to no predicted samples. Use `zero_division` parameter to control this behavior.\n",
      "  _warn_prf(average, modifier, msg_start, len(result))\n"
     ]
    },
    {
     "name": "stdout",
     "output_type": "stream",
     "text": [
      "[CV 1/4] END C=0.001, gamma=0.001, kernel=rbf; accuracy_score: (test=0.751) f1: (test=0.000) precision_score: (test=0.000) recall_score: (test=0.000) total time=  10.8s\n"
     ]
    },
    {
     "name": "stderr",
     "output_type": "stream",
     "text": [
      "/opt/python/3.10.4/lib/python3.10/site-packages/sklearn/metrics/_classification.py:1327: UndefinedMetricWarning: Precision is ill-defined and being set to 0.0 due to no predicted samples. Use `zero_division` parameter to control this behavior.\n",
      "  _warn_prf(average, modifier, msg_start, len(result))\n"
     ]
    },
    {
     "name": "stdout",
     "output_type": "stream",
     "text": [
      "[CV 4/4] END C=0.001, gamma=0.01, kernel=rbf; accuracy_score: (test=0.751) f1: (test=0.000) precision_score: (test=0.000) recall_score: (test=0.000) total time=  12.1s\n"
     ]
    },
    {
     "name": "stderr",
     "output_type": "stream",
     "text": [
      "/opt/python/3.10.4/lib/python3.10/site-packages/sklearn/metrics/_classification.py:1327: UndefinedMetricWarning: Precision is ill-defined and being set to 0.0 due to no predicted samples. Use `zero_division` parameter to control this behavior.\n",
      "  _warn_prf(average, modifier, msg_start, len(result))\n"
     ]
    },
    {
     "name": "stdout",
     "output_type": "stream",
     "text": [
      "[CV 2/4] END C=0.001, gamma=0.001, kernel=rbf; accuracy_score: (test=0.751) f1: (test=0.000) precision_score: (test=0.000) recall_score: (test=0.000) total time=  11.2s\n"
     ]
    },
    {
     "name": "stderr",
     "output_type": "stream",
     "text": [
      "/opt/python/3.10.4/lib/python3.10/site-packages/sklearn/metrics/_classification.py:1327: UndefinedMetricWarning: Precision is ill-defined and being set to 0.0 due to no predicted samples. Use `zero_division` parameter to control this behavior.\n",
      "  _warn_prf(average, modifier, msg_start, len(result))\n"
     ]
    },
    {
     "name": "stdout",
     "output_type": "stream",
     "text": [
      "[CV 3/4] END C=0.001, gamma=0.001, kernel=rbf; accuracy_score: (test=0.751) f1: (test=0.000) precision_score: (test=0.000) recall_score: (test=0.000) total time=  10.6s\n"
     ]
    },
    {
     "name": "stderr",
     "output_type": "stream",
     "text": [
      "/opt/python/3.10.4/lib/python3.10/site-packages/sklearn/metrics/_classification.py:1327: UndefinedMetricWarning: Precision is ill-defined and being set to 0.0 due to no predicted samples. Use `zero_division` parameter to control this behavior.\n",
      "  _warn_prf(average, modifier, msg_start, len(result))\n"
     ]
    },
    {
     "name": "stdout",
     "output_type": "stream",
     "text": [
      "[CV 4/4] END C=0.001, gamma=0.001, kernel=rbf; accuracy_score: (test=0.751) f1: (test=0.000) precision_score: (test=0.000) recall_score: (test=0.000) total time=  10.9s\n"
     ]
    },
    {
     "name": "stderr",
     "output_type": "stream",
     "text": [
      "/opt/python/3.10.4/lib/python3.10/site-packages/sklearn/metrics/_classification.py:1327: UndefinedMetricWarning: Precision is ill-defined and being set to 0.0 due to no predicted samples. Use `zero_division` parameter to control this behavior.\n",
      "  _warn_prf(average, modifier, msg_start, len(result))\n",
      "/opt/python/3.10.4/lib/python3.10/site-packages/sklearn/metrics/_classification.py:1327: UndefinedMetricWarning: Precision is ill-defined and being set to 0.0 due to no predicted samples. Use `zero_division` parameter to control this behavior.\n",
      "  _warn_prf(average, modifier, msg_start, len(result))\n"
     ]
    },
    {
     "name": "stdout",
     "output_type": "stream",
     "text": [
      "[CV 1/4] END C=0.001, gamma=0.0001, kernel=rbf; accuracy_score: (test=0.751) f1: (test=0.000) precision_score: (test=0.000) recall_score: (test=0.000) total time=  11.6s\n",
      "[CV 2/4] END C=0.001, gamma=0.0001, kernel=rbf; accuracy_score: (test=0.751) f1: (test=0.000) precision_score: (test=0.000) recall_score: (test=0.000) total time=  11.5s\n"
     ]
    },
    {
     "name": "stderr",
     "output_type": "stream",
     "text": [
      "/opt/python/3.10.4/lib/python3.10/site-packages/sklearn/metrics/_classification.py:1327: UndefinedMetricWarning: Precision is ill-defined and being set to 0.0 due to no predicted samples. Use `zero_division` parameter to control this behavior.\n",
      "  _warn_prf(average, modifier, msg_start, len(result))\n"
     ]
    },
    {
     "name": "stdout",
     "output_type": "stream",
     "text": [
      "[CV 3/4] END C=0.001, gamma=0.0001, kernel=rbf; accuracy_score: (test=0.751) f1: (test=0.000) precision_score: (test=0.000) recall_score: (test=0.000) total time=  11.2s\n"
     ]
    },
    {
     "name": "stderr",
     "output_type": "stream",
     "text": [
      "/opt/python/3.10.4/lib/python3.10/site-packages/sklearn/metrics/_classification.py:1327: UndefinedMetricWarning: Precision is ill-defined and being set to 0.0 due to no predicted samples. Use `zero_division` parameter to control this behavior.\n",
      "  _warn_prf(average, modifier, msg_start, len(result))\n"
     ]
    },
    {
     "name": "stdout",
     "output_type": "stream",
     "text": [
      "[CV 4/4] END C=0.001, gamma=0.0001, kernel=rbf; accuracy_score: (test=0.751) f1: (test=0.000) precision_score: (test=0.000) recall_score: (test=0.000) total time=  10.8s\n"
     ]
    },
    {
     "name": "stderr",
     "output_type": "stream",
     "text": [
      "/opt/python/3.10.4/lib/python3.10/site-packages/sklearn/metrics/_classification.py:1327: UndefinedMetricWarning: Precision is ill-defined and being set to 0.0 due to no predicted samples. Use `zero_division` parameter to control this behavior.\n",
      "  _warn_prf(average, modifier, msg_start, len(result))\n"
     ]
    },
    {
     "name": "stdout",
     "output_type": "stream",
     "text": [
      "[CV 1/4] END C=0.001, gamma=10, kernel=rbf; accuracy_score: (test=0.751) f1: (test=0.000) precision_score: (test=0.000) recall_score: (test=0.000) total time=  22.6s\n"
     ]
    },
    {
     "name": "stderr",
     "output_type": "stream",
     "text": [
      "/opt/python/3.10.4/lib/python3.10/site-packages/sklearn/metrics/_classification.py:1327: UndefinedMetricWarning: Precision is ill-defined and being set to 0.0 due to no predicted samples. Use `zero_division` parameter to control this behavior.\n",
      "  _warn_prf(average, modifier, msg_start, len(result))\n",
      "/opt/python/3.10.4/lib/python3.10/site-packages/sklearn/metrics/_classification.py:1327: UndefinedMetricWarning: Precision is ill-defined and being set to 0.0 due to no predicted samples. Use `zero_division` parameter to control this behavior.\n",
      "  _warn_prf(average, modifier, msg_start, len(result))\n"
     ]
    },
    {
     "name": "stdout",
     "output_type": "stream",
     "text": [
      "[CV 2/4] END C=0.001, gamma=10, kernel=rbf; accuracy_score: (test=0.751) f1: (test=0.000) precision_score: (test=0.000) recall_score: (test=0.000) total time=  23.1s\n",
      "[CV 3/4] END C=0.001, gamma=10, kernel=rbf; accuracy_score: (test=0.751) f1: (test=0.000) precision_score: (test=0.000) recall_score: (test=0.000) total time=  21.8s\n"
     ]
    },
    {
     "name": "stderr",
     "output_type": "stream",
     "text": [
      "/opt/python/3.10.4/lib/python3.10/site-packages/sklearn/metrics/_classification.py:1327: UndefinedMetricWarning: Precision is ill-defined and being set to 0.0 due to no predicted samples. Use `zero_division` parameter to control this behavior.\n",
      "  _warn_prf(average, modifier, msg_start, len(result))\n"
     ]
    },
    {
     "name": "stdout",
     "output_type": "stream",
     "text": [
      "[CV 4/4] END C=0.001, gamma=10, kernel=rbf; accuracy_score: (test=0.751) f1: (test=0.000) precision_score: (test=0.000) recall_score: (test=0.000) total time=  21.3s\n"
     ]
    },
    {
     "name": "stderr",
     "output_type": "stream",
     "text": [
      "/opt/python/3.10.4/lib/python3.10/site-packages/sklearn/metrics/_classification.py:1327: UndefinedMetricWarning: Precision is ill-defined and being set to 0.0 due to no predicted samples. Use `zero_division` parameter to control this behavior.\n",
      "  _warn_prf(average, modifier, msg_start, len(result))\n"
     ]
    },
    {
     "name": "stdout",
     "output_type": "stream",
     "text": [
      "[CV 3/4] END C=0.001, gamma=100, kernel=rbf; accuracy_score: (test=0.751) f1: (test=0.000) precision_score: (test=0.000) recall_score: (test=0.000) total time=  22.1s\n"
     ]
    },
    {
     "name": "stderr",
     "output_type": "stream",
     "text": [
      "/opt/python/3.10.4/lib/python3.10/site-packages/sklearn/metrics/_classification.py:1327: UndefinedMetricWarning: Precision is ill-defined and being set to 0.0 due to no predicted samples. Use `zero_division` parameter to control this behavior.\n",
      "  _warn_prf(average, modifier, msg_start, len(result))\n"
     ]
    },
    {
     "name": "stdout",
     "output_type": "stream",
     "text": [
      "[CV 2/4] END C=0.001, gamma=100, kernel=rbf; accuracy_score: (test=0.751) f1: (test=0.000) precision_score: (test=0.000) recall_score: (test=0.000) total time=  22.5s\n"
     ]
    },
    {
     "name": "stderr",
     "output_type": "stream",
     "text": [
      "/opt/python/3.10.4/lib/python3.10/site-packages/sklearn/metrics/_classification.py:1327: UndefinedMetricWarning: Precision is ill-defined and being set to 0.0 due to no predicted samples. Use `zero_division` parameter to control this behavior.\n",
      "  _warn_prf(average, modifier, msg_start, len(result))\n"
     ]
    },
    {
     "name": "stdout",
     "output_type": "stream",
     "text": [
      "[CV 1/4] END C=0.001, gamma=100, kernel=rbf; accuracy_score: (test=0.751) f1: (test=0.000) precision_score: (test=0.000) recall_score: (test=0.000) total time=  23.5s\n"
     ]
    },
    {
     "name": "stderr",
     "output_type": "stream",
     "text": [
      "/opt/python/3.10.4/lib/python3.10/site-packages/sklearn/metrics/_classification.py:1327: UndefinedMetricWarning: Precision is ill-defined and being set to 0.0 due to no predicted samples. Use `zero_division` parameter to control this behavior.\n",
      "  _warn_prf(average, modifier, msg_start, len(result))\n"
     ]
    },
    {
     "name": "stdout",
     "output_type": "stream",
     "text": [
      "[CV 4/4] END C=0.001, gamma=100, kernel=rbf; accuracy_score: (test=0.751) f1: (test=0.000) precision_score: (test=0.000) recall_score: (test=0.000) total time=  21.4s\n"
     ]
    },
    {
     "name": "stderr",
     "output_type": "stream",
     "text": [
      "/opt/python/3.10.4/lib/python3.10/site-packages/sklearn/metrics/_classification.py:1327: UndefinedMetricWarning: Precision is ill-defined and being set to 0.0 due to no predicted samples. Use `zero_division` parameter to control this behavior.\n",
      "  _warn_prf(average, modifier, msg_start, len(result))\n"
     ]
    },
    {
     "name": "stdout",
     "output_type": "stream",
     "text": [
      "[CV 1/4] END C=0.0001, gamma=1, kernel=rbf; accuracy_score: (test=0.751) f1: (test=0.000) precision_score: (test=0.000) recall_score: (test=0.000) total time=  11.9s\n"
     ]
    },
    {
     "name": "stderr",
     "output_type": "stream",
     "text": [
      "/opt/python/3.10.4/lib/python3.10/site-packages/sklearn/metrics/_classification.py:1327: UndefinedMetricWarning: Precision is ill-defined and being set to 0.0 due to no predicted samples. Use `zero_division` parameter to control this behavior.\n",
      "  _warn_prf(average, modifier, msg_start, len(result))\n",
      "/opt/python/3.10.4/lib/python3.10/site-packages/sklearn/metrics/_classification.py:1327: UndefinedMetricWarning: Precision is ill-defined and being set to 0.0 due to no predicted samples. Use `zero_division` parameter to control this behavior.\n",
      "  _warn_prf(average, modifier, msg_start, len(result))\n"
     ]
    },
    {
     "name": "stdout",
     "output_type": "stream",
     "text": [
      "[CV 2/4] END C=0.0001, gamma=1, kernel=rbf; accuracy_score: (test=0.751) f1: (test=0.000) precision_score: (test=0.000) recall_score: (test=0.000) total time=  12.2s\n",
      "[CV 3/4] END C=0.0001, gamma=1, kernel=rbf; accuracy_score: (test=0.751) f1: (test=0.000) precision_score: (test=0.000) recall_score: (test=0.000) total time=  11.9s\n"
     ]
    },
    {
     "name": "stderr",
     "output_type": "stream",
     "text": [
      "/opt/python/3.10.4/lib/python3.10/site-packages/sklearn/metrics/_classification.py:1327: UndefinedMetricWarning: Precision is ill-defined and being set to 0.0 due to no predicted samples. Use `zero_division` parameter to control this behavior.\n",
      "  _warn_prf(average, modifier, msg_start, len(result))\n"
     ]
    },
    {
     "name": "stdout",
     "output_type": "stream",
     "text": [
      "[CV 4/4] END C=0.0001, gamma=1, kernel=rbf; accuracy_score: (test=0.751) f1: (test=0.000) precision_score: (test=0.000) recall_score: (test=0.000) total time=  11.5s\n"
     ]
    },
    {
     "name": "stderr",
     "output_type": "stream",
     "text": [
      "/opt/python/3.10.4/lib/python3.10/site-packages/sklearn/metrics/_classification.py:1327: UndefinedMetricWarning: Precision is ill-defined and being set to 0.0 due to no predicted samples. Use `zero_division` parameter to control this behavior.\n",
      "  _warn_prf(average, modifier, msg_start, len(result))\n"
     ]
    },
    {
     "name": "stdout",
     "output_type": "stream",
     "text": [
      "[CV 1/4] END C=0.0001, gamma=0.1, kernel=rbf; accuracy_score: (test=0.751) f1: (test=0.000) precision_score: (test=0.000) recall_score: (test=0.000) total time=  12.9s\n"
     ]
    },
    {
     "name": "stderr",
     "output_type": "stream",
     "text": [
      "/opt/python/3.10.4/lib/python3.10/site-packages/sklearn/metrics/_classification.py:1327: UndefinedMetricWarning: Precision is ill-defined and being set to 0.0 due to no predicted samples. Use `zero_division` parameter to control this behavior.\n",
      "  _warn_prf(average, modifier, msg_start, len(result))\n"
     ]
    },
    {
     "name": "stdout",
     "output_type": "stream",
     "text": [
      "[CV 2/4] END C=0.0001, gamma=0.1, kernel=rbf; accuracy_score: (test=0.751) f1: (test=0.000) precision_score: (test=0.000) recall_score: (test=0.000) total time=  13.6s\n"
     ]
    },
    {
     "name": "stderr",
     "output_type": "stream",
     "text": [
      "/opt/python/3.10.4/lib/python3.10/site-packages/sklearn/metrics/_classification.py:1327: UndefinedMetricWarning: Precision is ill-defined and being set to 0.0 due to no predicted samples. Use `zero_division` parameter to control this behavior.\n",
      "  _warn_prf(average, modifier, msg_start, len(result))\n"
     ]
    },
    {
     "name": "stdout",
     "output_type": "stream",
     "text": [
      "[CV 3/4] END C=0.0001, gamma=0.1, kernel=rbf; accuracy_score: (test=0.751) f1: (test=0.000) precision_score: (test=0.000) recall_score: (test=0.000) total time=  14.1s\n"
     ]
    },
    {
     "name": "stderr",
     "output_type": "stream",
     "text": [
      "/opt/python/3.10.4/lib/python3.10/site-packages/sklearn/metrics/_classification.py:1327: UndefinedMetricWarning: Precision is ill-defined and being set to 0.0 due to no predicted samples. Use `zero_division` parameter to control this behavior.\n",
      "  _warn_prf(average, modifier, msg_start, len(result))\n"
     ]
    },
    {
     "name": "stdout",
     "output_type": "stream",
     "text": [
      "[CV 4/4] END C=0.0001, gamma=0.1, kernel=rbf; accuracy_score: (test=0.751) f1: (test=0.000) precision_score: (test=0.000) recall_score: (test=0.000) total time=  13.2s\n"
     ]
    },
    {
     "name": "stderr",
     "output_type": "stream",
     "text": [
      "/opt/python/3.10.4/lib/python3.10/site-packages/sklearn/metrics/_classification.py:1327: UndefinedMetricWarning: Precision is ill-defined and being set to 0.0 due to no predicted samples. Use `zero_division` parameter to control this behavior.\n",
      "  _warn_prf(average, modifier, msg_start, len(result))\n"
     ]
    },
    {
     "name": "stdout",
     "output_type": "stream",
     "text": [
      "[CV 1/4] END C=0.0001, gamma=0.01, kernel=rbf; accuracy_score: (test=0.751) f1: (test=0.000) precision_score: (test=0.000) recall_score: (test=0.000) total time=  11.2s\n"
     ]
    },
    {
     "name": "stderr",
     "output_type": "stream",
     "text": [
      "/opt/python/3.10.4/lib/python3.10/site-packages/sklearn/metrics/_classification.py:1327: UndefinedMetricWarning: Precision is ill-defined and being set to 0.0 due to no predicted samples. Use `zero_division` parameter to control this behavior.\n",
      "  _warn_prf(average, modifier, msg_start, len(result))\n"
     ]
    },
    {
     "name": "stdout",
     "output_type": "stream",
     "text": [
      "[CV 2/4] END C=0.0001, gamma=0.01, kernel=rbf; accuracy_score: (test=0.751) f1: (test=0.000) precision_score: (test=0.000) recall_score: (test=0.000) total time=  12.2s\n"
     ]
    },
    {
     "name": "stderr",
     "output_type": "stream",
     "text": [
      "/opt/python/3.10.4/lib/python3.10/site-packages/sklearn/metrics/_classification.py:1327: UndefinedMetricWarning: Precision is ill-defined and being set to 0.0 due to no predicted samples. Use `zero_division` parameter to control this behavior.\n",
      "  _warn_prf(average, modifier, msg_start, len(result))\n"
     ]
    },
    {
     "name": "stdout",
     "output_type": "stream",
     "text": [
      "[CV 3/4] END C=0.0001, gamma=0.01, kernel=rbf; accuracy_score: (test=0.751) f1: (test=0.000) precision_score: (test=0.000) recall_score: (test=0.000) total time=  12.0s\n"
     ]
    },
    {
     "name": "stderr",
     "output_type": "stream",
     "text": [
      "/opt/python/3.10.4/lib/python3.10/site-packages/sklearn/metrics/_classification.py:1327: UndefinedMetricWarning: Precision is ill-defined and being set to 0.0 due to no predicted samples. Use `zero_division` parameter to control this behavior.\n",
      "  _warn_prf(average, modifier, msg_start, len(result))\n"
     ]
    },
    {
     "name": "stdout",
     "output_type": "stream",
     "text": [
      "[CV 4/4] END C=0.0001, gamma=0.01, kernel=rbf; accuracy_score: (test=0.751) f1: (test=0.000) precision_score: (test=0.000) recall_score: (test=0.000) total time=  11.2s\n"
     ]
    },
    {
     "name": "stderr",
     "output_type": "stream",
     "text": [
      "/opt/python/3.10.4/lib/python3.10/site-packages/sklearn/metrics/_classification.py:1327: UndefinedMetricWarning: Precision is ill-defined and being set to 0.0 due to no predicted samples. Use `zero_division` parameter to control this behavior.\n",
      "  _warn_prf(average, modifier, msg_start, len(result))\n"
     ]
    },
    {
     "name": "stdout",
     "output_type": "stream",
     "text": [
      "[CV 1/4] END C=0.0001, gamma=0.001, kernel=rbf; accuracy_score: (test=0.751) f1: (test=0.000) precision_score: (test=0.000) recall_score: (test=0.000) total time=  10.6s\n"
     ]
    },
    {
     "name": "stderr",
     "output_type": "stream",
     "text": [
      "/opt/python/3.10.4/lib/python3.10/site-packages/sklearn/metrics/_classification.py:1327: UndefinedMetricWarning: Precision is ill-defined and being set to 0.0 due to no predicted samples. Use `zero_division` parameter to control this behavior.\n",
      "  _warn_prf(average, modifier, msg_start, len(result))\n"
     ]
    },
    {
     "name": "stdout",
     "output_type": "stream",
     "text": [
      "[CV 2/4] END C=0.0001, gamma=0.001, kernel=rbf; accuracy_score: (test=0.751) f1: (test=0.000) precision_score: (test=0.000) recall_score: (test=0.000) total time=  11.6s\n"
     ]
    },
    {
     "name": "stderr",
     "output_type": "stream",
     "text": [
      "/opt/python/3.10.4/lib/python3.10/site-packages/sklearn/metrics/_classification.py:1327: UndefinedMetricWarning: Precision is ill-defined and being set to 0.0 due to no predicted samples. Use `zero_division` parameter to control this behavior.\n",
      "  _warn_prf(average, modifier, msg_start, len(result))\n"
     ]
    },
    {
     "name": "stdout",
     "output_type": "stream",
     "text": [
      "[CV 3/4] END C=0.0001, gamma=0.001, kernel=rbf; accuracy_score: (test=0.751) f1: (test=0.000) precision_score: (test=0.000) recall_score: (test=0.000) total time=  11.8s\n"
     ]
    },
    {
     "name": "stderr",
     "output_type": "stream",
     "text": [
      "/opt/python/3.10.4/lib/python3.10/site-packages/sklearn/metrics/_classification.py:1327: UndefinedMetricWarning: Precision is ill-defined and being set to 0.0 due to no predicted samples. Use `zero_division` parameter to control this behavior.\n",
      "  _warn_prf(average, modifier, msg_start, len(result))\n"
     ]
    },
    {
     "name": "stdout",
     "output_type": "stream",
     "text": [
      "[CV 4/4] END C=0.0001, gamma=0.001, kernel=rbf; accuracy_score: (test=0.751) f1: (test=0.000) precision_score: (test=0.000) recall_score: (test=0.000) total time=  10.5s\n"
     ]
    },
    {
     "name": "stderr",
     "output_type": "stream",
     "text": [
      "/opt/python/3.10.4/lib/python3.10/site-packages/sklearn/metrics/_classification.py:1327: UndefinedMetricWarning: Precision is ill-defined and being set to 0.0 due to no predicted samples. Use `zero_division` parameter to control this behavior.\n",
      "  _warn_prf(average, modifier, msg_start, len(result))\n"
     ]
    },
    {
     "name": "stdout",
     "output_type": "stream",
     "text": [
      "[CV 1/4] END C=0.0001, gamma=0.0001, kernel=rbf; accuracy_score: (test=0.751) f1: (test=0.000) precision_score: (test=0.000) recall_score: (test=0.000) total time=  10.2s\n"
     ]
    },
    {
     "name": "stderr",
     "output_type": "stream",
     "text": [
      "/opt/python/3.10.4/lib/python3.10/site-packages/sklearn/metrics/_classification.py:1327: UndefinedMetricWarning: Precision is ill-defined and being set to 0.0 due to no predicted samples. Use `zero_division` parameter to control this behavior.\n",
      "  _warn_prf(average, modifier, msg_start, len(result))\n"
     ]
    },
    {
     "name": "stdout",
     "output_type": "stream",
     "text": [
      "[CV 2/4] END C=0.0001, gamma=0.0001, kernel=rbf; accuracy_score: (test=0.751) f1: (test=0.000) precision_score: (test=0.000) recall_score: (test=0.000) total time=  11.3s\n"
     ]
    },
    {
     "name": "stderr",
     "output_type": "stream",
     "text": [
      "/opt/python/3.10.4/lib/python3.10/site-packages/sklearn/metrics/_classification.py:1327: UndefinedMetricWarning: Precision is ill-defined and being set to 0.0 due to no predicted samples. Use `zero_division` parameter to control this behavior.\n",
      "  _warn_prf(average, modifier, msg_start, len(result))\n"
     ]
    },
    {
     "name": "stdout",
     "output_type": "stream",
     "text": [
      "[CV 3/4] END C=0.0001, gamma=0.0001, kernel=rbf; accuracy_score: (test=0.751) f1: (test=0.000) precision_score: (test=0.000) recall_score: (test=0.000) total time=  11.0s\n"
     ]
    },
    {
     "name": "stderr",
     "output_type": "stream",
     "text": [
      "/opt/python/3.10.4/lib/python3.10/site-packages/sklearn/metrics/_classification.py:1327: UndefinedMetricWarning: Precision is ill-defined and being set to 0.0 due to no predicted samples. Use `zero_division` parameter to control this behavior.\n",
      "  _warn_prf(average, modifier, msg_start, len(result))\n"
     ]
    },
    {
     "name": "stdout",
     "output_type": "stream",
     "text": [
      "[CV 4/4] END C=0.0001, gamma=0.0001, kernel=rbf; accuracy_score: (test=0.751) f1: (test=0.000) precision_score: (test=0.000) recall_score: (test=0.000) total time=  10.5s\n"
     ]
    },
    {
     "name": "stderr",
     "output_type": "stream",
     "text": [
      "/opt/python/3.10.4/lib/python3.10/site-packages/sklearn/metrics/_classification.py:1327: UndefinedMetricWarning: Precision is ill-defined and being set to 0.0 due to no predicted samples. Use `zero_division` parameter to control this behavior.\n",
      "  _warn_prf(average, modifier, msg_start, len(result))\n"
     ]
    },
    {
     "name": "stdout",
     "output_type": "stream",
     "text": [
      "[CV 1/4] END C=0.0001, gamma=10, kernel=rbf; accuracy_score: (test=0.751) f1: (test=0.000) precision_score: (test=0.000) recall_score: (test=0.000) total time=  10.5s\n"
     ]
    },
    {
     "name": "stderr",
     "output_type": "stream",
     "text": [
      "/opt/python/3.10.4/lib/python3.10/site-packages/sklearn/metrics/_classification.py:1327: UndefinedMetricWarning: Precision is ill-defined and being set to 0.0 due to no predicted samples. Use `zero_division` parameter to control this behavior.\n",
      "  _warn_prf(average, modifier, msg_start, len(result))\n"
     ]
    },
    {
     "name": "stdout",
     "output_type": "stream",
     "text": [
      "[CV 2/4] END C=0.0001, gamma=10, kernel=rbf; accuracy_score: (test=0.751) f1: (test=0.000) precision_score: (test=0.000) recall_score: (test=0.000) total time=  11.5s\n"
     ]
    },
    {
     "name": "stderr",
     "output_type": "stream",
     "text": [
      "/opt/python/3.10.4/lib/python3.10/site-packages/sklearn/metrics/_classification.py:1327: UndefinedMetricWarning: Precision is ill-defined and being set to 0.0 due to no predicted samples. Use `zero_division` parameter to control this behavior.\n",
      "  _warn_prf(average, modifier, msg_start, len(result))\n"
     ]
    },
    {
     "name": "stdout",
     "output_type": "stream",
     "text": [
      "[CV 3/4] END C=0.0001, gamma=10, kernel=rbf; accuracy_score: (test=0.751) f1: (test=0.000) precision_score: (test=0.000) recall_score: (test=0.000) total time=  11.5s\n"
     ]
    },
    {
     "name": "stderr",
     "output_type": "stream",
     "text": [
      "/opt/python/3.10.4/lib/python3.10/site-packages/sklearn/metrics/_classification.py:1327: UndefinedMetricWarning: Precision is ill-defined and being set to 0.0 due to no predicted samples. Use `zero_division` parameter to control this behavior.\n",
      "  _warn_prf(average, modifier, msg_start, len(result))\n"
     ]
    },
    {
     "name": "stdout",
     "output_type": "stream",
     "text": [
      "[CV 4/4] END C=0.0001, gamma=10, kernel=rbf; accuracy_score: (test=0.751) f1: (test=0.000) precision_score: (test=0.000) recall_score: (test=0.000) total time=  11.1s\n"
     ]
    },
    {
     "name": "stderr",
     "output_type": "stream",
     "text": [
      "/opt/python/3.10.4/lib/python3.10/site-packages/sklearn/metrics/_classification.py:1327: UndefinedMetricWarning: Precision is ill-defined and being set to 0.0 due to no predicted samples. Use `zero_division` parameter to control this behavior.\n",
      "  _warn_prf(average, modifier, msg_start, len(result))\n"
     ]
    },
    {
     "name": "stdout",
     "output_type": "stream",
     "text": [
      "[CV 1/4] END C=0.0001, gamma=100, kernel=rbf; accuracy_score: (test=0.751) f1: (test=0.000) precision_score: (test=0.000) recall_score: (test=0.000) total time=  10.3s\n"
     ]
    },
    {
     "name": "stderr",
     "output_type": "stream",
     "text": [
      "/opt/python/3.10.4/lib/python3.10/site-packages/sklearn/metrics/_classification.py:1327: UndefinedMetricWarning: Precision is ill-defined and being set to 0.0 due to no predicted samples. Use `zero_division` parameter to control this behavior.\n",
      "  _warn_prf(average, modifier, msg_start, len(result))\n"
     ]
    },
    {
     "name": "stdout",
     "output_type": "stream",
     "text": [
      "[CV 2/4] END C=0.0001, gamma=100, kernel=rbf; accuracy_score: (test=0.751) f1: (test=0.000) precision_score: (test=0.000) recall_score: (test=0.000) total time=  11.5s\n"
     ]
    },
    {
     "name": "stderr",
     "output_type": "stream",
     "text": [
      "/opt/python/3.10.4/lib/python3.10/site-packages/sklearn/metrics/_classification.py:1327: UndefinedMetricWarning: Precision is ill-defined and being set to 0.0 due to no predicted samples. Use `zero_division` parameter to control this behavior.\n",
      "  _warn_prf(average, modifier, msg_start, len(result))\n"
     ]
    },
    {
     "name": "stdout",
     "output_type": "stream",
     "text": [
      "[CV 3/4] END C=0.0001, gamma=100, kernel=rbf; accuracy_score: (test=0.751) f1: (test=0.000) precision_score: (test=0.000) recall_score: (test=0.000) total time=  11.7s\n"
     ]
    },
    {
     "name": "stderr",
     "output_type": "stream",
     "text": [
      "/opt/python/3.10.4/lib/python3.10/site-packages/sklearn/metrics/_classification.py:1327: UndefinedMetricWarning: Precision is ill-defined and being set to 0.0 due to no predicted samples. Use `zero_division` parameter to control this behavior.\n",
      "  _warn_prf(average, modifier, msg_start, len(result))\n"
     ]
    },
    {
     "name": "stdout",
     "output_type": "stream",
     "text": [
      "[CV 4/4] END C=0.0001, gamma=100, kernel=rbf; accuracy_score: (test=0.751) f1: (test=0.000) precision_score: (test=0.000) recall_score: (test=0.000) total time=  10.8s\n",
      "[CV 1/4] END C=10, gamma=1, kernel=rbf; accuracy_score: (test=0.751) f1: (test=0.016) precision_score: (test=0.571) recall_score: (test=0.008) total time=  47.4s\n",
      "[CV 4/4] END C=10, gamma=1, kernel=rbf; accuracy_score: (test=0.750) f1: (test=0.012) precision_score: (test=0.429) recall_score: (test=0.006) total time=  48.3s\n",
      "[CV 2/4] END C=10, gamma=1, kernel=rbf; accuracy_score: (test=0.752) f1: (test=0.021) precision_score: (test=0.714) recall_score: (test=0.010) total time=  50.0s\n",
      "[CV 3/4] END C=10, gamma=1, kernel=rbf; accuracy_score: (test=0.750) f1: (test=0.006) precision_score: (test=0.375) recall_score: (test=0.003) total time=  50.8s\n",
      "[CV 1/4] END C=10, gamma=0.1, kernel=rbf; accuracy_score: (test=0.739) f1: (test=0.382) precision_score: (test=0.467) recall_score: (test=0.323) total time= 1.0min\n",
      "[CV 2/4] END C=10, gamma=0.1, kernel=rbf; accuracy_score: (test=0.751) f1: (test=0.399) precision_score: (test=0.501) recall_score: (test=0.332) total time= 1.0min\n",
      "[CV 3/4] END C=10, gamma=0.1, kernel=rbf; accuracy_score: (test=0.751) f1: (test=0.415) precision_score: (test=0.501) recall_score: (test=0.355) total time= 1.1min\n",
      "[CV 1/4] END C=10, gamma=0.01, kernel=rbf; accuracy_score: (test=0.752) f1: (test=0.424) precision_score: (test=0.505) recall_score: (test=0.365) total time=  17.0s\n",
      "[CV 4/4] END C=10, gamma=0.1, kernel=rbf; accuracy_score: (test=0.736) f1: (test=0.385) precision_score: (test=0.459) recall_score: (test=0.331) total time= 1.1min\n",
      "[CV 2/4] END C=10, gamma=0.01, kernel=rbf; accuracy_score: (test=0.764) f1: (test=0.453) precision_score: (test=0.537) recall_score: (test=0.391) total time=  17.2s\n",
      "[CV 3/4] END C=10, gamma=0.01, kernel=rbf; accuracy_score: (test=0.762) f1: (test=0.444) precision_score: (test=0.533) recall_score: (test=0.380) total time=  17.9s\n",
      "[CV 4/4] END C=10, gamma=0.01, kernel=rbf; accuracy_score: (test=0.756) f1: (test=0.449) precision_score: (test=0.513) recall_score: (test=0.399) total time=  17.5s\n",
      "[CV 1/4] END C=10, gamma=0.001, kernel=rbf; accuracy_score: (test=0.757) f1: (test=0.122) precision_score: (test=0.613) recall_score: (test=0.068) total time=  17.7s\n",
      "[CV 2/4] END C=10, gamma=0.001, kernel=rbf; accuracy_score: (test=0.754) f1: (test=0.121) precision_score: (test=0.565) recall_score: (test=0.068) total time=  15.3s\n",
      "[CV 3/4] END C=10, gamma=0.001, kernel=rbf; accuracy_score: (test=0.759) f1: (test=0.135) precision_score: (test=0.637) recall_score: (test=0.075) total time=  15.9s\n",
      "[CV 4/4] END C=10, gamma=0.001, kernel=rbf; accuracy_score: (test=0.754) f1: (test=0.073) precision_score: (test=0.607) recall_score: (test=0.039) total time=  15.4s\n"
     ]
    },
    {
     "name": "stderr",
     "output_type": "stream",
     "text": [
      "/opt/python/3.10.4/lib/python3.10/site-packages/sklearn/metrics/_classification.py:1327: UndefinedMetricWarning: Precision is ill-defined and being set to 0.0 due to no predicted samples. Use `zero_division` parameter to control this behavior.\n",
      "  _warn_prf(average, modifier, msg_start, len(result))\n"
     ]
    },
    {
     "name": "stdout",
     "output_type": "stream",
     "text": [
      "[CV 1/4] END C=10, gamma=0.0001, kernel=rbf; accuracy_score: (test=0.751) f1: (test=0.000) precision_score: (test=0.000) recall_score: (test=0.000) total time=  17.5s\n"
     ]
    },
    {
     "name": "stderr",
     "output_type": "stream",
     "text": [
      "/opt/python/3.10.4/lib/python3.10/site-packages/sklearn/metrics/_classification.py:1327: UndefinedMetricWarning: Precision is ill-defined and being set to 0.0 due to no predicted samples. Use `zero_division` parameter to control this behavior.\n",
      "  _warn_prf(average, modifier, msg_start, len(result))\n"
     ]
    },
    {
     "name": "stdout",
     "output_type": "stream",
     "text": [
      "[CV 2/4] END C=10, gamma=0.0001, kernel=rbf; accuracy_score: (test=0.751) f1: (test=0.000) precision_score: (test=0.000) recall_score: (test=0.000) total time=  15.1s\n"
     ]
    },
    {
     "name": "stderr",
     "output_type": "stream",
     "text": [
      "/opt/python/3.10.4/lib/python3.10/site-packages/sklearn/metrics/_classification.py:1327: UndefinedMetricWarning: Precision is ill-defined and being set to 0.0 due to no predicted samples. Use `zero_division` parameter to control this behavior.\n",
      "  _warn_prf(average, modifier, msg_start, len(result))\n"
     ]
    },
    {
     "name": "stdout",
     "output_type": "stream",
     "text": [
      "[CV 3/4] END C=10, gamma=0.0001, kernel=rbf; accuracy_score: (test=0.751) f1: (test=0.000) precision_score: (test=0.000) recall_score: (test=0.000) total time=  16.2s\n"
     ]
    },
    {
     "name": "stderr",
     "output_type": "stream",
     "text": [
      "/opt/python/3.10.4/lib/python3.10/site-packages/sklearn/metrics/_classification.py:1327: UndefinedMetricWarning: Precision is ill-defined and being set to 0.0 due to no predicted samples. Use `zero_division` parameter to control this behavior.\n",
      "  _warn_prf(average, modifier, msg_start, len(result))\n"
     ]
    },
    {
     "name": "stdout",
     "output_type": "stream",
     "text": [
      "[CV 4/4] END C=10, gamma=0.0001, kernel=rbf; accuracy_score: (test=0.751) f1: (test=0.000) precision_score: (test=0.000) recall_score: (test=0.000) total time=  15.7s\n",
      "[CV 1/4] END C=10, gamma=10, kernel=rbf; accuracy_score: (test=0.751) f1: (test=0.008) precision_score: (test=0.571) recall_score: (test=0.004) total time=  56.0s\n",
      "[CV 2/4] END C=10, gamma=10, kernel=rbf; accuracy_score: (test=0.751) f1: (test=0.004) precision_score: (test=0.667) recall_score: (test=0.002) total time=  54.4s\n",
      "[CV 3/4] END C=10, gamma=10, kernel=rbf; accuracy_score: (test=0.751) f1: (test=0.002) precision_score: (test=0.500) recall_score: (test=0.001) total time=  54.6s\n",
      "[CV 4/4] END C=10, gamma=10, kernel=rbf; accuracy_score: (test=0.751) f1: (test=0.006) precision_score: (test=0.600) recall_score: (test=0.003) total time=  54.4s\n",
      "[CV 1/4] END C=10, gamma=100, kernel=rbf; accuracy_score: (test=0.751) f1: (test=0.008) precision_score: (test=0.571) recall_score: (test=0.004) total time=  53.5s\n",
      "[CV 2/4] END C=10, gamma=100, kernel=rbf; accuracy_score: (test=0.751) f1: (test=0.004) precision_score: (test=0.667) recall_score: (test=0.002) total time=  58.2s\n",
      "[CV 3/4] END C=10, gamma=100, kernel=rbf; accuracy_score: (test=0.751) f1: (test=0.002) precision_score: (test=0.500) recall_score: (test=0.001) total time=  53.5s\n",
      "[CV 4/4] END C=10, gamma=100, kernel=rbf; accuracy_score: (test=0.751) f1: (test=0.006) precision_score: (test=0.600) recall_score: (test=0.003) total time=  54.7s\n",
      "[CV 1/4] END C=100, gamma=1, kernel=rbf; accuracy_score: (test=0.751) f1: (test=0.016) precision_score: (test=0.571) recall_score: (test=0.008) total time=  50.4s\n",
      "[CV 2/4] END C=100, gamma=1, kernel=rbf; accuracy_score: (test=0.752) f1: (test=0.021) precision_score: (test=0.714) recall_score: (test=0.010) total time=  49.1s\n",
      "[CV 3/4] END C=100, gamma=1, kernel=rbf; accuracy_score: (test=0.750) f1: (test=0.006) precision_score: (test=0.375) recall_score: (test=0.003) total time=  48.9s\n",
      "[CV 4/4] END C=100, gamma=1, kernel=rbf; accuracy_score: (test=0.750) f1: (test=0.012) precision_score: (test=0.429) recall_score: (test=0.006) total time=  49.4s\n",
      "[CV 1/4] END C=100, gamma=0.1, kernel=rbf; accuracy_score: (test=0.737) f1: (test=0.381) precision_score: (test=0.461) recall_score: (test=0.325) total time= 1.1min\n",
      "[CV 2/4] END C=100, gamma=0.1, kernel=rbf; accuracy_score: (test=0.747) f1: (test=0.400) precision_score: (test=0.489) recall_score: (test=0.338) total time= 1.1min\n",
      "[CV 3/4] END C=100, gamma=0.1, kernel=rbf; accuracy_score: (test=0.746) f1: (test=0.409) precision_score: (test=0.487) recall_score: (test=0.352) total time= 1.1min\n",
      "[CV 4/4] END C=100, gamma=0.1, kernel=rbf; accuracy_score: (test=0.736) f1: (test=0.389) precision_score: (test=0.460) recall_score: (test=0.337) total time= 1.0min\n",
      "[CV 1/4] END C=100, gamma=0.01, kernel=rbf; accuracy_score: (test=0.719) f1: (test=0.429) precision_score: (test=0.435) recall_score: (test=0.423) total time=  41.7s\n",
      "[CV 2/4] END C=100, gamma=0.01, kernel=rbf; accuracy_score: (test=0.725) f1: (test=0.434) precision_score: (test=0.447) recall_score: (test=0.423) total time=  38.3s\n",
      "[CV 3/4] END C=100, gamma=0.01, kernel=rbf; accuracy_score: (test=0.724) f1: (test=0.432) precision_score: (test=0.444) recall_score: (test=0.420) total time=  40.0s\n",
      "[CV 4/4] END C=100, gamma=0.01, kernel=rbf; accuracy_score: (test=0.716) f1: (test=0.428) precision_score: (test=0.430) recall_score: (test=0.426) total time=  40.1s\n",
      "[CV 2/4] END C=100, gamma=0.001, kernel=rbf; accuracy_score: (test=0.770) f1: (test=0.439) precision_score: (test=0.559) recall_score: (test=0.362) total time=  19.9s\n",
      "[CV 1/4] END C=100, gamma=0.001, kernel=rbf; accuracy_score: (test=0.764) f1: (test=0.426) precision_score: (test=0.543) recall_score: (test=0.350) total time=  21.4s\n",
      "[CV 3/4] END C=100, gamma=0.001, kernel=rbf; accuracy_score: (test=0.772) f1: (test=0.429) precision_score: (test=0.569) recall_score: (test=0.345) total time=  19.9s\n",
      "[CV 4/4] END C=100, gamma=0.001, kernel=rbf; accuracy_score: (test=0.766) f1: (test=0.461) precision_score: (test=0.540) recall_score: (test=0.402) total time=  19.8s\n",
      "[CV 1/4] END C=100, gamma=0.0001, kernel=rbf; accuracy_score: (test=0.753) f1: (test=0.027) precision_score: (test=0.765) recall_score: (test=0.014) total time=  16.2s\n",
      "[CV 2/4] END C=100, gamma=0.0001, kernel=rbf; accuracy_score: (test=0.752) f1: (test=0.044) precision_score: (test=0.595) recall_score: (test=0.023) total time=  18.2s\n",
      "[CV 3/4] END C=100, gamma=0.0001, kernel=rbf; accuracy_score: (test=0.753) f1: (test=0.023) precision_score: (test=0.733) recall_score: (test=0.012) total time=  16.4s\n"
     ]
    },
    {
     "name": "stderr",
     "output_type": "stream",
     "text": [
      "/opt/python/3.10.4/lib/python3.10/site-packages/sklearn/metrics/_classification.py:1327: UndefinedMetricWarning: Precision is ill-defined and being set to 0.0 due to no predicted samples. Use `zero_division` parameter to control this behavior.\n",
      "  _warn_prf(average, modifier, msg_start, len(result))\n"
     ]
    },
    {
     "name": "stdout",
     "output_type": "stream",
     "text": [
      "[CV 4/4] END C=100, gamma=0.0001, kernel=rbf; accuracy_score: (test=0.751) f1: (test=0.000) precision_score: (test=0.000) recall_score: (test=0.000) total time=  16.2s\n",
      "[CV 1/4] END C=100, gamma=10, kernel=rbf; accuracy_score: (test=0.751) f1: (test=0.008) precision_score: (test=0.571) recall_score: (test=0.004) total time=  53.9s\n",
      "[CV 3/4] END C=100, gamma=10, kernel=rbf; accuracy_score: (test=0.751) f1: (test=0.002) precision_score: (test=0.500) recall_score: (test=0.001) total time=  52.6s\n",
      "[CV 4/4] END C=100, gamma=10, kernel=rbf; accuracy_score: (test=0.751) f1: (test=0.006) precision_score: (test=0.600) recall_score: (test=0.003) total time=  53.5s\n",
      "[CV 2/4] END C=100, gamma=10, kernel=rbf; accuracy_score: (test=0.751) f1: (test=0.004) precision_score: (test=0.667) recall_score: (test=0.002) total time=  59.0s\n",
      "[CV 1/4] END C=100, gamma=100, kernel=rbf; accuracy_score: (test=0.751) f1: (test=0.008) precision_score: (test=0.571) recall_score: (test=0.004) total time=  49.5s\n",
      "[CV 3/4] END C=100, gamma=100, kernel=rbf; accuracy_score: (test=0.751) f1: (test=0.002) precision_score: (test=0.500) recall_score: (test=0.001) total time=  52.3s\n",
      "[CV 2/4] END C=100, gamma=100, kernel=rbf; accuracy_score: (test=0.751) f1: (test=0.004) precision_score: (test=0.667) recall_score: (test=0.002) total time=  56.7s\n",
      "[CV 4/4] END C=100, gamma=100, kernel=rbf; accuracy_score: (test=0.751) f1: (test=0.006) precision_score: (test=0.600) recall_score: (test=0.003) total time=  55.4s\n",
      "[CV 1/4] END C=1000, gamma=1, kernel=rbf; accuracy_score: (test=0.751) f1: (test=0.016) precision_score: (test=0.571) recall_score: (test=0.008) total time=  47.6s\n",
      "[CV 2/4] END C=1000, gamma=1, kernel=rbf; accuracy_score: (test=0.752) f1: (test=0.021) precision_score: (test=0.714) recall_score: (test=0.010) total time=  49.3s\n",
      "[CV 3/4] END C=1000, gamma=1, kernel=rbf; accuracy_score: (test=0.750) f1: (test=0.006) precision_score: (test=0.375) recall_score: (test=0.003) total time=  47.6s\n",
      "[CV 4/4] END C=1000, gamma=1, kernel=rbf; accuracy_score: (test=0.750) f1: (test=0.012) precision_score: (test=0.429) recall_score: (test=0.006) total time=  50.3s\n",
      "[CV 1/4] END C=1000, gamma=0.1, kernel=rbf; accuracy_score: (test=0.737) f1: (test=0.381) precision_score: (test=0.461) recall_score: (test=0.325) total time= 1.0min\n",
      "[CV 2/4] END C=1000, gamma=0.1, kernel=rbf; accuracy_score: (test=0.747) f1: (test=0.401) precision_score: (test=0.490) recall_score: (test=0.339) total time= 1.1min\n",
      "[CV 3/4] END C=1000, gamma=0.1, kernel=rbf; accuracy_score: (test=0.746) f1: (test=0.409) precision_score: (test=0.486) recall_score: (test=0.353) total time= 1.1min\n",
      "[CV 4/4] END C=1000, gamma=0.1, kernel=rbf; accuracy_score: (test=0.736) f1: (test=0.389) precision_score: (test=0.460) recall_score: (test=0.337) total time= 1.1min\n",
      "[CV 1/4] END C=1000, gamma=0.01, kernel=rbf; accuracy_score: (test=0.702) f1: (test=0.403) precision_score: (test=0.403) recall_score: (test=0.403) total time= 1.2min\n",
      "[CV 3/4] END C=1000, gamma=0.01, kernel=rbf; accuracy_score: (test=0.703) f1: (test=0.418) precision_score: (test=0.409) recall_score: (test=0.427) total time= 1.1min\n",
      "[CV 2/4] END C=1000, gamma=0.01, kernel=rbf; accuracy_score: (test=0.700) f1: (test=0.406) precision_score: (test=0.402) recall_score: (test=0.410) total time= 1.2min\n",
      "[CV 4/4] END C=1000, gamma=0.01, kernel=rbf; accuracy_score: (test=0.695) f1: (test=0.399) precision_score: (test=0.392) recall_score: (test=0.407) total time= 1.2min\n",
      "[CV 1/4] END C=1000, gamma=0.001, kernel=rbf; accuracy_score: (test=0.765) f1: (test=0.502) precision_score: (test=0.533) recall_score: (test=0.474) total time=  51.9s\n",
      "[CV 2/4] END C=1000, gamma=0.001, kernel=rbf; accuracy_score: (test=0.765) f1: (test=0.509) precision_score: (test=0.532) recall_score: (test=0.487) total time=  52.7s\n",
      "[CV 3/4] END C=1000, gamma=0.001, kernel=rbf; accuracy_score: (test=0.758) f1: (test=0.496) precision_score: (test=0.515) recall_score: (test=0.479) total time=  55.0s\n",
      "[CV 1/4] END C=1000, gamma=0.0001, kernel=rbf; accuracy_score: (test=0.774) f1: (test=0.444) precision_score: (test=0.576) recall_score: (test=0.361) total time=  22.7s\n",
      "[CV 4/4] END C=1000, gamma=0.001, kernel=rbf; accuracy_score: (test=0.750) f1: (test=0.482) precision_score: (test=0.498) recall_score: (test=0.468) total time=  56.9s\n",
      "[CV 2/4] END C=1000, gamma=0.0001, kernel=rbf; accuracy_score: (test=0.768) f1: (test=0.402) precision_score: (test=0.563) recall_score: (test=0.313) total time=  22.8s\n",
      "[CV 3/4] END C=1000, gamma=0.0001, kernel=rbf; accuracy_score: (test=0.772) f1: (test=0.419) precision_score: (test=0.576) recall_score: (test=0.330) total time=  24.2s\n",
      "[CV 4/4] END C=1000, gamma=0.0001, kernel=rbf; accuracy_score: (test=0.783) f1: (test=0.474) precision_score: (test=0.599) recall_score: (test=0.392) total time=  23.4s\n",
      "[CV 1/4] END C=1000, gamma=10, kernel=rbf; accuracy_score: (test=0.751) f1: (test=0.008) precision_score: (test=0.571) recall_score: (test=0.004) total time=  55.9s\n",
      "[CV 2/4] END C=1000, gamma=10, kernel=rbf; accuracy_score: (test=0.751) f1: (test=0.004) precision_score: (test=0.667) recall_score: (test=0.002) total time=  56.6s\n",
      "[CV 3/4] END C=1000, gamma=10, kernel=rbf; accuracy_score: (test=0.751) f1: (test=0.002) precision_score: (test=0.500) recall_score: (test=0.001) total time=  54.1s\n",
      "[CV 4/4] END C=1000, gamma=10, kernel=rbf; accuracy_score: (test=0.751) f1: (test=0.006) precision_score: (test=0.600) recall_score: (test=0.003) total time=  53.6s\n",
      "[CV 1/4] END C=1000, gamma=100, kernel=rbf; accuracy_score: (test=0.751) f1: (test=0.008) precision_score: (test=0.571) recall_score: (test=0.004) total time=  53.2s\n",
      "[CV 3/4] END C=1000, gamma=100, kernel=rbf; accuracy_score: (test=0.751) f1: (test=0.002) precision_score: (test=0.500) recall_score: (test=0.001) total time=  52.9s\n",
      "[CV 2/4] END C=1000, gamma=100, kernel=rbf; accuracy_score: (test=0.751) f1: (test=0.004) precision_score: (test=0.667) recall_score: (test=0.002) total time=  55.2s\n",
      "[CV 4/4] END C=1000, gamma=100, kernel=rbf; accuracy_score: (test=0.751) f1: (test=0.006) precision_score: (test=0.600) recall_score: (test=0.003) total time=  47.7s\n"
     ]
    },
    {
     "data": {
      "text/html": [
       "<style>#sk-container-id-4 {color: black;background-color: white;}#sk-container-id-4 pre{padding: 0;}#sk-container-id-4 div.sk-toggleable {background-color: white;}#sk-container-id-4 label.sk-toggleable__label {cursor: pointer;display: block;width: 100%;margin-bottom: 0;padding: 0.3em;box-sizing: border-box;text-align: center;}#sk-container-id-4 label.sk-toggleable__label-arrow:before {content: \"▸\";float: left;margin-right: 0.25em;color: #696969;}#sk-container-id-4 label.sk-toggleable__label-arrow:hover:before {color: black;}#sk-container-id-4 div.sk-estimator:hover label.sk-toggleable__label-arrow:before {color: black;}#sk-container-id-4 div.sk-toggleable__content {max-height: 0;max-width: 0;overflow: hidden;text-align: left;background-color: #f0f8ff;}#sk-container-id-4 div.sk-toggleable__content pre {margin: 0.2em;color: black;border-radius: 0.25em;background-color: #f0f8ff;}#sk-container-id-4 input.sk-toggleable__control:checked~div.sk-toggleable__content {max-height: 200px;max-width: 100%;overflow: auto;}#sk-container-id-4 input.sk-toggleable__control:checked~label.sk-toggleable__label-arrow:before {content: \"▾\";}#sk-container-id-4 div.sk-estimator input.sk-toggleable__control:checked~label.sk-toggleable__label {background-color: #d4ebff;}#sk-container-id-4 div.sk-label input.sk-toggleable__control:checked~label.sk-toggleable__label {background-color: #d4ebff;}#sk-container-id-4 input.sk-hidden--visually {border: 0;clip: rect(1px 1px 1px 1px);clip: rect(1px, 1px, 1px, 1px);height: 1px;margin: -1px;overflow: hidden;padding: 0;position: absolute;width: 1px;}#sk-container-id-4 div.sk-estimator {font-family: monospace;background-color: #f0f8ff;border: 1px dotted black;border-radius: 0.25em;box-sizing: border-box;margin-bottom: 0.5em;}#sk-container-id-4 div.sk-estimator:hover {background-color: #d4ebff;}#sk-container-id-4 div.sk-parallel-item::after {content: \"\";width: 100%;border-bottom: 1px solid gray;flex-grow: 1;}#sk-container-id-4 div.sk-label:hover label.sk-toggleable__label {background-color: #d4ebff;}#sk-container-id-4 div.sk-serial::before {content: \"\";position: absolute;border-left: 1px solid gray;box-sizing: border-box;top: 0;bottom: 0;left: 50%;z-index: 0;}#sk-container-id-4 div.sk-serial {display: flex;flex-direction: column;align-items: center;background-color: white;padding-right: 0.2em;padding-left: 0.2em;position: relative;}#sk-container-id-4 div.sk-item {position: relative;z-index: 1;}#sk-container-id-4 div.sk-parallel {display: flex;align-items: stretch;justify-content: center;background-color: white;position: relative;}#sk-container-id-4 div.sk-item::before, #sk-container-id-4 div.sk-parallel-item::before {content: \"\";position: absolute;border-left: 1px solid gray;box-sizing: border-box;top: 0;bottom: 0;left: 50%;z-index: -1;}#sk-container-id-4 div.sk-parallel-item {display: flex;flex-direction: column;z-index: 1;position: relative;background-color: white;}#sk-container-id-4 div.sk-parallel-item:first-child::after {align-self: flex-end;width: 50%;}#sk-container-id-4 div.sk-parallel-item:last-child::after {align-self: flex-start;width: 50%;}#sk-container-id-4 div.sk-parallel-item:only-child::after {width: 0;}#sk-container-id-4 div.sk-dashed-wrapped {border: 1px dashed gray;margin: 0 0.4em 0.5em 0.4em;box-sizing: border-box;padding-bottom: 0.4em;background-color: white;}#sk-container-id-4 div.sk-label label {font-family: monospace;font-weight: bold;display: inline-block;line-height: 1.2em;}#sk-container-id-4 div.sk-label-container {text-align: center;}#sk-container-id-4 div.sk-container {/* jupyter's `normalize.less` sets `[hidden] { display: none; }` but bootstrap.min.css set `[hidden] { display: none !important; }` so we also need the `!important` here to be able to override the default hidden behavior on the sphinx rendered scikit-learn.org. See: https://github.com/scikit-learn/scikit-learn/issues/21755 */display: inline-block !important;position: relative;}#sk-container-id-4 div.sk-text-repr-fallback {display: none;}</style><div id=\"sk-container-id-4\" class=\"sk-top-container\"><div class=\"sk-text-repr-fallback\"><pre>GridSearchCV(cv=4, estimator=SVC(), n_jobs=-1,\n",
       "             param_grid={&#x27;C&#x27;: [0.1, 0.001, 0.0001, 10, 100, 1000],\n",
       "                         &#x27;gamma&#x27;: [1, 0.1, 0.01, 0.001, 0.0001, 10, 100],\n",
       "                         &#x27;kernel&#x27;: [&#x27;rbf&#x27;]},\n",
       "             refit=&#x27;precision_score&#x27;,\n",
       "             scoring={&#x27;accuracy_score&#x27;: make_scorer(accuracy_score),\n",
       "                      &#x27;f1&#x27;: make_scorer(f1_score),\n",
       "                      &#x27;precision_score&#x27;: make_scorer(precision_score),\n",
       "                      &#x27;recall_score&#x27;: make_scorer(recall_score)},\n",
       "             verbose=3)</pre><b>In a Jupyter environment, please rerun this cell to show the HTML representation or trust the notebook. <br />On GitHub, the HTML representation is unable to render, please try loading this page with nbviewer.org.</b></div><div class=\"sk-container\" hidden><div class=\"sk-item sk-dashed-wrapped\"><div class=\"sk-label-container\"><div class=\"sk-label sk-toggleable\"><input class=\"sk-toggleable__control sk-hidden--visually\" id=\"sk-estimator-id-10\" type=\"checkbox\" ><label for=\"sk-estimator-id-10\" class=\"sk-toggleable__label sk-toggleable__label-arrow\">GridSearchCV</label><div class=\"sk-toggleable__content\"><pre>GridSearchCV(cv=4, estimator=SVC(), n_jobs=-1,\n",
       "             param_grid={&#x27;C&#x27;: [0.1, 0.001, 0.0001, 10, 100, 1000],\n",
       "                         &#x27;gamma&#x27;: [1, 0.1, 0.01, 0.001, 0.0001, 10, 100],\n",
       "                         &#x27;kernel&#x27;: [&#x27;rbf&#x27;]},\n",
       "             refit=&#x27;precision_score&#x27;,\n",
       "             scoring={&#x27;accuracy_score&#x27;: make_scorer(accuracy_score),\n",
       "                      &#x27;f1&#x27;: make_scorer(f1_score),\n",
       "                      &#x27;precision_score&#x27;: make_scorer(precision_score),\n",
       "                      &#x27;recall_score&#x27;: make_scorer(recall_score)},\n",
       "             verbose=3)</pre></div></div></div><div class=\"sk-parallel\"><div class=\"sk-parallel-item\"><div class=\"sk-item\"><div class=\"sk-label-container\"><div class=\"sk-label sk-toggleable\"><input class=\"sk-toggleable__control sk-hidden--visually\" id=\"sk-estimator-id-11\" type=\"checkbox\" ><label for=\"sk-estimator-id-11\" class=\"sk-toggleable__label sk-toggleable__label-arrow\">estimator: SVC</label><div class=\"sk-toggleable__content\"><pre>SVC()</pre></div></div></div><div class=\"sk-serial\"><div class=\"sk-item\"><div class=\"sk-estimator sk-toggleable\"><input class=\"sk-toggleable__control sk-hidden--visually\" id=\"sk-estimator-id-12\" type=\"checkbox\" ><label for=\"sk-estimator-id-12\" class=\"sk-toggleable__label sk-toggleable__label-arrow\">SVC</label><div class=\"sk-toggleable__content\"><pre>SVC()</pre></div></div></div></div></div></div></div></div></div></div>"
      ],
      "text/plain": [
       "GridSearchCV(cv=4, estimator=SVC(), n_jobs=-1,\n",
       "             param_grid={'C': [0.1, 0.001, 0.0001, 10, 100, 1000],\n",
       "                         'gamma': [1, 0.1, 0.01, 0.001, 0.0001, 10, 100],\n",
       "                         'kernel': ['rbf']},\n",
       "             refit='precision_score',\n",
       "             scoring={'accuracy_score': make_scorer(accuracy_score),\n",
       "                      'f1': make_scorer(f1_score),\n",
       "                      'precision_score': make_scorer(precision_score),\n",
       "                      'recall_score': make_scorer(recall_score)},\n",
       "             verbose=3)"
      ]
     },
     "execution_count": 58,
     "metadata": {},
     "output_type": "execute_result"
    },
    {
     "ename": "",
     "evalue": "",
     "output_type": "error",
     "traceback": [
      "\u001b[1;31mRunning cells with 'Python ('codespacesML')' requires ipykernel package.\n",
      "Run the following command to install 'ipykernel' into the Python environment. \n",
      "Command: 'conda install -n codespacesML ipykernel --update-deps --force-reinstall'"
     ]
    }
   ],
   "source": [
    "param_grid = {\n",
    "    'C': [0.1, 0.001, 0.0001, 10, 100, 1000],\n",
    "    'gamma': [1, 0.1, 0.01, 0.001, 0.0001, 10, 100],\n",
    "    'kernel': ['rbf']\n",
    "}\n",
    "\n",
    "scorers = {\n",
    "    'precision_score': make_scorer(precision_score),\n",
    "    'recall_score': make_scorer(recall_score),\n",
    "    'accuracy_score': make_scorer(accuracy_score),\n",
    "    'f1': make_scorer(f1_score),\n",
    "}\n",
    "\n",
    "clf_grid = GridSearchCV(SVC(), param_grid, scoring=scorers, cv=4, refit='precision_score', verbose = 3, n_jobs=-1)\n",
    "clf_grid.fit(X_train, y_train)"
   ]
  },
  {
   "cell_type": "markdown",
   "id": "867fe2e7",
   "metadata": {},
   "source": [
    "## Calculate accuracy, precision, recall, f1-score of the best model based on gridsearch (2pts)"
   ]
  },
  {
   "cell_type": "code",
   "execution_count": null,
   "id": "7bf4b7cc",
   "metadata": {},
   "outputs": [
    {
     "name": "stdout",
     "output_type": "stream",
     "text": [
      "0.6283783783783784\n",
      "0.09738219895287958\n",
      "0.16863100634632822\n",
      "0.7606993736951984\n"
     ]
    },
    {
     "ename": "",
     "evalue": "",
     "output_type": "error",
     "traceback": [
      "\u001b[1;31mRunning cells with 'Python ('codespacesML')' requires ipykernel package.\n",
      "Run the following command to install 'ipykernel' into the Python environment. \n",
      "Command: 'conda install -n codespacesML ipykernel --update-deps --force-reinstall'"
     ]
    }
   ],
   "source": [
    "y_pred = clf_grid.best_estimator_.predict(X_test)\n",
    "print(precision_score(y_test, y_pred))\n",
    "print(recall_score(y_test, y_pred))\n",
    "print(f1_score(y_test, y_pred))\n",
    "print(accuracy_score(y_test, y_pred))"
   ]
  },
  {
   "cell_type": "markdown",
   "id": "aab6c460",
   "metadata": {},
   "source": [
    "## Use the Recursive Feature Elimination Method with Cross Validation for feature selection (3pts)"
   ]
  },
  {
   "cell_type": "code",
   "execution_count": null,
   "id": "7c4a6e68",
   "metadata": {},
   "outputs": [
    {
     "ename": "",
     "evalue": "",
     "output_type": "error",
     "traceback": [
      "\u001b[1;31mRunning cells with 'Python ('codespacesML')' requires ipykernel package.\n",
      "Run the following command to install 'ipykernel' into the Python environment. \n",
      "Command: 'conda install -n codespacesML ipykernel --update-deps --force-reinstall'"
     ]
    }
   ],
   "source": [
    "from sklearn.feature_selection import RFE, RFECV\n",
    "from sklearn.linear_model import LogisticRegression"
   ]
  },
  {
   "cell_type": "code",
   "execution_count": null,
   "id": "edbeaaa2-a97a-4ee2-abf6-88ab507d1b06",
   "metadata": {},
   "outputs": [
    {
     "ename": "",
     "evalue": "",
     "output_type": "error",
     "traceback": [
      "\u001b[1;31mRunning cells with 'Python ('codespacesML')' requires ipykernel package.\n",
      "Run the following command to install 'ipykernel' into the Python environment. \n",
      "Command: 'conda install -n codespacesML ipykernel --update-deps --force-reinstall'"
     ]
    }
   ],
   "source": [
    "estimator = LogisticRegression(solver='saga', max_iter=20000)"
   ]
  },
  {
   "cell_type": "code",
   "execution_count": null,
   "id": "2e690e81-2188-4681-b358-8dfa435dcfc4",
   "metadata": {
    "tags": []
   },
   "outputs": [
    {
     "data": {
      "text/html": [
       "<style>#sk-container-id-5 {color: black;background-color: white;}#sk-container-id-5 pre{padding: 0;}#sk-container-id-5 div.sk-toggleable {background-color: white;}#sk-container-id-5 label.sk-toggleable__label {cursor: pointer;display: block;width: 100%;margin-bottom: 0;padding: 0.3em;box-sizing: border-box;text-align: center;}#sk-container-id-5 label.sk-toggleable__label-arrow:before {content: \"▸\";float: left;margin-right: 0.25em;color: #696969;}#sk-container-id-5 label.sk-toggleable__label-arrow:hover:before {color: black;}#sk-container-id-5 div.sk-estimator:hover label.sk-toggleable__label-arrow:before {color: black;}#sk-container-id-5 div.sk-toggleable__content {max-height: 0;max-width: 0;overflow: hidden;text-align: left;background-color: #f0f8ff;}#sk-container-id-5 div.sk-toggleable__content pre {margin: 0.2em;color: black;border-radius: 0.25em;background-color: #f0f8ff;}#sk-container-id-5 input.sk-toggleable__control:checked~div.sk-toggleable__content {max-height: 200px;max-width: 100%;overflow: auto;}#sk-container-id-5 input.sk-toggleable__control:checked~label.sk-toggleable__label-arrow:before {content: \"▾\";}#sk-container-id-5 div.sk-estimator input.sk-toggleable__control:checked~label.sk-toggleable__label {background-color: #d4ebff;}#sk-container-id-5 div.sk-label input.sk-toggleable__control:checked~label.sk-toggleable__label {background-color: #d4ebff;}#sk-container-id-5 input.sk-hidden--visually {border: 0;clip: rect(1px 1px 1px 1px);clip: rect(1px, 1px, 1px, 1px);height: 1px;margin: -1px;overflow: hidden;padding: 0;position: absolute;width: 1px;}#sk-container-id-5 div.sk-estimator {font-family: monospace;background-color: #f0f8ff;border: 1px dotted black;border-radius: 0.25em;box-sizing: border-box;margin-bottom: 0.5em;}#sk-container-id-5 div.sk-estimator:hover {background-color: #d4ebff;}#sk-container-id-5 div.sk-parallel-item::after {content: \"\";width: 100%;border-bottom: 1px solid gray;flex-grow: 1;}#sk-container-id-5 div.sk-label:hover label.sk-toggleable__label {background-color: #d4ebff;}#sk-container-id-5 div.sk-serial::before {content: \"\";position: absolute;border-left: 1px solid gray;box-sizing: border-box;top: 0;bottom: 0;left: 50%;z-index: 0;}#sk-container-id-5 div.sk-serial {display: flex;flex-direction: column;align-items: center;background-color: white;padding-right: 0.2em;padding-left: 0.2em;position: relative;}#sk-container-id-5 div.sk-item {position: relative;z-index: 1;}#sk-container-id-5 div.sk-parallel {display: flex;align-items: stretch;justify-content: center;background-color: white;position: relative;}#sk-container-id-5 div.sk-item::before, #sk-container-id-5 div.sk-parallel-item::before {content: \"\";position: absolute;border-left: 1px solid gray;box-sizing: border-box;top: 0;bottom: 0;left: 50%;z-index: -1;}#sk-container-id-5 div.sk-parallel-item {display: flex;flex-direction: column;z-index: 1;position: relative;background-color: white;}#sk-container-id-5 div.sk-parallel-item:first-child::after {align-self: flex-end;width: 50%;}#sk-container-id-5 div.sk-parallel-item:last-child::after {align-self: flex-start;width: 50%;}#sk-container-id-5 div.sk-parallel-item:only-child::after {width: 0;}#sk-container-id-5 div.sk-dashed-wrapped {border: 1px dashed gray;margin: 0 0.4em 0.5em 0.4em;box-sizing: border-box;padding-bottom: 0.4em;background-color: white;}#sk-container-id-5 div.sk-label label {font-family: monospace;font-weight: bold;display: inline-block;line-height: 1.2em;}#sk-container-id-5 div.sk-label-container {text-align: center;}#sk-container-id-5 div.sk-container {/* jupyter's `normalize.less` sets `[hidden] { display: none; }` but bootstrap.min.css set `[hidden] { display: none !important; }` so we also need the `!important` here to be able to override the default hidden behavior on the sphinx rendered scikit-learn.org. See: https://github.com/scikit-learn/scikit-learn/issues/21755 */display: inline-block !important;position: relative;}#sk-container-id-5 div.sk-text-repr-fallback {display: none;}</style><div id=\"sk-container-id-5\" class=\"sk-top-container\"><div class=\"sk-text-repr-fallback\"><pre>RFECV(estimator=LogisticRegression(max_iter=20000, solver=&#x27;saga&#x27;),\n",
       "      min_features_to_select=3, scoring=&#x27;accuracy&#x27;)</pre><b>In a Jupyter environment, please rerun this cell to show the HTML representation or trust the notebook. <br />On GitHub, the HTML representation is unable to render, please try loading this page with nbviewer.org.</b></div><div class=\"sk-container\" hidden><div class=\"sk-item sk-dashed-wrapped\"><div class=\"sk-label-container\"><div class=\"sk-label sk-toggleable\"><input class=\"sk-toggleable__control sk-hidden--visually\" id=\"sk-estimator-id-13\" type=\"checkbox\" ><label for=\"sk-estimator-id-13\" class=\"sk-toggleable__label sk-toggleable__label-arrow\">RFECV</label><div class=\"sk-toggleable__content\"><pre>RFECV(estimator=LogisticRegression(max_iter=20000, solver=&#x27;saga&#x27;),\n",
       "      min_features_to_select=3, scoring=&#x27;accuracy&#x27;)</pre></div></div></div><div class=\"sk-parallel\"><div class=\"sk-parallel-item\"><div class=\"sk-item\"><div class=\"sk-label-container\"><div class=\"sk-label sk-toggleable\"><input class=\"sk-toggleable__control sk-hidden--visually\" id=\"sk-estimator-id-14\" type=\"checkbox\" ><label for=\"sk-estimator-id-14\" class=\"sk-toggleable__label sk-toggleable__label-arrow\">estimator: LogisticRegression</label><div class=\"sk-toggleable__content\"><pre>LogisticRegression(max_iter=20000, solver=&#x27;saga&#x27;)</pre></div></div></div><div class=\"sk-serial\"><div class=\"sk-item\"><div class=\"sk-estimator sk-toggleable\"><input class=\"sk-toggleable__control sk-hidden--visually\" id=\"sk-estimator-id-15\" type=\"checkbox\" ><label for=\"sk-estimator-id-15\" class=\"sk-toggleable__label sk-toggleable__label-arrow\">LogisticRegression</label><div class=\"sk-toggleable__content\"><pre>LogisticRegression(max_iter=20000, solver=&#x27;saga&#x27;)</pre></div></div></div></div></div></div></div></div></div></div>"
      ],
      "text/plain": [
       "RFECV(estimator=LogisticRegression(max_iter=20000, solver='saga'),\n",
       "      min_features_to_select=3, scoring='accuracy')"
      ]
     },
     "execution_count": 62,
     "metadata": {},
     "output_type": "execute_result"
    },
    {
     "ename": "",
     "evalue": "",
     "output_type": "error",
     "traceback": [
      "\u001b[1;31mRunning cells with 'Python ('codespacesML')' requires ipykernel package.\n",
      "Run the following command to install 'ipykernel' into the Python environment. \n",
      "Command: 'conda install -n codespacesML ipykernel --update-deps --force-reinstall'"
     ]
    }
   ],
   "source": [
    "rfecv = RFECV(estimator=estimator, scoring='accuracy', min_features_to_select=3)\n",
    "rfecv.fit(X, y)"
   ]
  },
  {
   "cell_type": "code",
   "execution_count": null,
   "id": "82ee662e-80d6-438c-938c-823c903673da",
   "metadata": {
    "tags": []
   },
   "outputs": [
    {
     "name": "stderr",
     "output_type": "stream",
     "text": [
      "/opt/python/3.10.4/lib/python3.10/site-packages/sklearn/utils/deprecation.py:103: FutureWarning: The `grid_scores_` attribute is deprecated in version 1.0 in favor of `cv_results_` and will be removed in version 1.2.\n",
      "  warnings.warn(msg, category=FutureWarning)\n"
     ]
    },
    {
     "data": {
      "text/plain": [
       "array([[0.75861169, 0.75756785, 0.75730689, 0.76611851, 0.76194205],\n",
       "       [0.76670146, 0.76435282, 0.75782881, 0.76637954, 0.76637954],\n",
       "       [0.76931106, 0.76670146, 0.75965553, 0.76637954, 0.76977291],\n",
       "       [0.77035491, 0.7664405 , 0.75626305, 0.76585748, 0.77029496],\n",
       "       [0.77035491, 0.76722338, 0.75521921, 0.76768468, 0.76925085],\n",
       "       [0.77270355, 0.76435282, 0.75521921, 0.76794571, 0.76951188],\n",
       "       [0.77479123, 0.76461378, 0.75600209, 0.76898982, 0.76690159],\n",
       "       [0.77479123, 0.76696242, 0.75652401, 0.76898982, 0.7716001 ],\n",
       "       [0.77426931, 0.76748434, 0.75626305, 0.76872879, 0.76742365],\n",
       "       [0.77479123, 0.76800626, 0.75652401, 0.76898982, 0.76768468],\n",
       "       [0.77479123, 0.76800626, 0.76174322, 0.77133908, 0.76742365],\n",
       "       [0.77505219, 0.76826722, 0.76148225, 0.77003393, 0.76690159],\n",
       "       [0.77531315, 0.76722338, 0.76122129, 0.76925085, 0.76637954],\n",
       "       [0.77479123, 0.7677453 , 0.76174322, 0.76820673, 0.76794571],\n",
       "       [0.77453027, 0.77113779, 0.7638309 , 0.76846776, 0.77003393],\n",
       "       [0.77583507, 0.76878914, 0.76435282, 0.76794571, 0.77003393],\n",
       "       [0.77687891, 0.77165971, 0.76435282, 0.76794571, 0.77029496],\n",
       "       [0.77687891, 0.76931106, 0.76461378, 0.76716262, 0.76898982],\n",
       "       [0.77583507, 0.76931106, 0.76461378, 0.76742365, 0.76872879],\n",
       "       [0.77583507, 0.76957203, 0.76356994, 0.76716262, 0.76925085],\n",
       "       [0.77322547, 0.76957203, 0.76356994, 0.76690159, 0.77029496],\n",
       "       [0.77348643, 0.76957203, 0.76356994, 0.76690159, 0.77029496],\n",
       "       [0.77557411, 0.77139875, 0.76330898, 0.76585748, 0.77029496],\n",
       "       [0.77557411, 0.77139875, 0.76330898, 0.76664056, 0.76925085],\n",
       "       [0.77531315, 0.77244259, 0.76461378, 0.76742365, 0.76898982],\n",
       "       [0.77661795, 0.77165971, 0.7651357 , 0.76768468, 0.76977291],\n",
       "       [0.77479123, 0.77192067, 0.7664405 , 0.76820673, 0.77055599],\n",
       "       [0.77479123, 0.77244259, 0.76617954, 0.76820673, 0.77029496],\n",
       "       [0.77531315, 0.77244259, 0.76670146, 0.76768468, 0.76925085],\n",
       "       [0.77505219, 0.77400835, 0.7664405 , 0.76977291, 0.76820673],\n",
       "       [0.77479123, 0.77400835, 0.76617954, 0.77055599, 0.76820673],\n",
       "       [0.77453027, 0.77348643, 0.76565762, 0.76951188, 0.76768468],\n",
       "       [0.77505219, 0.77322547, 0.76409186, 0.76951188, 0.76690159],\n",
       "       [0.77557411, 0.77348643, 0.76409186, 0.76872879, 0.76637954],\n",
       "       [0.77531315, 0.77479123, 0.76356994, 0.76794571, 0.76794571],\n",
       "       [0.77557411, 0.77479123, 0.76356994, 0.76925085, 0.76872879],\n",
       "       [0.77505219, 0.77453027, 0.76278706, 0.76872879, 0.76820673],\n",
       "       [0.77505219, 0.77453027, 0.76330898, 0.76898982, 0.77003393],\n",
       "       [0.77479123, 0.77426931, 0.76278706, 0.76846776, 0.76977291],\n",
       "       [0.77557411, 0.77557411, 0.76330898, 0.76846776, 0.76977291],\n",
       "       [0.77557411, 0.77557411, 0.76200418, 0.76898982, 0.77003393],\n",
       "       [0.77557411, 0.77531315, 0.76200418, 0.76898982, 0.76951188],\n",
       "       [0.77557411, 0.77557411, 0.76226514, 0.76898982, 0.76951188],\n",
       "       [0.77531315, 0.77609603, 0.76122129, 0.76872879, 0.76977291],\n",
       "       [0.77687891, 0.77505219, 0.76200418, 0.76872879, 0.76977291],\n",
       "       [0.77713987, 0.77505219, 0.76174322, 0.76872879, 0.77029496],\n",
       "       [0.77531315, 0.77479123, 0.76148225, 0.76846776, 0.77003393],\n",
       "       [0.77426931, 0.77505219, 0.76148225, 0.76872879, 0.77003393],\n",
       "       [0.77479123, 0.77531315, 0.76148225, 0.76794571, 0.77003393],\n",
       "       [0.77479123, 0.77505219, 0.76122129, 0.76768468, 0.77055599],\n",
       "       [0.77453027, 0.77531315, 0.76122129, 0.76768468, 0.77081702],\n",
       "       [0.77453027, 0.77531315, 0.76148225, 0.76768468, 0.77081702],\n",
       "       [0.77426931, 0.77531315, 0.76174322, 0.76768468, 0.77055599],\n",
       "       [0.77479123, 0.77531315, 0.76174322, 0.76794571, 0.77107805],\n",
       "       [0.77479123, 0.77531315, 0.76148225, 0.76768468, 0.7734273 ],\n",
       "       [0.77505219, 0.77531315, 0.76148225, 0.76768468, 0.7734273 ],\n",
       "       [0.77505219, 0.77531315, 0.76148225, 0.76768468, 0.77316628],\n",
       "       [0.77505219, 0.77531315, 0.76148225, 0.76820673, 0.7734273 ],\n",
       "       [0.77505219, 0.77583507, 0.76200418, 0.76820673, 0.77394936],\n",
       "       [0.77531315, 0.77583507, 0.76226514, 0.76820673, 0.77394936],\n",
       "       [0.77531315, 0.77583507, 0.76226514, 0.76820673, 0.77394936],\n",
       "       [0.77557411, 0.77557411, 0.76226514, 0.76820673, 0.77394936],\n",
       "       [0.77557411, 0.77557411, 0.76200418, 0.76820673, 0.77394936],\n",
       "       [0.77557411, 0.77583507, 0.76200418, 0.76820673, 0.77368833],\n",
       "       [0.77557411, 0.77583507, 0.76200418, 0.76820673, 0.77394936],\n",
       "       [0.77557411, 0.77583507, 0.76174322, 0.76820673, 0.77368833],\n",
       "       [0.77557411, 0.77583507, 0.76174322, 0.76820673, 0.77368833],\n",
       "       [0.77557411, 0.77583507, 0.76174322, 0.76820673, 0.77499347],\n",
       "       [0.77661795, 0.77531315, 0.76304802, 0.76820673, 0.77499347],\n",
       "       [0.77792276, 0.77061587, 0.76356994, 0.77055599, 0.77081702]])"
      ]
     },
     "execution_count": 63,
     "metadata": {},
     "output_type": "execute_result"
    },
    {
     "ename": "",
     "evalue": "",
     "output_type": "error",
     "traceback": [
      "\u001b[1;31mRunning cells with 'Python ('codespacesML')' requires ipykernel package.\n",
      "Run the following command to install 'ipykernel' into the Python environment. \n",
      "Command: 'conda install -n codespacesML ipykernel --update-deps --force-reinstall'"
     ]
    }
   ],
   "source": [
    "rfecv.grid_scores_"
   ]
  },
  {
   "cell_type": "markdown",
   "id": "817a4efd",
   "metadata": {},
   "source": [
    "## Plot the Accuracy VS # of Features (2pts)"
   ]
  },
  {
   "cell_type": "code",
   "execution_count": null,
   "id": "8635c6b5",
   "metadata": {
    "tags": []
   },
   "outputs": [
    {
     "ename": "",
     "evalue": "",
     "output_type": "error",
     "traceback": [
      "\u001b[1;31mRunning cells with 'Python ('codespacesML')' requires ipykernel package.\n",
      "Run the following command to install 'ipykernel' into the Python environment. \n",
      "Command: 'conda install -n codespacesML ipykernel --update-deps --force-reinstall'"
     ]
    },
    {
     "ename": "",
     "evalue": "",
     "output_type": "error",
     "traceback": [
      "\u001b[1;31mRunning cells with 'Python ('codespacesML')' requires ipykernel package.\n",
      "Run the following command to install 'ipykernel' into the Python environment. \n",
      "Command: 'conda install -n codespacesML ipykernel --update-deps --force-reinstall'"
     ]
    }
   ],
   "source": [
    "ax = sns.lineplot(x=list(range(1, len(rfecv.grid_scores_[1])+1)), y=list(rfecv.grid_scores_[1]))\n",
    "ax.set_title(\"Accuracy vs # of Features\")\n",
    "ax.set_xlabel(\"# of Features\")\n",
    "ax.set_ylabel(\"Accuracy\")\n",
    "ax.set_ylim(.88, .88)\n",
    "sns.set(rc={'figure.figsize':(10,5)})"
   ]
  },
  {
   "cell_type": "markdown",
   "id": "f9518964",
   "metadata": {},
   "source": [
    "## From the plot, what is the optimal # of features, what are these features? (2pts)"
   ]
  },
  {
   "cell_type": "code",
   "execution_count": null,
   "id": "d6a55996",
   "metadata": {},
   "outputs": [
    {
     "data": {
      "text/plain": [
       "Index(['city', 'city_development_index', 'x0_Female', 'x0_Male', 'x0_Other',\n",
       "       'x0_unknown', 'x1_Has relevent experience', 'x1_No relevent experience',\n",
       "       'x2_Full time course', 'x2_Part time course', 'x2_no_enrollment',\n",
       "       'x2_unknown', 'x3_Graduate', 'x3_High School', 'x3_Masters', 'x3_Phd',\n",
       "       'x3_Primary School', 'x3_unknown', 'x4_Arts', 'x4_Business Degree',\n",
       "       'x4_Humanities', 'x4_No Major', 'x4_Other', 'x4_STEM', 'x4_unknown',\n",
       "       'x5_Early Stage Startup', 'x5_Funded Startup', 'x5_NGO', 'x5_Other',\n",
       "       'x5_Public Sector', 'x5_Pvt Ltd', 'x5_unknown', 'x6_1', 'x6_2', 'x6_3',\n",
       "       'x6_4', 'x6_>4', 'x6_never', 'x6_unknown', 'x7_10/49', 'x7_100-500',\n",
       "       'x7_1000-4999', 'x7_10000+', 'x7_50-99', 'x7_500-999', 'x7_5000-9999',\n",
       "       'x7_<10', 'x7_unknown', 'x8_1', 'x8_10', 'x8_11', 'x8_12', 'x8_13',\n",
       "       'x8_14', 'x8_15', 'x8_16', 'x8_17', 'x8_18', 'x8_19', 'x8_2', 'x8_20',\n",
       "       'x8_3', 'x8_4', 'x8_5', 'x8_6', 'x8_7', 'x8_8', 'x8_9', 'x8_<1',\n",
       "       'x8_>20', 'x8_unknown'],\n",
       "      dtype='object')"
      ]
     },
     "execution_count": 65,
     "metadata": {},
     "output_type": "execute_result"
    },
    {
     "ename": "",
     "evalue": "",
     "output_type": "error",
     "traceback": [
      "\u001b[1;31mRunning cells with 'Python ('codespacesML')' requires ipykernel package.\n",
      "Run the following command to install 'ipykernel' into the Python environment. \n",
      "Command: 'conda install -n codespacesML ipykernel --update-deps --force-reinstall'"
     ]
    }
   ],
   "source": [
    "X_train.columns[rfecv.support_]"
   ]
  },
  {
   "cell_type": "code",
   "execution_count": null,
   "id": "e51051ac-0285-4583-bfc2-c2b39a122d0d",
   "metadata": {},
   "outputs": [
    {
     "data": {
      "text/plain": [
       "73"
      ]
     },
     "execution_count": 66,
     "metadata": {},
     "output_type": "execute_result"
    },
    {
     "ename": "",
     "evalue": "",
     "output_type": "error",
     "traceback": [
      "\u001b[1;31mRunning cells with 'Python ('codespacesML')' requires ipykernel package.\n",
      "Run the following command to install 'ipykernel' into the Python environment. \n",
      "Command: 'conda install -n codespacesML ipykernel --update-deps --force-reinstall'"
     ]
    }
   ],
   "source": [
    "col_count = df.shape[1]\n",
    "col_count"
   ]
  },
  {
   "cell_type": "code",
   "execution_count": null,
   "id": "9efe1a51-b776-46e1-8155-c05b664977dc",
   "metadata": {},
   "outputs": [
    {
     "data": {
      "text/html": [
       "<div>\n",
       "<style scoped>\n",
       "    .dataframe tbody tr th:only-of-type {\n",
       "        vertical-align: middle;\n",
       "    }\n",
       "\n",
       "    .dataframe tbody tr th {\n",
       "        vertical-align: top;\n",
       "    }\n",
       "\n",
       "    .dataframe thead th {\n",
       "        text-align: right;\n",
       "    }\n",
       "</style>\n",
       "<table border=\"1\" class=\"dataframe\">\n",
       "  <thead>\n",
       "    <tr style=\"text-align: right;\">\n",
       "      <th></th>\n",
       "      <th>feature</th>\n",
       "      <th>rank</th>\n",
       "    </tr>\n",
       "  </thead>\n",
       "  <tbody>\n",
       "    <tr>\n",
       "      <th>0</th>\n",
       "      <td>city</td>\n",
       "      <td>1</td>\n",
       "    </tr>\n",
       "    <tr>\n",
       "      <th>1</th>\n",
       "      <td>city_development_index</td>\n",
       "      <td>1</td>\n",
       "    </tr>\n",
       "    <tr>\n",
       "      <th>2</th>\n",
       "      <td>training_hours</td>\n",
       "      <td>2</td>\n",
       "    </tr>\n",
       "    <tr>\n",
       "      <th>3</th>\n",
       "      <td>x0_Female</td>\n",
       "      <td>1</td>\n",
       "    </tr>\n",
       "    <tr>\n",
       "      <th>4</th>\n",
       "      <td>x0_Male</td>\n",
       "      <td>1</td>\n",
       "    </tr>\n",
       "    <tr>\n",
       "      <th>...</th>\n",
       "      <td>...</td>\n",
       "      <td>...</td>\n",
       "    </tr>\n",
       "    <tr>\n",
       "      <th>67</th>\n",
       "      <td>x8_8</td>\n",
       "      <td>1</td>\n",
       "    </tr>\n",
       "    <tr>\n",
       "      <th>68</th>\n",
       "      <td>x8_9</td>\n",
       "      <td>1</td>\n",
       "    </tr>\n",
       "    <tr>\n",
       "      <th>69</th>\n",
       "      <td>x8_&lt;1</td>\n",
       "      <td>1</td>\n",
       "    </tr>\n",
       "    <tr>\n",
       "      <th>70</th>\n",
       "      <td>x8_&gt;20</td>\n",
       "      <td>1</td>\n",
       "    </tr>\n",
       "    <tr>\n",
       "      <th>71</th>\n",
       "      <td>x8_unknown</td>\n",
       "      <td>1</td>\n",
       "    </tr>\n",
       "  </tbody>\n",
       "</table>\n",
       "<p>72 rows × 2 columns</p>\n",
       "</div>"
      ],
      "text/plain": [
       "                   feature  rank\n",
       "0                     city     1\n",
       "1   city_development_index     1\n",
       "2           training_hours     2\n",
       "3                x0_Female     1\n",
       "4                  x0_Male     1\n",
       "..                     ...   ...\n",
       "67                    x8_8     1\n",
       "68                    x8_9     1\n",
       "69                   x8_<1     1\n",
       "70                  x8_>20     1\n",
       "71              x8_unknown     1\n",
       "\n",
       "[72 rows x 2 columns]"
      ]
     },
     "execution_count": 67,
     "metadata": {},
     "output_type": "execute_result"
    },
    {
     "ename": "",
     "evalue": "",
     "output_type": "error",
     "traceback": [
      "\u001b[1;31mRunning cells with 'Python ('codespacesML')' requires ipykernel package.\n",
      "Run the following command to install 'ipykernel' into the Python environment. \n",
      "Command: 'conda install -n codespacesML ipykernel --update-deps --force-reinstall'"
     ]
    }
   ],
   "source": [
    "temp_df = pd.DataFrame() \n",
    "temp_df['feature'] = X_train.columns\n",
    "temp_df['rank'] = rfecv.ranking_\n",
    "temp_df"
   ]
  },
  {
   "cell_type": "markdown",
   "id": "5322f74a",
   "metadata": {},
   "source": [
    "## Build an SVM classifier that uses gridsearch and the selected features from RFE (3pts)"
   ]
  },
  {
   "cell_type": "code",
   "execution_count": null,
   "id": "159cf424-7ce1-48d3-8669-4deb8bec34a2",
   "metadata": {},
   "outputs": [
    {
     "name": "stdout",
     "output_type": "stream",
     "text": [
      "Train  (15326, 72)\n",
      "Test  (3832, 72)\n"
     ]
    },
    {
     "ename": "",
     "evalue": "",
     "output_type": "error",
     "traceback": [
      "\u001b[1;31mRunning cells with 'Python ('codespacesML')' requires ipykernel package.\n",
      "Run the following command to install 'ipykernel' into the Python environment. \n",
      "Command: 'conda install -n codespacesML ipykernel --update-deps --force-reinstall'"
     ]
    }
   ],
   "source": [
    "df2 = df[X_train.columns]\n",
    "X = df2\n",
    "y = df['target']\n",
    "\n",
    "X_train, X_test, y_train, y_test = train_test_split(X, y, test_size=0.2, random_state=42, stratify=y)\n",
    "print(\"Train \", X_train.shape)\n",
    "print(\"Test \", X_test.shape)"
   ]
  },
  {
   "cell_type": "code",
   "execution_count": null,
   "id": "eb1318f8-4246-4957-a198-af70c01fdc55",
   "metadata": {},
   "outputs": [
    {
     "name": "stdout",
     "output_type": "stream",
     "text": [
      "Fitting 4 folds for each of 42 candidates, totalling 168 fits\n"
     ]
    },
    {
     "name": "stderr",
     "output_type": "stream",
     "text": [
      "/opt/python/3.10.4/lib/python3.10/site-packages/sklearn/metrics/_classification.py:1327: UndefinedMetricWarning: Precision is ill-defined and being set to 0.0 due to no predicted samples. Use `zero_division` parameter to control this behavior.\n",
      "  _warn_prf(average, modifier, msg_start, len(result))\n"
     ]
    },
    {
     "name": "stdout",
     "output_type": "stream",
     "text": [
      "[CV 4/4] END C=0.1, gamma=1, kernel=rbf; accuracy_score: (test=0.751) f1: (test=0.000) precision_score: (test=0.000) recall_score: (test=0.000) total time=  50.5s\n"
     ]
    },
    {
     "name": "stderr",
     "output_type": "stream",
     "text": [
      "/opt/python/3.10.4/lib/python3.10/site-packages/sklearn/metrics/_classification.py:1327: UndefinedMetricWarning: Precision is ill-defined and being set to 0.0 due to no predicted samples. Use `zero_division` parameter to control this behavior.\n",
      "  _warn_prf(average, modifier, msg_start, len(result))\n"
     ]
    },
    {
     "name": "stdout",
     "output_type": "stream",
     "text": [
      "[CV 3/4] END C=0.1, gamma=1, kernel=rbf; accuracy_score: (test=0.751) f1: (test=0.000) precision_score: (test=0.000) recall_score: (test=0.000) total time=  50.9s\n"
     ]
    },
    {
     "name": "stderr",
     "output_type": "stream",
     "text": [
      "/opt/python/3.10.4/lib/python3.10/site-packages/sklearn/metrics/_classification.py:1327: UndefinedMetricWarning: Precision is ill-defined and being set to 0.0 due to no predicted samples. Use `zero_division` parameter to control this behavior.\n",
      "  _warn_prf(average, modifier, msg_start, len(result))\n"
     ]
    },
    {
     "name": "stdout",
     "output_type": "stream",
     "text": [
      "[CV 2/4] END C=0.1, gamma=1, kernel=rbf; accuracy_score: (test=0.751) f1: (test=0.000) precision_score: (test=0.000) recall_score: (test=0.000) total time=  52.2s\n"
     ]
    },
    {
     "name": "stderr",
     "output_type": "stream",
     "text": [
      "/opt/python/3.10.4/lib/python3.10/site-packages/sklearn/metrics/_classification.py:1327: UndefinedMetricWarning: Precision is ill-defined and being set to 0.0 due to no predicted samples. Use `zero_division` parameter to control this behavior.\n",
      "  _warn_prf(average, modifier, msg_start, len(result))\n"
     ]
    },
    {
     "name": "stdout",
     "output_type": "stream",
     "text": [
      "[CV 1/4] END C=0.1, gamma=1, kernel=rbf; accuracy_score: (test=0.751) f1: (test=0.000) precision_score: (test=0.000) recall_score: (test=0.000) total time=  52.6s\n",
      "[CV 1/4] END C=0.1, gamma=0.1, kernel=rbf; accuracy_score: (test=0.751) f1: (test=0.014) precision_score: (test=0.500) recall_score: (test=0.007) total time=  32.1s\n",
      "[CV 2/4] END C=0.1, gamma=0.1, kernel=rbf; accuracy_score: (test=0.752) f1: (test=0.027) precision_score: (test=0.591) recall_score: (test=0.014) total time=  33.1s\n",
      "[CV 4/4] END C=0.1, gamma=0.1, kernel=rbf; accuracy_score: (test=0.752) f1: (test=0.023) precision_score: (test=0.611) recall_score: (test=0.012) total time=  31.6s\n",
      "[CV 3/4] END C=0.1, gamma=0.1, kernel=rbf; accuracy_score: (test=0.750) f1: (test=0.002) precision_score: (test=0.200) recall_score: (test=0.001) total time=  32.1s\n"
     ]
    },
    {
     "name": "stderr",
     "output_type": "stream",
     "text": [
      "/opt/python/3.10.4/lib/python3.10/site-packages/sklearn/metrics/_classification.py:1327: UndefinedMetricWarning: Precision is ill-defined and being set to 0.0 due to no predicted samples. Use `zero_division` parameter to control this behavior.\n",
      "  _warn_prf(average, modifier, msg_start, len(result))\n"
     ]
    },
    {
     "name": "stdout",
     "output_type": "stream",
     "text": [
      "[CV 1/4] END C=0.1, gamma=0.01, kernel=rbf; accuracy_score: (test=0.751) f1: (test=0.000) precision_score: (test=0.000) recall_score: (test=0.000) total time=  16.3s\n"
     ]
    },
    {
     "name": "stderr",
     "output_type": "stream",
     "text": [
      "/opt/python/3.10.4/lib/python3.10/site-packages/sklearn/metrics/_classification.py:1327: UndefinedMetricWarning: Precision is ill-defined and being set to 0.0 due to no predicted samples. Use `zero_division` parameter to control this behavior.\n",
      "  _warn_prf(average, modifier, msg_start, len(result))\n"
     ]
    },
    {
     "name": "stdout",
     "output_type": "stream",
     "text": [
      "[CV 4/4] END C=0.1, gamma=0.01, kernel=rbf; accuracy_score: (test=0.751) f1: (test=0.000) precision_score: (test=0.000) recall_score: (test=0.000) total time=  15.7s\n"
     ]
    },
    {
     "name": "stderr",
     "output_type": "stream",
     "text": [
      "/opt/python/3.10.4/lib/python3.10/site-packages/sklearn/metrics/_classification.py:1327: UndefinedMetricWarning: Precision is ill-defined and being set to 0.0 due to no predicted samples. Use `zero_division` parameter to control this behavior.\n",
      "  _warn_prf(average, modifier, msg_start, len(result))\n"
     ]
    },
    {
     "name": "stdout",
     "output_type": "stream",
     "text": [
      "[CV 3/4] END C=0.1, gamma=0.01, kernel=rbf; accuracy_score: (test=0.751) f1: (test=0.000) precision_score: (test=0.000) recall_score: (test=0.000) total time=  16.1s\n"
     ]
    },
    {
     "name": "stderr",
     "output_type": "stream",
     "text": [
      "/opt/python/3.10.4/lib/python3.10/site-packages/sklearn/metrics/_classification.py:1327: UndefinedMetricWarning: Precision is ill-defined and being set to 0.0 due to no predicted samples. Use `zero_division` parameter to control this behavior.\n",
      "  _warn_prf(average, modifier, msg_start, len(result))\n"
     ]
    },
    {
     "name": "stdout",
     "output_type": "stream",
     "text": [
      "[CV 2/4] END C=0.1, gamma=0.01, kernel=rbf; accuracy_score: (test=0.751) f1: (test=0.000) precision_score: (test=0.000) recall_score: (test=0.000) total time=  16.8s\n"
     ]
    },
    {
     "name": "stderr",
     "output_type": "stream",
     "text": [
      "/opt/python/3.10.4/lib/python3.10/site-packages/sklearn/metrics/_classification.py:1327: UndefinedMetricWarning: Precision is ill-defined and being set to 0.0 due to no predicted samples. Use `zero_division` parameter to control this behavior.\n",
      "  _warn_prf(average, modifier, msg_start, len(result))\n"
     ]
    },
    {
     "name": "stdout",
     "output_type": "stream",
     "text": [
      "[CV 1/4] END C=0.1, gamma=0.001, kernel=rbf; accuracy_score: (test=0.751) f1: (test=0.000) precision_score: (test=0.000) recall_score: (test=0.000) total time=  14.1s\n"
     ]
    },
    {
     "name": "stderr",
     "output_type": "stream",
     "text": [
      "/opt/python/3.10.4/lib/python3.10/site-packages/sklearn/metrics/_classification.py:1327: UndefinedMetricWarning: Precision is ill-defined and being set to 0.0 due to no predicted samples. Use `zero_division` parameter to control this behavior.\n",
      "  _warn_prf(average, modifier, msg_start, len(result))\n",
      "/opt/python/3.10.4/lib/python3.10/site-packages/sklearn/metrics/_classification.py:1327: UndefinedMetricWarning: Precision is ill-defined and being set to 0.0 due to no predicted samples. Use `zero_division` parameter to control this behavior.\n",
      "  _warn_prf(average, modifier, msg_start, len(result))\n"
     ]
    },
    {
     "name": "stdout",
     "output_type": "stream",
     "text": [
      "[CV 2/4] END C=0.1, gamma=0.001, kernel=rbf; accuracy_score: (test=0.751) f1: (test=0.000) precision_score: (test=0.000) recall_score: (test=0.000) total time=  15.1s\n",
      "[CV 4/4] END C=0.1, gamma=0.001, kernel=rbf; accuracy_score: (test=0.751) f1: (test=0.000) precision_score: (test=0.000) recall_score: (test=0.000) total time=  14.4s\n"
     ]
    },
    {
     "name": "stderr",
     "output_type": "stream",
     "text": [
      "/opt/python/3.10.4/lib/python3.10/site-packages/sklearn/metrics/_classification.py:1327: UndefinedMetricWarning: Precision is ill-defined and being set to 0.0 due to no predicted samples. Use `zero_division` parameter to control this behavior.\n",
      "  _warn_prf(average, modifier, msg_start, len(result))\n"
     ]
    },
    {
     "name": "stdout",
     "output_type": "stream",
     "text": [
      "[CV 3/4] END C=0.1, gamma=0.001, kernel=rbf; accuracy_score: (test=0.751) f1: (test=0.000) precision_score: (test=0.000) recall_score: (test=0.000) total time=  15.3s\n"
     ]
    },
    {
     "name": "stderr",
     "output_type": "stream",
     "text": [
      "/opt/python/3.10.4/lib/python3.10/site-packages/sklearn/metrics/_classification.py:1327: UndefinedMetricWarning: Precision is ill-defined and being set to 0.0 due to no predicted samples. Use `zero_division` parameter to control this behavior.\n",
      "  _warn_prf(average, modifier, msg_start, len(result))\n"
     ]
    },
    {
     "name": "stdout",
     "output_type": "stream",
     "text": [
      "[CV 1/4] END C=0.1, gamma=0.0001, kernel=rbf; accuracy_score: (test=0.751) f1: (test=0.000) precision_score: (test=0.000) recall_score: (test=0.000) total time=  11.9s\n"
     ]
    },
    {
     "name": "stderr",
     "output_type": "stream",
     "text": [
      "/opt/python/3.10.4/lib/python3.10/site-packages/sklearn/metrics/_classification.py:1327: UndefinedMetricWarning: Precision is ill-defined and being set to 0.0 due to no predicted samples. Use `zero_division` parameter to control this behavior.\n",
      "  _warn_prf(average, modifier, msg_start, len(result))\n"
     ]
    },
    {
     "name": "stdout",
     "output_type": "stream",
     "text": [
      "[CV 2/4] END C=0.1, gamma=0.0001, kernel=rbf; accuracy_score: (test=0.751) f1: (test=0.000) precision_score: (test=0.000) recall_score: (test=0.000) total time=  12.1s\n"
     ]
    },
    {
     "name": "stderr",
     "output_type": "stream",
     "text": [
      "/opt/python/3.10.4/lib/python3.10/site-packages/sklearn/metrics/_classification.py:1327: UndefinedMetricWarning: Precision is ill-defined and being set to 0.0 due to no predicted samples. Use `zero_division` parameter to control this behavior.\n",
      "  _warn_prf(average, modifier, msg_start, len(result))\n",
      "/opt/python/3.10.4/lib/python3.10/site-packages/sklearn/metrics/_classification.py:1327: UndefinedMetricWarning: Precision is ill-defined and being set to 0.0 due to no predicted samples. Use `zero_division` parameter to control this behavior.\n",
      "  _warn_prf(average, modifier, msg_start, len(result))\n"
     ]
    },
    {
     "name": "stdout",
     "output_type": "stream",
     "text": [
      "[CV 4/4] END C=0.1, gamma=0.0001, kernel=rbf; accuracy_score: (test=0.751) f1: (test=0.000) precision_score: (test=0.000) recall_score: (test=0.000) total time=  12.1s\n",
      "[CV 3/4] END C=0.1, gamma=0.0001, kernel=rbf; accuracy_score: (test=0.751) f1: (test=0.000) precision_score: (test=0.000) recall_score: (test=0.000) total time=  12.6s\n"
     ]
    },
    {
     "name": "stderr",
     "output_type": "stream",
     "text": [
      "/opt/python/3.10.4/lib/python3.10/site-packages/sklearn/metrics/_classification.py:1327: UndefinedMetricWarning: Precision is ill-defined and being set to 0.0 due to no predicted samples. Use `zero_division` parameter to control this behavior.\n",
      "  _warn_prf(average, modifier, msg_start, len(result))\n"
     ]
    },
    {
     "name": "stdout",
     "output_type": "stream",
     "text": [
      "[CV 1/4] END C=0.1, gamma=10, kernel=rbf; accuracy_score: (test=0.751) f1: (test=0.000) precision_score: (test=0.000) recall_score: (test=0.000) total time=  52.5s\n"
     ]
    },
    {
     "name": "stderr",
     "output_type": "stream",
     "text": [
      "/opt/python/3.10.4/lib/python3.10/site-packages/sklearn/metrics/_classification.py:1327: UndefinedMetricWarning: Precision is ill-defined and being set to 0.0 due to no predicted samples. Use `zero_division` parameter to control this behavior.\n",
      "  _warn_prf(average, modifier, msg_start, len(result))\n"
     ]
    },
    {
     "name": "stdout",
     "output_type": "stream",
     "text": [
      "[CV 3/4] END C=0.1, gamma=10, kernel=rbf; accuracy_score: (test=0.751) f1: (test=0.000) precision_score: (test=0.000) recall_score: (test=0.000) total time=  52.1s\n"
     ]
    },
    {
     "name": "stderr",
     "output_type": "stream",
     "text": [
      "/opt/python/3.10.4/lib/python3.10/site-packages/sklearn/metrics/_classification.py:1327: UndefinedMetricWarning: Precision is ill-defined and being set to 0.0 due to no predicted samples. Use `zero_division` parameter to control this behavior.\n",
      "  _warn_prf(average, modifier, msg_start, len(result))\n"
     ]
    },
    {
     "name": "stdout",
     "output_type": "stream",
     "text": [
      "[CV 2/4] END C=0.1, gamma=10, kernel=rbf; accuracy_score: (test=0.751) f1: (test=0.000) precision_score: (test=0.000) recall_score: (test=0.000) total time=  54.5s\n"
     ]
    },
    {
     "name": "stderr",
     "output_type": "stream",
     "text": [
      "/opt/python/3.10.4/lib/python3.10/site-packages/sklearn/metrics/_classification.py:1327: UndefinedMetricWarning: Precision is ill-defined and being set to 0.0 due to no predicted samples. Use `zero_division` parameter to control this behavior.\n",
      "  _warn_prf(average, modifier, msg_start, len(result))\n"
     ]
    },
    {
     "name": "stdout",
     "output_type": "stream",
     "text": [
      "[CV 4/4] END C=0.1, gamma=10, kernel=rbf; accuracy_score: (test=0.751) f1: (test=0.000) precision_score: (test=0.000) recall_score: (test=0.000) total time=  55.0s\n"
     ]
    },
    {
     "name": "stderr",
     "output_type": "stream",
     "text": [
      "/opt/python/3.10.4/lib/python3.10/site-packages/sklearn/metrics/_classification.py:1327: UndefinedMetricWarning: Precision is ill-defined and being set to 0.0 due to no predicted samples. Use `zero_division` parameter to control this behavior.\n",
      "  _warn_prf(average, modifier, msg_start, len(result))\n"
     ]
    },
    {
     "name": "stdout",
     "output_type": "stream",
     "text": [
      "[CV 1/4] END C=0.1, gamma=100, kernel=rbf; accuracy_score: (test=0.751) f1: (test=0.000) precision_score: (test=0.000) recall_score: (test=0.000) total time=  51.8s\n"
     ]
    },
    {
     "name": "stderr",
     "output_type": "stream",
     "text": [
      "/opt/python/3.10.4/lib/python3.10/site-packages/sklearn/metrics/_classification.py:1327: UndefinedMetricWarning: Precision is ill-defined and being set to 0.0 due to no predicted samples. Use `zero_division` parameter to control this behavior.\n",
      "  _warn_prf(average, modifier, msg_start, len(result))\n"
     ]
    },
    {
     "name": "stdout",
     "output_type": "stream",
     "text": [
      "[CV 2/4] END C=0.1, gamma=100, kernel=rbf; accuracy_score: (test=0.751) f1: (test=0.000) precision_score: (test=0.000) recall_score: (test=0.000) total time=  55.0s\n"
     ]
    },
    {
     "name": "stderr",
     "output_type": "stream",
     "text": [
      "/opt/python/3.10.4/lib/python3.10/site-packages/sklearn/metrics/_classification.py:1327: UndefinedMetricWarning: Precision is ill-defined and being set to 0.0 due to no predicted samples. Use `zero_division` parameter to control this behavior.\n",
      "  _warn_prf(average, modifier, msg_start, len(result))\n"
     ]
    },
    {
     "name": "stdout",
     "output_type": "stream",
     "text": [
      "[CV 3/4] END C=0.1, gamma=100, kernel=rbf; accuracy_score: (test=0.751) f1: (test=0.000) precision_score: (test=0.000) recall_score: (test=0.000) total time=  53.7s\n"
     ]
    },
    {
     "name": "stderr",
     "output_type": "stream",
     "text": [
      "/opt/python/3.10.4/lib/python3.10/site-packages/sklearn/metrics/_classification.py:1327: UndefinedMetricWarning: Precision is ill-defined and being set to 0.0 due to no predicted samples. Use `zero_division` parameter to control this behavior.\n",
      "  _warn_prf(average, modifier, msg_start, len(result))\n"
     ]
    },
    {
     "name": "stdout",
     "output_type": "stream",
     "text": [
      "[CV 4/4] END C=0.1, gamma=100, kernel=rbf; accuracy_score: (test=0.751) f1: (test=0.000) precision_score: (test=0.000) recall_score: (test=0.000) total time=  53.8s\n"
     ]
    },
    {
     "name": "stderr",
     "output_type": "stream",
     "text": [
      "/opt/python/3.10.4/lib/python3.10/site-packages/sklearn/metrics/_classification.py:1327: UndefinedMetricWarning: Precision is ill-defined and being set to 0.0 due to no predicted samples. Use `zero_division` parameter to control this behavior.\n",
      "  _warn_prf(average, modifier, msg_start, len(result))\n"
     ]
    },
    {
     "name": "stdout",
     "output_type": "stream",
     "text": [
      "[CV 1/4] END C=0.001, gamma=1, kernel=rbf; accuracy_score: (test=0.751) f1: (test=0.000) precision_score: (test=0.000) recall_score: (test=0.000) total time=  11.5s\n"
     ]
    },
    {
     "name": "stderr",
     "output_type": "stream",
     "text": [
      "/opt/python/3.10.4/lib/python3.10/site-packages/sklearn/metrics/_classification.py:1327: UndefinedMetricWarning: Precision is ill-defined and being set to 0.0 due to no predicted samples. Use `zero_division` parameter to control this behavior.\n",
      "  _warn_prf(average, modifier, msg_start, len(result))\n",
      "/opt/python/3.10.4/lib/python3.10/site-packages/sklearn/metrics/_classification.py:1327: UndefinedMetricWarning: Precision is ill-defined and being set to 0.0 due to no predicted samples. Use `zero_division` parameter to control this behavior.\n",
      "  _warn_prf(average, modifier, msg_start, len(result))\n"
     ]
    },
    {
     "name": "stdout",
     "output_type": "stream",
     "text": [
      "[CV 2/4] END C=0.001, gamma=1, kernel=rbf; accuracy_score: (test=0.751) f1: (test=0.000) precision_score: (test=0.000) recall_score: (test=0.000) total time=  12.0s\n",
      "[CV 3/4] END C=0.001, gamma=1, kernel=rbf; accuracy_score: (test=0.751) f1: (test=0.000) precision_score: (test=0.000) recall_score: (test=0.000) total time=  11.6s\n"
     ]
    },
    {
     "name": "stderr",
     "output_type": "stream",
     "text": [
      "/opt/python/3.10.4/lib/python3.10/site-packages/sklearn/metrics/_classification.py:1327: UndefinedMetricWarning: Precision is ill-defined and being set to 0.0 due to no predicted samples. Use `zero_division` parameter to control this behavior.\n",
      "  _warn_prf(average, modifier, msg_start, len(result))\n"
     ]
    },
    {
     "name": "stdout",
     "output_type": "stream",
     "text": [
      "[CV 4/4] END C=0.001, gamma=1, kernel=rbf; accuracy_score: (test=0.751) f1: (test=0.000) precision_score: (test=0.000) recall_score: (test=0.000) total time=  11.7s\n"
     ]
    },
    {
     "name": "stderr",
     "output_type": "stream",
     "text": [
      "/opt/python/3.10.4/lib/python3.10/site-packages/sklearn/metrics/_classification.py:1327: UndefinedMetricWarning: Precision is ill-defined and being set to 0.0 due to no predicted samples. Use `zero_division` parameter to control this behavior.\n",
      "  _warn_prf(average, modifier, msg_start, len(result))\n"
     ]
    },
    {
     "name": "stdout",
     "output_type": "stream",
     "text": [
      "[CV 1/4] END C=0.001, gamma=0.1, kernel=rbf; accuracy_score: (test=0.751) f1: (test=0.000) precision_score: (test=0.000) recall_score: (test=0.000) total time=  13.7s\n"
     ]
    },
    {
     "name": "stderr",
     "output_type": "stream",
     "text": [
      "/opt/python/3.10.4/lib/python3.10/site-packages/sklearn/metrics/_classification.py:1327: UndefinedMetricWarning: Precision is ill-defined and being set to 0.0 due to no predicted samples. Use `zero_division` parameter to control this behavior.\n",
      "  _warn_prf(average, modifier, msg_start, len(result))\n"
     ]
    },
    {
     "name": "stdout",
     "output_type": "stream",
     "text": [
      "[CV 3/4] END C=0.001, gamma=0.1, kernel=rbf; accuracy_score: (test=0.751) f1: (test=0.000) precision_score: (test=0.000) recall_score: (test=0.000) total time=  13.5s\n"
     ]
    },
    {
     "name": "stderr",
     "output_type": "stream",
     "text": [
      "/opt/python/3.10.4/lib/python3.10/site-packages/sklearn/metrics/_classification.py:1327: UndefinedMetricWarning: Precision is ill-defined and being set to 0.0 due to no predicted samples. Use `zero_division` parameter to control this behavior.\n",
      "  _warn_prf(average, modifier, msg_start, len(result))\n"
     ]
    },
    {
     "name": "stdout",
     "output_type": "stream",
     "text": [
      "[CV 2/4] END C=0.001, gamma=0.1, kernel=rbf; accuracy_score: (test=0.751) f1: (test=0.000) precision_score: (test=0.000) recall_score: (test=0.000) total time=  14.0s\n"
     ]
    },
    {
     "name": "stderr",
     "output_type": "stream",
     "text": [
      "/opt/python/3.10.4/lib/python3.10/site-packages/sklearn/metrics/_classification.py:1327: UndefinedMetricWarning: Precision is ill-defined and being set to 0.0 due to no predicted samples. Use `zero_division` parameter to control this behavior.\n",
      "  _warn_prf(average, modifier, msg_start, len(result))\n"
     ]
    },
    {
     "name": "stdout",
     "output_type": "stream",
     "text": [
      "[CV 4/4] END C=0.001, gamma=0.1, kernel=rbf; accuracy_score: (test=0.751) f1: (test=0.000) precision_score: (test=0.000) recall_score: (test=0.000) total time=  13.6s\n"
     ]
    },
    {
     "name": "stderr",
     "output_type": "stream",
     "text": [
      "/opt/python/3.10.4/lib/python3.10/site-packages/sklearn/metrics/_classification.py:1327: UndefinedMetricWarning: Precision is ill-defined and being set to 0.0 due to no predicted samples. Use `zero_division` parameter to control this behavior.\n",
      "  _warn_prf(average, modifier, msg_start, len(result))\n"
     ]
    },
    {
     "name": "stdout",
     "output_type": "stream",
     "text": [
      "[CV 1/4] END C=0.001, gamma=0.01, kernel=rbf; accuracy_score: (test=0.751) f1: (test=0.000) precision_score: (test=0.000) recall_score: (test=0.000) total time=  11.2s\n"
     ]
    },
    {
     "name": "stderr",
     "output_type": "stream",
     "text": [
      "/opt/python/3.10.4/lib/python3.10/site-packages/sklearn/metrics/_classification.py:1327: UndefinedMetricWarning: Precision is ill-defined and being set to 0.0 due to no predicted samples. Use `zero_division` parameter to control this behavior.\n",
      "  _warn_prf(average, modifier, msg_start, len(result))\n"
     ]
    },
    {
     "name": "stdout",
     "output_type": "stream",
     "text": [
      "[CV 2/4] END C=0.001, gamma=0.01, kernel=rbf; accuracy_score: (test=0.751) f1: (test=0.000) precision_score: (test=0.000) recall_score: (test=0.000) total time=  11.3s\n"
     ]
    },
    {
     "name": "stderr",
     "output_type": "stream",
     "text": [
      "/opt/python/3.10.4/lib/python3.10/site-packages/sklearn/metrics/_classification.py:1327: UndefinedMetricWarning: Precision is ill-defined and being set to 0.0 due to no predicted samples. Use `zero_division` parameter to control this behavior.\n",
      "  _warn_prf(average, modifier, msg_start, len(result))\n"
     ]
    },
    {
     "name": "stdout",
     "output_type": "stream",
     "text": [
      "[CV 3/4] END C=0.001, gamma=0.01, kernel=rbf; accuracy_score: (test=0.751) f1: (test=0.000) precision_score: (test=0.000) recall_score: (test=0.000) total time=  11.8s\n"
     ]
    },
    {
     "name": "stderr",
     "output_type": "stream",
     "text": [
      "/opt/python/3.10.4/lib/python3.10/site-packages/sklearn/metrics/_classification.py:1327: UndefinedMetricWarning: Precision is ill-defined and being set to 0.0 due to no predicted samples. Use `zero_division` parameter to control this behavior.\n",
      "  _warn_prf(average, modifier, msg_start, len(result))\n"
     ]
    },
    {
     "name": "stdout",
     "output_type": "stream",
     "text": [
      "[CV 4/4] END C=0.001, gamma=0.01, kernel=rbf; accuracy_score: (test=0.751) f1: (test=0.000) precision_score: (test=0.000) recall_score: (test=0.000) total time=  11.5s\n"
     ]
    },
    {
     "name": "stderr",
     "output_type": "stream",
     "text": [
      "/opt/python/3.10.4/lib/python3.10/site-packages/sklearn/metrics/_classification.py:1327: UndefinedMetricWarning: Precision is ill-defined and being set to 0.0 due to no predicted samples. Use `zero_division` parameter to control this behavior.\n",
      "  _warn_prf(average, modifier, msg_start, len(result))\n"
     ]
    },
    {
     "name": "stdout",
     "output_type": "stream",
     "text": [
      "[CV 1/4] END C=0.001, gamma=0.001, kernel=rbf; accuracy_score: (test=0.751) f1: (test=0.000) precision_score: (test=0.000) recall_score: (test=0.000) total time=  10.6s\n"
     ]
    },
    {
     "name": "stderr",
     "output_type": "stream",
     "text": [
      "/opt/python/3.10.4/lib/python3.10/site-packages/sklearn/metrics/_classification.py:1327: UndefinedMetricWarning: Precision is ill-defined and being set to 0.0 due to no predicted samples. Use `zero_division` parameter to control this behavior.\n",
      "  _warn_prf(average, modifier, msg_start, len(result))\n"
     ]
    },
    {
     "name": "stdout",
     "output_type": "stream",
     "text": [
      "[CV 2/4] END C=0.001, gamma=0.001, kernel=rbf; accuracy_score: (test=0.751) f1: (test=0.000) precision_score: (test=0.000) recall_score: (test=0.000) total time=  10.7s\n"
     ]
    },
    {
     "name": "stderr",
     "output_type": "stream",
     "text": [
      "/opt/python/3.10.4/lib/python3.10/site-packages/sklearn/metrics/_classification.py:1327: UndefinedMetricWarning: Precision is ill-defined and being set to 0.0 due to no predicted samples. Use `zero_division` parameter to control this behavior.\n",
      "  _warn_prf(average, modifier, msg_start, len(result))\n"
     ]
    },
    {
     "name": "stdout",
     "output_type": "stream",
     "text": [
      "[CV 3/4] END C=0.001, gamma=0.001, kernel=rbf; accuracy_score: (test=0.751) f1: (test=0.000) precision_score: (test=0.000) recall_score: (test=0.000) total time=  11.1s\n"
     ]
    },
    {
     "name": "stderr",
     "output_type": "stream",
     "text": [
      "/opt/python/3.10.4/lib/python3.10/site-packages/sklearn/metrics/_classification.py:1327: UndefinedMetricWarning: Precision is ill-defined and being set to 0.0 due to no predicted samples. Use `zero_division` parameter to control this behavior.\n",
      "  _warn_prf(average, modifier, msg_start, len(result))\n"
     ]
    },
    {
     "name": "stdout",
     "output_type": "stream",
     "text": [
      "[CV 4/4] END C=0.001, gamma=0.001, kernel=rbf; accuracy_score: (test=0.751) f1: (test=0.000) precision_score: (test=0.000) recall_score: (test=0.000) total time=  10.9s\n"
     ]
    },
    {
     "name": "stderr",
     "output_type": "stream",
     "text": [
      "/opt/python/3.10.4/lib/python3.10/site-packages/sklearn/metrics/_classification.py:1327: UndefinedMetricWarning: Precision is ill-defined and being set to 0.0 due to no predicted samples. Use `zero_division` parameter to control this behavior.\n",
      "  _warn_prf(average, modifier, msg_start, len(result))\n"
     ]
    },
    {
     "name": "stdout",
     "output_type": "stream",
     "text": [
      "[CV 1/4] END C=0.001, gamma=0.0001, kernel=rbf; accuracy_score: (test=0.751) f1: (test=0.000) precision_score: (test=0.000) recall_score: (test=0.000) total time=  10.6s\n"
     ]
    },
    {
     "name": "stderr",
     "output_type": "stream",
     "text": [
      "/opt/python/3.10.4/lib/python3.10/site-packages/sklearn/metrics/_classification.py:1327: UndefinedMetricWarning: Precision is ill-defined and being set to 0.0 due to no predicted samples. Use `zero_division` parameter to control this behavior.\n",
      "  _warn_prf(average, modifier, msg_start, len(result))\n"
     ]
    },
    {
     "name": "stdout",
     "output_type": "stream",
     "text": [
      "[CV 2/4] END C=0.001, gamma=0.0001, kernel=rbf; accuracy_score: (test=0.751) f1: (test=0.000) precision_score: (test=0.000) recall_score: (test=0.000) total time=  10.7s\n"
     ]
    },
    {
     "name": "stderr",
     "output_type": "stream",
     "text": [
      "/opt/python/3.10.4/lib/python3.10/site-packages/sklearn/metrics/_classification.py:1327: UndefinedMetricWarning: Precision is ill-defined and being set to 0.0 due to no predicted samples. Use `zero_division` parameter to control this behavior.\n",
      "  _warn_prf(average, modifier, msg_start, len(result))\n"
     ]
    },
    {
     "name": "stdout",
     "output_type": "stream",
     "text": [
      "[CV 3/4] END C=0.001, gamma=0.0001, kernel=rbf; accuracy_score: (test=0.751) f1: (test=0.000) precision_score: (test=0.000) recall_score: (test=0.000) total time=  11.4s\n"
     ]
    },
    {
     "name": "stderr",
     "output_type": "stream",
     "text": [
      "/opt/python/3.10.4/lib/python3.10/site-packages/sklearn/metrics/_classification.py:1327: UndefinedMetricWarning: Precision is ill-defined and being set to 0.0 due to no predicted samples. Use `zero_division` parameter to control this behavior.\n",
      "  _warn_prf(average, modifier, msg_start, len(result))\n"
     ]
    },
    {
     "name": "stdout",
     "output_type": "stream",
     "text": [
      "[CV 4/4] END C=0.001, gamma=0.0001, kernel=rbf; accuracy_score: (test=0.751) f1: (test=0.000) precision_score: (test=0.000) recall_score: (test=0.000) total time=  11.1s\n"
     ]
    },
    {
     "name": "stderr",
     "output_type": "stream",
     "text": [
      "/opt/python/3.10.4/lib/python3.10/site-packages/sklearn/metrics/_classification.py:1327: UndefinedMetricWarning: Precision is ill-defined and being set to 0.0 due to no predicted samples. Use `zero_division` parameter to control this behavior.\n",
      "  _warn_prf(average, modifier, msg_start, len(result))\n"
     ]
    },
    {
     "name": "stdout",
     "output_type": "stream",
     "text": [
      "[CV 1/4] END C=0.001, gamma=10, kernel=rbf; accuracy_score: (test=0.751) f1: (test=0.000) precision_score: (test=0.000) recall_score: (test=0.000) total time=  21.3s\n"
     ]
    },
    {
     "name": "stderr",
     "output_type": "stream",
     "text": [
      "/opt/python/3.10.4/lib/python3.10/site-packages/sklearn/metrics/_classification.py:1327: UndefinedMetricWarning: Precision is ill-defined and being set to 0.0 due to no predicted samples. Use `zero_division` parameter to control this behavior.\n",
      "  _warn_prf(average, modifier, msg_start, len(result))\n"
     ]
    },
    {
     "name": "stdout",
     "output_type": "stream",
     "text": [
      "[CV 2/4] END C=0.001, gamma=10, kernel=rbf; accuracy_score: (test=0.751) f1: (test=0.000) precision_score: (test=0.000) recall_score: (test=0.000) total time=  21.5s\n"
     ]
    },
    {
     "name": "stderr",
     "output_type": "stream",
     "text": [
      "/opt/python/3.10.4/lib/python3.10/site-packages/sklearn/metrics/_classification.py:1327: UndefinedMetricWarning: Precision is ill-defined and being set to 0.0 due to no predicted samples. Use `zero_division` parameter to control this behavior.\n",
      "  _warn_prf(average, modifier, msg_start, len(result))\n"
     ]
    },
    {
     "name": "stdout",
     "output_type": "stream",
     "text": [
      "[CV 3/4] END C=0.001, gamma=10, kernel=rbf; accuracy_score: (test=0.751) f1: (test=0.000) precision_score: (test=0.000) recall_score: (test=0.000) total time=  21.6s\n"
     ]
    },
    {
     "name": "stderr",
     "output_type": "stream",
     "text": [
      "/opt/python/3.10.4/lib/python3.10/site-packages/sklearn/metrics/_classification.py:1327: UndefinedMetricWarning: Precision is ill-defined and being set to 0.0 due to no predicted samples. Use `zero_division` parameter to control this behavior.\n",
      "  _warn_prf(average, modifier, msg_start, len(result))\n"
     ]
    },
    {
     "name": "stdout",
     "output_type": "stream",
     "text": [
      "[CV 4/4] END C=0.001, gamma=10, kernel=rbf; accuracy_score: (test=0.751) f1: (test=0.000) precision_score: (test=0.000) recall_score: (test=0.000) total time=  22.0s\n"
     ]
    },
    {
     "name": "stderr",
     "output_type": "stream",
     "text": [
      "/opt/python/3.10.4/lib/python3.10/site-packages/sklearn/metrics/_classification.py:1327: UndefinedMetricWarning: Precision is ill-defined and being set to 0.0 due to no predicted samples. Use `zero_division` parameter to control this behavior.\n",
      "  _warn_prf(average, modifier, msg_start, len(result))\n"
     ]
    },
    {
     "name": "stdout",
     "output_type": "stream",
     "text": [
      "[CV 1/4] END C=0.001, gamma=100, kernel=rbf; accuracy_score: (test=0.751) f1: (test=0.000) precision_score: (test=0.000) recall_score: (test=0.000) total time=  21.4s\n"
     ]
    },
    {
     "name": "stderr",
     "output_type": "stream",
     "text": [
      "/opt/python/3.10.4/lib/python3.10/site-packages/sklearn/metrics/_classification.py:1327: UndefinedMetricWarning: Precision is ill-defined and being set to 0.0 due to no predicted samples. Use `zero_division` parameter to control this behavior.\n",
      "  _warn_prf(average, modifier, msg_start, len(result))\n"
     ]
    },
    {
     "name": "stdout",
     "output_type": "stream",
     "text": [
      "[CV 2/4] END C=0.001, gamma=100, kernel=rbf; accuracy_score: (test=0.751) f1: (test=0.000) precision_score: (test=0.000) recall_score: (test=0.000) total time=  21.6s\n"
     ]
    },
    {
     "name": "stderr",
     "output_type": "stream",
     "text": [
      "/opt/python/3.10.4/lib/python3.10/site-packages/sklearn/metrics/_classification.py:1327: UndefinedMetricWarning: Precision is ill-defined and being set to 0.0 due to no predicted samples. Use `zero_division` parameter to control this behavior.\n",
      "  _warn_prf(average, modifier, msg_start, len(result))\n"
     ]
    },
    {
     "name": "stdout",
     "output_type": "stream",
     "text": [
      "[CV 3/4] END C=0.001, gamma=100, kernel=rbf; accuracy_score: (test=0.751) f1: (test=0.000) precision_score: (test=0.000) recall_score: (test=0.000) total time=  22.9s\n"
     ]
    },
    {
     "name": "stderr",
     "output_type": "stream",
     "text": [
      "/opt/python/3.10.4/lib/python3.10/site-packages/sklearn/metrics/_classification.py:1327: UndefinedMetricWarning: Precision is ill-defined and being set to 0.0 due to no predicted samples. Use `zero_division` parameter to control this behavior.\n",
      "  _warn_prf(average, modifier, msg_start, len(result))\n"
     ]
    },
    {
     "name": "stdout",
     "output_type": "stream",
     "text": [
      "[CV 4/4] END C=0.001, gamma=100, kernel=rbf; accuracy_score: (test=0.751) f1: (test=0.000) precision_score: (test=0.000) recall_score: (test=0.000) total time=  22.6s\n"
     ]
    },
    {
     "name": "stderr",
     "output_type": "stream",
     "text": [
      "/opt/python/3.10.4/lib/python3.10/site-packages/sklearn/metrics/_classification.py:1327: UndefinedMetricWarning: Precision is ill-defined and being set to 0.0 due to no predicted samples. Use `zero_division` parameter to control this behavior.\n",
      "  _warn_prf(average, modifier, msg_start, len(result))\n"
     ]
    },
    {
     "name": "stdout",
     "output_type": "stream",
     "text": [
      "[CV 1/4] END C=0.0001, gamma=1, kernel=rbf; accuracy_score: (test=0.751) f1: (test=0.000) precision_score: (test=0.000) recall_score: (test=0.000) total time=  11.7s\n"
     ]
    },
    {
     "name": "stderr",
     "output_type": "stream",
     "text": [
      "/opt/python/3.10.4/lib/python3.10/site-packages/sklearn/metrics/_classification.py:1327: UndefinedMetricWarning: Precision is ill-defined and being set to 0.0 due to no predicted samples. Use `zero_division` parameter to control this behavior.\n",
      "  _warn_prf(average, modifier, msg_start, len(result))\n"
     ]
    },
    {
     "name": "stdout",
     "output_type": "stream",
     "text": [
      "[CV 2/4] END C=0.0001, gamma=1, kernel=rbf; accuracy_score: (test=0.751) f1: (test=0.000) precision_score: (test=0.000) recall_score: (test=0.000) total time=  11.8s\n"
     ]
    },
    {
     "name": "stderr",
     "output_type": "stream",
     "text": [
      "/opt/python/3.10.4/lib/python3.10/site-packages/sklearn/metrics/_classification.py:1327: UndefinedMetricWarning: Precision is ill-defined and being set to 0.0 due to no predicted samples. Use `zero_division` parameter to control this behavior.\n",
      "  _warn_prf(average, modifier, msg_start, len(result))\n",
      "/opt/python/3.10.4/lib/python3.10/site-packages/sklearn/metrics/_classification.py:1327: UndefinedMetricWarning: Precision is ill-defined and being set to 0.0 due to no predicted samples. Use `zero_division` parameter to control this behavior.\n",
      "  _warn_prf(average, modifier, msg_start, len(result))\n"
     ]
    },
    {
     "name": "stdout",
     "output_type": "stream",
     "text": [
      "[CV 4/4] END C=0.0001, gamma=1, kernel=rbf; accuracy_score: (test=0.751) f1: (test=0.000) precision_score: (test=0.000) recall_score: (test=0.000) total time=  12.0s\n",
      "[CV 3/4] END C=0.0001, gamma=1, kernel=rbf; accuracy_score: (test=0.751) f1: (test=0.000) precision_score: (test=0.000) recall_score: (test=0.000) total time=  12.4s\n"
     ]
    },
    {
     "name": "stderr",
     "output_type": "stream",
     "text": [
      "/opt/python/3.10.4/lib/python3.10/site-packages/sklearn/metrics/_classification.py:1327: UndefinedMetricWarning: Precision is ill-defined and being set to 0.0 due to no predicted samples. Use `zero_division` parameter to control this behavior.\n",
      "  _warn_prf(average, modifier, msg_start, len(result))\n"
     ]
    },
    {
     "name": "stdout",
     "output_type": "stream",
     "text": [
      "[CV 1/4] END C=0.0001, gamma=0.1, kernel=rbf; accuracy_score: (test=0.751) f1: (test=0.000) precision_score: (test=0.000) recall_score: (test=0.000) total time=  13.2s\n"
     ]
    },
    {
     "name": "stderr",
     "output_type": "stream",
     "text": [
      "/opt/python/3.10.4/lib/python3.10/site-packages/sklearn/metrics/_classification.py:1327: UndefinedMetricWarning: Precision is ill-defined and being set to 0.0 due to no predicted samples. Use `zero_division` parameter to control this behavior.\n",
      "  _warn_prf(average, modifier, msg_start, len(result))\n"
     ]
    },
    {
     "name": "stdout",
     "output_type": "stream",
     "text": [
      "[CV 2/4] END C=0.0001, gamma=0.1, kernel=rbf; accuracy_score: (test=0.751) f1: (test=0.000) precision_score: (test=0.000) recall_score: (test=0.000) total time=  13.6s\n"
     ]
    },
    {
     "name": "stderr",
     "output_type": "stream",
     "text": [
      "/opt/python/3.10.4/lib/python3.10/site-packages/sklearn/metrics/_classification.py:1327: UndefinedMetricWarning: Precision is ill-defined and being set to 0.0 due to no predicted samples. Use `zero_division` parameter to control this behavior.\n",
      "  _warn_prf(average, modifier, msg_start, len(result))\n",
      "/opt/python/3.10.4/lib/python3.10/site-packages/sklearn/metrics/_classification.py:1327: UndefinedMetricWarning: Precision is ill-defined and being set to 0.0 due to no predicted samples. Use `zero_division` parameter to control this behavior.\n",
      "  _warn_prf(average, modifier, msg_start, len(result))\n"
     ]
    },
    {
     "name": "stdout",
     "output_type": "stream",
     "text": [
      "[CV 1/4] END C=0.0001, gamma=0.01, kernel=rbf; accuracy_score: (test=0.751) f1: (test=0.000) precision_score: (test=0.000) recall_score: (test=0.000) total time=  11.1s\n",
      "[CV 3/4] END C=0.0001, gamma=0.1, kernel=rbf; accuracy_score: (test=0.751) f1: (test=0.000) precision_score: (test=0.000) recall_score: (test=0.000) total time=  13.8s\n"
     ]
    },
    {
     "name": "stderr",
     "output_type": "stream",
     "text": [
      "/opt/python/3.10.4/lib/python3.10/site-packages/sklearn/metrics/_classification.py:1327: UndefinedMetricWarning: Precision is ill-defined and being set to 0.0 due to no predicted samples. Use `zero_division` parameter to control this behavior.\n",
      "  _warn_prf(average, modifier, msg_start, len(result))\n"
     ]
    },
    {
     "name": "stdout",
     "output_type": "stream",
     "text": [
      "[CV 4/4] END C=0.0001, gamma=0.1, kernel=rbf; accuracy_score: (test=0.751) f1: (test=0.000) precision_score: (test=0.000) recall_score: (test=0.000) total time=  14.0s\n"
     ]
    },
    {
     "name": "stderr",
     "output_type": "stream",
     "text": [
      "/opt/python/3.10.4/lib/python3.10/site-packages/sklearn/metrics/_classification.py:1327: UndefinedMetricWarning: Precision is ill-defined and being set to 0.0 due to no predicted samples. Use `zero_division` parameter to control this behavior.\n",
      "  _warn_prf(average, modifier, msg_start, len(result))\n"
     ]
    },
    {
     "name": "stdout",
     "output_type": "stream",
     "text": [
      "[CV 2/4] END C=0.0001, gamma=0.01, kernel=rbf; accuracy_score: (test=0.751) f1: (test=0.000) precision_score: (test=0.000) recall_score: (test=0.000) total time=  11.5s\n"
     ]
    },
    {
     "name": "stderr",
     "output_type": "stream",
     "text": [
      "/opt/python/3.10.4/lib/python3.10/site-packages/sklearn/metrics/_classification.py:1327: UndefinedMetricWarning: Precision is ill-defined and being set to 0.0 due to no predicted samples. Use `zero_division` parameter to control this behavior.\n",
      "  _warn_prf(average, modifier, msg_start, len(result))\n",
      "/opt/python/3.10.4/lib/python3.10/site-packages/sklearn/metrics/_classification.py:1327: UndefinedMetricWarning: Precision is ill-defined and being set to 0.0 due to no predicted samples. Use `zero_division` parameter to control this behavior.\n",
      "  _warn_prf(average, modifier, msg_start, len(result))\n"
     ]
    },
    {
     "name": "stdout",
     "output_type": "stream",
     "text": [
      "[CV 4/4] END C=0.0001, gamma=0.01, kernel=rbf; accuracy_score: (test=0.751) f1: (test=0.000) precision_score: (test=0.000) recall_score: (test=0.000) total time=  11.6s\n",
      "[CV 3/4] END C=0.0001, gamma=0.01, kernel=rbf; accuracy_score: (test=0.751) f1: (test=0.000) precision_score: (test=0.000) recall_score: (test=0.000) total time=  11.8s\n"
     ]
    },
    {
     "name": "stderr",
     "output_type": "stream",
     "text": [
      "/opt/python/3.10.4/lib/python3.10/site-packages/sklearn/metrics/_classification.py:1327: UndefinedMetricWarning: Precision is ill-defined and being set to 0.0 due to no predicted samples. Use `zero_division` parameter to control this behavior.\n",
      "  _warn_prf(average, modifier, msg_start, len(result))\n"
     ]
    },
    {
     "name": "stdout",
     "output_type": "stream",
     "text": [
      "[CV 1/4] END C=0.0001, gamma=0.001, kernel=rbf; accuracy_score: (test=0.751) f1: (test=0.000) precision_score: (test=0.000) recall_score: (test=0.000) total time=  11.8s\n"
     ]
    },
    {
     "name": "stderr",
     "output_type": "stream",
     "text": [
      "/opt/python/3.10.4/lib/python3.10/site-packages/sklearn/metrics/_classification.py:1327: UndefinedMetricWarning: Precision is ill-defined and being set to 0.0 due to no predicted samples. Use `zero_division` parameter to control this behavior.\n",
      "  _warn_prf(average, modifier, msg_start, len(result))\n"
     ]
    },
    {
     "name": "stdout",
     "output_type": "stream",
     "text": [
      "[CV 2/4] END C=0.0001, gamma=0.001, kernel=rbf; accuracy_score: (test=0.751) f1: (test=0.000) precision_score: (test=0.000) recall_score: (test=0.000) total time=  11.0s\n"
     ]
    },
    {
     "name": "stderr",
     "output_type": "stream",
     "text": [
      "/opt/python/3.10.4/lib/python3.10/site-packages/sklearn/metrics/_classification.py:1327: UndefinedMetricWarning: Precision is ill-defined and being set to 0.0 due to no predicted samples. Use `zero_division` parameter to control this behavior.\n",
      "  _warn_prf(average, modifier, msg_start, len(result))\n",
      "/opt/python/3.10.4/lib/python3.10/site-packages/sklearn/metrics/_classification.py:1327: UndefinedMetricWarning: Precision is ill-defined and being set to 0.0 due to no predicted samples. Use `zero_division` parameter to control this behavior.\n",
      "  _warn_prf(average, modifier, msg_start, len(result))\n"
     ]
    },
    {
     "name": "stdout",
     "output_type": "stream",
     "text": [
      "[CV 4/4] END C=0.0001, gamma=0.001, kernel=rbf; accuracy_score: (test=0.751) f1: (test=0.000) precision_score: (test=0.000) recall_score: (test=0.000) total time=  11.3s\n",
      "[CV 3/4] END C=0.0001, gamma=0.001, kernel=rbf; accuracy_score: (test=0.751) f1: (test=0.000) precision_score: (test=0.000) recall_score: (test=0.000) total time=  11.5s\n"
     ]
    },
    {
     "name": "stderr",
     "output_type": "stream",
     "text": [
      "/opt/python/3.10.4/lib/python3.10/site-packages/sklearn/metrics/_classification.py:1327: UndefinedMetricWarning: Precision is ill-defined and being set to 0.0 due to no predicted samples. Use `zero_division` parameter to control this behavior.\n",
      "  _warn_prf(average, modifier, msg_start, len(result))\n"
     ]
    },
    {
     "name": "stdout",
     "output_type": "stream",
     "text": [
      "[CV 1/4] END C=0.0001, gamma=0.0001, kernel=rbf; accuracy_score: (test=0.751) f1: (test=0.000) precision_score: (test=0.000) recall_score: (test=0.000) total time=  11.7s\n"
     ]
    },
    {
     "name": "stderr",
     "output_type": "stream",
     "text": [
      "/opt/python/3.10.4/lib/python3.10/site-packages/sklearn/metrics/_classification.py:1327: UndefinedMetricWarning: Precision is ill-defined and being set to 0.0 due to no predicted samples. Use `zero_division` parameter to control this behavior.\n",
      "  _warn_prf(average, modifier, msg_start, len(result))\n"
     ]
    },
    {
     "name": "stdout",
     "output_type": "stream",
     "text": [
      "[CV 2/4] END C=0.0001, gamma=0.0001, kernel=rbf; accuracy_score: (test=0.751) f1: (test=0.000) precision_score: (test=0.000) recall_score: (test=0.000) total time=  11.4s\n"
     ]
    },
    {
     "name": "stderr",
     "output_type": "stream",
     "text": [
      "/opt/python/3.10.4/lib/python3.10/site-packages/sklearn/metrics/_classification.py:1327: UndefinedMetricWarning: Precision is ill-defined and being set to 0.0 due to no predicted samples. Use `zero_division` parameter to control this behavior.\n",
      "  _warn_prf(average, modifier, msg_start, len(result))\n"
     ]
    },
    {
     "name": "stdout",
     "output_type": "stream",
     "text": [
      "[CV 3/4] END C=0.0001, gamma=0.0001, kernel=rbf; accuracy_score: (test=0.751) f1: (test=0.000) precision_score: (test=0.000) recall_score: (test=0.000) total time=  11.1s\n"
     ]
    },
    {
     "name": "stderr",
     "output_type": "stream",
     "text": [
      "/opt/python/3.10.4/lib/python3.10/site-packages/sklearn/metrics/_classification.py:1327: UndefinedMetricWarning: Precision is ill-defined and being set to 0.0 due to no predicted samples. Use `zero_division` parameter to control this behavior.\n",
      "  _warn_prf(average, modifier, msg_start, len(result))\n"
     ]
    },
    {
     "name": "stdout",
     "output_type": "stream",
     "text": [
      "[CV 4/4] END C=0.0001, gamma=0.0001, kernel=rbf; accuracy_score: (test=0.751) f1: (test=0.000) precision_score: (test=0.000) recall_score: (test=0.000) total time=  11.5s\n"
     ]
    },
    {
     "name": "stderr",
     "output_type": "stream",
     "text": [
      "/opt/python/3.10.4/lib/python3.10/site-packages/sklearn/metrics/_classification.py:1327: UndefinedMetricWarning: Precision is ill-defined and being set to 0.0 due to no predicted samples. Use `zero_division` parameter to control this behavior.\n",
      "  _warn_prf(average, modifier, msg_start, len(result))\n"
     ]
    },
    {
     "name": "stdout",
     "output_type": "stream",
     "text": [
      "[CV 1/4] END C=0.0001, gamma=10, kernel=rbf; accuracy_score: (test=0.751) f1: (test=0.000) precision_score: (test=0.000) recall_score: (test=0.000) total time=  11.5s\n"
     ]
    },
    {
     "name": "stderr",
     "output_type": "stream",
     "text": [
      "/opt/python/3.10.4/lib/python3.10/site-packages/sklearn/metrics/_classification.py:1327: UndefinedMetricWarning: Precision is ill-defined and being set to 0.0 due to no predicted samples. Use `zero_division` parameter to control this behavior.\n",
      "  _warn_prf(average, modifier, msg_start, len(result))\n"
     ]
    },
    {
     "name": "stdout",
     "output_type": "stream",
     "text": [
      "[CV 2/4] END C=0.0001, gamma=10, kernel=rbf; accuracy_score: (test=0.751) f1: (test=0.000) precision_score: (test=0.000) recall_score: (test=0.000) total time=  10.8s\n"
     ]
    },
    {
     "name": "stderr",
     "output_type": "stream",
     "text": [
      "/opt/python/3.10.4/lib/python3.10/site-packages/sklearn/metrics/_classification.py:1327: UndefinedMetricWarning: Precision is ill-defined and being set to 0.0 due to no predicted samples. Use `zero_division` parameter to control this behavior.\n",
      "  _warn_prf(average, modifier, msg_start, len(result))\n"
     ]
    },
    {
     "name": "stdout",
     "output_type": "stream",
     "text": [
      "[CV 3/4] END C=0.0001, gamma=10, kernel=rbf; accuracy_score: (test=0.751) f1: (test=0.000) precision_score: (test=0.000) recall_score: (test=0.000) total time=  10.8s\n"
     ]
    },
    {
     "name": "stderr",
     "output_type": "stream",
     "text": [
      "/opt/python/3.10.4/lib/python3.10/site-packages/sklearn/metrics/_classification.py:1327: UndefinedMetricWarning: Precision is ill-defined and being set to 0.0 due to no predicted samples. Use `zero_division` parameter to control this behavior.\n",
      "  _warn_prf(average, modifier, msg_start, len(result))\n"
     ]
    },
    {
     "name": "stdout",
     "output_type": "stream",
     "text": [
      "[CV 4/4] END C=0.0001, gamma=10, kernel=rbf; accuracy_score: (test=0.751) f1: (test=0.000) precision_score: (test=0.000) recall_score: (test=0.000) total time=  11.4s\n"
     ]
    },
    {
     "name": "stderr",
     "output_type": "stream",
     "text": [
      "/opt/python/3.10.4/lib/python3.10/site-packages/sklearn/metrics/_classification.py:1327: UndefinedMetricWarning: Precision is ill-defined and being set to 0.0 due to no predicted samples. Use `zero_division` parameter to control this behavior.\n",
      "  _warn_prf(average, modifier, msg_start, len(result))\n"
     ]
    },
    {
     "name": "stdout",
     "output_type": "stream",
     "text": [
      "[CV 1/4] END C=0.0001, gamma=100, kernel=rbf; accuracy_score: (test=0.751) f1: (test=0.000) precision_score: (test=0.000) recall_score: (test=0.000) total time=  11.1s\n"
     ]
    },
    {
     "name": "stderr",
     "output_type": "stream",
     "text": [
      "/opt/python/3.10.4/lib/python3.10/site-packages/sklearn/metrics/_classification.py:1327: UndefinedMetricWarning: Precision is ill-defined and being set to 0.0 due to no predicted samples. Use `zero_division` parameter to control this behavior.\n",
      "  _warn_prf(average, modifier, msg_start, len(result))\n"
     ]
    },
    {
     "name": "stdout",
     "output_type": "stream",
     "text": [
      "[CV 2/4] END C=0.0001, gamma=100, kernel=rbf; accuracy_score: (test=0.751) f1: (test=0.000) precision_score: (test=0.000) recall_score: (test=0.000) total time=  10.9s\n"
     ]
    },
    {
     "name": "stderr",
     "output_type": "stream",
     "text": [
      "/opt/python/3.10.4/lib/python3.10/site-packages/sklearn/metrics/_classification.py:1327: UndefinedMetricWarning: Precision is ill-defined and being set to 0.0 due to no predicted samples. Use `zero_division` parameter to control this behavior.\n",
      "  _warn_prf(average, modifier, msg_start, len(result))\n"
     ]
    },
    {
     "name": "stdout",
     "output_type": "stream",
     "text": [
      "[CV 3/4] END C=0.0001, gamma=100, kernel=rbf; accuracy_score: (test=0.751) f1: (test=0.000) precision_score: (test=0.000) recall_score: (test=0.000) total time=  11.1s\n"
     ]
    },
    {
     "name": "stderr",
     "output_type": "stream",
     "text": [
      "/opt/python/3.10.4/lib/python3.10/site-packages/sklearn/metrics/_classification.py:1327: UndefinedMetricWarning: Precision is ill-defined and being set to 0.0 due to no predicted samples. Use `zero_division` parameter to control this behavior.\n",
      "  _warn_prf(average, modifier, msg_start, len(result))\n"
     ]
    },
    {
     "name": "stdout",
     "output_type": "stream",
     "text": [
      "[CV 4/4] END C=0.0001, gamma=100, kernel=rbf; accuracy_score: (test=0.751) f1: (test=0.000) precision_score: (test=0.000) recall_score: (test=0.000) total time=  11.4s\n",
      "[CV 1/4] END C=10, gamma=1, kernel=rbf; accuracy_score: (test=0.751) f1: (test=0.016) precision_score: (test=0.571) recall_score: (test=0.008) total time=  49.5s\n",
      "[CV 2/4] END C=10, gamma=1, kernel=rbf; accuracy_score: (test=0.752) f1: (test=0.021) precision_score: (test=0.714) recall_score: (test=0.010) total time=  49.2s\n",
      "[CV 3/4] END C=10, gamma=1, kernel=rbf; accuracy_score: (test=0.750) f1: (test=0.006) precision_score: (test=0.375) recall_score: (test=0.003) total time=  48.0s\n",
      "[CV 4/4] END C=10, gamma=1, kernel=rbf; accuracy_score: (test=0.750) f1: (test=0.012) precision_score: (test=0.429) recall_score: (test=0.006) total time=  49.5s\n",
      "[CV 1/4] END C=10, gamma=0.1, kernel=rbf; accuracy_score: (test=0.739) f1: (test=0.382) precision_score: (test=0.467) recall_score: (test=0.323) total time= 1.1min\n",
      "[CV 2/4] END C=10, gamma=0.1, kernel=rbf; accuracy_score: (test=0.751) f1: (test=0.399) precision_score: (test=0.501) recall_score: (test=0.332) total time= 1.1min\n",
      "[CV 3/4] END C=10, gamma=0.1, kernel=rbf; accuracy_score: (test=0.751) f1: (test=0.415) precision_score: (test=0.501) recall_score: (test=0.355) total time= 1.1min\n",
      "[CV 4/4] END C=10, gamma=0.1, kernel=rbf; accuracy_score: (test=0.736) f1: (test=0.385) precision_score: (test=0.459) recall_score: (test=0.331) total time= 1.1min\n",
      "[CV 1/4] END C=10, gamma=0.01, kernel=rbf; accuracy_score: (test=0.752) f1: (test=0.424) precision_score: (test=0.505) recall_score: (test=0.365) total time=  20.1s\n",
      "[CV 2/4] END C=10, gamma=0.01, kernel=rbf; accuracy_score: (test=0.764) f1: (test=0.453) precision_score: (test=0.537) recall_score: (test=0.391) total time=  19.8s\n",
      "[CV 3/4] END C=10, gamma=0.01, kernel=rbf; accuracy_score: (test=0.762) f1: (test=0.444) precision_score: (test=0.533) recall_score: (test=0.380) total time=  19.3s\n",
      "[CV 4/4] END C=10, gamma=0.01, kernel=rbf; accuracy_score: (test=0.756) f1: (test=0.449) precision_score: (test=0.513) recall_score: (test=0.399) total time=  18.9s\n",
      "[CV 1/4] END C=10, gamma=0.001, kernel=rbf; accuracy_score: (test=0.757) f1: (test=0.122) precision_score: (test=0.613) recall_score: (test=0.068) total time=  17.8s\n",
      "[CV 2/4] END C=10, gamma=0.001, kernel=rbf; accuracy_score: (test=0.754) f1: (test=0.121) precision_score: (test=0.565) recall_score: (test=0.068) total time=  17.5s\n",
      "[CV 3/4] END C=10, gamma=0.001, kernel=rbf; accuracy_score: (test=0.759) f1: (test=0.135) precision_score: (test=0.637) recall_score: (test=0.075) total time=  17.7s\n",
      "[CV 4/4] END C=10, gamma=0.001, kernel=rbf; accuracy_score: (test=0.754) f1: (test=0.073) precision_score: (test=0.607) recall_score: (test=0.039) total time=  17.3s\n"
     ]
    },
    {
     "name": "stderr",
     "output_type": "stream",
     "text": [
      "/opt/python/3.10.4/lib/python3.10/site-packages/sklearn/metrics/_classification.py:1327: UndefinedMetricWarning: Precision is ill-defined and being set to 0.0 due to no predicted samples. Use `zero_division` parameter to control this behavior.\n",
      "  _warn_prf(average, modifier, msg_start, len(result))\n"
     ]
    },
    {
     "name": "stdout",
     "output_type": "stream",
     "text": [
      "[CV 1/4] END C=10, gamma=0.0001, kernel=rbf; accuracy_score: (test=0.751) f1: (test=0.000) precision_score: (test=0.000) recall_score: (test=0.000) total time=  17.1s\n"
     ]
    },
    {
     "name": "stderr",
     "output_type": "stream",
     "text": [
      "/opt/python/3.10.4/lib/python3.10/site-packages/sklearn/metrics/_classification.py:1327: UndefinedMetricWarning: Precision is ill-defined and being set to 0.0 due to no predicted samples. Use `zero_division` parameter to control this behavior.\n",
      "  _warn_prf(average, modifier, msg_start, len(result))\n"
     ]
    },
    {
     "name": "stdout",
     "output_type": "stream",
     "text": [
      "[CV 2/4] END C=10, gamma=0.0001, kernel=rbf; accuracy_score: (test=0.751) f1: (test=0.000) precision_score: (test=0.000) recall_score: (test=0.000) total time=  17.6s\n"
     ]
    },
    {
     "name": "stderr",
     "output_type": "stream",
     "text": [
      "/opt/python/3.10.4/lib/python3.10/site-packages/sklearn/metrics/_classification.py:1327: UndefinedMetricWarning: Precision is ill-defined and being set to 0.0 due to no predicted samples. Use `zero_division` parameter to control this behavior.\n",
      "  _warn_prf(average, modifier, msg_start, len(result))\n"
     ]
    },
    {
     "name": "stdout",
     "output_type": "stream",
     "text": [
      "[CV 3/4] END C=10, gamma=0.0001, kernel=rbf; accuracy_score: (test=0.751) f1: (test=0.000) precision_score: (test=0.000) recall_score: (test=0.000) total time=  18.6s\n"
     ]
    },
    {
     "name": "stderr",
     "output_type": "stream",
     "text": [
      "/opt/python/3.10.4/lib/python3.10/site-packages/sklearn/metrics/_classification.py:1327: UndefinedMetricWarning: Precision is ill-defined and being set to 0.0 due to no predicted samples. Use `zero_division` parameter to control this behavior.\n",
      "  _warn_prf(average, modifier, msg_start, len(result))\n"
     ]
    },
    {
     "name": "stdout",
     "output_type": "stream",
     "text": [
      "[CV 4/4] END C=10, gamma=0.0001, kernel=rbf; accuracy_score: (test=0.751) f1: (test=0.000) precision_score: (test=0.000) recall_score: (test=0.000) total time=  18.1s\n",
      "[CV 1/4] END C=10, gamma=10, kernel=rbf; accuracy_score: (test=0.751) f1: (test=0.008) precision_score: (test=0.571) recall_score: (test=0.004) total time=  54.7s\n",
      "[CV 3/4] END C=10, gamma=10, kernel=rbf; accuracy_score: (test=0.751) f1: (test=0.002) precision_score: (test=0.500) recall_score: (test=0.001) total time=  54.6s\n",
      "[CV 2/4] END C=10, gamma=10, kernel=rbf; accuracy_score: (test=0.751) f1: (test=0.004) precision_score: (test=0.667) recall_score: (test=0.002) total time=  58.2s\n",
      "[CV 4/4] END C=10, gamma=10, kernel=rbf; accuracy_score: (test=0.751) f1: (test=0.006) precision_score: (test=0.600) recall_score: (test=0.003) total time=  56.8s\n",
      "[CV 1/4] END C=10, gamma=100, kernel=rbf; accuracy_score: (test=0.751) f1: (test=0.008) precision_score: (test=0.571) recall_score: (test=0.004) total time=  52.0s\n",
      "[CV 3/4] END C=10, gamma=100, kernel=rbf; accuracy_score: (test=0.751) f1: (test=0.002) precision_score: (test=0.500) recall_score: (test=0.001) total time=  55.0s\n",
      "[CV 4/4] END C=10, gamma=100, kernel=rbf; accuracy_score: (test=0.751) f1: (test=0.006) precision_score: (test=0.600) recall_score: (test=0.003) total time=  56.3s\n",
      "[CV 2/4] END C=10, gamma=100, kernel=rbf; accuracy_score: (test=0.751) f1: (test=0.004) precision_score: (test=0.667) recall_score: (test=0.002) total time=  59.9s\n",
      "[CV 1/4] END C=100, gamma=1, kernel=rbf; accuracy_score: (test=0.751) f1: (test=0.016) precision_score: (test=0.571) recall_score: (test=0.008) total time=  49.4s\n",
      "[CV 2/4] END C=100, gamma=1, kernel=rbf; accuracy_score: (test=0.752) f1: (test=0.021) precision_score: (test=0.714) recall_score: (test=0.010) total time=  50.2s\n",
      "[CV 3/4] END C=100, gamma=1, kernel=rbf; accuracy_score: (test=0.750) f1: (test=0.006) precision_score: (test=0.375) recall_score: (test=0.003) total time=  49.6s\n",
      "[CV 4/4] END C=100, gamma=1, kernel=rbf; accuracy_score: (test=0.750) f1: (test=0.012) precision_score: (test=0.429) recall_score: (test=0.006) total time=  50.5s\n",
      "[CV 1/4] END C=100, gamma=0.1, kernel=rbf; accuracy_score: (test=0.737) f1: (test=0.381) precision_score: (test=0.461) recall_score: (test=0.325) total time= 1.1min\n",
      "[CV 2/4] END C=100, gamma=0.1, kernel=rbf; accuracy_score: (test=0.747) f1: (test=0.400) precision_score: (test=0.489) recall_score: (test=0.338) total time= 1.1min\n",
      "[CV 4/4] END C=100, gamma=0.1, kernel=rbf; accuracy_score: (test=0.736) f1: (test=0.389) precision_score: (test=0.460) recall_score: (test=0.337) total time= 1.1min\n",
      "[CV 3/4] END C=100, gamma=0.1, kernel=rbf; accuracy_score: (test=0.746) f1: (test=0.409) precision_score: (test=0.487) recall_score: (test=0.352) total time= 1.1min\n",
      "[CV 1/4] END C=100, gamma=0.01, kernel=rbf; accuracy_score: (test=0.719) f1: (test=0.429) precision_score: (test=0.435) recall_score: (test=0.423) total time=  42.1s\n",
      "[CV 2/4] END C=100, gamma=0.01, kernel=rbf; accuracy_score: (test=0.725) f1: (test=0.434) precision_score: (test=0.447) recall_score: (test=0.423) total time=  41.5s\n",
      "[CV 4/4] END C=100, gamma=0.01, kernel=rbf; accuracy_score: (test=0.716) f1: (test=0.428) precision_score: (test=0.430) recall_score: (test=0.426) total time=  43.7s\n",
      "[CV 1/4] END C=100, gamma=0.001, kernel=rbf; accuracy_score: (test=0.764) f1: (test=0.426) precision_score: (test=0.543) recall_score: (test=0.350) total time=  20.1s\n",
      "[CV 3/4] END C=100, gamma=0.01, kernel=rbf; accuracy_score: (test=0.724) f1: (test=0.432) precision_score: (test=0.444) recall_score: (test=0.420) total time=  44.2s\n",
      "[CV 2/4] END C=100, gamma=0.001, kernel=rbf; accuracy_score: (test=0.770) f1: (test=0.439) precision_score: (test=0.559) recall_score: (test=0.362) total time=  20.5s\n",
      "[CV 1/4] END C=100, gamma=0.0001, kernel=rbf; accuracy_score: (test=0.753) f1: (test=0.027) precision_score: (test=0.765) recall_score: (test=0.014) total time=  17.9s\n",
      "[CV 4/4] END C=100, gamma=0.001, kernel=rbf; accuracy_score: (test=0.766) f1: (test=0.461) precision_score: (test=0.540) recall_score: (test=0.402) total time=  21.5s\n",
      "[CV 3/4] END C=100, gamma=0.001, kernel=rbf; accuracy_score: (test=0.772) f1: (test=0.429) precision_score: (test=0.569) recall_score: (test=0.345) total time=  21.8s\n",
      "[CV 2/4] END C=100, gamma=0.0001, kernel=rbf; accuracy_score: (test=0.752) f1: (test=0.044) precision_score: (test=0.595) recall_score: (test=0.023) total time=  17.4s\n",
      "[CV 3/4] END C=100, gamma=0.0001, kernel=rbf; accuracy_score: (test=0.753) f1: (test=0.023) precision_score: (test=0.733) recall_score: (test=0.012) total time=  18.7s\n"
     ]
    },
    {
     "name": "stderr",
     "output_type": "stream",
     "text": [
      "/opt/python/3.10.4/lib/python3.10/site-packages/sklearn/metrics/_classification.py:1327: UndefinedMetricWarning: Precision is ill-defined and being set to 0.0 due to no predicted samples. Use `zero_division` parameter to control this behavior.\n",
      "  _warn_prf(average, modifier, msg_start, len(result))\n"
     ]
    },
    {
     "name": "stdout",
     "output_type": "stream",
     "text": [
      "[CV 4/4] END C=100, gamma=0.0001, kernel=rbf; accuracy_score: (test=0.751) f1: (test=0.000) precision_score: (test=0.000) recall_score: (test=0.000) total time=  17.6s\n",
      "[CV 1/4] END C=100, gamma=10, kernel=rbf; accuracy_score: (test=0.751) f1: (test=0.008) precision_score: (test=0.571) recall_score: (test=0.004) total time=  55.9s\n",
      "[CV 2/4] END C=100, gamma=10, kernel=rbf; accuracy_score: (test=0.751) f1: (test=0.004) precision_score: (test=0.667) recall_score: (test=0.002) total time=  57.2s\n",
      "[CV 3/4] END C=100, gamma=10, kernel=rbf; accuracy_score: (test=0.751) f1: (test=0.002) precision_score: (test=0.500) recall_score: (test=0.001) total time=  55.8s\n",
      "[CV 4/4] END C=100, gamma=10, kernel=rbf; accuracy_score: (test=0.751) f1: (test=0.006) precision_score: (test=0.600) recall_score: (test=0.003) total time=  54.3s\n",
      "[CV 1/4] END C=100, gamma=100, kernel=rbf; accuracy_score: (test=0.751) f1: (test=0.008) precision_score: (test=0.571) recall_score: (test=0.004) total time=  52.7s\n",
      "[CV 4/4] END C=100, gamma=100, kernel=rbf; accuracy_score: (test=0.751) f1: (test=0.006) precision_score: (test=0.600) recall_score: (test=0.003) total time=  53.6s\n",
      "[CV 3/4] END C=100, gamma=100, kernel=rbf; accuracy_score: (test=0.751) f1: (test=0.002) precision_score: (test=0.500) recall_score: (test=0.001) total time=  55.5s\n",
      "[CV 2/4] END C=100, gamma=100, kernel=rbf; accuracy_score: (test=0.751) f1: (test=0.004) precision_score: (test=0.667) recall_score: (test=0.002) total time= 1.0min\n",
      "[CV 1/4] END C=1000, gamma=1, kernel=rbf; accuracy_score: (test=0.751) f1: (test=0.016) precision_score: (test=0.571) recall_score: (test=0.008) total time=  50.4s\n",
      "[CV 2/4] END C=1000, gamma=1, kernel=rbf; accuracy_score: (test=0.752) f1: (test=0.021) precision_score: (test=0.714) recall_score: (test=0.010) total time=  49.1s\n",
      "[CV 3/4] END C=1000, gamma=1, kernel=rbf; accuracy_score: (test=0.750) f1: (test=0.006) precision_score: (test=0.375) recall_score: (test=0.003) total time=  50.1s\n",
      "[CV 4/4] END C=1000, gamma=1, kernel=rbf; accuracy_score: (test=0.750) f1: (test=0.012) precision_score: (test=0.429) recall_score: (test=0.006) total time=  50.8s\n",
      "[CV 1/4] END C=1000, gamma=0.1, kernel=rbf; accuracy_score: (test=0.737) f1: (test=0.381) precision_score: (test=0.461) recall_score: (test=0.325) total time= 1.1min\n",
      "[CV 2/4] END C=1000, gamma=0.1, kernel=rbf; accuracy_score: (test=0.747) f1: (test=0.401) precision_score: (test=0.490) recall_score: (test=0.339) total time= 1.1min\n",
      "[CV 3/4] END C=1000, gamma=0.1, kernel=rbf; accuracy_score: (test=0.746) f1: (test=0.409) precision_score: (test=0.486) recall_score: (test=0.353) total time= 1.1min\n",
      "[CV 4/4] END C=1000, gamma=0.1, kernel=rbf; accuracy_score: (test=0.736) f1: (test=0.389) precision_score: (test=0.460) recall_score: (test=0.337) total time= 1.1min\n",
      "[CV 1/4] END C=1000, gamma=0.01, kernel=rbf; accuracy_score: (test=0.702) f1: (test=0.403) precision_score: (test=0.403) recall_score: (test=0.403) total time= 1.3min\n",
      "[CV 2/4] END C=1000, gamma=0.01, kernel=rbf; accuracy_score: (test=0.700) f1: (test=0.406) precision_score: (test=0.402) recall_score: (test=0.410) total time= 1.2min\n",
      "[CV 3/4] END C=1000, gamma=0.01, kernel=rbf; accuracy_score: (test=0.703) f1: (test=0.418) precision_score: (test=0.409) recall_score: (test=0.427) total time= 1.2min\n",
      "[CV 4/4] END C=1000, gamma=0.01, kernel=rbf; accuracy_score: (test=0.695) f1: (test=0.399) precision_score: (test=0.392) recall_score: (test=0.407) total time= 1.2min\n",
      "[CV 1/4] END C=1000, gamma=0.001, kernel=rbf; accuracy_score: (test=0.765) f1: (test=0.502) precision_score: (test=0.533) recall_score: (test=0.474) total time=  55.4s\n",
      "[CV 2/4] END C=1000, gamma=0.001, kernel=rbf; accuracy_score: (test=0.765) f1: (test=0.509) precision_score: (test=0.532) recall_score: (test=0.487) total time=  55.6s\n",
      "[CV 3/4] END C=1000, gamma=0.001, kernel=rbf; accuracy_score: (test=0.758) f1: (test=0.496) precision_score: (test=0.515) recall_score: (test=0.479) total time=  56.8s\n",
      "[CV 4/4] END C=1000, gamma=0.001, kernel=rbf; accuracy_score: (test=0.750) f1: (test=0.482) precision_score: (test=0.498) recall_score: (test=0.468) total time=  58.5s\n",
      "[CV 1/4] END C=1000, gamma=0.0001, kernel=rbf; accuracy_score: (test=0.774) f1: (test=0.444) precision_score: (test=0.576) recall_score: (test=0.361) total time=  26.1s\n",
      "[CV 2/4] END C=1000, gamma=0.0001, kernel=rbf; accuracy_score: (test=0.768) f1: (test=0.402) precision_score: (test=0.563) recall_score: (test=0.313) total time=  25.6s\n",
      "[CV 4/4] END C=1000, gamma=0.0001, kernel=rbf; accuracy_score: (test=0.783) f1: (test=0.474) precision_score: (test=0.599) recall_score: (test=0.392) total time=  24.4s\n",
      "[CV 3/4] END C=1000, gamma=0.0001, kernel=rbf; accuracy_score: (test=0.772) f1: (test=0.419) precision_score: (test=0.576) recall_score: (test=0.330) total time=  26.5s\n",
      "[CV 1/4] END C=1000, gamma=10, kernel=rbf; accuracy_score: (test=0.751) f1: (test=0.008) precision_score: (test=0.571) recall_score: (test=0.004) total time=  54.5s\n",
      "[CV 2/4] END C=1000, gamma=10, kernel=rbf; accuracy_score: (test=0.751) f1: (test=0.004) precision_score: (test=0.667) recall_score: (test=0.002) total time=  58.7s\n",
      "[CV 3/4] END C=1000, gamma=10, kernel=rbf; accuracy_score: (test=0.751) f1: (test=0.002) precision_score: (test=0.500) recall_score: (test=0.001) total time=  54.4s\n",
      "[CV 4/4] END C=1000, gamma=10, kernel=rbf; accuracy_score: (test=0.751) f1: (test=0.006) precision_score: (test=0.600) recall_score: (test=0.003) total time=  55.5s\n",
      "[CV 1/4] END C=1000, gamma=100, kernel=rbf; accuracy_score: (test=0.751) f1: (test=0.008) precision_score: (test=0.571) recall_score: (test=0.004) total time=  52.9s\n",
      "[CV 3/4] END C=1000, gamma=100, kernel=rbf; accuracy_score: (test=0.751) f1: (test=0.002) precision_score: (test=0.500) recall_score: (test=0.001) total time=  51.2s\n",
      "[CV 4/4] END C=1000, gamma=100, kernel=rbf; accuracy_score: (test=0.751) f1: (test=0.006) precision_score: (test=0.600) recall_score: (test=0.003) total time=  51.1s\n",
      "[CV 2/4] END C=1000, gamma=100, kernel=rbf; accuracy_score: (test=0.751) f1: (test=0.004) precision_score: (test=0.667) recall_score: (test=0.002) total time=  54.5s\n"
     ]
    },
    {
     "data": {
      "text/html": [
       "<style>#sk-container-id-6 {color: black;background-color: white;}#sk-container-id-6 pre{padding: 0;}#sk-container-id-6 div.sk-toggleable {background-color: white;}#sk-container-id-6 label.sk-toggleable__label {cursor: pointer;display: block;width: 100%;margin-bottom: 0;padding: 0.3em;box-sizing: border-box;text-align: center;}#sk-container-id-6 label.sk-toggleable__label-arrow:before {content: \"▸\";float: left;margin-right: 0.25em;color: #696969;}#sk-container-id-6 label.sk-toggleable__label-arrow:hover:before {color: black;}#sk-container-id-6 div.sk-estimator:hover label.sk-toggleable__label-arrow:before {color: black;}#sk-container-id-6 div.sk-toggleable__content {max-height: 0;max-width: 0;overflow: hidden;text-align: left;background-color: #f0f8ff;}#sk-container-id-6 div.sk-toggleable__content pre {margin: 0.2em;color: black;border-radius: 0.25em;background-color: #f0f8ff;}#sk-container-id-6 input.sk-toggleable__control:checked~div.sk-toggleable__content {max-height: 200px;max-width: 100%;overflow: auto;}#sk-container-id-6 input.sk-toggleable__control:checked~label.sk-toggleable__label-arrow:before {content: \"▾\";}#sk-container-id-6 div.sk-estimator input.sk-toggleable__control:checked~label.sk-toggleable__label {background-color: #d4ebff;}#sk-container-id-6 div.sk-label input.sk-toggleable__control:checked~label.sk-toggleable__label {background-color: #d4ebff;}#sk-container-id-6 input.sk-hidden--visually {border: 0;clip: rect(1px 1px 1px 1px);clip: rect(1px, 1px, 1px, 1px);height: 1px;margin: -1px;overflow: hidden;padding: 0;position: absolute;width: 1px;}#sk-container-id-6 div.sk-estimator {font-family: monospace;background-color: #f0f8ff;border: 1px dotted black;border-radius: 0.25em;box-sizing: border-box;margin-bottom: 0.5em;}#sk-container-id-6 div.sk-estimator:hover {background-color: #d4ebff;}#sk-container-id-6 div.sk-parallel-item::after {content: \"\";width: 100%;border-bottom: 1px solid gray;flex-grow: 1;}#sk-container-id-6 div.sk-label:hover label.sk-toggleable__label {background-color: #d4ebff;}#sk-container-id-6 div.sk-serial::before {content: \"\";position: absolute;border-left: 1px solid gray;box-sizing: border-box;top: 0;bottom: 0;left: 50%;z-index: 0;}#sk-container-id-6 div.sk-serial {display: flex;flex-direction: column;align-items: center;background-color: white;padding-right: 0.2em;padding-left: 0.2em;position: relative;}#sk-container-id-6 div.sk-item {position: relative;z-index: 1;}#sk-container-id-6 div.sk-parallel {display: flex;align-items: stretch;justify-content: center;background-color: white;position: relative;}#sk-container-id-6 div.sk-item::before, #sk-container-id-6 div.sk-parallel-item::before {content: \"\";position: absolute;border-left: 1px solid gray;box-sizing: border-box;top: 0;bottom: 0;left: 50%;z-index: -1;}#sk-container-id-6 div.sk-parallel-item {display: flex;flex-direction: column;z-index: 1;position: relative;background-color: white;}#sk-container-id-6 div.sk-parallel-item:first-child::after {align-self: flex-end;width: 50%;}#sk-container-id-6 div.sk-parallel-item:last-child::after {align-self: flex-start;width: 50%;}#sk-container-id-6 div.sk-parallel-item:only-child::after {width: 0;}#sk-container-id-6 div.sk-dashed-wrapped {border: 1px dashed gray;margin: 0 0.4em 0.5em 0.4em;box-sizing: border-box;padding-bottom: 0.4em;background-color: white;}#sk-container-id-6 div.sk-label label {font-family: monospace;font-weight: bold;display: inline-block;line-height: 1.2em;}#sk-container-id-6 div.sk-label-container {text-align: center;}#sk-container-id-6 div.sk-container {/* jupyter's `normalize.less` sets `[hidden] { display: none; }` but bootstrap.min.css set `[hidden] { display: none !important; }` so we also need the `!important` here to be able to override the default hidden behavior on the sphinx rendered scikit-learn.org. See: https://github.com/scikit-learn/scikit-learn/issues/21755 */display: inline-block !important;position: relative;}#sk-container-id-6 div.sk-text-repr-fallback {display: none;}</style><div id=\"sk-container-id-6\" class=\"sk-top-container\"><div class=\"sk-text-repr-fallback\"><pre>GridSearchCV(cv=4, estimator=SVC(), n_jobs=-1,\n",
       "             param_grid={&#x27;C&#x27;: [0.1, 0.001, 0.0001, 10, 100, 1000],\n",
       "                         &#x27;gamma&#x27;: [1, 0.1, 0.01, 0.001, 0.0001, 10, 100],\n",
       "                         &#x27;kernel&#x27;: [&#x27;rbf&#x27;]},\n",
       "             refit=&#x27;precision_score&#x27;,\n",
       "             scoring={&#x27;accuracy_score&#x27;: make_scorer(accuracy_score),\n",
       "                      &#x27;f1&#x27;: make_scorer(f1_score),\n",
       "                      &#x27;precision_score&#x27;: make_scorer(precision_score),\n",
       "                      &#x27;recall_score&#x27;: make_scorer(recall_score)},\n",
       "             verbose=3)</pre><b>In a Jupyter environment, please rerun this cell to show the HTML representation or trust the notebook. <br />On GitHub, the HTML representation is unable to render, please try loading this page with nbviewer.org.</b></div><div class=\"sk-container\" hidden><div class=\"sk-item sk-dashed-wrapped\"><div class=\"sk-label-container\"><div class=\"sk-label sk-toggleable\"><input class=\"sk-toggleable__control sk-hidden--visually\" id=\"sk-estimator-id-16\" type=\"checkbox\" ><label for=\"sk-estimator-id-16\" class=\"sk-toggleable__label sk-toggleable__label-arrow\">GridSearchCV</label><div class=\"sk-toggleable__content\"><pre>GridSearchCV(cv=4, estimator=SVC(), n_jobs=-1,\n",
       "             param_grid={&#x27;C&#x27;: [0.1, 0.001, 0.0001, 10, 100, 1000],\n",
       "                         &#x27;gamma&#x27;: [1, 0.1, 0.01, 0.001, 0.0001, 10, 100],\n",
       "                         &#x27;kernel&#x27;: [&#x27;rbf&#x27;]},\n",
       "             refit=&#x27;precision_score&#x27;,\n",
       "             scoring={&#x27;accuracy_score&#x27;: make_scorer(accuracy_score),\n",
       "                      &#x27;f1&#x27;: make_scorer(f1_score),\n",
       "                      &#x27;precision_score&#x27;: make_scorer(precision_score),\n",
       "                      &#x27;recall_score&#x27;: make_scorer(recall_score)},\n",
       "             verbose=3)</pre></div></div></div><div class=\"sk-parallel\"><div class=\"sk-parallel-item\"><div class=\"sk-item\"><div class=\"sk-label-container\"><div class=\"sk-label sk-toggleable\"><input class=\"sk-toggleable__control sk-hidden--visually\" id=\"sk-estimator-id-17\" type=\"checkbox\" ><label for=\"sk-estimator-id-17\" class=\"sk-toggleable__label sk-toggleable__label-arrow\">estimator: SVC</label><div class=\"sk-toggleable__content\"><pre>SVC()</pre></div></div></div><div class=\"sk-serial\"><div class=\"sk-item\"><div class=\"sk-estimator sk-toggleable\"><input class=\"sk-toggleable__control sk-hidden--visually\" id=\"sk-estimator-id-18\" type=\"checkbox\" ><label for=\"sk-estimator-id-18\" class=\"sk-toggleable__label sk-toggleable__label-arrow\">SVC</label><div class=\"sk-toggleable__content\"><pre>SVC()</pre></div></div></div></div></div></div></div></div></div></div>"
      ],
      "text/plain": [
       "GridSearchCV(cv=4, estimator=SVC(), n_jobs=-1,\n",
       "             param_grid={'C': [0.1, 0.001, 0.0001, 10, 100, 1000],\n",
       "                         'gamma': [1, 0.1, 0.01, 0.001, 0.0001, 10, 100],\n",
       "                         'kernel': ['rbf']},\n",
       "             refit='precision_score',\n",
       "             scoring={'accuracy_score': make_scorer(accuracy_score),\n",
       "                      'f1': make_scorer(f1_score),\n",
       "                      'precision_score': make_scorer(precision_score),\n",
       "                      'recall_score': make_scorer(recall_score)},\n",
       "             verbose=3)"
      ]
     },
     "execution_count": 69,
     "metadata": {},
     "output_type": "execute_result"
    },
    {
     "ename": "",
     "evalue": "",
     "output_type": "error",
     "traceback": [
      "\u001b[1;31mRunning cells with 'Python ('codespacesML')' requires ipykernel package.\n",
      "Run the following command to install 'ipykernel' into the Python environment. \n",
      "Command: 'conda install -n codespacesML ipykernel --update-deps --force-reinstall'"
     ]
    }
   ],
   "source": [
    "param_grid = {\n",
    "    'C': [0.1, 0.001, 0.0001, 10, 100, 1000],\n",
    "    'gamma': [1, 0.1, 0.01, 0.001, 0.0001, 10, 100],\n",
    "    'kernel': ['rbf']\n",
    "}\n",
    "\n",
    "scorers = {\n",
    "    'precision_score': make_scorer(precision_score),\n",
    "    'recall_score': make_scorer(recall_score),\n",
    "    'accuracy_score': make_scorer(accuracy_score),\n",
    "    'f1': make_scorer(f1_score),\n",
    "}\n",
    "\n",
    "clf_grid = GridSearchCV(SVC(), param_grid, scoring=scorers, cv=4, refit='precision_score', verbose = 3, n_jobs=-1)\n",
    "clf_grid.fit(X_train, y_train)"
   ]
  },
  {
   "cell_type": "markdown",
   "id": "e3ed73ac",
   "metadata": {},
   "source": [
    "## Compare Results of Baseline and using the Feature Selection Method, why do you think one performed better over the other? What would be your recommendation to improve the model performance? (5pts)"
   ]
  },
  {
   "cell_type": "code",
   "execution_count": null,
   "id": "a3a41f38-4ac8-4d8d-a4d5-b1c2365ff28b",
   "metadata": {},
   "outputs": [
    {
     "name": "stdout",
     "output_type": "stream",
     "text": [
      "0.6283783783783784\n",
      "0.09738219895287958\n",
      "0.16863100634632822\n",
      "0.7606993736951984\n"
     ]
    },
    {
     "ename": "",
     "evalue": "",
     "output_type": "error",
     "traceback": [
      "\u001b[1;31mRunning cells with 'Python ('codespacesML')' requires ipykernel package.\n",
      "Run the following command to install 'ipykernel' into the Python environment. \n",
      "Command: 'conda install -n codespacesML ipykernel --update-deps --force-reinstall'"
     ]
    }
   ],
   "source": [
    "y_pred = clf_grid.best_estimator_.predict(X_test)\n",
    "print(precision_score(y_test, y_pred))\n",
    "print(recall_score(y_test, y_pred))\n",
    "print(f1_score(y_test, y_pred))\n",
    "print(accuracy_score(y_test, y_pred))"
   ]
  },
  {
   "cell_type": "markdown",
   "id": "0a935005-0cb0-48f8-b469-d388fc22aa5f",
   "metadata": {},
   "source": [
    "``Based on the accuracy, precision, recall, and f1-score, the second run with the selected features showed the similar or closer values. However, the second SVM classification performed faster because of the application of RFECV elimination method as a preprocessing step where most features were not included in the gridsearch algorithm. The classification became much robust as lesser points within the same gamma values was classified in a slightly shorter time complexity. As a recommendation, much emphasis is given for the dataset as it may require much preprocessing. The number of overall observation can be further reduced. Also, a possible model development alternative is the randomsearch algorithm as it only has a big O of nlog(n) vs. gridsearch's exponential time complexity``"
   ]
  },
  {
   "cell_type": "markdown",
   "id": "04ad11ee",
   "metadata": {},
   "source": []
  }
 ],
 "metadata": {
  "kernelspec": {
   "display_name": "Python ('codespacesML')",
   "language": "python",
   "name": "python3"
  },
  "language_info": {
   "codemirror_mode": {
    "name": "ipython",
    "version": 3
   },
   "file_extension": ".py",
   "mimetype": "text/x-python",
   "name": "python",
   "nbconvert_exporter": "python",
   "pygments_lexer": "ipython3",
   "version": ""
  },
  "vscode": {
   "interpreter": {
    "hash": "25a19fbe0a9132dfb9279d48d161753c6352f8f9478c2e74383d340069b907c3"
   }
  }
 },
 "nbformat": 4,
 "nbformat_minor": 5
}
