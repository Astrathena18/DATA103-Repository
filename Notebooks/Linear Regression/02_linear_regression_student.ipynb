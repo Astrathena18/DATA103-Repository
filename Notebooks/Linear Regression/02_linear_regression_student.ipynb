{
 "cells": [
  {
   "cell_type": "code",
   "execution_count": 5,
   "id": "b2095a9c",
   "metadata": {},
   "outputs": [
    {
     "data": {
      "text/plain": "[(0.4, 0.7607843137254902, 0.6470588235294118),\n (0.9882352941176471, 0.5529411764705883, 0.3843137254901961),\n (0.5529411764705883, 0.6274509803921569, 0.796078431372549),\n (0.9058823529411765, 0.5411764705882353, 0.7647058823529411),\n (0.6509803921568628, 0.8470588235294118, 0.32941176470588235),\n (1.0, 0.8509803921568627, 0.1843137254901961),\n (0.8980392156862745, 0.7686274509803922, 0.5803921568627451),\n (0.7019607843137254, 0.7019607843137254, 0.7019607843137254)]",
      "text/html": "<svg  width=\"440\" height=\"55\"><rect x=\"0\" y=\"0\" width=\"55\" height=\"55\" style=\"fill:#66c2a5;stroke-width:2;stroke:rgb(255,255,255)\"/><rect x=\"55\" y=\"0\" width=\"55\" height=\"55\" style=\"fill:#fc8d62;stroke-width:2;stroke:rgb(255,255,255)\"/><rect x=\"110\" y=\"0\" width=\"55\" height=\"55\" style=\"fill:#8da0cb;stroke-width:2;stroke:rgb(255,255,255)\"/><rect x=\"165\" y=\"0\" width=\"55\" height=\"55\" style=\"fill:#e78ac3;stroke-width:2;stroke:rgb(255,255,255)\"/><rect x=\"220\" y=\"0\" width=\"55\" height=\"55\" style=\"fill:#a6d854;stroke-width:2;stroke:rgb(255,255,255)\"/><rect x=\"275\" y=\"0\" width=\"55\" height=\"55\" style=\"fill:#ffd92f;stroke-width:2;stroke:rgb(255,255,255)\"/><rect x=\"330\" y=\"0\" width=\"55\" height=\"55\" style=\"fill:#e5c494;stroke-width:2;stroke:rgb(255,255,255)\"/><rect x=\"385\" y=\"0\" width=\"55\" height=\"55\" style=\"fill:#b3b3b3;stroke-width:2;stroke:rgb(255,255,255)\"/></svg>"
     },
     "execution_count": 5,
     "metadata": {},
     "output_type": "execute_result"
    }
   ],
   "source": [
    "import numpy as np\n",
    "import pandas as pd\n",
    "import matplotlib.pyplot as plt\n",
    "\n",
    "from sklearn import datasets\n",
    "from sklearn.model_selection import train_test_split\n",
    "from sklearn.metrics import mean_squared_error\n",
    "\n",
    "\n",
    "import seaborn as sns\n",
    "\n",
    "sns.set_style('whitegrid')\n",
    "\n",
    "sns.set_palette('Set2')\n",
    "sns.color_palette('Set2')"
   ]
  },
  {
   "cell_type": "markdown",
   "source": [
    "## Create Synthetic Data"
   ],
   "metadata": {
    "collapsed": false
   }
  },
  {
   "cell_type": "code",
   "execution_count": 6,
   "outputs": [
    {
     "data": {
      "text/plain": "<Figure size 800x400 with 1 Axes>",
      "image/png": "[encoded data removed]"
     },
     "metadata": {},
     "output_type": "display_data"
    }
   ],
   "source": [
    "np.random.seed(42)\n",
    "\n",
    "n = 50\n",
    "x = np.arange(n)\n",
    "noise = (np.random.random(n) - 0.5) * 3\n",
    "bias = 5\n",
    "y = 0.5*x + bias + noise\n",
    "\n",
    "fig, ax = plt.subplots(1, 1, dpi=100, figsize=(8,4))\n",
    "sns.scatterplot(x=x, y=y, ax=ax)\n",
    "\n",
    "plt.title('Synthetic data')\n",
    "plt.show()"
   ],
   "metadata": {
    "collapsed": false,
    "pycharm": {
     "name": "#%%\n"
    }
   }
  },
  {
   "cell_type": "markdown",
   "id": "8004ce22",
   "metadata": {},
   "source": [
    "## Gradient Descent Algorithm From Scratch"
   ]
  },
  {
   "cell_type": "markdown",
   "id": "17763013",
   "metadata": {},
   "source": [
    "For this exercise we will code together the gradient descent algorithm. Our goal is to minimize the MSE loss function and find the line of best fit using the synthetic data from the previous cell. Using this data we will find the best weights/coefficients for the function \n",
    "\n",
    "$$ \\hat{y} = w_1 * X_1 + w_2 * X_2 + w3 $$\n",
    "\n",
    "We will do the following steps in the algorithm: \n",
    "\n",
    "1. Initialize weights randomly:\n",
    "\n",
    "$$ w_1 = .037 $$\n",
    "$$  w_2 = .095 $$\n",
    "$$ w_3 = .01 $$\n",
    "\n",
    "2. Calculate Gradient & Update Weights \n",
    "\n",
    "    Define our loss function as\n",
    "$$MSE = \\sum_{i=1}^{n}(y_i - \\hat{y})^2 $$ where \n",
    "$$ \\hat{y} = w_1 * X_1 + w_2 * X_2 + w3 $$\n",
    "\n",
    "\n",
    "    Calculate the gradient or partial derivatives for each weight to take a step towards a better prediction\n",
    "    \n",
    "$$\\frac{\\partial f}{\\partial w_1} = \\frac{1}{n}\\sum_{i=1}^{n}-2x_1(y_i - (w_1x_1+w_2x_2+w_3))$$\n",
    "$$\\frac{\\partial f}{\\partial w_2} = \\frac{1}{n}\\sum_{i=1}^{n}2x_2(y_i - (w_1x_1+w_2x_2+w_3))$$\n",
    "$$\\frac{\\partial f}{\\partial w_3} = \\frac{1}{n}\\sum_{i=1}^{n}2(y_i - (w_1x_1+w_2x_2+w_3))$$\n",
    "  \n",
    "\n",
    "3. Compute loss and repeat step 2 until we reach max number of iterations or stopping critetion"
   ]
  },
  {
   "cell_type": "code",
   "execution_count": 7,
   "id": "dd07661c",
   "metadata": {},
   "outputs": [],
   "source": [
    "np.random.seed(42)\n",
    "X = x.reshape(-1,1)\n",
    "b = np.ones(X.shape[0]).reshape(-1,1)\n",
    "X = np.concatenate([b, X], axis=1)"
   ]
  },
  {
   "cell_type": "code",
   "execution_count": 8,
   "id": "8109632a",
   "metadata": {},
   "outputs": [],
   "source": [
    "def run_gradient_descent(X, y, learning_rate=1e-3, max_iter=10000):\n",
    "    w1, w2, w3 = 0.037, .095, .01\n",
    "    stop_criterion = 0.00001\n",
    "    max_iter = 500\n",
    "    N = len(y)\n",
    "\n",
    "    #store results\n",
    "    log = []\n",
    "    mse = []\n",
    "\n",
    "    while max_iter > 0:\n",
    "        f = y - (w1*X[:,0] + w2*X[:, 1] + w3)\n",
    "\n",
    "        #calculate gradient & update weights\n",
    "        w1 -= learning_rate * (-2 * X[:,0].dot(f).sum()/ N)\n",
    "        w2 -= learning_rate * (-2 * X[:,1].dot(f).sum()/ N)\n",
    "        w3 -= learning_rate * (-2 * f.sum() / N)\n",
    "\n",
    "        #calculate loss\n",
    "        new_error = mean_squared_error(y, (w1*X[:,0] + w2*X[:,1] + w3))\n",
    "\n",
    "        #store results\n",
    "        log.append((w1,w2,w3))\n",
    "        mse.append(new_error)\n",
    "\n",
    "        if new_error <= stop_criterion:\n",
    "            break\n",
    "        max_iter -= 1\n",
    "\n",
    "\n",
    "    return w1, w2, w3, log, mse"
   ]
  },
  {
   "cell_type": "code",
   "execution_count": 9,
   "id": "c5bbbd0f",
   "metadata": {},
   "outputs": [],
   "source": [
    "w1, w2, w3, log, mse = run_gradient_descent(X, y)"
   ]
  },
  {
   "cell_type": "code",
   "execution_count": 10,
   "id": "137cbcf1",
   "metadata": {},
   "outputs": [
    {
     "name": "stdout",
     "output_type": "stream",
     "text": [
      "1.0282584382603723 0.584216866141407 1.0012584382603722\n"
     ]
    }
   ],
   "source": [
    "print(w1,w2,w3)"
   ]
  },
  {
   "cell_type": "code",
   "execution_count": 13,
   "outputs": [
    {
     "name": "stdout",
     "output_type": "stream",
     "text": [
      "[[ 1.  0.]\n",
      " [ 1.  1.]\n",
      " [ 1.  2.]\n",
      " [ 1.  3.]\n",
      " [ 1.  4.]\n",
      " [ 1.  5.]\n",
      " [ 1.  6.]\n",
      " [ 1.  7.]\n",
      " [ 1.  8.]\n",
      " [ 1.  9.]\n",
      " [ 1. 10.]\n",
      " [ 1. 11.]\n",
      " [ 1. 12.]\n",
      " [ 1. 13.]\n",
      " [ 1. 14.]\n",
      " [ 1. 15.]\n",
      " [ 1. 16.]\n",
      " [ 1. 17.]\n",
      " [ 1. 18.]\n",
      " [ 1. 19.]\n",
      " [ 1. 20.]\n",
      " [ 1. 21.]\n",
      " [ 1. 22.]\n",
      " [ 1. 23.]\n",
      " [ 1. 24.]\n",
      " [ 1. 25.]\n",
      " [ 1. 26.]\n",
      " [ 1. 27.]\n",
      " [ 1. 28.]\n",
      " [ 1. 29.]\n",
      " [ 1. 30.]\n",
      " [ 1. 31.]\n",
      " [ 1. 32.]\n",
      " [ 1. 33.]\n",
      " [ 1. 34.]\n",
      " [ 1. 35.]\n",
      " [ 1. 36.]\n",
      " [ 1. 37.]\n",
      " [ 1. 38.]\n",
      " [ 1. 39.]\n",
      " [ 1. 40.]\n",
      " [ 1. 41.]\n",
      " [ 1. 42.]\n",
      " [ 1. 43.]\n",
      " [ 1. 44.]\n",
      " [ 1. 45.]\n",
      " [ 1. 46.]\n",
      " [ 1. 47.]\n",
      " [ 1. 48.]\n",
      " [ 1. 49.]]\n"
     ]
    }
   ],
   "source": [
    "print(X)"
   ],
   "metadata": {
    "collapsed": false,
    "pycharm": {
     "name": "#%%\n"
    }
   }
  },
  {
   "cell_type": "code",
   "execution_count": 11,
   "outputs": [
    {
     "name": "stdout",
     "output_type": "stream",
     "text": [
      "[ 0.  1.  2.  3.  4.  5.  6.  7.  8.  9. 10. 11. 12. 13. 14. 15. 16. 17.\n",
      " 18. 19. 20. 21. 22. 23. 24. 25. 26. 27. 28. 29. 30. 31. 32. 33. 34. 35.\n",
      " 36. 37. 38. 39. 40. 41. 42. 43. 44. 45. 46. 47. 48. 49.]\n"
     ]
    }
   ],
   "source": [
    "print(X[:,1])"
   ],
   "metadata": {
    "collapsed": false,
    "pycharm": {
     "name": "#%%\n"
    }
   }
  },
  {
   "cell_type": "markdown",
   "id": "dae1d7b1",
   "metadata": {},
   "source": [
    "## Plot Trend Line & Loss Optimization"
   ]
  },
  {
   "cell_type": "code",
   "execution_count": 12,
   "id": "21653c52",
   "metadata": {},
   "outputs": [
    {
     "data": {
      "text/plain": "<AxesSubplot:>"
     },
     "execution_count": 12,
     "metadata": {},
     "output_type": "execute_result"
    },
    {
     "data": {
      "text/plain": "<Figure size 1080x720 with 1 Axes>",
      "image/png": "[encoded data removed]"
     },
     "metadata": {},
     "output_type": "display_data"
    }
   ],
   "source": [
    "fig, ax = plt.subplots(figsize=(15,10))\n",
    "\n",
    "y_pred = w1*X[:,0] + w2*X[:,1] + w3\n",
    "sns.scatterplot(x=x, y=y, ax=ax)\n",
    "sns.lineplot(x=x, y=y_pred, ax=ax)\n"
   ]
  },
  {
   "cell_type": "markdown",
   "id": "cdaba2d5",
   "metadata": {},
   "source": [
    "## Plot Trend Line & Loss Optimization with a Small Learning Rate"
   ]
  },
  {
   "cell_type": "code",
   "execution_count": null,
   "id": "e5490eef",
   "metadata": {},
   "outputs": [],
   "source": []
  },
  {
   "cell_type": "markdown",
   "id": "b0f39f32",
   "metadata": {},
   "source": [
    "## Plot Trend Line & Loss Optimization with a Large Learning Rate"
   ]
  },
  {
   "cell_type": "code",
   "execution_count": null,
   "id": "853d584e",
   "metadata": {},
   "outputs": [],
   "source": []
  },
  {
   "cell_type": "code",
   "execution_count": 15,
   "outputs": [
    {
     "ename": "NameError",
     "evalue": "name 'LinearRegression' is not defined",
     "output_type": "error",
     "traceback": [
      "\u001B[1;31m---------------------------------------------------------------------------\u001B[0m",
      "\u001B[1;31mNameError\u001B[0m                                 Traceback (most recent call last)",
      "\u001B[1;32m~\\AppData\\Local\\Temp/ipykernel_1256/2103462252.py\u001B[0m in \u001B[0;36m<module>\u001B[1;34m\u001B[0m\n\u001B[1;32m----> 1\u001B[1;33m \u001B[0mreg\u001B[0m \u001B[1;33m=\u001B[0m \u001B[0mLinearRegression\u001B[0m\u001B[1;33m(\u001B[0m\u001B[1;33m)\u001B[0m\u001B[1;33m.\u001B[0m\u001B[0mfit\u001B[0m\u001B[1;33m(\u001B[0m\u001B[0mX_train\u001B[0m\u001B[1;33m,\u001B[0m \u001B[0my_train\u001B[0m\u001B[1;33m)\u001B[0m\u001B[1;33m\u001B[0m\u001B[1;33m\u001B[0m\u001B[0m\n\u001B[0m\u001B[0;32m      2\u001B[0m \u001B[0mreg\u001B[0m\u001B[1;33m.\u001B[0m\u001B[0mscore\u001B[0m\u001B[1;33m(\u001B[0m\u001B[0mX_test\u001B[0m\u001B[1;33m,\u001B[0m \u001B[0my_test\u001B[0m\u001B[1;33m)\u001B[0m\u001B[1;33m\u001B[0m\u001B[1;33m\u001B[0m\u001B[0m\n\u001B[0;32m      3\u001B[0m \u001B[0my_pred\u001B[0m \u001B[1;33m=\u001B[0m \u001B[0mreg\u001B[0m\u001B[1;33m.\u001B[0m\u001B[0mpredict\u001B[0m\u001B[1;33m(\u001B[0m\u001B[0mX_test\u001B[0m\u001B[1;33m)\u001B[0m\u001B[1;33m\u001B[0m\u001B[1;33m\u001B[0m\u001B[0m\n\u001B[0;32m      4\u001B[0m \u001B[0mmean_squared_error\u001B[0m\u001B[1;33m(\u001B[0m\u001B[0my_test\u001B[0m\u001B[1;33m,\u001B[0m \u001B[0my_pred\u001B[0m\u001B[1;33m)\u001B[0m\u001B[1;33m\u001B[0m\u001B[1;33m\u001B[0m\u001B[0m\n\u001B[0;32m      5\u001B[0m \u001B[0mreg\u001B[0m\u001B[1;33m.\u001B[0m\u001B[0mcoef_\u001B[0m\u001B[1;33m\u001B[0m\u001B[1;33m\u001B[0m\u001B[0m\n",
      "\u001B[1;31mNameError\u001B[0m: name 'LinearRegression' is not defined"
     ]
    }
   ],
   "source": [
    "reg = LinearRegression().fit(X_train, y_train)\n",
    "reg.score(X_test, y_test)\n",
    "y_pred = reg.predict(X_test)\n",
    "mean_squared_error(y_test, y_pred)\n",
    "reg.coef_\n"
   ],
   "metadata": {
    "collapsed": false,
    "pycharm": {
     "name": "#%%\n"
    }
   }
  },
  {
   "cell_type": "markdown",
   "id": "c38db933",
   "metadata": {},
   "source": [
    "## SKLearn Linear Regression"
   ]
  },
  {
   "cell_type": "code",
   "execution_count": 24,
   "id": "dc1ab024",
   "metadata": {},
   "outputs": [],
   "source": [
    "from sklearn.linear_model import LinearRegression"
   ]
  },
  {
   "cell_type": "markdown",
   "id": "b9c5a5e2",
   "metadata": {},
   "source": [
    "We'll be using another dataset for the regression task since we need continuous values as labels / outputs / targets. One readily-available dataset for this is the **Boston dataset**. It contains the house pricing data in Boston as well as the following features:\n",
    "\n",
    " - CRIM per capita crime rate by town\n",
    " - ZN proportion of residential land zoned for lots over 25,000 sq.ft.\n",
    " - INDUS proportion of non-retail business acres per town\n",
    " - CHAS Charles River dummy variable (= 1 if tract bounds river; 0 otherwise)\n",
    " - NOX nitric oxides concentration (parts per 10 million)\n",
    " - RM average number of rooms per dwelling\n",
    " - AGE proportion of owner-occupied units built prior to 1940\n",
    " - DIS weighted distances to five Boston employment centres\n",
    " - RAD index of accessibility to radial highways\n",
    " - TAX full-value property-tax rate per \\$10,000\n",
    " - PTRATIO pupil-teacher ratio by town\n",
    " - B 1000(Bk - 0.63)^2 where Bk is the proportion of blacks by town\n",
    " - LSTAT % lower status of the population\n",
    " - MEDV Median value of owner-occupied homes in $1000’s\n"
   ]
  },
  {
   "cell_type": "code",
   "execution_count": 25,
   "id": "b98628ef",
   "metadata": {},
   "outputs": [
    {
     "name": "stdout",
     "output_type": "stream",
     "text": [
      "Original Size | Input: (506, 13), Output: (506,)\n",
      "Train Set Size | Input: (404, 13), Output: (404,)\n",
      "Test Set Size | Input: (102, 13), Output: (102,)\n"
     ]
    }
   ],
   "source": [
    "X, y = datasets.load_boston(return_X_y=True)\n",
    "X_train, X_test, y_train, y_test = train_test_split(X, y, test_size=0.2, random_state=42)\n",
    "print(f\"Original Size | Input: {X.shape}, Output: {y.shape}\")\n",
    "print(f\"Train Set Size | Input: {X_train.shape}, Output: {y_train.shape}\")\n",
    "print(f\"Test Set Size | Input: {X_test.shape}, Output: {y_test.shape}\")"
   ]
  },
  {
   "cell_type": "markdown",
   "id": "74748f62",
   "metadata": {},
   "source": [
    "## Check feature importance"
   ]
  },
  {
   "cell_type": "code",
   "execution_count": 14,
   "id": "283e0100",
   "metadata": {},
   "outputs": [
    {
     "ename": "NameError",
     "evalue": "name 'reg' is not defined",
     "output_type": "error",
     "traceback": [
      "\u001B[1;31m---------------------------------------------------------------------------\u001B[0m",
      "\u001B[1;31mNameError\u001B[0m                                 Traceback (most recent call last)",
      "\u001B[1;32m~\\AppData\\Local\\Temp/ipykernel_1256/1335394541.py\u001B[0m in \u001B[0;36m<module>\u001B[1;34m\u001B[0m\n\u001B[0;32m      1\u001B[0m \u001B[0mcols\u001B[0m \u001B[1;33m=\u001B[0m \u001B[1;33m[\u001B[0m\u001B[1;34m'CRIM'\u001B[0m\u001B[1;33m,\u001B[0m \u001B[1;34m'ZN'\u001B[0m\u001B[1;33m,\u001B[0m \u001B[1;34m'INDUS'\u001B[0m\u001B[1;33m,\u001B[0m \u001B[1;34m'CHAS'\u001B[0m\u001B[1;33m,\u001B[0m \u001B[1;34m'NOX'\u001B[0m\u001B[1;33m,\u001B[0m \u001B[1;34m'RM'\u001B[0m\u001B[1;33m,\u001B[0m \u001B[1;34m'AGE'\u001B[0m\u001B[1;33m,\u001B[0m \u001B[1;34m'DIS'\u001B[0m\u001B[1;33m,\u001B[0m \u001B[1;34m'RAD'\u001B[0m\u001B[1;33m,\u001B[0m \u001B[1;34m'TAX'\u001B[0m\u001B[1;33m,\u001B[0m \u001B[1;34m'PTRATIO'\u001B[0m\u001B[1;33m,\u001B[0m \u001B[1;34m'B 1000'\u001B[0m\u001B[1;33m,\u001B[0m \u001B[1;34m'LSTAT %'\u001B[0m\u001B[1;33m]\u001B[0m\u001B[1;33m\u001B[0m\u001B[1;33m\u001B[0m\u001B[0m\n\u001B[0;32m      2\u001B[0m \u001B[0mfig\u001B[0m\u001B[1;33m,\u001B[0m \u001B[0max\u001B[0m \u001B[1;33m=\u001B[0m \u001B[0mplt\u001B[0m\u001B[1;33m.\u001B[0m\u001B[0msubplots\u001B[0m\u001B[1;33m(\u001B[0m\u001B[0mfigsize\u001B[0m\u001B[1;33m=\u001B[0m\u001B[1;33m(\u001B[0m\u001B[1;36m15\u001B[0m\u001B[1;33m,\u001B[0m\u001B[1;36m10\u001B[0m\u001B[1;33m)\u001B[0m\u001B[1;33m)\u001B[0m\u001B[1;33m\u001B[0m\u001B[1;33m\u001B[0m\u001B[0m\n\u001B[1;32m----> 3\u001B[1;33m \u001B[0msns\u001B[0m\u001B[1;33m.\u001B[0m\u001B[0mbarplot\u001B[0m\u001B[1;33m(\u001B[0m\u001B[0mx\u001B[0m\u001B[1;33m=\u001B[0m\u001B[0mreg\u001B[0m\u001B[1;33m.\u001B[0m\u001B[0mcoef_\u001B[0m\u001B[1;33m,\u001B[0m \u001B[0my\u001B[0m\u001B[1;33m=\u001B[0m\u001B[0mcols\u001B[0m\u001B[1;33m)\u001B[0m\u001B[1;33m\u001B[0m\u001B[1;33m\u001B[0m\u001B[0m\n\u001B[0m\u001B[0;32m      4\u001B[0m \u001B[1;33m\u001B[0m\u001B[0m\n\u001B[0;32m      5\u001B[0m \u001B[1;32mfor\u001B[0m \u001B[0mp\u001B[0m \u001B[1;32min\u001B[0m \u001B[0max\u001B[0m\u001B[1;33m.\u001B[0m\u001B[0mpatches\u001B[0m\u001B[1;33m:\u001B[0m\u001B[1;33m\u001B[0m\u001B[1;33m\u001B[0m\u001B[0m\n",
      "\u001B[1;31mNameError\u001B[0m: name 'reg' is not defined"
     ]
    },
    {
     "data": {
      "text/plain": "<Figure size 1080x720 with 1 Axes>",
      "image/png": "[encoded data removed]"
     },
     "metadata": {},
     "output_type": "display_data"
    }
   ],
   "source": [
    "cols = ['CRIM', 'ZN', 'INDUS', 'CHAS', 'NOX', 'RM', 'AGE', 'DIS', 'RAD', 'TAX', 'PTRATIO', 'B 1000', 'LSTAT %']\n",
    "fig, ax = plt.subplots(figsize=(15,10))\n",
    "sns.barplot(x=reg.coef_, y=cols)\n",
    "\n",
    "for p in ax.patches:\n",
    "    width = p.get_width()    # get bar length\n",
    "    ax.text(width - .5,       # set the text at 1 unit right of the bar\n",
    "            p.get_y() + p.get_height() / 2, # get Y coordinate + X coordinate / 2\n",
    "            '{:1.2f}'.format(width), # set variable to display, 2 decimals\n",
    "            ha = 'left',   # horizontal alignment\n",
    "            va = 'center',\n",
    "            fontsize=13)  # vertical alignment\n"
   ]
  },
  {
   "cell_type": "markdown",
   "id": "1e29a945",
   "metadata": {},
   "source": [
    "## Plot Trend Line"
   ]
  },
  {
   "cell_type": "code",
   "execution_count": null,
   "id": "1ff5beb0",
   "metadata": {},
   "outputs": [],
   "source": []
  },
  {
   "cell_type": "markdown",
   "id": "ea83f3c4",
   "metadata": {},
   "source": [
    "## Linear Regression using ScipyStats"
   ]
  },
  {
   "cell_type": "markdown",
   "id": "a4edfe9a",
   "metadata": {},
   "source": [
    "If you are getting a module not found error you might have to install the scipy package. Run the command be low on your anaconda shell to install the package.\n",
    "\n",
    "`conda install -c conda-forge statsmodels`"
   ]
  },
  {
   "cell_type": "code",
   "execution_count": 4,
   "id": "6e40c69e",
   "metadata": {},
   "outputs": [],
   "source": [
    "import statsmodels.api as sm"
   ]
  },
  {
   "cell_type": "code",
   "execution_count": 14,
   "id": "f724381d",
   "metadata": {},
   "outputs": [
    {
     "data": {
      "text/html": [
       "<table class=\"simpletable\">\n",
       "<caption>OLS Regression Results</caption>\n",
       "<tr>\n",
       "  <th>Dep. Variable:</th>            <td>y</td>        <th>  R-squared (uncentered):</th>      <td>   0.962</td> \n",
       "</tr>\n",
       "<tr>\n",
       "  <th>Model:</th>                   <td>OLS</td>       <th>  Adj. R-squared (uncentered):</th> <td>   0.960</td> \n",
       "</tr>\n",
       "<tr>\n",
       "  <th>Method:</th>             <td>Least Squares</td>  <th>  F-statistic:       </th>          <td>   755.7</td> \n",
       "</tr>\n",
       "<tr>\n",
       "  <th>Date:</th>             <td>Mon, 01 Nov 2021</td> <th>  Prob (F-statistic):</th>          <td>1.13e-267</td>\n",
       "</tr>\n",
       "<tr>\n",
       "  <th>Time:</th>                 <td>21:59:28</td>     <th>  Log-Likelihood:    </th>          <td> -1208.5</td> \n",
       "</tr>\n",
       "<tr>\n",
       "  <th>No. Observations:</th>      <td>   404</td>      <th>  AIC:               </th>          <td>   2443.</td> \n",
       "</tr>\n",
       "<tr>\n",
       "  <th>Df Residuals:</th>          <td>   391</td>      <th>  BIC:               </th>          <td>   2495.</td> \n",
       "</tr>\n",
       "<tr>\n",
       "  <th>Df Model:</th>              <td>    13</td>      <th>                     </th>              <td> </td>    \n",
       "</tr>\n",
       "<tr>\n",
       "  <th>Covariance Type:</th>      <td>nonrobust</td>    <th>                     </th>              <td> </td>    \n",
       "</tr>\n",
       "</table>\n",
       "<table class=\"simpletable\">\n",
       "<tr>\n",
       "   <td></td>      <th>coef</th>     <th>std err</th>      <th>t</th>      <th>P>|t|</th>  <th>[0.025</th>    <th>0.975]</th>  \n",
       "</tr>\n",
       "<tr>\n",
       "  <th>x1</th>  <td>   -0.1005</td> <td>    0.036</td> <td>   -2.799</td> <td> 0.005</td> <td>   -0.171</td> <td>   -0.030</td>\n",
       "</tr>\n",
       "<tr>\n",
       "  <th>x2</th>  <td>    0.0342</td> <td>    0.017</td> <td>    2.068</td> <td> 0.039</td> <td>    0.002</td> <td>    0.067</td>\n",
       "</tr>\n",
       "<tr>\n",
       "  <th>x3</th>  <td>    0.0336</td> <td>    0.070</td> <td>    0.482</td> <td> 0.630</td> <td>   -0.103</td> <td>    0.171</td>\n",
       "</tr>\n",
       "<tr>\n",
       "  <th>x4</th>  <td>    2.7397</td> <td>    0.989</td> <td>    2.771</td> <td> 0.006</td> <td>    0.796</td> <td>    4.683</td>\n",
       "</tr>\n",
       "<tr>\n",
       "  <th>x5</th>  <td>   -5.1551</td> <td>    3.706</td> <td>   -1.391</td> <td> 0.165</td> <td>  -12.440</td> <td>    2.130</td>\n",
       "</tr>\n",
       "<tr>\n",
       "  <th>x6</th>  <td>    6.1960</td> <td>    0.338</td> <td>   18.352</td> <td> 0.000</td> <td>    5.532</td> <td>    6.860</td>\n",
       "</tr>\n",
       "<tr>\n",
       "  <th>x7</th>  <td>   -0.0111</td> <td>    0.015</td> <td>   -0.737</td> <td> 0.462</td> <td>   -0.041</td> <td>    0.018</td>\n",
       "</tr>\n",
       "<tr>\n",
       "  <th>x8</th>  <td>   -1.0200</td> <td>    0.218</td> <td>   -4.669</td> <td> 0.000</td> <td>   -1.450</td> <td>   -0.591</td>\n",
       "</tr>\n",
       "<tr>\n",
       "  <th>x9</th>  <td>    0.1388</td> <td>    0.075</td> <td>    1.855</td> <td> 0.064</td> <td>   -0.008</td> <td>    0.286</td>\n",
       "</tr>\n",
       "<tr>\n",
       "  <th>x10</th> <td>   -0.0078</td> <td>    0.004</td> <td>   -1.790</td> <td> 0.074</td> <td>   -0.016</td> <td>    0.001</td>\n",
       "</tr>\n",
       "<tr>\n",
       "  <th>x11</th> <td>   -0.4541</td> <td>    0.119</td> <td>   -3.815</td> <td> 0.000</td> <td>   -0.688</td> <td>   -0.220</td>\n",
       "</tr>\n",
       "<tr>\n",
       "  <th>x12</th> <td>    0.0168</td> <td>    0.003</td> <td>    5.728</td> <td> 0.000</td> <td>    0.011</td> <td>    0.023</td>\n",
       "</tr>\n",
       "<tr>\n",
       "  <th>x13</th> <td>   -0.4259</td> <td>    0.055</td> <td>   -7.699</td> <td> 0.000</td> <td>   -0.535</td> <td>   -0.317</td>\n",
       "</tr>\n",
       "</table>\n",
       "<table class=\"simpletable\">\n",
       "<tr>\n",
       "  <th>Omnibus:</th>       <td>154.481</td> <th>  Durbin-Watson:     </th> <td>   2.089</td> \n",
       "</tr>\n",
       "<tr>\n",
       "  <th>Prob(Omnibus):</th> <td> 0.000</td>  <th>  Jarque-Bera (JB):  </th> <td>1082.869</td> \n",
       "</tr>\n",
       "<tr>\n",
       "  <th>Skew:</th>          <td> 1.452</td>  <th>  Prob(JB):          </th> <td>7.21e-236</td>\n",
       "</tr>\n",
       "<tr>\n",
       "  <th>Kurtosis:</th>      <td>10.477</td>  <th>  Cond. No.          </th> <td>8.46e+03</td> \n",
       "</tr>\n",
       "</table><br/><br/>Notes:<br/>[1] R² is computed without centering (uncentered) since the model does not contain a constant.<br/>[2] Standard Errors assume that the covariance matrix of the errors is correctly specified.<br/>[3] The condition number is large, 8.46e+03. This might indicate that there are<br/>strong multicollinearity or other numerical problems."
      ],
      "text/plain": [
       "<class 'statsmodels.iolib.summary.Summary'>\n",
       "\"\"\"\n",
       "                                 OLS Regression Results                                \n",
       "=======================================================================================\n",
       "Dep. Variable:                      y   R-squared (uncentered):                   0.962\n",
       "Model:                            OLS   Adj. R-squared (uncentered):              0.960\n",
       "Method:                 Least Squares   F-statistic:                              755.7\n",
       "Date:                Mon, 01 Nov 2021   Prob (F-statistic):                   1.13e-267\n",
       "Time:                        21:59:28   Log-Likelihood:                         -1208.5\n",
       "No. Observations:                 404   AIC:                                      2443.\n",
       "Df Residuals:                     391   BIC:                                      2495.\n",
       "Df Model:                          13                                                  \n",
       "Covariance Type:            nonrobust                                                  \n",
       "==============================================================================\n",
       "                 coef    std err          t      P>|t|      [0.025      0.975]\n",
       "------------------------------------------------------------------------------\n",
       "x1            -0.1005      0.036     -2.799      0.005      -0.171      -0.030\n",
       "x2             0.0342      0.017      2.068      0.039       0.002       0.067\n",
       "x3             0.0336      0.070      0.482      0.630      -0.103       0.171\n",
       "x4             2.7397      0.989      2.771      0.006       0.796       4.683\n",
       "x5            -5.1551      3.706     -1.391      0.165     -12.440       2.130\n",
       "x6             6.1960      0.338     18.352      0.000       5.532       6.860\n",
       "x7            -0.0111      0.015     -0.737      0.462      -0.041       0.018\n",
       "x8            -1.0200      0.218     -4.669      0.000      -1.450      -0.591\n",
       "x9             0.1388      0.075      1.855      0.064      -0.008       0.286\n",
       "x10           -0.0078      0.004     -1.790      0.074      -0.016       0.001\n",
       "x11           -0.4541      0.119     -3.815      0.000      -0.688      -0.220\n",
       "x12            0.0168      0.003      5.728      0.000       0.011       0.023\n",
       "x13           -0.4259      0.055     -7.699      0.000      -0.535      -0.317\n",
       "==============================================================================\n",
       "Omnibus:                      154.481   Durbin-Watson:                   2.089\n",
       "Prob(Omnibus):                  0.000   Jarque-Bera (JB):             1082.869\n",
       "Skew:                           1.452   Prob(JB):                    7.21e-236\n",
       "Kurtosis:                      10.477   Cond. No.                     8.46e+03\n",
       "==============================================================================\n",
       "\n",
       "Notes:\n",
       "[1] R² is computed without centering (uncentered) since the model does not contain a constant.\n",
       "[2] Standard Errors assume that the covariance matrix of the errors is correctly specified.\n",
       "[3] The condition number is large, 8.46e+03. This might indicate that there are\n",
       "strong multicollinearity or other numerical problems.\n",
       "\"\"\""
      ]
     },
     "execution_count": 14,
     "metadata": {},
     "output_type": "execute_result"
    }
   ],
   "source": [
    "import statsmodels.formula.api as smf\n",
    "import statsmodels.api as sm\n",
    "\n",
    "reg =  sm.OLS(y_train, X_train).fit()\n",
    "reg.summary()"
   ]
  }
 ],
 "metadata": {
  "kernelspec": {
   "display_name": "Python 3",
   "language": "python",
   "name": "python3"
  },
  "language_info": {
   "codemirror_mode": {
    "name": "ipython",
    "version": 3
   },
   "file_extension": ".py",
   "mimetype": "text/x-python",
   "name": "python",
   "nbconvert_exporter": "python",
   "pygments_lexer": "ipython3",
   "version": "3.7.7"
  }
 },
 "nbformat": 4,
 "nbformat_minor": 5
}