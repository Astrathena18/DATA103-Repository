{
 "cells": [
  {
   "cell_type": "markdown",
   "id": "5c9f7b99",
   "metadata": {},
   "source": [
    "# Magsano, Niño Matthew"
   ]
  },
  {
   "cell_type": "code",
   "execution_count": 1,
   "id": "6be16b47",
   "metadata": {},
   "outputs": [],
   "source": [
    "import pandas as pd \n",
    "import seaborn as sns \n",
    "import matplotlib.pyplot as plt\n",
    "%matplotlib inline\n",
    "\n",
    "sns.set_style('whitegrid')\n",
    "sns.set_palette('Set2')\n",
    "sns.color_palette('Set2')\n",
    "dlsu_green = \"#117a65ff\"\n",
    "\n",
    "from sklearn.linear_model import LinearRegression\n",
    "from sklearn.preprocessing import OneHotEncoder"
   ]
  },
  {
   "cell_type": "markdown",
   "id": "ba44e7ab",
   "metadata": {},
   "source": [
    "For this assignment you will be creating 2 models. One using KNN and another using Linear Regression. The dataset to be used for this will be the Campus Placement dataset (https://www.kaggle.com/benroshan/factors-affecting-campus-placement). The dataset contains 15 features these are:\n",
    "\n",
    "- sl_no - serial # of unique identifier for student \n",
    "- gender - gender of student \n",
    "- ssc_p - Secondary Education percentage- 10th Grade\n",
    "- ssc_b - Board of Education- Central/ Others\n",
    "- hsc_p - Higher Secondary Education percentage- 12th Grade\n",
    "- hsc_b - Board of Education- Central/ Others\n",
    "- hsc_s - Specialization in Higher Secondary Education\n",
    "- degree_p - Degree Percentage\n",
    "- degree_t - Under Graduation(Degree type)- Field of degree education\n",
    "- workex - Work Experience yes/no\n",
    "- etest_p - Employability test percentage ( conducted by college)\n",
    "- specialisation - Post Graduation(MBA)- Specialization\n",
    "- mba_p - MBA percentage\n",
    "- status - Status of placement- Placed/Not placed\n",
    "- salary - Salary offered by corporate to candidates\n",
    "\n",
    "For the classification assignment we will be using the `status feature` as our target while for our regression problem it will be the `salary feature`."
   ]
  },
  {
   "cell_type": "markdown",
   "id": "3d821445",
   "metadata": {},
   "source": [
    "We load the data and try to see the different features that we have. We can observe that there are categorical features. This means we have to do some data preprocessing first before we load our data to the model."
   ]
  },
  {
   "cell_type": "code",
   "execution_count": 2,
   "id": "83f74312",
   "metadata": {},
   "outputs": [
    {
     "data": {
      "text/html": [
       "<div>\n",
       "<style scoped>\n",
       "    .dataframe tbody tr th:only-of-type {\n",
       "        vertical-align: middle;\n",
       "    }\n",
       "\n",
       "    .dataframe tbody tr th {\n",
       "        vertical-align: top;\n",
       "    }\n",
       "\n",
       "    .dataframe thead th {\n",
       "        text-align: right;\n",
       "    }\n",
       "</style>\n",
       "<table border=\"1\" class=\"dataframe\">\n",
       "  <thead>\n",
       "    <tr style=\"text-align: right;\">\n",
       "      <th></th>\n",
       "      <th>sl_no</th>\n",
       "      <th>gender</th>\n",
       "      <th>ssc_p</th>\n",
       "      <th>ssc_b</th>\n",
       "      <th>hsc_p</th>\n",
       "      <th>hsc_b</th>\n",
       "      <th>hsc_s</th>\n",
       "      <th>degree_p</th>\n",
       "      <th>degree_t</th>\n",
       "      <th>workex</th>\n",
       "      <th>etest_p</th>\n",
       "      <th>specialisation</th>\n",
       "      <th>mba_p</th>\n",
       "      <th>status</th>\n",
       "      <th>salary</th>\n",
       "    </tr>\n",
       "  </thead>\n",
       "  <tbody>\n",
       "    <tr>\n",
       "      <th>0</th>\n",
       "      <td>1</td>\n",
       "      <td>M</td>\n",
       "      <td>67.00</td>\n",
       "      <td>Others</td>\n",
       "      <td>91.00</td>\n",
       "      <td>Others</td>\n",
       "      <td>Commerce</td>\n",
       "      <td>58.00</td>\n",
       "      <td>Sci&amp;Tech</td>\n",
       "      <td>No</td>\n",
       "      <td>55.0</td>\n",
       "      <td>Mkt&amp;HR</td>\n",
       "      <td>58.80</td>\n",
       "      <td>Placed</td>\n",
       "      <td>270000.0</td>\n",
       "    </tr>\n",
       "    <tr>\n",
       "      <th>1</th>\n",
       "      <td>2</td>\n",
       "      <td>M</td>\n",
       "      <td>79.33</td>\n",
       "      <td>Central</td>\n",
       "      <td>78.33</td>\n",
       "      <td>Others</td>\n",
       "      <td>Science</td>\n",
       "      <td>77.48</td>\n",
       "      <td>Sci&amp;Tech</td>\n",
       "      <td>Yes</td>\n",
       "      <td>86.5</td>\n",
       "      <td>Mkt&amp;Fin</td>\n",
       "      <td>66.28</td>\n",
       "      <td>Placed</td>\n",
       "      <td>200000.0</td>\n",
       "    </tr>\n",
       "    <tr>\n",
       "      <th>2</th>\n",
       "      <td>3</td>\n",
       "      <td>M</td>\n",
       "      <td>65.00</td>\n",
       "      <td>Central</td>\n",
       "      <td>68.00</td>\n",
       "      <td>Central</td>\n",
       "      <td>Arts</td>\n",
       "      <td>64.00</td>\n",
       "      <td>Comm&amp;Mgmt</td>\n",
       "      <td>No</td>\n",
       "      <td>75.0</td>\n",
       "      <td>Mkt&amp;Fin</td>\n",
       "      <td>57.80</td>\n",
       "      <td>Placed</td>\n",
       "      <td>250000.0</td>\n",
       "    </tr>\n",
       "    <tr>\n",
       "      <th>3</th>\n",
       "      <td>4</td>\n",
       "      <td>M</td>\n",
       "      <td>56.00</td>\n",
       "      <td>Central</td>\n",
       "      <td>52.00</td>\n",
       "      <td>Central</td>\n",
       "      <td>Science</td>\n",
       "      <td>52.00</td>\n",
       "      <td>Sci&amp;Tech</td>\n",
       "      <td>No</td>\n",
       "      <td>66.0</td>\n",
       "      <td>Mkt&amp;HR</td>\n",
       "      <td>59.43</td>\n",
       "      <td>Not Placed</td>\n",
       "      <td>NaN</td>\n",
       "    </tr>\n",
       "    <tr>\n",
       "      <th>4</th>\n",
       "      <td>5</td>\n",
       "      <td>M</td>\n",
       "      <td>85.80</td>\n",
       "      <td>Central</td>\n",
       "      <td>73.60</td>\n",
       "      <td>Central</td>\n",
       "      <td>Commerce</td>\n",
       "      <td>73.30</td>\n",
       "      <td>Comm&amp;Mgmt</td>\n",
       "      <td>No</td>\n",
       "      <td>96.8</td>\n",
       "      <td>Mkt&amp;Fin</td>\n",
       "      <td>55.50</td>\n",
       "      <td>Placed</td>\n",
       "      <td>425000.0</td>\n",
       "    </tr>\n",
       "  </tbody>\n",
       "</table>\n",
       "</div>"
      ],
      "text/plain": [
       "   sl_no gender  ssc_p    ssc_b  hsc_p    hsc_b     hsc_s  degree_p  \\\n",
       "0      1      M  67.00   Others  91.00   Others  Commerce     58.00   \n",
       "1      2      M  79.33  Central  78.33   Others   Science     77.48   \n",
       "2      3      M  65.00  Central  68.00  Central      Arts     64.00   \n",
       "3      4      M  56.00  Central  52.00  Central   Science     52.00   \n",
       "4      5      M  85.80  Central  73.60  Central  Commerce     73.30   \n",
       "\n",
       "    degree_t workex  etest_p specialisation  mba_p      status    salary  \n",
       "0   Sci&Tech     No     55.0         Mkt&HR  58.80      Placed  270000.0  \n",
       "1   Sci&Tech    Yes     86.5        Mkt&Fin  66.28      Placed  200000.0  \n",
       "2  Comm&Mgmt     No     75.0        Mkt&Fin  57.80      Placed  250000.0  \n",
       "3   Sci&Tech     No     66.0         Mkt&HR  59.43  Not Placed       NaN  \n",
       "4  Comm&Mgmt     No     96.8        Mkt&Fin  55.50      Placed  425000.0  "
      ]
     },
     "execution_count": 2,
     "metadata": {},
     "output_type": "execute_result"
    }
   ],
   "source": [
    "placement_df = pd.read_csv(\"data/Placement_Data_Full_Class.csv\")\n",
    "placement_df.head()"
   ]
  },
  {
   "cell_type": "code",
   "execution_count": 3,
   "id": "5fca0046",
   "metadata": {},
   "outputs": [
    {
     "data": {
      "text/html": [
       "<div>\n",
       "<style scoped>\n",
       "    .dataframe tbody tr th:only-of-type {\n",
       "        vertical-align: middle;\n",
       "    }\n",
       "\n",
       "    .dataframe tbody tr th {\n",
       "        vertical-align: top;\n",
       "    }\n",
       "\n",
       "    .dataframe thead th {\n",
       "        text-align: right;\n",
       "    }\n",
       "</style>\n",
       "<table border=\"1\" class=\"dataframe\">\n",
       "  <thead>\n",
       "    <tr style=\"text-align: right;\">\n",
       "      <th></th>\n",
       "      <th>sl_no</th>\n",
       "      <th>ssc_p</th>\n",
       "      <th>hsc_p</th>\n",
       "      <th>degree_p</th>\n",
       "      <th>etest_p</th>\n",
       "      <th>mba_p</th>\n",
       "      <th>salary</th>\n",
       "    </tr>\n",
       "  </thead>\n",
       "  <tbody>\n",
       "    <tr>\n",
       "      <th>count</th>\n",
       "      <td>215.000000</td>\n",
       "      <td>215.000000</td>\n",
       "      <td>215.000000</td>\n",
       "      <td>215.000000</td>\n",
       "      <td>215.000000</td>\n",
       "      <td>215.000000</td>\n",
       "      <td>148.000000</td>\n",
       "    </tr>\n",
       "    <tr>\n",
       "      <th>mean</th>\n",
       "      <td>108.000000</td>\n",
       "      <td>67.303395</td>\n",
       "      <td>66.333163</td>\n",
       "      <td>66.370186</td>\n",
       "      <td>72.100558</td>\n",
       "      <td>62.278186</td>\n",
       "      <td>288655.405405</td>\n",
       "    </tr>\n",
       "    <tr>\n",
       "      <th>std</th>\n",
       "      <td>62.209324</td>\n",
       "      <td>10.827205</td>\n",
       "      <td>10.897509</td>\n",
       "      <td>7.358743</td>\n",
       "      <td>13.275956</td>\n",
       "      <td>5.833385</td>\n",
       "      <td>93457.452420</td>\n",
       "    </tr>\n",
       "    <tr>\n",
       "      <th>min</th>\n",
       "      <td>1.000000</td>\n",
       "      <td>40.890000</td>\n",
       "      <td>37.000000</td>\n",
       "      <td>50.000000</td>\n",
       "      <td>50.000000</td>\n",
       "      <td>51.210000</td>\n",
       "      <td>200000.000000</td>\n",
       "    </tr>\n",
       "    <tr>\n",
       "      <th>25%</th>\n",
       "      <td>54.500000</td>\n",
       "      <td>60.600000</td>\n",
       "      <td>60.900000</td>\n",
       "      <td>61.000000</td>\n",
       "      <td>60.000000</td>\n",
       "      <td>57.945000</td>\n",
       "      <td>240000.000000</td>\n",
       "    </tr>\n",
       "    <tr>\n",
       "      <th>50%</th>\n",
       "      <td>108.000000</td>\n",
       "      <td>67.000000</td>\n",
       "      <td>65.000000</td>\n",
       "      <td>66.000000</td>\n",
       "      <td>71.000000</td>\n",
       "      <td>62.000000</td>\n",
       "      <td>265000.000000</td>\n",
       "    </tr>\n",
       "    <tr>\n",
       "      <th>75%</th>\n",
       "      <td>161.500000</td>\n",
       "      <td>75.700000</td>\n",
       "      <td>73.000000</td>\n",
       "      <td>72.000000</td>\n",
       "      <td>83.500000</td>\n",
       "      <td>66.255000</td>\n",
       "      <td>300000.000000</td>\n",
       "    </tr>\n",
       "    <tr>\n",
       "      <th>max</th>\n",
       "      <td>215.000000</td>\n",
       "      <td>89.400000</td>\n",
       "      <td>97.700000</td>\n",
       "      <td>91.000000</td>\n",
       "      <td>98.000000</td>\n",
       "      <td>77.890000</td>\n",
       "      <td>940000.000000</td>\n",
       "    </tr>\n",
       "  </tbody>\n",
       "</table>\n",
       "</div>"
      ],
      "text/plain": [
       "            sl_no       ssc_p       hsc_p    degree_p     etest_p       mba_p  \\\n",
       "count  215.000000  215.000000  215.000000  215.000000  215.000000  215.000000   \n",
       "mean   108.000000   67.303395   66.333163   66.370186   72.100558   62.278186   \n",
       "std     62.209324   10.827205   10.897509    7.358743   13.275956    5.833385   \n",
       "min      1.000000   40.890000   37.000000   50.000000   50.000000   51.210000   \n",
       "25%     54.500000   60.600000   60.900000   61.000000   60.000000   57.945000   \n",
       "50%    108.000000   67.000000   65.000000   66.000000   71.000000   62.000000   \n",
       "75%    161.500000   75.700000   73.000000   72.000000   83.500000   66.255000   \n",
       "max    215.000000   89.400000   97.700000   91.000000   98.000000   77.890000   \n",
       "\n",
       "              salary  \n",
       "count     148.000000  \n",
       "mean   288655.405405  \n",
       "std     93457.452420  \n",
       "min    200000.000000  \n",
       "25%    240000.000000  \n",
       "50%    265000.000000  \n",
       "75%    300000.000000  \n",
       "max    940000.000000  "
      ]
     },
     "execution_count": 3,
     "metadata": {},
     "output_type": "execute_result"
    }
   ],
   "source": [
    "placement_df.describe()"
   ]
  },
  {
   "cell_type": "markdown",
   "id": "145b8929",
   "metadata": {},
   "source": [
    "The dataset is pretty clean except for our salary feature. This means that when we build our regression model we have to remove the missing values"
   ]
  },
  {
   "cell_type": "code",
   "execution_count": 4,
   "id": "b1ea2e9e",
   "metadata": {},
   "outputs": [
    {
     "data": {
      "text/plain": [
       "sl_no              0\n",
       "gender             0\n",
       "ssc_p              0\n",
       "ssc_b              0\n",
       "hsc_p              0\n",
       "hsc_b              0\n",
       "hsc_s              0\n",
       "degree_p           0\n",
       "degree_t           0\n",
       "workex             0\n",
       "etest_p            0\n",
       "specialisation     0\n",
       "mba_p              0\n",
       "status             0\n",
       "salary            67\n",
       "dtype: int64"
      ]
     },
     "execution_count": 4,
     "metadata": {},
     "output_type": "execute_result"
    }
   ],
   "source": [
    "placement_df.isnull().sum()"
   ]
  },
  {
   "cell_type": "code",
   "execution_count": 5,
   "id": "7fff7de4",
   "metadata": {},
   "outputs": [
    {
     "data": {
      "text/plain": [
       "array(['Others', 'Central'], dtype=object)"
      ]
     },
     "execution_count": 5,
     "metadata": {},
     "output_type": "execute_result"
    }
   ],
   "source": [
    "placement_df.hsc_b.unique()"
   ]
  },
  {
   "cell_type": "markdown",
   "id": "1ae5d7a1",
   "metadata": {},
   "source": [
    "# Data Preprocessing"
   ]
  },
  {
   "cell_type": "markdown",
   "id": "57766212",
   "metadata": {},
   "source": [
    "For us to load the data to the model we have to convert our categorical features into numeric. For features with only 2 categories we converted them to 1's and 0's while for those with more than 2. One hot encoding was done. "
   ]
  },
  {
   "cell_type": "code",
   "execution_count": 6,
   "id": "a9f46580",
   "metadata": {},
   "outputs": [
    {
     "name": "stderr",
     "output_type": "stream",
     "text": [
      "C:\\Users\\nino_\\anaconda3\\envs\\datascience\\lib\\site-packages\\sklearn\\utils\\deprecation.py:87: FutureWarning: Function get_feature_names is deprecated; get_feature_names is deprecated in 1.0 and will be removed in 1.2. Please use get_feature_names_out instead.\n",
      "  warnings.warn(msg, category=FutureWarning)\n"
     ]
    },
    {
     "data": {
      "text/html": [
       "<div>\n",
       "<style scoped>\n",
       "    .dataframe tbody tr th:only-of-type {\n",
       "        vertical-align: middle;\n",
       "    }\n",
       "\n",
       "    .dataframe tbody tr th {\n",
       "        vertical-align: top;\n",
       "    }\n",
       "\n",
       "    .dataframe thead th {\n",
       "        text-align: right;\n",
       "    }\n",
       "</style>\n",
       "<table border=\"1\" class=\"dataframe\">\n",
       "  <thead>\n",
       "    <tr style=\"text-align: right;\">\n",
       "      <th></th>\n",
       "      <th>gender</th>\n",
       "      <th>ssc_p</th>\n",
       "      <th>ssc_b</th>\n",
       "      <th>hsc_p</th>\n",
       "      <th>hsc_b</th>\n",
       "      <th>hsc_s</th>\n",
       "      <th>degree_p</th>\n",
       "      <th>degree_t</th>\n",
       "      <th>workex</th>\n",
       "      <th>etest_p</th>\n",
       "      <th>...</th>\n",
       "      <th>status</th>\n",
       "      <th>salary</th>\n",
       "      <th>x0_Arts</th>\n",
       "      <th>x0_Commerce</th>\n",
       "      <th>x0_Science</th>\n",
       "      <th>x1_Comm&amp;Mgmt</th>\n",
       "      <th>x1_Others</th>\n",
       "      <th>x1_Sci&amp;Tech</th>\n",
       "      <th>x2_Mkt&amp;Fin</th>\n",
       "      <th>x2_Mkt&amp;HR</th>\n",
       "    </tr>\n",
       "  </thead>\n",
       "  <tbody>\n",
       "    <tr>\n",
       "      <th>0</th>\n",
       "      <td>0</td>\n",
       "      <td>67.00</td>\n",
       "      <td>0</td>\n",
       "      <td>91.00</td>\n",
       "      <td>0</td>\n",
       "      <td>Commerce</td>\n",
       "      <td>58.00</td>\n",
       "      <td>Sci&amp;Tech</td>\n",
       "      <td>0</td>\n",
       "      <td>55.0</td>\n",
       "      <td>...</td>\n",
       "      <td>1</td>\n",
       "      <td>270000.0</td>\n",
       "      <td>0.0</td>\n",
       "      <td>1.0</td>\n",
       "      <td>0.0</td>\n",
       "      <td>0.0</td>\n",
       "      <td>0.0</td>\n",
       "      <td>1.0</td>\n",
       "      <td>0.0</td>\n",
       "      <td>1.0</td>\n",
       "    </tr>\n",
       "    <tr>\n",
       "      <th>1</th>\n",
       "      <td>0</td>\n",
       "      <td>79.33</td>\n",
       "      <td>1</td>\n",
       "      <td>78.33</td>\n",
       "      <td>0</td>\n",
       "      <td>Science</td>\n",
       "      <td>77.48</td>\n",
       "      <td>Sci&amp;Tech</td>\n",
       "      <td>1</td>\n",
       "      <td>86.5</td>\n",
       "      <td>...</td>\n",
       "      <td>1</td>\n",
       "      <td>200000.0</td>\n",
       "      <td>0.0</td>\n",
       "      <td>0.0</td>\n",
       "      <td>1.0</td>\n",
       "      <td>0.0</td>\n",
       "      <td>0.0</td>\n",
       "      <td>1.0</td>\n",
       "      <td>1.0</td>\n",
       "      <td>0.0</td>\n",
       "    </tr>\n",
       "    <tr>\n",
       "      <th>2</th>\n",
       "      <td>0</td>\n",
       "      <td>65.00</td>\n",
       "      <td>1</td>\n",
       "      <td>68.00</td>\n",
       "      <td>0</td>\n",
       "      <td>Arts</td>\n",
       "      <td>64.00</td>\n",
       "      <td>Comm&amp;Mgmt</td>\n",
       "      <td>0</td>\n",
       "      <td>75.0</td>\n",
       "      <td>...</td>\n",
       "      <td>1</td>\n",
       "      <td>250000.0</td>\n",
       "      <td>1.0</td>\n",
       "      <td>0.0</td>\n",
       "      <td>0.0</td>\n",
       "      <td>1.0</td>\n",
       "      <td>0.0</td>\n",
       "      <td>0.0</td>\n",
       "      <td>1.0</td>\n",
       "      <td>0.0</td>\n",
       "    </tr>\n",
       "    <tr>\n",
       "      <th>3</th>\n",
       "      <td>0</td>\n",
       "      <td>56.00</td>\n",
       "      <td>1</td>\n",
       "      <td>52.00</td>\n",
       "      <td>0</td>\n",
       "      <td>Science</td>\n",
       "      <td>52.00</td>\n",
       "      <td>Sci&amp;Tech</td>\n",
       "      <td>0</td>\n",
       "      <td>66.0</td>\n",
       "      <td>...</td>\n",
       "      <td>0</td>\n",
       "      <td>NaN</td>\n",
       "      <td>0.0</td>\n",
       "      <td>0.0</td>\n",
       "      <td>1.0</td>\n",
       "      <td>0.0</td>\n",
       "      <td>0.0</td>\n",
       "      <td>1.0</td>\n",
       "      <td>0.0</td>\n",
       "      <td>1.0</td>\n",
       "    </tr>\n",
       "    <tr>\n",
       "      <th>4</th>\n",
       "      <td>0</td>\n",
       "      <td>85.80</td>\n",
       "      <td>1</td>\n",
       "      <td>73.60</td>\n",
       "      <td>0</td>\n",
       "      <td>Commerce</td>\n",
       "      <td>73.30</td>\n",
       "      <td>Comm&amp;Mgmt</td>\n",
       "      <td>0</td>\n",
       "      <td>96.8</td>\n",
       "      <td>...</td>\n",
       "      <td>1</td>\n",
       "      <td>425000.0</td>\n",
       "      <td>0.0</td>\n",
       "      <td>1.0</td>\n",
       "      <td>0.0</td>\n",
       "      <td>1.0</td>\n",
       "      <td>0.0</td>\n",
       "      <td>0.0</td>\n",
       "      <td>1.0</td>\n",
       "      <td>0.0</td>\n",
       "    </tr>\n",
       "  </tbody>\n",
       "</table>\n",
       "<p>5 rows × 22 columns</p>\n",
       "</div>"
      ],
      "text/plain": [
       "   gender  ssc_p  ssc_b  hsc_p  hsc_b     hsc_s  degree_p   degree_t  workex  \\\n",
       "0       0  67.00      0  91.00      0  Commerce     58.00   Sci&Tech       0   \n",
       "1       0  79.33      1  78.33      0   Science     77.48   Sci&Tech       1   \n",
       "2       0  65.00      1  68.00      0      Arts     64.00  Comm&Mgmt       0   \n",
       "3       0  56.00      1  52.00      0   Science     52.00   Sci&Tech       0   \n",
       "4       0  85.80      1  73.60      0  Commerce     73.30  Comm&Mgmt       0   \n",
       "\n",
       "   etest_p  ... status    salary  x0_Arts  x0_Commerce  x0_Science  \\\n",
       "0     55.0  ...      1  270000.0      0.0          1.0         0.0   \n",
       "1     86.5  ...      1  200000.0      0.0          0.0         1.0   \n",
       "2     75.0  ...      1  250000.0      1.0          0.0         0.0   \n",
       "3     66.0  ...      0       NaN      0.0          0.0         1.0   \n",
       "4     96.8  ...      1  425000.0      0.0          1.0         0.0   \n",
       "\n",
       "   x1_Comm&Mgmt  x1_Others  x1_Sci&Tech  x2_Mkt&Fin  x2_Mkt&HR  \n",
       "0           0.0        0.0          1.0         0.0        1.0  \n",
       "1           0.0        0.0          1.0         1.0        0.0  \n",
       "2           1.0        0.0          0.0         1.0        0.0  \n",
       "3           0.0        0.0          1.0         0.0        1.0  \n",
       "4           1.0        0.0          0.0         1.0        0.0  \n",
       "\n",
       "[5 rows x 22 columns]"
      ]
     },
     "execution_count": 6,
     "metadata": {},
     "output_type": "execute_result"
    }
   ],
   "source": [
    "model_data = placement_df.copy(deep=True)\n",
    "\n",
    "#remove sl_no column from the model data\n",
    "model_data.drop(\"sl_no\", inplace=True, axis=1)\n",
    "#convert gender to numeric \n",
    "model_data.gender = model_data.gender.apply(lambda x: 1 if x == 'F' else 0)\n",
    "#convert ssc_b, hsc_b to numeric\n",
    "model_data.ssc_b = model_data.ssc_b.apply(lambda x: 1 if x == 'Central' else 0)\n",
    "model_data.hsc_b = model_data.ssc_b.apply(lambda x: 1 if x == 'Central' else 0)\n",
    "#convert workex to numeric\n",
    "model_data.workex = model_data.workex.apply(lambda x: 1 if x == 'Yes' else 0)\n",
    "#convert status to numeric\n",
    "model_data.status = model_data.status.apply(lambda x: 1 if x == 'Placed' else 0)\n",
    "\n",
    "#one hot encode features with multiple categories \n",
    "multi_categorical_features = ['hsc_s', 'degree_t', 'specialisation']\n",
    "enc = OneHotEncoder(handle_unknown='ignore')\n",
    "res = enc.fit_transform(model_data[multi_categorical_features])\n",
    "res_df = pd.DataFrame(res.todense(), columns=enc.get_feature_names())\n",
    "\n",
    "#model_data.drop(multi_categorical_features, axis=1, inplace=True)\n",
    "model_data = pd.concat([model_data, res_df], axis=1)\n",
    "\n",
    "model_data.to_csv(\"data/Model_Data.csv\")\n",
    "\n",
    "model_data.head()"
   ]
  },
  {
   "cell_type": "markdown",
   "id": "c7b6caf4",
   "metadata": {},
   "source": [
    "**Read through the data preprocessing script, why did we drop the sl_no as part of the features for our modeling? (1pt)**"
   ]
  },
  {
   "cell_type": "markdown",
   "id": "328273b1",
   "metadata": {},
   "source": [
    "`The unique identifier or serial number for each student is not necessary during the modelling as this does not hold pertinent information for classification or forecasting.` "
   ]
  },
  {
   "cell_type": "markdown",
   "id": "b09f0ecd",
   "metadata": {},
   "source": [
    "# Creating a Classification Model using KNN"
   ]
  },
  {
   "cell_type": "markdown",
   "id": "de206483",
   "metadata": {},
   "source": [
    "In this section you will create a KNN classifier wherein the target is the status feature. This means we are trying to forecast if a student is going to be placed (1) or not (0). "
   ]
  },
  {
   "cell_type": "markdown",
   "id": "1a72f5ed",
   "metadata": {},
   "source": [
    "**Plot the distribution of our target variable (2pts)**"
   ]
  },
  {
   "cell_type": "code",
   "execution_count": 7,
   "id": "23389975-b6ca-4282-af28-bda5d834e1cf",
   "metadata": {},
   "outputs": [
    {
     "data": {
      "image/png": "[encoded data removed]",
      "text/plain": [
       "<Figure size 576x432 with 1 Axes>"
      ]
     },
     "metadata": {},
     "output_type": "display_data"
    }
   ],
   "source": [
    "ax = model_data['status'].value_counts().plot(figsize=(8, 6), kind='bar', color=['#999999', '#68abb8'], width=0.5)\n",
    "\n",
    "ax.set_xticklabels(['Placed (1)', 'Not Placed (0)'], rotation=0)\n",
    "ax.set_title('Status of Placement Count')\n",
    "ax.set_ylabel('Status Count');"
   ]
  },
  {
   "cell_type": "markdown",
   "id": "0b7d69aa",
   "metadata": {},
   "source": [
    "**what insights can you get from the target distribution? how will this affect our model? (2pts)**"
   ]
  },
  {
   "cell_type": "markdown",
   "id": "fb7bc2d5-d117-4359-b47a-c65b986185db",
   "metadata": {},
   "source": [
    "`There is an imbalance with regards to the target variable; thus, calculation of accuracy is not suggested. Moreover, the use of stratify for this target is still suggested so that both train and test datasets will have the same distribution for the splits.`"
   ]
  },
  {
   "cell_type": "markdown",
   "id": "34b7cb59",
   "metadata": {},
   "source": [
    "## Model Development"
   ]
  },
  {
   "cell_type": "markdown",
   "id": "51a28d06",
   "metadata": {},
   "source": [
    "**drop the salary feature as part of the model for the classification problem and store the independent variables to X and the dependent variable to y (3pts)**"
   ]
  },
  {
   "cell_type": "code",
   "execution_count": 8,
   "id": "21d8bf63",
   "metadata": {},
   "outputs": [],
   "source": [
    "# drop the salary feature \n",
    "classif_model_data = model_data\n",
    "classif_model_data.drop(\"salary\", inplace=True, axis=1)"
   ]
  },
  {
   "cell_type": "code",
   "execution_count": 9,
   "id": "9c591780-bfa9-4498-8a55-a29041e25d86",
   "metadata": {},
   "outputs": [],
   "source": [
    "#store to X the features used for modeling (independent variables)\n",
    "X = classif_model_data.drop(['hsc_s', 'degree_t', 'specialisation'], axis = 1)\n",
    "\n",
    "#store to y our target (dependent variable)\n",
    "y = classif_model_data['status']"
   ]
  },
  {
   "cell_type": "code",
   "execution_count": 10,
   "id": "50c14f75-d303-4de7-83fd-794becfd49ee",
   "metadata": {},
   "outputs": [],
   "source": [
    "#classif_model_data.columns\n",
    "#classif_model_data.to_csv('data/classif_model_data.csv')\n",
    "#classif_model_data.head()"
   ]
  },
  {
   "cell_type": "markdown",
   "id": "65b70bc8",
   "metadata": {},
   "source": [
    "**why were you asked to drop the salaray variable as part of the features used for modeling? (2pts)**"
   ]
  },
  {
   "cell_type": "markdown",
   "id": "888e5bff-4a72-4f32-9deb-d6cb1e6692c0",
   "metadata": {},
   "source": [
    "`Apart from not being used in this KNN classification, the salary of the student varies and it is not reliable for classfying test students. Also not placed students have null salary, we can easily label them if we include the salary feature but won't observe which features really defines their placement`"
   ]
  },
  {
   "cell_type": "markdown",
   "id": "3cbb31f0",
   "metadata": {},
   "source": [
    "**import the necessary packages to run the KNN Classifier (1pt)** "
   ]
  },
  {
   "cell_type": "code",
   "execution_count": 11,
   "id": "5b401e75",
   "metadata": {},
   "outputs": [],
   "source": [
    "from sklearn.model_selection import train_test_split\n",
    "from sklearn.metrics import r2_score\n",
    "from sklearn.neighbors import KNeighborsClassifier\n",
    "from collections import Counter\n",
    "from sklearn import metrics"
   ]
  },
  {
   "cell_type": "markdown",
   "id": "b4670327",
   "metadata": {},
   "source": [
    "**do a train-test split wherein 70% of the data is used for training and 30% is used for testing (2pts)**"
   ]
  },
  {
   "cell_type": "code",
   "execution_count": 12,
   "id": "c3decad6",
   "metadata": {},
   "outputs": [],
   "source": [
    "X_train, X_test, y_train, y_test = train_test_split(X, y, test_size=0.3, random_state=42, stratify=y)"
   ]
  },
  {
   "cell_type": "code",
   "execution_count": 13,
   "id": "0f9654d9-5340-433d-91fb-227186729c2c",
   "metadata": {},
   "outputs": [
    {
     "name": "stdout",
     "output_type": "stream",
     "text": [
      "0, 47, Normalized:0.31333333333333335\n",
      "1, 103, Normalized:0.6866666666666666\n"
     ]
    }
   ],
   "source": [
    "for key in Counter(y_train).keys(): #/len(y_train)\n",
    "    print(f\"{key}, {Counter(y_train)[key]}, Normalized:{Counter(y_train)[key]/len(y_train)}\")"
   ]
  },
  {
   "cell_type": "code",
   "execution_count": 14,
   "id": "ee392864",
   "metadata": {
    "tags": []
   },
   "outputs": [
    {
     "data": {
      "text/plain": [
       "(150, 18)"
      ]
     },
     "metadata": {},
     "output_type": "display_data"
    },
    {
     "data": {
      "text/plain": [
       "(65, 18)"
      ]
     },
     "metadata": {},
     "output_type": "display_data"
    },
    {
     "data": {
      "text/plain": [
       "(150,)"
      ]
     },
     "metadata": {},
     "output_type": "display_data"
    },
    {
     "data": {
      "text/plain": [
       "(65,)"
      ]
     },
     "metadata": {},
     "output_type": "display_data"
    }
   ],
   "source": [
    "display(X_train.shape)\n",
    "display(X_test.shape)\n",
    "display(y_train.shape)\n",
    "display(y_test.shape)"
   ]
  },
  {
   "cell_type": "markdown",
   "id": "644e5014",
   "metadata": {
    "tags": []
   },
   "source": [
    "**build an initial KNN model and set the K to 3 and show the train & test accuracy (2 pts)**"
   ]
  },
  {
   "cell_type": "code",
   "execution_count": 15,
   "id": "e2f49c57",
   "metadata": {},
   "outputs": [
    {
     "data": {
      "text/plain": [
       "0.8615384615384616"
      ]
     },
     "execution_count": 15,
     "metadata": {},
     "output_type": "execute_result"
    }
   ],
   "source": [
    "range_k = range(1,4)\n",
    "scores = {}\n",
    "scores_list = []\n",
    "for k in range_k:\n",
    "   classifier = KNeighborsClassifier(n_neighbors=k)\n",
    "   classifier.fit(X_train, y_train)\n",
    "   y_pred = classifier.predict(X_test)\n",
    "   scores[k] = metrics.accuracy_score(y_test,y_pred)\n",
    "   scores_list.append(metrics.accuracy_score(y_test,y_pred))\n",
    "\n",
    "metrics.accuracy_score(y_test,y_pred)\n",
    "# result = metrics.confusion_matrix(y_test, y_pred)\n",
    "# print(\"Confusion Matrix:\")\n",
    "# print(result)\n",
    "# result1 = metrics.classification_report(y_test, y_pred)\n",
    "# print(\"Classification Report:\",)\n",
    "# print (result1)"
   ]
  },
  {
   "cell_type": "code",
   "execution_count": 16,
   "id": "f1ebe18d-0d6c-4619-8296-c1e79e3f0d5d",
   "metadata": {},
   "outputs": [
    {
     "data": {
      "image/png": "[encoded data removed]",
      "text/plain": [
       "<Figure size 432x288 with 1 Axes>"
      ]
     },
     "metadata": {},
     "output_type": "display_data"
    }
   ],
   "source": [
    "plt.plot(range_k,scores_list)\n",
    "plt.xlabel(\"Value of K\")\n",
    "plt.ylabel(\"Accuracy\")\n",
    "plt.tight_layout()"
   ]
  },
  {
   "cell_type": "markdown",
   "id": "e60017b9",
   "metadata": {},
   "source": [
    "**what do you observe in the accuracy of the train and test data, was there an increase/decrease in accuracy? what could be the reason as to why there was an increase/decrease? (3pts)**"
   ]
  },
  {
   "cell_type": "markdown",
   "id": "85b84589-469b-42f8-9539-e9a237e2e125",
   "metadata": {},
   "source": [
    "`The accuracy fluctuates as the value of K changes the increase to 3 neighbors enhanced the searching algorithm of three neighbors to base the classification. Increasing it further from 3 may improve or not improve the classification as seen in the proof below`"
   ]
  },
  {
   "cell_type": "markdown",
   "id": "7f2e640a",
   "metadata": {},
   "source": [
    "**run knn using different k settings from 1 to 20 store the train and test accuracy for each iteration and do a line plot for the train & test accuracy (3pts)** "
   ]
  },
  {
   "cell_type": "code",
   "execution_count": 17,
   "id": "1c108f06",
   "metadata": {},
   "outputs": [
    {
     "name": "stdout",
     "output_type": "stream",
     "text": [
      "Confusion Matrix:\n",
      "[[11  9]\n",
      " [ 2 43]]\n",
      "Classification Report:\n",
      "              precision    recall  f1-score   support\n",
      "\n",
      "           0       0.85      0.55      0.67        20\n",
      "           1       0.83      0.96      0.89        45\n",
      "\n",
      "    accuracy                           0.83        65\n",
      "   macro avg       0.84      0.75      0.78        65\n",
      "weighted avg       0.83      0.83      0.82        65\n",
      "\n"
     ]
    }
   ],
   "source": [
    "range_k = range(1,21)\n",
    "scores = {}\n",
    "scores_list = []\n",
    "for k in range_k:\n",
    "   classifier = KNeighborsClassifier(n_neighbors=k)\n",
    "   classifier.fit(X_train, y_train)\n",
    "   y_pred = classifier.predict(X_test)\n",
    "   scores[k] = metrics.accuracy_score(y_test,y_pred)\n",
    "   scores_list.append(metrics.accuracy_score(y_test,y_pred))\n",
    "\n",
    "result = metrics.confusion_matrix(y_test, y_pred)\n",
    "print(\"Confusion Matrix:\")\n",
    "print(result)\n",
    "result1 = metrics.classification_report(y_test, y_pred)\n",
    "print(\"Classification Report:\",)\n",
    "print (result1)"
   ]
  },
  {
   "cell_type": "code",
   "execution_count": 18,
   "id": "6c8de65e-9686-4e5b-9740-b2c45dfecb82",
   "metadata": {},
   "outputs": [
    {
     "data": {
      "image/png": "[encoded data removed]",
      "text/plain": [
       "<Figure size 432x288 with 1 Axes>"
      ]
     },
     "metadata": {},
     "output_type": "display_data"
    }
   ],
   "source": [
    "plt.plot(range_k,scores_list)\n",
    "plt.xlabel(\"Value of K\")\n",
    "plt.ylabel(\"Accuracy\")\n",
    "plt.tight_layout()"
   ]
  },
  {
   "cell_type": "markdown",
   "id": "fa416ddd",
   "metadata": {},
   "source": [
    "**from the plot what would you recommend as the optimal k-setting to use & why? (3pts)**"
   ]
  },
  {
   "cell_type": "markdown",
   "id": "0fc2381f-f283-4a5e-8994-8887351c6921",
   "metadata": {},
   "source": [
    "`Even upon setting the range from 1 to 80, there will be an observed downward trend for the accuracy. Thus, the optimal k for this problem is 3 or between 9 to 16. This will satisfy the maximum accuracy of around 86` "
   ]
  },
  {
   "cell_type": "markdown",
   "id": "717ed424",
   "metadata": {},
   "source": [
    "# Creating a Regression Model using Linear Regression"
   ]
  },
  {
   "cell_type": "markdown",
   "id": "c846a757",
   "metadata": {},
   "source": [
    "In this section you will create a Linear Regression model wherein the target is the salary feature. This means we are trying to forecast potential salary of a student when they are employed."
   ]
  },
  {
   "cell_type": "markdown",
   "id": "b24b5a27",
   "metadata": {},
   "source": [
    "**From our initial anylsis we saw that our target feature has missing values, drop the missing values, we also don't need the status feature for the model so we drop this column also(2pts)**"
   ]
  },
  {
   "cell_type": "code",
   "execution_count": 35,
   "id": "72656917",
   "metadata": {},
   "outputs": [],
   "source": [
    "new_model_data = model_data"
   ]
  },
  {
   "cell_type": "code",
   "execution_count": 36,
   "id": "795911ae-04f8-4901-8b6e-c5d2f614ffb6",
   "metadata": {},
   "outputs": [],
   "source": [
    "new_model_data['salary'] = placement_df['salary']"
   ]
  },
  {
   "cell_type": "code",
   "execution_count": 37,
   "id": "f2a4eff4-5650-4ac6-810b-740785187e47",
   "metadata": {},
   "outputs": [
    {
     "data": {
      "text/plain": [
       "Index(['gender', 'ssc_p', 'ssc_b', 'hsc_p', 'hsc_b', 'hsc_s', 'degree_p',\n",
       "       'degree_t', 'workex', 'etest_p', 'specialisation', 'mba_p', 'x0_Arts',\n",
       "       'x0_Commerce', 'x0_Science', 'x1_Comm&Mgmt', 'x1_Others', 'x1_Sci&Tech',\n",
       "       'x2_Mkt&Fin', 'x2_Mkt&HR', 'salary'],\n",
       "      dtype='object')"
      ]
     },
     "execution_count": 37,
     "metadata": {},
     "output_type": "execute_result"
    }
   ],
   "source": [
    "new_model_data.columns"
   ]
  },
  {
   "cell_type": "code",
   "execution_count": 38,
   "id": "6ff6c6db-0500-48c6-8e4c-9e5f0362d450",
   "metadata": {},
   "outputs": [
    {
     "data": {
      "text/html": [
       "<div>\n",
       "<style scoped>\n",
       "    .dataframe tbody tr th:only-of-type {\n",
       "        vertical-align: middle;\n",
       "    }\n",
       "\n",
       "    .dataframe tbody tr th {\n",
       "        vertical-align: top;\n",
       "    }\n",
       "\n",
       "    .dataframe thead th {\n",
       "        text-align: right;\n",
       "    }\n",
       "</style>\n",
       "<table border=\"1\" class=\"dataframe\">\n",
       "  <thead>\n",
       "    <tr style=\"text-align: right;\">\n",
       "      <th></th>\n",
       "      <th>gender</th>\n",
       "      <th>ssc_p</th>\n",
       "      <th>ssc_b</th>\n",
       "      <th>hsc_p</th>\n",
       "      <th>hsc_b</th>\n",
       "      <th>hsc_s</th>\n",
       "      <th>degree_p</th>\n",
       "      <th>degree_t</th>\n",
       "      <th>workex</th>\n",
       "      <th>etest_p</th>\n",
       "      <th>...</th>\n",
       "      <th>mba_p</th>\n",
       "      <th>x0_Arts</th>\n",
       "      <th>x0_Commerce</th>\n",
       "      <th>x0_Science</th>\n",
       "      <th>x1_Comm&amp;Mgmt</th>\n",
       "      <th>x1_Others</th>\n",
       "      <th>x1_Sci&amp;Tech</th>\n",
       "      <th>x2_Mkt&amp;Fin</th>\n",
       "      <th>x2_Mkt&amp;HR</th>\n",
       "      <th>salary</th>\n",
       "    </tr>\n",
       "  </thead>\n",
       "  <tbody>\n",
       "    <tr>\n",
       "      <th>0</th>\n",
       "      <td>0</td>\n",
       "      <td>67.00</td>\n",
       "      <td>0</td>\n",
       "      <td>91.00</td>\n",
       "      <td>0</td>\n",
       "      <td>Commerce</td>\n",
       "      <td>58.00</td>\n",
       "      <td>Sci&amp;Tech</td>\n",
       "      <td>0</td>\n",
       "      <td>55.0</td>\n",
       "      <td>...</td>\n",
       "      <td>58.80</td>\n",
       "      <td>0.0</td>\n",
       "      <td>1.0</td>\n",
       "      <td>0.0</td>\n",
       "      <td>0.0</td>\n",
       "      <td>0.0</td>\n",
       "      <td>1.0</td>\n",
       "      <td>0.0</td>\n",
       "      <td>1.0</td>\n",
       "      <td>270000.0</td>\n",
       "    </tr>\n",
       "    <tr>\n",
       "      <th>1</th>\n",
       "      <td>0</td>\n",
       "      <td>79.33</td>\n",
       "      <td>1</td>\n",
       "      <td>78.33</td>\n",
       "      <td>0</td>\n",
       "      <td>Science</td>\n",
       "      <td>77.48</td>\n",
       "      <td>Sci&amp;Tech</td>\n",
       "      <td>1</td>\n",
       "      <td>86.5</td>\n",
       "      <td>...</td>\n",
       "      <td>66.28</td>\n",
       "      <td>0.0</td>\n",
       "      <td>0.0</td>\n",
       "      <td>1.0</td>\n",
       "      <td>0.0</td>\n",
       "      <td>0.0</td>\n",
       "      <td>1.0</td>\n",
       "      <td>1.0</td>\n",
       "      <td>0.0</td>\n",
       "      <td>200000.0</td>\n",
       "    </tr>\n",
       "    <tr>\n",
       "      <th>2</th>\n",
       "      <td>0</td>\n",
       "      <td>65.00</td>\n",
       "      <td>1</td>\n",
       "      <td>68.00</td>\n",
       "      <td>0</td>\n",
       "      <td>Arts</td>\n",
       "      <td>64.00</td>\n",
       "      <td>Comm&amp;Mgmt</td>\n",
       "      <td>0</td>\n",
       "      <td>75.0</td>\n",
       "      <td>...</td>\n",
       "      <td>57.80</td>\n",
       "      <td>1.0</td>\n",
       "      <td>0.0</td>\n",
       "      <td>0.0</td>\n",
       "      <td>1.0</td>\n",
       "      <td>0.0</td>\n",
       "      <td>0.0</td>\n",
       "      <td>1.0</td>\n",
       "      <td>0.0</td>\n",
       "      <td>250000.0</td>\n",
       "    </tr>\n",
       "    <tr>\n",
       "      <th>3</th>\n",
       "      <td>0</td>\n",
       "      <td>56.00</td>\n",
       "      <td>1</td>\n",
       "      <td>52.00</td>\n",
       "      <td>0</td>\n",
       "      <td>Science</td>\n",
       "      <td>52.00</td>\n",
       "      <td>Sci&amp;Tech</td>\n",
       "      <td>0</td>\n",
       "      <td>66.0</td>\n",
       "      <td>...</td>\n",
       "      <td>59.43</td>\n",
       "      <td>0.0</td>\n",
       "      <td>0.0</td>\n",
       "      <td>1.0</td>\n",
       "      <td>0.0</td>\n",
       "      <td>0.0</td>\n",
       "      <td>1.0</td>\n",
       "      <td>0.0</td>\n",
       "      <td>1.0</td>\n",
       "      <td>NaN</td>\n",
       "    </tr>\n",
       "    <tr>\n",
       "      <th>4</th>\n",
       "      <td>0</td>\n",
       "      <td>85.80</td>\n",
       "      <td>1</td>\n",
       "      <td>73.60</td>\n",
       "      <td>0</td>\n",
       "      <td>Commerce</td>\n",
       "      <td>73.30</td>\n",
       "      <td>Comm&amp;Mgmt</td>\n",
       "      <td>0</td>\n",
       "      <td>96.8</td>\n",
       "      <td>...</td>\n",
       "      <td>55.50</td>\n",
       "      <td>0.0</td>\n",
       "      <td>1.0</td>\n",
       "      <td>0.0</td>\n",
       "      <td>1.0</td>\n",
       "      <td>0.0</td>\n",
       "      <td>0.0</td>\n",
       "      <td>1.0</td>\n",
       "      <td>0.0</td>\n",
       "      <td>425000.0</td>\n",
       "    </tr>\n",
       "  </tbody>\n",
       "</table>\n",
       "<p>5 rows × 21 columns</p>\n",
       "</div>"
      ],
      "text/plain": [
       "   gender  ssc_p  ssc_b  hsc_p  hsc_b     hsc_s  degree_p   degree_t  workex  \\\n",
       "0       0  67.00      0  91.00      0  Commerce     58.00   Sci&Tech       0   \n",
       "1       0  79.33      1  78.33      0   Science     77.48   Sci&Tech       1   \n",
       "2       0  65.00      1  68.00      0      Arts     64.00  Comm&Mgmt       0   \n",
       "3       0  56.00      1  52.00      0   Science     52.00   Sci&Tech       0   \n",
       "4       0  85.80      1  73.60      0  Commerce     73.30  Comm&Mgmt       0   \n",
       "\n",
       "   etest_p  ...  mba_p  x0_Arts  x0_Commerce  x0_Science  x1_Comm&Mgmt  \\\n",
       "0     55.0  ...  58.80      0.0          1.0         0.0           0.0   \n",
       "1     86.5  ...  66.28      0.0          0.0         1.0           0.0   \n",
       "2     75.0  ...  57.80      1.0          0.0         0.0           1.0   \n",
       "3     66.0  ...  59.43      0.0          0.0         1.0           0.0   \n",
       "4     96.8  ...  55.50      0.0          1.0         0.0           1.0   \n",
       "\n",
       "   x1_Others  x1_Sci&Tech  x2_Mkt&Fin  x2_Mkt&HR    salary  \n",
       "0        0.0          1.0         0.0        1.0  270000.0  \n",
       "1        0.0          1.0         1.0        0.0  200000.0  \n",
       "2        0.0          0.0         1.0        0.0  250000.0  \n",
       "3        0.0          1.0         0.0        1.0       NaN  \n",
       "4        0.0          0.0         1.0        0.0  425000.0  \n",
       "\n",
       "[5 rows x 21 columns]"
      ]
     },
     "execution_count": 38,
     "metadata": {},
     "output_type": "execute_result"
    }
   ],
   "source": [
    "new_model_data.head() #no need to drop status"
   ]
  },
  {
   "cell_type": "code",
   "execution_count": 40,
   "id": "bd010250-1cee-451a-a24c-bcfe0b391fc6",
   "metadata": {},
   "outputs": [
    {
     "data": {
      "text/plain": [
       "gender             0\n",
       "ssc_p              0\n",
       "ssc_b              0\n",
       "hsc_p              0\n",
       "hsc_b              0\n",
       "hsc_s              0\n",
       "degree_p           0\n",
       "degree_t           0\n",
       "workex             0\n",
       "etest_p            0\n",
       "specialisation     0\n",
       "mba_p              0\n",
       "x0_Arts            0\n",
       "x0_Commerce        0\n",
       "x0_Science         0\n",
       "x1_Comm&Mgmt       0\n",
       "x1_Others          0\n",
       "x1_Sci&Tech        0\n",
       "x2_Mkt&Fin         0\n",
       "x2_Mkt&HR          0\n",
       "salary            67\n",
       "dtype: int64"
      ]
     },
     "execution_count": 40,
     "metadata": {},
     "output_type": "execute_result"
    }
   ],
   "source": [
    "new_model_data.isnull().sum()"
   ]
  },
  {
   "cell_type": "code",
   "execution_count": 41,
   "id": "066076ec-398b-45cf-b22d-26ce908fb99a",
   "metadata": {},
   "outputs": [
    {
     "data": {
      "text/html": [
       "<div>\n",
       "<style scoped>\n",
       "    .dataframe tbody tr th:only-of-type {\n",
       "        vertical-align: middle;\n",
       "    }\n",
       "\n",
       "    .dataframe tbody tr th {\n",
       "        vertical-align: top;\n",
       "    }\n",
       "\n",
       "    .dataframe thead th {\n",
       "        text-align: right;\n",
       "    }\n",
       "</style>\n",
       "<table border=\"1\" class=\"dataframe\">\n",
       "  <thead>\n",
       "    <tr style=\"text-align: right;\">\n",
       "      <th></th>\n",
       "      <th>gender</th>\n",
       "      <th>ssc_p</th>\n",
       "      <th>ssc_b</th>\n",
       "      <th>hsc_p</th>\n",
       "      <th>hsc_b</th>\n",
       "      <th>hsc_s</th>\n",
       "      <th>degree_p</th>\n",
       "      <th>degree_t</th>\n",
       "      <th>workex</th>\n",
       "      <th>etest_p</th>\n",
       "      <th>...</th>\n",
       "      <th>mba_p</th>\n",
       "      <th>x0_Arts</th>\n",
       "      <th>x0_Commerce</th>\n",
       "      <th>x0_Science</th>\n",
       "      <th>x1_Comm&amp;Mgmt</th>\n",
       "      <th>x1_Others</th>\n",
       "      <th>x1_Sci&amp;Tech</th>\n",
       "      <th>x2_Mkt&amp;Fin</th>\n",
       "      <th>x2_Mkt&amp;HR</th>\n",
       "      <th>salary</th>\n",
       "    </tr>\n",
       "  </thead>\n",
       "  <tbody>\n",
       "    <tr>\n",
       "      <th>0</th>\n",
       "      <td>0</td>\n",
       "      <td>67.00</td>\n",
       "      <td>0</td>\n",
       "      <td>91.00</td>\n",
       "      <td>0</td>\n",
       "      <td>Commerce</td>\n",
       "      <td>58.00</td>\n",
       "      <td>Sci&amp;Tech</td>\n",
       "      <td>0</td>\n",
       "      <td>55.0</td>\n",
       "      <td>...</td>\n",
       "      <td>58.80</td>\n",
       "      <td>0.0</td>\n",
       "      <td>1.0</td>\n",
       "      <td>0.0</td>\n",
       "      <td>0.0</td>\n",
       "      <td>0.0</td>\n",
       "      <td>1.0</td>\n",
       "      <td>0.0</td>\n",
       "      <td>1.0</td>\n",
       "      <td>270000.0</td>\n",
       "    </tr>\n",
       "    <tr>\n",
       "      <th>1</th>\n",
       "      <td>0</td>\n",
       "      <td>79.33</td>\n",
       "      <td>1</td>\n",
       "      <td>78.33</td>\n",
       "      <td>0</td>\n",
       "      <td>Science</td>\n",
       "      <td>77.48</td>\n",
       "      <td>Sci&amp;Tech</td>\n",
       "      <td>1</td>\n",
       "      <td>86.5</td>\n",
       "      <td>...</td>\n",
       "      <td>66.28</td>\n",
       "      <td>0.0</td>\n",
       "      <td>0.0</td>\n",
       "      <td>1.0</td>\n",
       "      <td>0.0</td>\n",
       "      <td>0.0</td>\n",
       "      <td>1.0</td>\n",
       "      <td>1.0</td>\n",
       "      <td>0.0</td>\n",
       "      <td>200000.0</td>\n",
       "    </tr>\n",
       "    <tr>\n",
       "      <th>2</th>\n",
       "      <td>0</td>\n",
       "      <td>65.00</td>\n",
       "      <td>1</td>\n",
       "      <td>68.00</td>\n",
       "      <td>0</td>\n",
       "      <td>Arts</td>\n",
       "      <td>64.00</td>\n",
       "      <td>Comm&amp;Mgmt</td>\n",
       "      <td>0</td>\n",
       "      <td>75.0</td>\n",
       "      <td>...</td>\n",
       "      <td>57.80</td>\n",
       "      <td>1.0</td>\n",
       "      <td>0.0</td>\n",
       "      <td>0.0</td>\n",
       "      <td>1.0</td>\n",
       "      <td>0.0</td>\n",
       "      <td>0.0</td>\n",
       "      <td>1.0</td>\n",
       "      <td>0.0</td>\n",
       "      <td>250000.0</td>\n",
       "    </tr>\n",
       "    <tr>\n",
       "      <th>4</th>\n",
       "      <td>0</td>\n",
       "      <td>85.80</td>\n",
       "      <td>1</td>\n",
       "      <td>73.60</td>\n",
       "      <td>0</td>\n",
       "      <td>Commerce</td>\n",
       "      <td>73.30</td>\n",
       "      <td>Comm&amp;Mgmt</td>\n",
       "      <td>0</td>\n",
       "      <td>96.8</td>\n",
       "      <td>...</td>\n",
       "      <td>55.50</td>\n",
       "      <td>0.0</td>\n",
       "      <td>1.0</td>\n",
       "      <td>0.0</td>\n",
       "      <td>1.0</td>\n",
       "      <td>0.0</td>\n",
       "      <td>0.0</td>\n",
       "      <td>1.0</td>\n",
       "      <td>0.0</td>\n",
       "      <td>425000.0</td>\n",
       "    </tr>\n",
       "    <tr>\n",
       "      <th>7</th>\n",
       "      <td>0</td>\n",
       "      <td>82.00</td>\n",
       "      <td>1</td>\n",
       "      <td>64.00</td>\n",
       "      <td>0</td>\n",
       "      <td>Science</td>\n",
       "      <td>66.00</td>\n",
       "      <td>Sci&amp;Tech</td>\n",
       "      <td>1</td>\n",
       "      <td>67.0</td>\n",
       "      <td>...</td>\n",
       "      <td>62.14</td>\n",
       "      <td>0.0</td>\n",
       "      <td>0.0</td>\n",
       "      <td>1.0</td>\n",
       "      <td>0.0</td>\n",
       "      <td>0.0</td>\n",
       "      <td>1.0</td>\n",
       "      <td>1.0</td>\n",
       "      <td>0.0</td>\n",
       "      <td>252000.0</td>\n",
       "    </tr>\n",
       "    <tr>\n",
       "      <th>...</th>\n",
       "      <td>...</td>\n",
       "      <td>...</td>\n",
       "      <td>...</td>\n",
       "      <td>...</td>\n",
       "      <td>...</td>\n",
       "      <td>...</td>\n",
       "      <td>...</td>\n",
       "      <td>...</td>\n",
       "      <td>...</td>\n",
       "      <td>...</td>\n",
       "      <td>...</td>\n",
       "      <td>...</td>\n",
       "      <td>...</td>\n",
       "      <td>...</td>\n",
       "      <td>...</td>\n",
       "      <td>...</td>\n",
       "      <td>...</td>\n",
       "      <td>...</td>\n",
       "      <td>...</td>\n",
       "      <td>...</td>\n",
       "      <td>...</td>\n",
       "    </tr>\n",
       "    <tr>\n",
       "      <th>209</th>\n",
       "      <td>0</td>\n",
       "      <td>62.00</td>\n",
       "      <td>1</td>\n",
       "      <td>72.00</td>\n",
       "      <td>0</td>\n",
       "      <td>Commerce</td>\n",
       "      <td>65.00</td>\n",
       "      <td>Comm&amp;Mgmt</td>\n",
       "      <td>0</td>\n",
       "      <td>67.0</td>\n",
       "      <td>...</td>\n",
       "      <td>56.49</td>\n",
       "      <td>0.0</td>\n",
       "      <td>1.0</td>\n",
       "      <td>0.0</td>\n",
       "      <td>1.0</td>\n",
       "      <td>0.0</td>\n",
       "      <td>0.0</td>\n",
       "      <td>1.0</td>\n",
       "      <td>0.0</td>\n",
       "      <td>216000.0</td>\n",
       "    </tr>\n",
       "    <tr>\n",
       "      <th>210</th>\n",
       "      <td>0</td>\n",
       "      <td>80.60</td>\n",
       "      <td>0</td>\n",
       "      <td>82.00</td>\n",
       "      <td>0</td>\n",
       "      <td>Commerce</td>\n",
       "      <td>77.60</td>\n",
       "      <td>Comm&amp;Mgmt</td>\n",
       "      <td>0</td>\n",
       "      <td>91.0</td>\n",
       "      <td>...</td>\n",
       "      <td>74.49</td>\n",
       "      <td>0.0</td>\n",
       "      <td>1.0</td>\n",
       "      <td>0.0</td>\n",
       "      <td>1.0</td>\n",
       "      <td>0.0</td>\n",
       "      <td>0.0</td>\n",
       "      <td>1.0</td>\n",
       "      <td>0.0</td>\n",
       "      <td>400000.0</td>\n",
       "    </tr>\n",
       "    <tr>\n",
       "      <th>211</th>\n",
       "      <td>0</td>\n",
       "      <td>58.00</td>\n",
       "      <td>0</td>\n",
       "      <td>60.00</td>\n",
       "      <td>0</td>\n",
       "      <td>Science</td>\n",
       "      <td>72.00</td>\n",
       "      <td>Sci&amp;Tech</td>\n",
       "      <td>0</td>\n",
       "      <td>74.0</td>\n",
       "      <td>...</td>\n",
       "      <td>53.62</td>\n",
       "      <td>0.0</td>\n",
       "      <td>0.0</td>\n",
       "      <td>1.0</td>\n",
       "      <td>0.0</td>\n",
       "      <td>0.0</td>\n",
       "      <td>1.0</td>\n",
       "      <td>1.0</td>\n",
       "      <td>0.0</td>\n",
       "      <td>275000.0</td>\n",
       "    </tr>\n",
       "    <tr>\n",
       "      <th>212</th>\n",
       "      <td>0</td>\n",
       "      <td>67.00</td>\n",
       "      <td>0</td>\n",
       "      <td>67.00</td>\n",
       "      <td>0</td>\n",
       "      <td>Commerce</td>\n",
       "      <td>73.00</td>\n",
       "      <td>Comm&amp;Mgmt</td>\n",
       "      <td>1</td>\n",
       "      <td>59.0</td>\n",
       "      <td>...</td>\n",
       "      <td>69.72</td>\n",
       "      <td>0.0</td>\n",
       "      <td>1.0</td>\n",
       "      <td>0.0</td>\n",
       "      <td>1.0</td>\n",
       "      <td>0.0</td>\n",
       "      <td>0.0</td>\n",
       "      <td>1.0</td>\n",
       "      <td>0.0</td>\n",
       "      <td>295000.0</td>\n",
       "    </tr>\n",
       "    <tr>\n",
       "      <th>213</th>\n",
       "      <td>1</td>\n",
       "      <td>74.00</td>\n",
       "      <td>0</td>\n",
       "      <td>66.00</td>\n",
       "      <td>0</td>\n",
       "      <td>Commerce</td>\n",
       "      <td>58.00</td>\n",
       "      <td>Comm&amp;Mgmt</td>\n",
       "      <td>0</td>\n",
       "      <td>70.0</td>\n",
       "      <td>...</td>\n",
       "      <td>60.23</td>\n",
       "      <td>0.0</td>\n",
       "      <td>1.0</td>\n",
       "      <td>0.0</td>\n",
       "      <td>1.0</td>\n",
       "      <td>0.0</td>\n",
       "      <td>0.0</td>\n",
       "      <td>0.0</td>\n",
       "      <td>1.0</td>\n",
       "      <td>204000.0</td>\n",
       "    </tr>\n",
       "  </tbody>\n",
       "</table>\n",
       "<p>148 rows × 21 columns</p>\n",
       "</div>"
      ],
      "text/plain": [
       "     gender  ssc_p  ssc_b  hsc_p  hsc_b     hsc_s  degree_p   degree_t  \\\n",
       "0         0  67.00      0  91.00      0  Commerce     58.00   Sci&Tech   \n",
       "1         0  79.33      1  78.33      0   Science     77.48   Sci&Tech   \n",
       "2         0  65.00      1  68.00      0      Arts     64.00  Comm&Mgmt   \n",
       "4         0  85.80      1  73.60      0  Commerce     73.30  Comm&Mgmt   \n",
       "7         0  82.00      1  64.00      0   Science     66.00   Sci&Tech   \n",
       "..      ...    ...    ...    ...    ...       ...       ...        ...   \n",
       "209       0  62.00      1  72.00      0  Commerce     65.00  Comm&Mgmt   \n",
       "210       0  80.60      0  82.00      0  Commerce     77.60  Comm&Mgmt   \n",
       "211       0  58.00      0  60.00      0   Science     72.00   Sci&Tech   \n",
       "212       0  67.00      0  67.00      0  Commerce     73.00  Comm&Mgmt   \n",
       "213       1  74.00      0  66.00      0  Commerce     58.00  Comm&Mgmt   \n",
       "\n",
       "     workex  etest_p  ...  mba_p  x0_Arts  x0_Commerce  x0_Science  \\\n",
       "0         0     55.0  ...  58.80      0.0          1.0         0.0   \n",
       "1         1     86.5  ...  66.28      0.0          0.0         1.0   \n",
       "2         0     75.0  ...  57.80      1.0          0.0         0.0   \n",
       "4         0     96.8  ...  55.50      0.0          1.0         0.0   \n",
       "7         1     67.0  ...  62.14      0.0          0.0         1.0   \n",
       "..      ...      ...  ...    ...      ...          ...         ...   \n",
       "209       0     67.0  ...  56.49      0.0          1.0         0.0   \n",
       "210       0     91.0  ...  74.49      0.0          1.0         0.0   \n",
       "211       0     74.0  ...  53.62      0.0          0.0         1.0   \n",
       "212       1     59.0  ...  69.72      0.0          1.0         0.0   \n",
       "213       0     70.0  ...  60.23      0.0          1.0         0.0   \n",
       "\n",
       "     x1_Comm&Mgmt  x1_Others  x1_Sci&Tech  x2_Mkt&Fin  x2_Mkt&HR    salary  \n",
       "0             0.0        0.0          1.0         0.0        1.0  270000.0  \n",
       "1             0.0        0.0          1.0         1.0        0.0  200000.0  \n",
       "2             1.0        0.0          0.0         1.0        0.0  250000.0  \n",
       "4             1.0        0.0          0.0         1.0        0.0  425000.0  \n",
       "7             0.0        0.0          1.0         1.0        0.0  252000.0  \n",
       "..            ...        ...          ...         ...        ...       ...  \n",
       "209           1.0        0.0          0.0         1.0        0.0  216000.0  \n",
       "210           1.0        0.0          0.0         1.0        0.0  400000.0  \n",
       "211           0.0        0.0          1.0         1.0        0.0  275000.0  \n",
       "212           1.0        0.0          0.0         1.0        0.0  295000.0  \n",
       "213           1.0        0.0          0.0         0.0        1.0  204000.0  \n",
       "\n",
       "[148 rows x 21 columns]"
      ]
     },
     "execution_count": 41,
     "metadata": {},
     "output_type": "execute_result"
    }
   ],
   "source": [
    "new_model_data.dropna(inplace=False)"
   ]
  },
  {
   "cell_type": "markdown",
   "id": "bd2019af",
   "metadata": {},
   "source": [
    "**Plot the distribution of our target variable (2pts)**"
   ]
  },
  {
   "cell_type": "code",
   "execution_count": 45,
   "id": "cdb3fcaf",
   "metadata": {},
   "outputs": [
    {
     "name": "stderr",
     "output_type": "stream",
     "text": [
      "C:\\Users\\nino_\\anaconda3\\envs\\datascience\\lib\\site-packages\\seaborn\\distributions.py:2619: FutureWarning: `distplot` is a deprecated function and will be removed in a future version. Please adapt your code to use either `displot` (a figure-level function with similar flexibility) or `histplot` (an axes-level function for histograms).\n",
      "  warnings.warn(msg, FutureWarning)\n"
     ]
    },
    {
     "data": {
      "image/png": "[encoded data removed]",
      "text/plain": [
       "<Figure size 432x288 with 1 Axes>"
      ]
     },
     "metadata": {},
     "output_type": "display_data"
    }
   ],
   "source": [
    "sns.distplot(new_model_data['salary'], bins=10)\n",
    "plt.tight_layout()\n",
    "plt.show()"
   ]
  },
  {
   "cell_type": "markdown",
   "id": "9a542165",
   "metadata": {},
   "source": [
    "**what insights can you get from the target distribution? how will this affect our model? (2pts)**"
   ]
  },
  {
   "cell_type": "markdown",
   "id": "9c569881",
   "metadata": {},
   "source": []
  },
  {
   "cell_type": "markdown",
   "id": "2024395c",
   "metadata": {},
   "source": [
    "## Model Development"
   ]
  },
  {
   "cell_type": "markdown",
   "id": "5521aa99",
   "metadata": {},
   "source": [
    "**import the necessary packages to run Linear Regression (1pt)**"
   ]
  },
  {
   "cell_type": "code",
   "execution_count": null,
   "id": "5b87002c",
   "metadata": {},
   "outputs": [],
   "source": []
  },
  {
   "cell_type": "markdown",
   "id": "d80cf6fb",
   "metadata": {},
   "source": [
    "**do a train-test split wherein 70% of the data is used for training and 30% is used for testing (2pts)**"
   ]
  },
  {
   "cell_type": "code",
   "execution_count": null,
   "id": "de53a1d0",
   "metadata": {},
   "outputs": [],
   "source": []
  },
  {
   "cell_type": "markdown",
   "id": "f43981fe",
   "metadata": {},
   "source": [
    "**build linear regression model and show the train & test r2 score (2 pts)**"
   ]
  },
  {
   "cell_type": "code",
   "execution_count": null,
   "id": "9cef6b3e",
   "metadata": {},
   "outputs": [],
   "source": []
  },
  {
   "cell_type": "markdown",
   "id": "563dd15f",
   "metadata": {},
   "source": [
    "**What can be interpreted from the R-squared score? (2pts)**"
   ]
  },
  {
   "cell_type": "code",
   "execution_count": null,
   "id": "033ced5c",
   "metadata": {},
   "outputs": [],
   "source": []
  },
  {
   "cell_type": "markdown",
   "id": "3b63d7f0",
   "metadata": {},
   "source": [
    "**Plot the coeffiecients of the linear regression model (2pts)**"
   ]
  },
  {
   "cell_type": "code",
   "execution_count": null,
   "id": "4b605cfb",
   "metadata": {},
   "outputs": [],
   "source": []
  },
  {
   "cell_type": "markdown",
   "id": "dcb19c82",
   "metadata": {},
   "source": [
    "**From the plot, what kind of insights are you able to derive? Can these insights be trusted based on the R2 score? Why or why not? (4pts)**"
   ]
  },
  {
   "cell_type": "code",
   "execution_count": null,
   "id": "cf0eb665",
   "metadata": {},
   "outputs": [],
   "source": []
  }
 ],
 "metadata": {
  "kernelspec": {
   "display_name": "Python 3 (ipykernel)",
   "language": "python",
   "name": "python3"
  },
  "language_info": {
   "codemirror_mode": {
    "name": "ipython",
    "version": 3
   },
   "file_extension": ".py",
   "mimetype": "text/x-python",
   "name": "python",
   "nbconvert_exporter": "python",
   "pygments_lexer": "ipython3",
   "version": "3.10.0"
  }
 },
 "nbformat": 4,
 "nbformat_minor": 5
}
