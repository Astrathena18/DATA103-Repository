{
 "cells": [
  {
   "cell_type": "code",
   "execution_count": 3,
   "id": "d45943a8-7b08-4572-b547-3289995b30c5",
   "metadata": {},
   "outputs": [
    {
     "ename": "ModuleNotFoundError",
     "evalue": "No module named 'imblearn'",
     "output_type": "error",
     "traceback": [
      "\u001b[0;31m---------------------------------------------------------------------------\u001b[0m",
      "\u001b[0;31mModuleNotFoundError\u001b[0m                       Traceback (most recent call last)",
      "\u001b[1;32m/workspaces/DATA103-Repository/Notebooks/FinalProject/FinalProject.ipynb Cell 4'\u001b[0m in \u001b[0;36m<cell line: 12>\u001b[0;34m()\u001b[0m\n\u001b[1;32m     <a href='vscode-notebook-cell://codespaces%2Bmatthewmagsano-data103-repository-q7qx696pw2679q/workspaces/DATA103-Repository/Notebooks/FinalProject/FinalProject.ipynb#ch0000003vscode-remote?line=9'>10</a>\u001b[0m \u001b[39mfrom\u001b[39;00m \u001b[39msklearn\u001b[39;00m\u001b[39m.\u001b[39;00m\u001b[39mdatasets\u001b[39;00m \u001b[39mimport\u001b[39;00m make_classification\n\u001b[1;32m     <a href='vscode-notebook-cell://codespaces%2Bmatthewmagsano-data103-repository-q7qx696pw2679q/workspaces/DATA103-Repository/Notebooks/FinalProject/FinalProject.ipynb#ch0000003vscode-remote?line=10'>11</a>\u001b[0m \u001b[39mfrom\u001b[39;00m \u001b[39mcollections\u001b[39;00m \u001b[39mimport\u001b[39;00m Counter\n\u001b[0;32m---> <a href='vscode-notebook-cell://codespaces%2Bmatthewmagsano-data103-repository-q7qx696pw2679q/workspaces/DATA103-Repository/Notebooks/FinalProject/FinalProject.ipynb#ch0000003vscode-remote?line=11'>12</a>\u001b[0m \u001b[39mfrom\u001b[39;00m \u001b[39mimblearn\u001b[39;00m\u001b[39m.\u001b[39;00m\u001b[39munder_sampling\u001b[39;00m \u001b[39mimport\u001b[39;00m RandomUnderSampler\n\u001b[1;32m     <a href='vscode-notebook-cell://codespaces%2Bmatthewmagsano-data103-repository-q7qx696pw2679q/workspaces/DATA103-Repository/Notebooks/FinalProject/FinalProject.ipynb#ch0000003vscode-remote?line=13'>14</a>\u001b[0m \u001b[39mimport\u001b[39;00m \u001b[39mseaborn\u001b[39;00m \u001b[39mas\u001b[39;00m \u001b[39msns\u001b[39;00m\n\u001b[1;32m     <a href='vscode-notebook-cell://codespaces%2Bmatthewmagsano-data103-repository-q7qx696pw2679q/workspaces/DATA103-Repository/Notebooks/FinalProject/FinalProject.ipynb#ch0000003vscode-remote?line=15'>16</a>\u001b[0m sns\u001b[39m.\u001b[39mset_style(\u001b[39m'\u001b[39m\u001b[39mwhitegrid\u001b[39m\u001b[39m'\u001b[39m)\n",
      "\u001b[0;31mModuleNotFoundError\u001b[0m: No module named 'imblearn'"
     ]
    }
   ],
   "source": [
    "import numpy as np\n",
    "import sys\n",
    "import pandas as pd\n",
    "import matplotlib.pyplot as plt\n",
    "\n",
    "from sklearn import datasets\n",
    "from sklearn.model_selection import train_test_split\n",
    "from sklearn.metrics import mean_squared_error\n",
    "from sklearn.preprocessing import OneHotEncoder\n",
    "from sklearn.datasets import make_classification\n",
    "from collections import Counter\n",
    "from imblearn.under_sampling import RandomUnderSampler\n",
    "\n",
    "import seaborn as sns\n",
    "\n",
    "sns.set_style('whitegrid')\n",
    "\n",
    "sns.set_palette('Set2')\n",
    "sns.color_palette('Set2')"
   ]
  },
  {
   "cell_type": "markdown",
   "id": "4371d36d-78cd-40d8-894d-089d77413064",
   "metadata": {},
   "source": [
    "# LOADING AND CLEANING DATASET"
   ]
  },
  {
   "cell_type": "code",
   "execution_count": 2,
   "id": "56b3b4ff-45df-42a2-bfa8-17164191ce6d",
   "metadata": {},
   "outputs": [],
   "source": [
    "df = pd.read_csv('insurance.csv')"
   ]
  },
  {
   "cell_type": "code",
   "execution_count": 3,
   "id": "0ffc3f01-795d-4dba-a5df-4b5b1f39b6b0",
   "metadata": {},
   "outputs": [
    {
     "data": {
      "text/html": [
       "<div>\n",
       "<style scoped>\n",
       "    .dataframe tbody tr th:only-of-type {\n",
       "        vertical-align: middle;\n",
       "    }\n",
       "\n",
       "    .dataframe tbody tr th {\n",
       "        vertical-align: top;\n",
       "    }\n",
       "\n",
       "    .dataframe thead th {\n",
       "        text-align: right;\n",
       "    }\n",
       "</style>\n",
       "<table border=\"1\" class=\"dataframe\">\n",
       "  <thead>\n",
       "    <tr style=\"text-align: right;\">\n",
       "      <th></th>\n",
       "      <th>age</th>\n",
       "      <th>sex</th>\n",
       "      <th>bmi</th>\n",
       "      <th>children</th>\n",
       "      <th>smoker</th>\n",
       "      <th>region</th>\n",
       "      <th>charges</th>\n",
       "    </tr>\n",
       "  </thead>\n",
       "  <tbody>\n",
       "    <tr>\n",
       "      <th>0</th>\n",
       "      <td>19</td>\n",
       "      <td>female</td>\n",
       "      <td>27.900</td>\n",
       "      <td>0</td>\n",
       "      <td>yes</td>\n",
       "      <td>southwest</td>\n",
       "      <td>16884.92400</td>\n",
       "    </tr>\n",
       "    <tr>\n",
       "      <th>1</th>\n",
       "      <td>18</td>\n",
       "      <td>male</td>\n",
       "      <td>33.770</td>\n",
       "      <td>1</td>\n",
       "      <td>no</td>\n",
       "      <td>southeast</td>\n",
       "      <td>1725.55230</td>\n",
       "    </tr>\n",
       "    <tr>\n",
       "      <th>2</th>\n",
       "      <td>28</td>\n",
       "      <td>male</td>\n",
       "      <td>33.000</td>\n",
       "      <td>3</td>\n",
       "      <td>no</td>\n",
       "      <td>southeast</td>\n",
       "      <td>4449.46200</td>\n",
       "    </tr>\n",
       "    <tr>\n",
       "      <th>3</th>\n",
       "      <td>33</td>\n",
       "      <td>male</td>\n",
       "      <td>22.705</td>\n",
       "      <td>0</td>\n",
       "      <td>no</td>\n",
       "      <td>northwest</td>\n",
       "      <td>21984.47061</td>\n",
       "    </tr>\n",
       "    <tr>\n",
       "      <th>4</th>\n",
       "      <td>32</td>\n",
       "      <td>male</td>\n",
       "      <td>28.880</td>\n",
       "      <td>0</td>\n",
       "      <td>no</td>\n",
       "      <td>northwest</td>\n",
       "      <td>3866.85520</td>\n",
       "    </tr>\n",
       "  </tbody>\n",
       "</table>\n",
       "</div>"
      ],
      "text/plain": [
       "   age     sex     bmi  children smoker     region      charges\n",
       "0   19  female  27.900         0    yes  southwest  16884.92400\n",
       "1   18    male  33.770         1     no  southeast   1725.55230\n",
       "2   28    male  33.000         3     no  southeast   4449.46200\n",
       "3   33    male  22.705         0     no  northwest  21984.47061\n",
       "4   32    male  28.880         0     no  northwest   3866.85520"
      ]
     },
     "execution_count": 3,
     "metadata": {},
     "output_type": "execute_result"
    }
   ],
   "source": [
    "df.head()"
   ]
  },
  {
   "cell_type": "code",
   "execution_count": 4,
   "id": "da2b617b-32ae-4ce4-b020-8a095e355dd8",
   "metadata": {},
   "outputs": [
    {
     "data": {
      "text/html": [
       "<div>\n",
       "<style scoped>\n",
       "    .dataframe tbody tr th:only-of-type {\n",
       "        vertical-align: middle;\n",
       "    }\n",
       "\n",
       "    .dataframe tbody tr th {\n",
       "        vertical-align: top;\n",
       "    }\n",
       "\n",
       "    .dataframe thead th {\n",
       "        text-align: right;\n",
       "    }\n",
       "</style>\n",
       "<table border=\"1\" class=\"dataframe\">\n",
       "  <thead>\n",
       "    <tr style=\"text-align: right;\">\n",
       "      <th></th>\n",
       "      <th>age</th>\n",
       "      <th>bmi</th>\n",
       "      <th>children</th>\n",
       "      <th>charges</th>\n",
       "    </tr>\n",
       "  </thead>\n",
       "  <tbody>\n",
       "    <tr>\n",
       "      <th>count</th>\n",
       "      <td>1338.000000</td>\n",
       "      <td>1338.000000</td>\n",
       "      <td>1338.000000</td>\n",
       "      <td>1338.000000</td>\n",
       "    </tr>\n",
       "    <tr>\n",
       "      <th>mean</th>\n",
       "      <td>39.207025</td>\n",
       "      <td>30.663397</td>\n",
       "      <td>1.094918</td>\n",
       "      <td>13270.422265</td>\n",
       "    </tr>\n",
       "    <tr>\n",
       "      <th>std</th>\n",
       "      <td>14.049960</td>\n",
       "      <td>6.098187</td>\n",
       "      <td>1.205493</td>\n",
       "      <td>12110.011237</td>\n",
       "    </tr>\n",
       "    <tr>\n",
       "      <th>min</th>\n",
       "      <td>18.000000</td>\n",
       "      <td>15.960000</td>\n",
       "      <td>0.000000</td>\n",
       "      <td>1121.873900</td>\n",
       "    </tr>\n",
       "    <tr>\n",
       "      <th>25%</th>\n",
       "      <td>27.000000</td>\n",
       "      <td>26.296250</td>\n",
       "      <td>0.000000</td>\n",
       "      <td>4740.287150</td>\n",
       "    </tr>\n",
       "    <tr>\n",
       "      <th>50%</th>\n",
       "      <td>39.000000</td>\n",
       "      <td>30.400000</td>\n",
       "      <td>1.000000</td>\n",
       "      <td>9382.033000</td>\n",
       "    </tr>\n",
       "    <tr>\n",
       "      <th>75%</th>\n",
       "      <td>51.000000</td>\n",
       "      <td>34.693750</td>\n",
       "      <td>2.000000</td>\n",
       "      <td>16639.912515</td>\n",
       "    </tr>\n",
       "    <tr>\n",
       "      <th>max</th>\n",
       "      <td>64.000000</td>\n",
       "      <td>53.130000</td>\n",
       "      <td>5.000000</td>\n",
       "      <td>63770.428010</td>\n",
       "    </tr>\n",
       "  </tbody>\n",
       "</table>\n",
       "</div>"
      ],
      "text/plain": [
       "               age          bmi     children       charges\n",
       "count  1338.000000  1338.000000  1338.000000   1338.000000\n",
       "mean     39.207025    30.663397     1.094918  13270.422265\n",
       "std      14.049960     6.098187     1.205493  12110.011237\n",
       "min      18.000000    15.960000     0.000000   1121.873900\n",
       "25%      27.000000    26.296250     0.000000   4740.287150\n",
       "50%      39.000000    30.400000     1.000000   9382.033000\n",
       "75%      51.000000    34.693750     2.000000  16639.912515\n",
       "max      64.000000    53.130000     5.000000  63770.428010"
      ]
     },
     "execution_count": 4,
     "metadata": {},
     "output_type": "execute_result"
    }
   ],
   "source": [
    "df.describe()"
   ]
  },
  {
   "cell_type": "code",
   "execution_count": 5,
   "id": "4d3c9b40-5ae4-48c5-98d6-df27de3a2215",
   "metadata": {},
   "outputs": [
    {
     "data": {
      "text/plain": [
       "age         0\n",
       "sex         0\n",
       "bmi         0\n",
       "children    0\n",
       "smoker      0\n",
       "region      0\n",
       "charges     0\n",
       "dtype: int64"
      ]
     },
     "execution_count": 5,
     "metadata": {},
     "output_type": "execute_result"
    }
   ],
   "source": [
    "df.isnull().sum()"
   ]
  },
  {
   "cell_type": "code",
   "execution_count": 6,
   "id": "248ab4c6-2062-4aec-a973-143d8f63da87",
   "metadata": {},
   "outputs": [
    {
     "data": {
      "text/html": [
       "<div>\n",
       "<style scoped>\n",
       "    .dataframe tbody tr th:only-of-type {\n",
       "        vertical-align: middle;\n",
       "    }\n",
       "\n",
       "    .dataframe tbody tr th {\n",
       "        vertical-align: top;\n",
       "    }\n",
       "\n",
       "    .dataframe thead th {\n",
       "        text-align: right;\n",
       "    }\n",
       "</style>\n",
       "<table border=\"1\" class=\"dataframe\">\n",
       "  <thead>\n",
       "    <tr style=\"text-align: right;\">\n",
       "      <th></th>\n",
       "      <th>age</th>\n",
       "      <th>sex</th>\n",
       "      <th>bmi</th>\n",
       "      <th>children</th>\n",
       "      <th>smoker</th>\n",
       "      <th>charges</th>\n",
       "      <th>x0_northeast</th>\n",
       "      <th>x0_northwest</th>\n",
       "      <th>x0_southeast</th>\n",
       "      <th>x0_southwest</th>\n",
       "    </tr>\n",
       "  </thead>\n",
       "  <tbody>\n",
       "    <tr>\n",
       "      <th>0</th>\n",
       "      <td>19</td>\n",
       "      <td>0</td>\n",
       "      <td>27.90</td>\n",
       "      <td>0</td>\n",
       "      <td>1</td>\n",
       "      <td>16884.92</td>\n",
       "      <td>0.0</td>\n",
       "      <td>0.0</td>\n",
       "      <td>0.0</td>\n",
       "      <td>1.0</td>\n",
       "    </tr>\n",
       "    <tr>\n",
       "      <th>1</th>\n",
       "      <td>18</td>\n",
       "      <td>1</td>\n",
       "      <td>33.77</td>\n",
       "      <td>1</td>\n",
       "      <td>0</td>\n",
       "      <td>1725.55</td>\n",
       "      <td>0.0</td>\n",
       "      <td>0.0</td>\n",
       "      <td>1.0</td>\n",
       "      <td>0.0</td>\n",
       "    </tr>\n",
       "    <tr>\n",
       "      <th>2</th>\n",
       "      <td>28</td>\n",
       "      <td>1</td>\n",
       "      <td>33.00</td>\n",
       "      <td>3</td>\n",
       "      <td>0</td>\n",
       "      <td>4449.46</td>\n",
       "      <td>0.0</td>\n",
       "      <td>0.0</td>\n",
       "      <td>1.0</td>\n",
       "      <td>0.0</td>\n",
       "    </tr>\n",
       "    <tr>\n",
       "      <th>3</th>\n",
       "      <td>33</td>\n",
       "      <td>1</td>\n",
       "      <td>22.70</td>\n",
       "      <td>0</td>\n",
       "      <td>0</td>\n",
       "      <td>21984.47</td>\n",
       "      <td>0.0</td>\n",
       "      <td>1.0</td>\n",
       "      <td>0.0</td>\n",
       "      <td>0.0</td>\n",
       "    </tr>\n",
       "    <tr>\n",
       "      <th>4</th>\n",
       "      <td>32</td>\n",
       "      <td>1</td>\n",
       "      <td>28.88</td>\n",
       "      <td>0</td>\n",
       "      <td>0</td>\n",
       "      <td>3866.86</td>\n",
       "      <td>0.0</td>\n",
       "      <td>1.0</td>\n",
       "      <td>0.0</td>\n",
       "      <td>0.0</td>\n",
       "    </tr>\n",
       "  </tbody>\n",
       "</table>\n",
       "</div>"
      ],
      "text/plain": [
       "   age  sex    bmi  children  smoker   charges  x0_northeast  x0_northwest  \\\n",
       "0   19    0  27.90         0       1  16884.92           0.0           0.0   \n",
       "1   18    1  33.77         1       0   1725.55           0.0           0.0   \n",
       "2   28    1  33.00         3       0   4449.46           0.0           0.0   \n",
       "3   33    1  22.70         0       0  21984.47           0.0           1.0   \n",
       "4   32    1  28.88         0       0   3866.86           0.0           1.0   \n",
       "\n",
       "   x0_southeast  x0_southwest  \n",
       "0           0.0           1.0  \n",
       "1           1.0           0.0  \n",
       "2           1.0           0.0  \n",
       "3           0.0           0.0  \n",
       "4           0.0           0.0  "
      ]
     },
     "execution_count": 6,
     "metadata": {},
     "output_type": "execute_result"
    }
   ],
   "source": [
    "model_data = df.copy(deep=True)\n",
    "\n",
    "#convert sex to numeric \n",
    "model_data.sex = model_data.sex.apply(lambda x: 1 if x == 'male' else 0)\n",
    "#convert smoker to numeric\n",
    "model_data.smoker = model_data.smoker.apply(lambda x: 1 if x == 'yes' else 0)\n",
    "\n",
    "#one hot encode features with multiple categories \n",
    "multi_categorical_features = ['region']\n",
    "enc = OneHotEncoder(handle_unknown='ignore')\n",
    "res = enc.fit_transform(model_data[multi_categorical_features])\n",
    "res_df = pd.DataFrame(res.todense(), columns=enc.get_feature_names())\n",
    "\n",
    "model_data.drop(multi_categorical_features, axis=1, inplace=True)\n",
    "model_data = pd.concat([model_data, res_df], axis=1)\n",
    "\n",
    "model_data = model_data.round(2)\n",
    "\n",
    "model_data.head()"
   ]
  },
  {
   "cell_type": "code",
   "execution_count": 7,
   "id": "02471112-d77b-406d-a2a1-1813e193ac18",
   "metadata": {},
   "outputs": [],
   "source": [
    "def clean_dataset(df):\n",
    "    assert isinstance(df, pd.DataFrame)\n",
    "    df.dropna(inplace=True)\n",
    "    indices_to_keep = ~df.isin([np.nan, np.inf, -np.inf]).any(1)\n",
    "    return df[indices_to_keep].astype(np.float64)\n",
    "#clean_dataset(model_data)"
   ]
  },
  {
   "cell_type": "code",
   "execution_count": 8,
   "id": "60fb2307-b1a1-42bb-a93f-fc3e99c8bbe5",
   "metadata": {},
   "outputs": [],
   "source": [
    "X = model_data.drop(labels=['charges'],axis=1)\n",
    "y = model_data['charges']\n",
    "X_train, X_test, y_train, y_test = train_test_split(X, y, test_size=0.3, random_state=42)"
   ]
  },
  {
   "cell_type": "markdown",
   "id": "e2e60935-f0a7-4ca1-8711-0bf740d06c78",
   "metadata": {},
   "source": [
    "# LINEAR REGRESSION GRADIENT DESCENT"
   ]
  },
  {
   "cell_type": "code",
   "execution_count": 33,
   "id": "0d712757-78e3-4131-b5cf-556f54be2571",
   "metadata": {},
   "outputs": [],
   "source": [
    "#Convert df to array\n",
    "X=X.to_numpy()\n",
    "y=y.to_numpy()"
   ]
  },
  {
   "cell_type": "code",
   "execution_count": 126,
   "id": "102e69b8-6d4f-4893-a49f-249485f5e66d",
   "metadata": {},
   "outputs": [],
   "source": [
    "def run_gradient_descent(X, y, learning_rate=.00038, max_iter=10000):\n",
    "    w1, w2, w3, w4, w5, w6, w7, w8, w9, w10  = 0.01, .02, .03, .04, .05, .06, .07, .08, .09, .10\n",
    "    stop_criterion = 0.0000000000000000000000001\n",
    "    max_iter = 3000\n",
    "    N = len(y)\n",
    "    \n",
    "    #store results\n",
    "    log = []\n",
    "    mse = []\n",
    "    \n",
    "    while max_iter > 0:\n",
    "        f = y - (w1*X[:,0] + w2*X[:, 1] + w3*X[:,2] + w4*X[:,3] + w5*X[:,4] + w6*X[:,5] + w7*X[:,6] + w8*X[:,7] + w9*X[:,8] + w10)\n",
    "        \n",
    "        #calculate gradient & update weights\n",
    "        w1 -= learning_rate * (-2 * X[:,0].dot(f).sum()/ N)\n",
    "        w2 -= learning_rate * (-2 * X[:,1].dot(f).sum()/ N)\n",
    "        w3 -= learning_rate * (-2 * X[:,2].dot(f).sum()/ N)\n",
    "        w4 -= learning_rate * (-2 * X[:,3].dot(f).sum()/ N)\n",
    "        w5 -= learning_rate * (-2 * X[:,4].dot(f).sum()/ N)\n",
    "        w6 -= learning_rate * (-2 * X[:,5].dot(f).sum()/ N)\n",
    "        w7 -= learning_rate * (-2 * X[:,6].dot(f).sum()/ N)\n",
    "        w8 -= learning_rate * (-2 * X[:,7].dot(f).sum()/ N)\n",
    "        w9 -= learning_rate * (-2 * X[:,8].dot(f).sum()/ N)\n",
    "        w10 -= learning_rate * (-2 * f.sum() / N)\n",
    "\n",
    "        #calculate loss\n",
    "        new_error = mean_squared_error(y, (w1*X[:,0] + w2*X[:, 1] + w3*X[:,2] + w4*X[:,3] + w5*X[:,4] + w6*X[:,5] + w7*X[:,6] + w8*X[:,7] + w9*X[:,8] + w10))\n",
    "\n",
    "        #store results\n",
    "        log.append((w1,w2,w3,w4,w5,w6,w7,w8,w9,w10))\n",
    "        mse.append(new_error)\n",
    "\n",
    "        if new_error <= stop_criterion:\n",
    "            break\n",
    "        max_iter -= 1\n",
    "    \n",
    "    return w1, w2, w3, w4, w5, w6, w7, w8, w9, w10, log, mse\n",
    "w1, w2, w3, w4, w5, w6, w7, w8, w9, w10, log, mse = run_gradient_descent(X, y)"
   ]
  },
  {
   "cell_type": "code",
   "execution_count": 127,
   "id": "4f0f718f-bfa3-4a05-9877-4df6f139208d",
   "metadata": {},
   "outputs": [
    {
     "data": {
      "text/plain": [
       "82770723.34677325"
      ]
     },
     "execution_count": 127,
     "metadata": {},
     "output_type": "execute_result"
    },
    {
     "data": {
      "image/png": "[encoded data removed]",
      "text/plain": [
       "<Figure size 432x288 with 1 Axes>"
      ]
     },
     "metadata": {},
     "output_type": "display_data"
    }
   ],
   "source": [
    "ax = sns.lineplot(x=range(len(mse)),y=mse)\n",
    "ax.set_xlabel('Number of iterations')\n",
    "ax.set_ylabel('MSE')\n",
    "min(mse)"
   ]
  },
  {
   "cell_type": "code",
   "execution_count": 52,
   "id": "ea4961fb-3b7c-4158-a6ff-1ed1e5d62ce8",
   "metadata": {},
   "outputs": [
    {
     "name": "stdout",
     "output_type": "stream",
     "text": [
      "207.2724182290963 128.49986479688638 154.6026791547079 238.38292558620762 2188.396607920996 20.47999039508478 -109.63932663021227 123.36784523774453 -157.15382212068025 -123.14531311806302\n"
     ]
    }
   ],
   "source": [
    "print(w1, w2, w3, w4, w5, w6, w7, w8, w9, w10)"
   ]
  },
  {
   "cell_type": "code",
   "execution_count": 48,
   "id": "d0216ff1-d793-40ce-85fc-0187ac5e34e0",
   "metadata": {},
   "outputs": [],
   "source": [
    "#print(mse)"
   ]
  },
  {
   "cell_type": "code",
   "execution_count": 78,
   "id": "bfd7117b-d466-4b64-8db7-d8f8a66635c2",
   "metadata": {},
   "outputs": [
    {
     "data": {
      "text/plain": [
       "Text(0, 0.5, 'MSE')"
      ]
     },
     "execution_count": 78,
     "metadata": {},
     "output_type": "execute_result"
    },
    {
     "data": {
      "image/png": "[encoded data removed]",
      "text/plain": [
       "<Figure size 432x288 with 1 Axes>"
      ]
     },
     "metadata": {},
     "output_type": "display_data"
    }
   ],
   "source": []
  },
  {
   "cell_type": "code",
   "execution_count": 16,
   "id": "8dd021cb-f729-4137-8139-273b8c0473eb",
   "metadata": {},
   "outputs": [],
   "source": [
    "#fig, ax = plt.subplots(figsize=(15,10))\n",
    "\n",
    "#y_pred = w1*X[:,0] + w2*X[:, 1] + w3*X[:,2] + w4*X[:,3] + w5*X[:,4] + w6*X[:,5] + w7*X[:,6] + w8*X[:,7] + w9*X[:,8] + w10\n",
    "#sns.scatterplot(x=X, y=y, ax=ax)\n",
    "#sns.lineplot(x=X, y=y_pred, ax=ax)"
   ]
  },
  {
   "cell_type": "markdown",
   "id": "a743ead3-771c-43c9-b7e5-0662cba80d76",
   "metadata": {},
   "source": [
    "# LINEAR REGRESSION SK LEARN"
   ]
  },
  {
   "cell_type": "code",
   "execution_count": 22,
   "id": "1da2f65f-9178-4823-ac1f-ce27698ba3f5",
   "metadata": {},
   "outputs": [],
   "source": [
    "X = model_data.drop(labels=['charges'],axis=1)\n",
    "y = model_data['charges']\n",
    "X_train, X_test, y_train, y_test = train_test_split(X, y, test_size=0.3, random_state=42)"
   ]
  },
  {
   "cell_type": "code",
   "execution_count": 23,
   "id": "c0c06dc8-37bb-41ba-8618-b6c703a69be4",
   "metadata": {},
   "outputs": [],
   "source": [
    "from sklearn.linear_model import LinearRegression"
   ]
  },
  {
   "cell_type": "code",
   "execution_count": 24,
   "id": "b79aa531-8566-49ca-8c41-88891a2bdd6d",
   "metadata": {},
   "outputs": [
    {
     "data": {
      "text/plain": [
       "0.7423947807540311"
      ]
     },
     "execution_count": 24,
     "metadata": {},
     "output_type": "execute_result"
    }
   ],
   "source": [
    "reg = LinearRegression().fit(X_train, y_train)\n",
    "reg.score(X_train, y_train)"
   ]
  },
  {
   "cell_type": "code",
   "execution_count": 25,
   "id": "42d79a97-ff56-4fad-ab63-f24dfbc1a779",
   "metadata": {},
   "outputs": [
    {
     "data": {
      "text/plain": [
       "0.7696124184215904"
      ]
     },
     "execution_count": 25,
     "metadata": {},
     "output_type": "execute_result"
    }
   ],
   "source": [
    "reg.score(X_test, y_test)"
   ]
  },
  {
   "cell_type": "code",
   "execution_count": 26,
   "id": "b194cdec-665f-4d24-bbff-4d5587d6cbd1",
   "metadata": {},
   "outputs": [
    {
     "data": {
      "text/plain": [
       "['age',\n",
       " 'sex',\n",
       " 'bmi',\n",
       " 'children',\n",
       " 'smoker',\n",
       " 'charges',\n",
       " 'x0_northeast',\n",
       " 'x0_northwest',\n",
       " 'x0_southeast',\n",
       " 'x0_southwest']"
      ]
     },
     "execution_count": 26,
     "metadata": {},
     "output_type": "execute_result"
    }
   ],
   "source": [
    "list(model_data.columns)"
   ]
  },
  {
   "cell_type": "code",
   "execution_count": 27,
   "id": "ee7aaa9e-2025-41ed-aaca-fe35e429911d",
   "metadata": {},
   "outputs": [
    {
     "data": {
      "image/png": "[encoded data removed]",
      "text/plain": [
       "<Figure size 1080x720 with 1 Axes>"
      ]
     },
     "metadata": {},
     "output_type": "display_data"
    }
   ],
   "source": [
    "sns.set(font_scale = 1)\n",
    "reg = LinearRegression().fit(X_train, y_train)\n",
    "cols = list(X.columns)\n",
    "fig, ax = plt.subplots(figsize=(15,10))\n",
    "sns.barplot(x=reg.coef_, y=cols)\n",
    "\n",
    "for p in ax.patches:\n",
    "     width = p.get_width() # get bar length\n",
    "     ax.text(width - .5, # set the text at 1 unit right of the bar\n",
    "               p.get_y() + p.get_height() / 2, # get Y coordinate + X coordinate / 2\n",
    "               '{:1.2f}'.format(width), # set variable to display, 2 decimals\n",
    "               ha = 'left', # horizontal alignment\n",
    "               va = 'center',fontsize=13) # vertical alignment"
   ]
  },
  {
   "cell_type": "markdown",
   "id": "7c2d0bee-b8e7-4b23-91cd-96957569545a",
   "metadata": {},
   "source": [
    "# LINEAR REGRESSION OLS"
   ]
  },
  {
   "cell_type": "code",
   "execution_count": 28,
   "id": "135af389-ff58-4641-ad81-21aa389aa761",
   "metadata": {},
   "outputs": [
    {
     "data": {
      "text/html": [
       "<table class=\"simpletable\">\n",
       "<caption>OLS Regression Results</caption>\n",
       "<tr>\n",
       "  <th>Dep. Variable:</th>         <td>charges</td>     <th>  R-squared:         </th> <td>   0.742</td> \n",
       "</tr>\n",
       "<tr>\n",
       "  <th>Model:</th>                   <td>OLS</td>       <th>  Adj. R-squared:    </th> <td>   0.740</td> \n",
       "</tr>\n",
       "<tr>\n",
       "  <th>Method:</th>             <td>Least Squares</td>  <th>  F-statistic:       </th> <td>   333.9</td> \n",
       "</tr>\n",
       "<tr>\n",
       "  <th>Date:</th>             <td>Wed, 01 Jun 2022</td> <th>  Prob (F-statistic):</th> <td>6.55e-267</td>\n",
       "</tr>\n",
       "<tr>\n",
       "  <th>Time:</th>                 <td>12:50:06</td>     <th>  Log-Likelihood:    </th> <td> -9492.9</td> \n",
       "</tr>\n",
       "<tr>\n",
       "  <th>No. Observations:</th>      <td>   936</td>      <th>  AIC:               </th> <td>1.900e+04</td>\n",
       "</tr>\n",
       "<tr>\n",
       "  <th>Df Residuals:</th>          <td>   927</td>      <th>  BIC:               </th> <td>1.905e+04</td>\n",
       "</tr>\n",
       "<tr>\n",
       "  <th>Df Model:</th>              <td>     8</td>      <th>                     </th>     <td> </td>    \n",
       "</tr>\n",
       "<tr>\n",
       "  <th>Covariance Type:</th>      <td>nonrobust</td>    <th>                     </th>     <td> </td>    \n",
       "</tr>\n",
       "</table>\n",
       "<table class=\"simpletable\">\n",
       "<tr>\n",
       "        <td></td>          <th>coef</th>     <th>std err</th>      <th>t</th>      <th>P>|t|</th>  <th>[0.025</th>    <th>0.975]</th>  \n",
       "</tr>\n",
       "<tr>\n",
       "  <th>age</th>          <td>  261.2982</td> <td>   14.435</td> <td>   18.102</td> <td> 0.000</td> <td>  232.969</td> <td>  289.627</td>\n",
       "</tr>\n",
       "<tr>\n",
       "  <th>sex</th>          <td>  104.8476</td> <td>  404.889</td> <td>    0.259</td> <td> 0.796</td> <td> -689.759</td> <td>  899.454</td>\n",
       "</tr>\n",
       "<tr>\n",
       "  <th>bmi</th>          <td>  348.8947</td> <td>   35.286</td> <td>    9.888</td> <td> 0.000</td> <td>  279.645</td> <td>  418.144</td>\n",
       "</tr>\n",
       "<tr>\n",
       "  <th>children</th>     <td>  424.1119</td> <td>  166.973</td> <td>    2.540</td> <td> 0.011</td> <td>   96.423</td> <td>  751.801</td>\n",
       "</tr>\n",
       "<tr>\n",
       "  <th>smoker</th>       <td> 2.363e+04</td> <td>  498.613</td> <td>   47.388</td> <td> 0.000</td> <td> 2.26e+04</td> <td> 2.46e+04</td>\n",
       "</tr>\n",
       "<tr>\n",
       "  <th>x0_northeast</th> <td>-1.237e+04</td> <td> 1210.573</td> <td>  -10.221</td> <td> 0.000</td> <td>-1.47e+04</td> <td>-9997.940</td>\n",
       "</tr>\n",
       "<tr>\n",
       "  <th>x0_northwest</th> <td>-1.286e+04</td> <td> 1225.262</td> <td>  -10.497</td> <td> 0.000</td> <td>-1.53e+04</td> <td>-1.05e+04</td>\n",
       "</tr>\n",
       "<tr>\n",
       "  <th>x0_southeast</th> <td>-1.334e+04</td> <td> 1323.558</td> <td>  -10.082</td> <td> 0.000</td> <td>-1.59e+04</td> <td>-1.07e+04</td>\n",
       "</tr>\n",
       "<tr>\n",
       "  <th>x0_southwest</th> <td> -1.33e+04</td> <td> 1268.884</td> <td>  -10.482</td> <td> 0.000</td> <td>-1.58e+04</td> <td>-1.08e+04</td>\n",
       "</tr>\n",
       "</table>\n",
       "<table class=\"simpletable\">\n",
       "<tr>\n",
       "  <th>Omnibus:</th>       <td>224.791</td> <th>  Durbin-Watson:     </th> <td>   2.075</td> \n",
       "</tr>\n",
       "<tr>\n",
       "  <th>Prob(Omnibus):</th> <td> 0.000</td>  <th>  Jarque-Bera (JB):  </th> <td> 543.462</td> \n",
       "</tr>\n",
       "<tr>\n",
       "  <th>Skew:</th>          <td> 1.270</td>  <th>  Prob(JB):          </th> <td>9.74e-119</td>\n",
       "</tr>\n",
       "<tr>\n",
       "  <th>Kurtosis:</th>      <td> 5.735</td>  <th>  Cond. No.          </th> <td>    613.</td> \n",
       "</tr>\n",
       "</table><br/><br/>Notes:<br/>[1] Standard Errors assume that the covariance matrix of the errors is correctly specified."
      ],
      "text/plain": [
       "<class 'statsmodels.iolib.summary.Summary'>\n",
       "\"\"\"\n",
       "                            OLS Regression Results                            \n",
       "==============================================================================\n",
       "Dep. Variable:                charges   R-squared:                       0.742\n",
       "Model:                            OLS   Adj. R-squared:                  0.740\n",
       "Method:                 Least Squares   F-statistic:                     333.9\n",
       "Date:                Wed, 01 Jun 2022   Prob (F-statistic):          6.55e-267\n",
       "Time:                        12:50:06   Log-Likelihood:                -9492.9\n",
       "No. Observations:                 936   AIC:                         1.900e+04\n",
       "Df Residuals:                     927   BIC:                         1.905e+04\n",
       "Df Model:                           8                                         \n",
       "Covariance Type:            nonrobust                                         \n",
       "================================================================================\n",
       "                   coef    std err          t      P>|t|      [0.025      0.975]\n",
       "--------------------------------------------------------------------------------\n",
       "age            261.2982     14.435     18.102      0.000     232.969     289.627\n",
       "sex            104.8476    404.889      0.259      0.796    -689.759     899.454\n",
       "bmi            348.8947     35.286      9.888      0.000     279.645     418.144\n",
       "children       424.1119    166.973      2.540      0.011      96.423     751.801\n",
       "smoker        2.363e+04    498.613     47.388      0.000    2.26e+04    2.46e+04\n",
       "x0_northeast -1.237e+04   1210.573    -10.221      0.000   -1.47e+04   -9997.940\n",
       "x0_northwest -1.286e+04   1225.262    -10.497      0.000   -1.53e+04   -1.05e+04\n",
       "x0_southeast -1.334e+04   1323.558    -10.082      0.000   -1.59e+04   -1.07e+04\n",
       "x0_southwest  -1.33e+04   1268.884    -10.482      0.000   -1.58e+04   -1.08e+04\n",
       "==============================================================================\n",
       "Omnibus:                      224.791   Durbin-Watson:                   2.075\n",
       "Prob(Omnibus):                  0.000   Jarque-Bera (JB):              543.462\n",
       "Skew:                           1.270   Prob(JB):                    9.74e-119\n",
       "Kurtosis:                       5.735   Cond. No.                         613.\n",
       "==============================================================================\n",
       "\n",
       "Notes:\n",
       "[1] Standard Errors assume that the covariance matrix of the errors is correctly specified.\n",
       "\"\"\""
      ]
     },
     "execution_count": 28,
     "metadata": {},
     "output_type": "execute_result"
    }
   ],
   "source": [
    "import statsmodels.api as sm\n",
    "import statsmodels.formula.api as smf\n",
    "import statsmodels.api as sm\n",
    "\n",
    "reg =  sm.OLS(y_train, X_train).fit()\n",
    "reg.summary()"
   ]
  },
  {
   "cell_type": "code",
   "execution_count": 29,
   "id": "9aa2f145-0145-48d1-909b-6bfaf080d71f",
   "metadata": {},
   "outputs": [
    {
     "data": {
      "text/html": [
       "<table class=\"simpletable\">\n",
       "<caption>OLS Regression Results</caption>\n",
       "<tr>\n",
       "  <th>Dep. Variable:</th>         <td>charges</td>     <th>  R-squared:         </th> <td>   0.773</td> \n",
       "</tr>\n",
       "<tr>\n",
       "  <th>Model:</th>                   <td>OLS</td>       <th>  Adj. R-squared:    </th> <td>   0.768</td> \n",
       "</tr>\n",
       "<tr>\n",
       "  <th>Method:</th>             <td>Least Squares</td>  <th>  F-statistic:       </th> <td>   167.0</td> \n",
       "</tr>\n",
       "<tr>\n",
       "  <th>Date:</th>             <td>Wed, 01 Jun 2022</td> <th>  Prob (F-statistic):</th> <td>2.26e-121</td>\n",
       "</tr>\n",
       "<tr>\n",
       "  <th>Time:</th>                 <td>12:50:10</td>     <th>  Log-Likelihood:    </th> <td> -4052.1</td> \n",
       "</tr>\n",
       "<tr>\n",
       "  <th>No. Observations:</th>      <td>   402</td>      <th>  AIC:               </th> <td>   8122.</td> \n",
       "</tr>\n",
       "<tr>\n",
       "  <th>Df Residuals:</th>          <td>   393</td>      <th>  BIC:               </th> <td>   8158.</td> \n",
       "</tr>\n",
       "<tr>\n",
       "  <th>Df Model:</th>              <td>     8</td>      <th>                     </th>     <td> </td>    \n",
       "</tr>\n",
       "<tr>\n",
       "  <th>Covariance Type:</th>      <td>nonrobust</td>    <th>                     </th>     <td> </td>    \n",
       "</tr>\n",
       "</table>\n",
       "<table class=\"simpletable\">\n",
       "<tr>\n",
       "        <td></td>          <th>coef</th>     <th>std err</th>      <th>t</th>      <th>P>|t|</th>  <th>[0.025</th>    <th>0.975]</th>  \n",
       "</tr>\n",
       "<tr>\n",
       "  <th>age</th>          <td>  245.4216</td> <td>   21.204</td> <td>   11.574</td> <td> 0.000</td> <td>  203.735</td> <td>  287.108</td>\n",
       "</tr>\n",
       "<tr>\n",
       "  <th>sex</th>          <td> -665.6040</td> <td>  601.866</td> <td>   -1.106</td> <td> 0.269</td> <td>-1848.883</td> <td>  517.675</td>\n",
       "</tr>\n",
       "<tr>\n",
       "  <th>bmi</th>          <td>  322.8414</td> <td>   49.292</td> <td>    6.550</td> <td> 0.000</td> <td>  225.933</td> <td>  419.750</td>\n",
       "</tr>\n",
       "<tr>\n",
       "  <th>children</th>     <td>  609.0531</td> <td>  248.505</td> <td>    2.451</td> <td> 0.015</td> <td>  120.488</td> <td> 1097.619</td>\n",
       "</tr>\n",
       "<tr>\n",
       "  <th>smoker</th>       <td>  2.45e+04</td> <td>  748.455</td> <td>   32.728</td> <td> 0.000</td> <td>  2.3e+04</td> <td>  2.6e+04</td>\n",
       "</tr>\n",
       "<tr>\n",
       "  <th>x0_northeast</th> <td>-1.109e+04</td> <td> 1735.561</td> <td>   -6.390</td> <td> 0.000</td> <td>-1.45e+04</td> <td>-7677.698</td>\n",
       "</tr>\n",
       "<tr>\n",
       "  <th>x0_northwest</th> <td>-1.125e+04</td> <td> 1682.329</td> <td>   -6.684</td> <td> 0.000</td> <td>-1.46e+04</td> <td>-7937.512</td>\n",
       "</tr>\n",
       "<tr>\n",
       "  <th>x0_southeast</th> <td>-1.223e+04</td> <td> 1873.941</td> <td>   -6.526</td> <td> 0.000</td> <td>-1.59e+04</td> <td>-8545.345</td>\n",
       "</tr>\n",
       "<tr>\n",
       "  <th>x0_southwest</th> <td>-1.214e+04</td> <td> 1726.915</td> <td>   -7.033</td> <td> 0.000</td> <td>-1.55e+04</td> <td>-8749.797</td>\n",
       "</tr>\n",
       "</table>\n",
       "<table class=\"simpletable\">\n",
       "<tr>\n",
       "  <th>Omnibus:</th>       <td>81.847</td> <th>  Durbin-Watson:     </th> <td>   2.183</td>\n",
       "</tr>\n",
       "<tr>\n",
       "  <th>Prob(Omnibus):</th> <td> 0.000</td> <th>  Jarque-Bera (JB):  </th> <td> 176.052</td>\n",
       "</tr>\n",
       "<tr>\n",
       "  <th>Skew:</th>          <td> 1.059</td> <th>  Prob(JB):          </th> <td>5.90e-39</td>\n",
       "</tr>\n",
       "<tr>\n",
       "  <th>Kurtosis:</th>      <td> 5.455</td> <th>  Cond. No.          </th> <td>    593.</td>\n",
       "</tr>\n",
       "</table><br/><br/>Notes:<br/>[1] Standard Errors assume that the covariance matrix of the errors is correctly specified."
      ],
      "text/plain": [
       "<class 'statsmodels.iolib.summary.Summary'>\n",
       "\"\"\"\n",
       "                            OLS Regression Results                            \n",
       "==============================================================================\n",
       "Dep. Variable:                charges   R-squared:                       0.773\n",
       "Model:                            OLS   Adj. R-squared:                  0.768\n",
       "Method:                 Least Squares   F-statistic:                     167.0\n",
       "Date:                Wed, 01 Jun 2022   Prob (F-statistic):          2.26e-121\n",
       "Time:                        12:50:10   Log-Likelihood:                -4052.1\n",
       "No. Observations:                 402   AIC:                             8122.\n",
       "Df Residuals:                     393   BIC:                             8158.\n",
       "Df Model:                           8                                         \n",
       "Covariance Type:            nonrobust                                         \n",
       "================================================================================\n",
       "                   coef    std err          t      P>|t|      [0.025      0.975]\n",
       "--------------------------------------------------------------------------------\n",
       "age            245.4216     21.204     11.574      0.000     203.735     287.108\n",
       "sex           -665.6040    601.866     -1.106      0.269   -1848.883     517.675\n",
       "bmi            322.8414     49.292      6.550      0.000     225.933     419.750\n",
       "children       609.0531    248.505      2.451      0.015     120.488    1097.619\n",
       "smoker         2.45e+04    748.455     32.728      0.000     2.3e+04     2.6e+04\n",
       "x0_northeast -1.109e+04   1735.561     -6.390      0.000   -1.45e+04   -7677.698\n",
       "x0_northwest -1.125e+04   1682.329     -6.684      0.000   -1.46e+04   -7937.512\n",
       "x0_southeast -1.223e+04   1873.941     -6.526      0.000   -1.59e+04   -8545.345\n",
       "x0_southwest -1.214e+04   1726.915     -7.033      0.000   -1.55e+04   -8749.797\n",
       "==============================================================================\n",
       "Omnibus:                       81.847   Durbin-Watson:                   2.183\n",
       "Prob(Omnibus):                  0.000   Jarque-Bera (JB):              176.052\n",
       "Skew:                           1.059   Prob(JB):                     5.90e-39\n",
       "Kurtosis:                       5.455   Cond. No.                         593.\n",
       "==============================================================================\n",
       "\n",
       "Notes:\n",
       "[1] Standard Errors assume that the covariance matrix of the errors is correctly specified.\n",
       "\"\"\""
      ]
     },
     "execution_count": 29,
     "metadata": {},
     "output_type": "execute_result"
    }
   ],
   "source": [
    "reg =  sm.OLS(y_test, X_test).fit()\n",
    "reg.summary()"
   ]
  },
  {
   "cell_type": "code",
   "execution_count": 30,
   "id": "7af824fb-a39b-4c80-bc23-51a85f71b1ab",
   "metadata": {},
   "outputs": [
    {
     "data": {
      "image/png": "[encoded data removed]",
      "text/plain": [
       "<Figure size 1080x720 with 1 Axes>"
      ]
     },
     "metadata": {},
     "output_type": "display_data"
    }
   ],
   "source": [
    "sns.set(font_scale = 1)\n",
    "reg = sm.OLS(y_test, X_test).fit()\n",
    "cols = list(X.columns)\n",
    "fig, ax = plt.subplots(figsize=(15,10))\n",
    "sns.barplot(x=reg.params, y=cols)\n",
    "\n",
    "for p in ax.patches:\n",
    "     width = p.get_width() # get bar length\n",
    "     ax.text(width - .5, # set the text at 1 unit right of the bar\n",
    "               p.get_y() + p.get_height() / 2, # get Y coordinate + X coordinate / 2\n",
    "               '{:1.2f}'.format(width), # set variable to display, 2 decimals\n",
    "               ha = 'left', # horizontal alignment\n",
    "               va = 'center',fontsize=13) # vertical alignment"
   ]
  }
 ],
 "metadata": {
  "kernelspec": {
   "display_name": "Python 3.10.4 64-bit",
   "language": "python",
   "name": "python3"
  },
  "language_info": {
   "codemirror_mode": {
    "name": "ipython",
    "version": 3
   },
   "file_extension": ".py",
   "mimetype": "text/x-python",
   "name": "python",
   "nbconvert_exporter": "python",
   "pygments_lexer": "ipython3",
   "version": "3.10.4"
  },
  "vscode": {
   "interpreter": {
    "hash": "4f946df053fbf2b937619d3c5458e7af74262f9a954d8797ba0b27400bcafe06"
   }
  }
 },
 "nbformat": 4,
 "nbformat_minor": 5
}
