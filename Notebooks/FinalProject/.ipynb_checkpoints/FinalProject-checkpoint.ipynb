{
 "cells": [
  {
   "cell_type": "code",
   "execution_count": 1,
   "id": "d45943a8-7b08-4572-b547-3289995b30c5",
   "metadata": {},
   "outputs": [
    {
     "data": {
      "text/html": [
       "<svg  width=\"440\" height=\"55\"><rect x=\"0\" y=\"0\" width=\"55\" height=\"55\" style=\"fill:#66c2a5;stroke-width:2;stroke:rgb(255,255,255)\"/><rect x=\"55\" y=\"0\" width=\"55\" height=\"55\" style=\"fill:#fc8d62;stroke-width:2;stroke:rgb(255,255,255)\"/><rect x=\"110\" y=\"0\" width=\"55\" height=\"55\" style=\"fill:#8da0cb;stroke-width:2;stroke:rgb(255,255,255)\"/><rect x=\"165\" y=\"0\" width=\"55\" height=\"55\" style=\"fill:#e78ac3;stroke-width:2;stroke:rgb(255,255,255)\"/><rect x=\"220\" y=\"0\" width=\"55\" height=\"55\" style=\"fill:#a6d854;stroke-width:2;stroke:rgb(255,255,255)\"/><rect x=\"275\" y=\"0\" width=\"55\" height=\"55\" style=\"fill:#ffd92f;stroke-width:2;stroke:rgb(255,255,255)\"/><rect x=\"330\" y=\"0\" width=\"55\" height=\"55\" style=\"fill:#e5c494;stroke-width:2;stroke:rgb(255,255,255)\"/><rect x=\"385\" y=\"0\" width=\"55\" height=\"55\" style=\"fill:#b3b3b3;stroke-width:2;stroke:rgb(255,255,255)\"/></svg>"
      ],
      "text/plain": [
       "[(0.4, 0.7607843137254902, 0.6470588235294118),\n",
       " (0.9882352941176471, 0.5529411764705883, 0.3843137254901961),\n",
       " (0.5529411764705883, 0.6274509803921569, 0.796078431372549),\n",
       " (0.9058823529411765, 0.5411764705882353, 0.7647058823529411),\n",
       " (0.6509803921568628, 0.8470588235294118, 0.32941176470588235),\n",
       " (1.0, 0.8509803921568627, 0.1843137254901961),\n",
       " (0.8980392156862745, 0.7686274509803922, 0.5803921568627451),\n",
       " (0.7019607843137254, 0.7019607843137254, 0.7019607843137254)]"
      ]
     },
     "execution_count": 1,
     "metadata": {},
     "output_type": "execute_result"
    }
   ],
   "source": [
    "import numpy as np\n",
    "import sys\n",
    "import pandas as pd\n",
    "import matplotlib.pyplot as plt\n",
    "\n",
    "from sklearn import datasets\n",
    "from sklearn.model_selection import train_test_split\n",
    "from sklearn.metrics import mean_squared_error\n",
    "from sklearn.preprocessing import OneHotEncoder\n",
    "from sklearn.datasets import make_classification\n",
    "from collections import Counter\n",
    "from imblearn.under_sampling import RandomUnderSampler\n",
    "\n",
    "import seaborn as sns\n",
    "\n",
    "sns.set_style('whitegrid')\n",
    "\n",
    "sns.set_palette('Set2')\n",
    "sns.color_palette('Set2')"
   ]
  },
  {
   "cell_type": "markdown",
   "id": "c94f53fb",
   "metadata": {},
   "source": [
    "# SAMPLING"
   ]
  },
  {
   "cell_type": "markdown",
   "id": "f80c7719-1eb8-48ec-a256-c30b38118dae",
   "metadata": {},
   "source": [
    "#try"
   ]
  },
  {
   "cell_type": "markdown",
   "id": "4371d36d-78cd-40d8-894d-089d77413064",
   "metadata": {},
   "source": [
    "# LOADING AND CLEANING DATASET"
   ]
  },
  {
   "cell_type": "code",
   "execution_count": 3,
   "id": "56b3b4ff-45df-42a2-bfa8-17164191ce6d",
   "metadata": {},
   "outputs": [],
   "source": [
    "df = pd.read_csv('insurance.csv')"
   ]
  },
  {
   "cell_type": "code",
   "execution_count": 4,
   "id": "0ffc3f01-795d-4dba-a5df-4b5b1f39b6b0",
   "metadata": {},
   "outputs": [
    {
     "data": {
      "text/html": [
       "<div>\n",
       "<style scoped>\n",
       "    .dataframe tbody tr th:only-of-type {\n",
       "        vertical-align: middle;\n",
       "    }\n",
       "\n",
       "    .dataframe tbody tr th {\n",
       "        vertical-align: top;\n",
       "    }\n",
       "\n",
       "    .dataframe thead th {\n",
       "        text-align: right;\n",
       "    }\n",
       "</style>\n",
       "<table border=\"1\" class=\"dataframe\">\n",
       "  <thead>\n",
       "    <tr style=\"text-align: right;\">\n",
       "      <th></th>\n",
       "      <th>age</th>\n",
       "      <th>sex</th>\n",
       "      <th>bmi</th>\n",
       "      <th>children</th>\n",
       "      <th>smoker</th>\n",
       "      <th>region</th>\n",
       "      <th>charges</th>\n",
       "    </tr>\n",
       "  </thead>\n",
       "  <tbody>\n",
       "    <tr>\n",
       "      <th>0</th>\n",
       "      <td>19</td>\n",
       "      <td>female</td>\n",
       "      <td>27.900</td>\n",
       "      <td>0</td>\n",
       "      <td>yes</td>\n",
       "      <td>southwest</td>\n",
       "      <td>16884.92400</td>\n",
       "    </tr>\n",
       "    <tr>\n",
       "      <th>1</th>\n",
       "      <td>18</td>\n",
       "      <td>male</td>\n",
       "      <td>33.770</td>\n",
       "      <td>1</td>\n",
       "      <td>no</td>\n",
       "      <td>southeast</td>\n",
       "      <td>1725.55230</td>\n",
       "    </tr>\n",
       "    <tr>\n",
       "      <th>2</th>\n",
       "      <td>28</td>\n",
       "      <td>male</td>\n",
       "      <td>33.000</td>\n",
       "      <td>3</td>\n",
       "      <td>no</td>\n",
       "      <td>southeast</td>\n",
       "      <td>4449.46200</td>\n",
       "    </tr>\n",
       "    <tr>\n",
       "      <th>3</th>\n",
       "      <td>33</td>\n",
       "      <td>male</td>\n",
       "      <td>22.705</td>\n",
       "      <td>0</td>\n",
       "      <td>no</td>\n",
       "      <td>northwest</td>\n",
       "      <td>21984.47061</td>\n",
       "    </tr>\n",
       "    <tr>\n",
       "      <th>4</th>\n",
       "      <td>32</td>\n",
       "      <td>male</td>\n",
       "      <td>28.880</td>\n",
       "      <td>0</td>\n",
       "      <td>no</td>\n",
       "      <td>northwest</td>\n",
       "      <td>3866.85520</td>\n",
       "    </tr>\n",
       "  </tbody>\n",
       "</table>\n",
       "</div>"
      ],
      "text/plain": [
       "   age     sex     bmi  children smoker     region      charges\n",
       "0   19  female  27.900         0    yes  southwest  16884.92400\n",
       "1   18    male  33.770         1     no  southeast   1725.55230\n",
       "2   28    male  33.000         3     no  southeast   4449.46200\n",
       "3   33    male  22.705         0     no  northwest  21984.47061\n",
       "4   32    male  28.880         0     no  northwest   3866.85520"
      ]
     },
     "execution_count": 4,
     "metadata": {},
     "output_type": "execute_result"
    }
   ],
   "source": [
    "df.head()"
   ]
  },
  {
   "cell_type": "code",
   "execution_count": 5,
   "id": "da2b617b-32ae-4ce4-b020-8a095e355dd8",
   "metadata": {},
   "outputs": [
    {
     "data": {
      "text/html": [
       "<div>\n",
       "<style scoped>\n",
       "    .dataframe tbody tr th:only-of-type {\n",
       "        vertical-align: middle;\n",
       "    }\n",
       "\n",
       "    .dataframe tbody tr th {\n",
       "        vertical-align: top;\n",
       "    }\n",
       "\n",
       "    .dataframe thead th {\n",
       "        text-align: right;\n",
       "    }\n",
       "</style>\n",
       "<table border=\"1\" class=\"dataframe\">\n",
       "  <thead>\n",
       "    <tr style=\"text-align: right;\">\n",
       "      <th></th>\n",
       "      <th>age</th>\n",
       "      <th>bmi</th>\n",
       "      <th>children</th>\n",
       "      <th>charges</th>\n",
       "    </tr>\n",
       "  </thead>\n",
       "  <tbody>\n",
       "    <tr>\n",
       "      <th>count</th>\n",
       "      <td>1338.000000</td>\n",
       "      <td>1338.000000</td>\n",
       "      <td>1338.000000</td>\n",
       "      <td>1338.000000</td>\n",
       "    </tr>\n",
       "    <tr>\n",
       "      <th>mean</th>\n",
       "      <td>39.207025</td>\n",
       "      <td>30.663397</td>\n",
       "      <td>1.094918</td>\n",
       "      <td>13270.422265</td>\n",
       "    </tr>\n",
       "    <tr>\n",
       "      <th>std</th>\n",
       "      <td>14.049960</td>\n",
       "      <td>6.098187</td>\n",
       "      <td>1.205493</td>\n",
       "      <td>12110.011237</td>\n",
       "    </tr>\n",
       "    <tr>\n",
       "      <th>min</th>\n",
       "      <td>18.000000</td>\n",
       "      <td>15.960000</td>\n",
       "      <td>0.000000</td>\n",
       "      <td>1121.873900</td>\n",
       "    </tr>\n",
       "    <tr>\n",
       "      <th>25%</th>\n",
       "      <td>27.000000</td>\n",
       "      <td>26.296250</td>\n",
       "      <td>0.000000</td>\n",
       "      <td>4740.287150</td>\n",
       "    </tr>\n",
       "    <tr>\n",
       "      <th>50%</th>\n",
       "      <td>39.000000</td>\n",
       "      <td>30.400000</td>\n",
       "      <td>1.000000</td>\n",
       "      <td>9382.033000</td>\n",
       "    </tr>\n",
       "    <tr>\n",
       "      <th>75%</th>\n",
       "      <td>51.000000</td>\n",
       "      <td>34.693750</td>\n",
       "      <td>2.000000</td>\n",
       "      <td>16639.912515</td>\n",
       "    </tr>\n",
       "    <tr>\n",
       "      <th>max</th>\n",
       "      <td>64.000000</td>\n",
       "      <td>53.130000</td>\n",
       "      <td>5.000000</td>\n",
       "      <td>63770.428010</td>\n",
       "    </tr>\n",
       "  </tbody>\n",
       "</table>\n",
       "</div>"
      ],
      "text/plain": [
       "               age          bmi     children       charges\n",
       "count  1338.000000  1338.000000  1338.000000   1338.000000\n",
       "mean     39.207025    30.663397     1.094918  13270.422265\n",
       "std      14.049960     6.098187     1.205493  12110.011237\n",
       "min      18.000000    15.960000     0.000000   1121.873900\n",
       "25%      27.000000    26.296250     0.000000   4740.287150\n",
       "50%      39.000000    30.400000     1.000000   9382.033000\n",
       "75%      51.000000    34.693750     2.000000  16639.912515\n",
       "max      64.000000    53.130000     5.000000  63770.428010"
      ]
     },
     "execution_count": 5,
     "metadata": {},
     "output_type": "execute_result"
    }
   ],
   "source": [
    "df.describe()"
   ]
  },
  {
   "cell_type": "code",
   "execution_count": 6,
   "id": "4d3c9b40-5ae4-48c5-98d6-df27de3a2215",
   "metadata": {},
   "outputs": [
    {
     "data": {
      "text/plain": [
       "age         0\n",
       "sex         0\n",
       "bmi         0\n",
       "children    0\n",
       "smoker      0\n",
       "region      0\n",
       "charges     0\n",
       "dtype: int64"
      ]
     },
     "execution_count": 6,
     "metadata": {},
     "output_type": "execute_result"
    }
   ],
   "source": [
    "df.isnull().sum()"
   ]
  },
  {
   "cell_type": "code",
   "execution_count": 7,
   "id": "248ab4c6-2062-4aec-a973-143d8f63da87",
   "metadata": {},
   "outputs": [
    {
     "name": "stderr",
     "output_type": "stream",
     "text": [
      "/opt/python/3.10.4/lib/python3.10/site-packages/sklearn/utils/deprecation.py:87: FutureWarning: Function get_feature_names is deprecated; get_feature_names is deprecated in 1.0 and will be removed in 1.2. Please use get_feature_names_out instead.\n",
      "  warnings.warn(msg, category=FutureWarning)\n"
     ]
    },
    {
     "data": {
      "text/html": [
       "<div>\n",
       "<style scoped>\n",
       "    .dataframe tbody tr th:only-of-type {\n",
       "        vertical-align: middle;\n",
       "    }\n",
       "\n",
       "    .dataframe tbody tr th {\n",
       "        vertical-align: top;\n",
       "    }\n",
       "\n",
       "    .dataframe thead th {\n",
       "        text-align: right;\n",
       "    }\n",
       "</style>\n",
       "<table border=\"1\" class=\"dataframe\">\n",
       "  <thead>\n",
       "    <tr style=\"text-align: right;\">\n",
       "      <th></th>\n",
       "      <th>age</th>\n",
       "      <th>sex</th>\n",
       "      <th>bmi</th>\n",
       "      <th>children</th>\n",
       "      <th>smoker</th>\n",
       "      <th>charges</th>\n",
       "      <th>x0_northeast</th>\n",
       "      <th>x0_northwest</th>\n",
       "      <th>x0_southeast</th>\n",
       "      <th>x0_southwest</th>\n",
       "    </tr>\n",
       "  </thead>\n",
       "  <tbody>\n",
       "    <tr>\n",
       "      <th>0</th>\n",
       "      <td>19</td>\n",
       "      <td>0</td>\n",
       "      <td>27.90</td>\n",
       "      <td>0</td>\n",
       "      <td>1</td>\n",
       "      <td>16884.92</td>\n",
       "      <td>0.0</td>\n",
       "      <td>0.0</td>\n",
       "      <td>0.0</td>\n",
       "      <td>1.0</td>\n",
       "    </tr>\n",
       "    <tr>\n",
       "      <th>1</th>\n",
       "      <td>18</td>\n",
       "      <td>1</td>\n",
       "      <td>33.77</td>\n",
       "      <td>1</td>\n",
       "      <td>0</td>\n",
       "      <td>1725.55</td>\n",
       "      <td>0.0</td>\n",
       "      <td>0.0</td>\n",
       "      <td>1.0</td>\n",
       "      <td>0.0</td>\n",
       "    </tr>\n",
       "    <tr>\n",
       "      <th>2</th>\n",
       "      <td>28</td>\n",
       "      <td>1</td>\n",
       "      <td>33.00</td>\n",
       "      <td>3</td>\n",
       "      <td>0</td>\n",
       "      <td>4449.46</td>\n",
       "      <td>0.0</td>\n",
       "      <td>0.0</td>\n",
       "      <td>1.0</td>\n",
       "      <td>0.0</td>\n",
       "    </tr>\n",
       "    <tr>\n",
       "      <th>3</th>\n",
       "      <td>33</td>\n",
       "      <td>1</td>\n",
       "      <td>22.70</td>\n",
       "      <td>0</td>\n",
       "      <td>0</td>\n",
       "      <td>21984.47</td>\n",
       "      <td>0.0</td>\n",
       "      <td>1.0</td>\n",
       "      <td>0.0</td>\n",
       "      <td>0.0</td>\n",
       "    </tr>\n",
       "    <tr>\n",
       "      <th>4</th>\n",
       "      <td>32</td>\n",
       "      <td>1</td>\n",
       "      <td>28.88</td>\n",
       "      <td>0</td>\n",
       "      <td>0</td>\n",
       "      <td>3866.86</td>\n",
       "      <td>0.0</td>\n",
       "      <td>1.0</td>\n",
       "      <td>0.0</td>\n",
       "      <td>0.0</td>\n",
       "    </tr>\n",
       "  </tbody>\n",
       "</table>\n",
       "</div>"
      ],
      "text/plain": [
       "   age  sex    bmi  children  smoker   charges  x0_northeast  x0_northwest  \\\n",
       "0   19    0  27.90         0       1  16884.92           0.0           0.0   \n",
       "1   18    1  33.77         1       0   1725.55           0.0           0.0   \n",
       "2   28    1  33.00         3       0   4449.46           0.0           0.0   \n",
       "3   33    1  22.70         0       0  21984.47           0.0           1.0   \n",
       "4   32    1  28.88         0       0   3866.86           0.0           1.0   \n",
       "\n",
       "   x0_southeast  x0_southwest  \n",
       "0           0.0           1.0  \n",
       "1           1.0           0.0  \n",
       "2           1.0           0.0  \n",
       "3           0.0           0.0  \n",
       "4           0.0           0.0  "
      ]
     },
     "execution_count": 7,
     "metadata": {},
     "output_type": "execute_result"
    }
   ],
   "source": [
    "model_data = df.copy(deep=True)\n",
    "\n",
    "#convert sex to numeric \n",
    "model_data.sex = model_data.sex.apply(lambda x: 1 if x == 'male' else 0)\n",
    "#convert smoker to numeric\n",
    "model_data.smoker = model_data.smoker.apply(lambda x: 1 if x == 'yes' else 0)\n",
    "\n",
    "#one hot encode features with multiple categories \n",
    "multi_categorical_features = ['region']\n",
    "enc = OneHotEncoder(handle_unknown='ignore')\n",
    "res = enc.fit_transform(model_data[multi_categorical_features])\n",
    "res_df = pd.DataFrame(res.todense(), columns=enc.get_feature_names())\n",
    "\n",
    "model_data.drop(multi_categorical_features, axis=1, inplace=True)\n",
    "model_data = pd.concat([model_data, res_df], axis=1)\n",
    "\n",
    "model_data = model_data.round(2)\n",
    "\n",
    "model_data.head()"
   ]
  },
  {
   "cell_type": "code",
   "execution_count": 8,
   "id": "02471112-d77b-406d-a2a1-1813e193ac18",
   "metadata": {},
   "outputs": [],
   "source": [
    "def clean_dataset(df):\n",
    "    assert isinstance(df, pd.DataFrame)\n",
    "    df.dropna(inplace=True)\n",
    "    indices_to_keep = ~df.isin([np.nan, np.inf, -np.inf]).any(1)\n",
    "    return df[indices_to_keep].astype(np.float64)\n",
    "#clean_dataset(model_data)"
   ]
  },
  {
   "cell_type": "code",
   "execution_count": 9,
   "id": "60fb2307-b1a1-42bb-a93f-fc3e99c8bbe5",
   "metadata": {},
   "outputs": [],
   "source": [
    "X = model_data.drop(labels=['charges'],axis=1)\n",
    "y = model_data['charges']\n",
    "X_train, X_test, y_train, y_test = train_test_split(X, y, test_size=0.3, random_state=42)"
   ]
  },
  {
   "cell_type": "markdown",
   "id": "e2e60935-f0a7-4ca1-8711-0bf740d06c78",
   "metadata": {},
   "source": [
    "# LINEAR REGRESSION GRADIENT DESCENT"
   ]
  },
  {
   "cell_type": "code",
   "execution_count": 10,
   "id": "0d712757-78e3-4131-b5cf-556f54be2571",
   "metadata": {},
   "outputs": [],
   "source": [
    "#Convert df to array\n",
    "X=X.to_numpy()\n",
    "y=y.to_numpy()"
   ]
  },
  {
   "cell_type": "code",
   "execution_count": 11,
   "id": "102e69b8-6d4f-4893-a49f-249485f5e66d",
   "metadata": {},
   "outputs": [],
   "source": [
    "def run_gradient_descent(X, y, learning_rate=.00038, max_iter=10000):\n",
    "    w1, w2, w3, w4, w5, w6, w7, w8, w9, w10  = 0.01, .02, .03, .04, .05, .06, .07, .08, .09, .10\n",
    "    stop_criterion = 0.0000000000000000000000001\n",
    "    max_iter = 3000\n",
    "    N = len(y)\n",
    "    \n",
    "    #store results\n",
    "    log = []\n",
    "    mse = []\n",
    "    \n",
    "    while max_iter > 0:\n",
    "        f = y - (w1*X[:,0] + w2*X[:, 1] + w3*X[:,2] + w4*X[:,3] + w5*X[:,4] + w6*X[:,5] + w7*X[:,6] + w8*X[:,7] + w9*X[:,8] + w10)\n",
    "        \n",
    "        #calculate gradient & update weights\n",
    "        w1 -= learning_rate * (-2 * X[:,0].dot(f).sum()/ N)\n",
    "        w2 -= learning_rate * (-2 * X[:,1].dot(f).sum()/ N)\n",
    "        w3 -= learning_rate * (-2 * X[:,2].dot(f).sum()/ N)\n",
    "        w4 -= learning_rate * (-2 * X[:,3].dot(f).sum()/ N)\n",
    "        w5 -= learning_rate * (-2 * X[:,4].dot(f).sum()/ N)\n",
    "        w6 -= learning_rate * (-2 * X[:,5].dot(f).sum()/ N)\n",
    "        w7 -= learning_rate * (-2 * X[:,6].dot(f).sum()/ N)\n",
    "        w8 -= learning_rate * (-2 * X[:,7].dot(f).sum()/ N)\n",
    "        w9 -= learning_rate * (-2 * X[:,8].dot(f).sum()/ N)\n",
    "        w10 -= learning_rate * (-2 * f.sum() / N)\n",
    "\n",
    "        #calculate loss\n",
    "        new_error = mean_squared_error(y, (w1*X[:,0] + w2*X[:, 1] + w3*X[:,2] + w4*X[:,3] + w5*X[:,4] + w6*X[:,5] + w7*X[:,6] + w8*X[:,7] + w9*X[:,8] + w10))\n",
    "\n",
    "        #store results\n",
    "        log.append((w1,w2,w3,w4,w5,w6,w7,w8,w9,w10))\n",
    "        mse.append(new_error)\n",
    "\n",
    "        if new_error <= stop_criterion:\n",
    "            break\n",
    "        max_iter -= 1\n",
    "    \n",
    "    return w1, w2, w3, w4, w5, w6, w7, w8, w9, w10, log, mse\n",
    "w1, w2, w3, w4, w5, w6, w7, w8, w9, w10, log, mse = run_gradient_descent(X, y)"
   ]
  },
  {
   "cell_type": "code",
   "execution_count": 12,
   "id": "4f0f718f-bfa3-4a05-9877-4df6f139208d",
   "metadata": {},
   "outputs": [
    {
     "data": {
      "text/plain": [
       "82770723.34677324"
      ]
     },
     "execution_count": 12,
     "metadata": {},
     "output_type": "execute_result"
    },
    {
     "data": {
      "image/png": "[encoded data removed]",
      "text/plain": [
       "<Figure size 432x288 with 1 Axes>"
      ]
     },
     "metadata": {
      "needs_background": "light"
     },
     "output_type": "display_data"
    }
   ],
   "source": [
    "ax = sns.lineplot(x=range(len(mse)),y=mse)\n",
    "ax.set_xlabel('Number of iterations')\n",
    "ax.set_ylabel('MSE')\n",
    "min(mse)"
   ]
  },
  {
   "cell_type": "code",
   "execution_count": 13,
   "id": "ea4961fb-3b7c-4158-a6ff-1ed1e5d62ce8",
   "metadata": {},
   "outputs": [
    {
     "name": "stdout",
     "output_type": "stream",
     "text": [
      "207.8028412232317 299.4355228432827 128.70353082878233 371.6131321869999 7271.390034535245 23.642010074727263 -353.72569697822 306.7628413641524 -491.7447141172121 -515.265559656552\n"
     ]
    }
   ],
   "source": [
    "print(w1, w2, w3, w4, w5, w6, w7, w8, w9, w10)"
   ]
  },
  {
   "cell_type": "code",
   "execution_count": 14,
   "id": "d0216ff1-d793-40ce-85fc-0187ac5e34e0",
   "metadata": {},
   "outputs": [],
   "source": [
    "#print(mse)"
   ]
  },
  {
   "cell_type": "code",
   "execution_count": null,
   "id": "bfd7117b-d466-4b64-8db7-d8f8a66635c2",
   "metadata": {},
   "outputs": [],
   "source": []
  },
  {
   "cell_type": "code",
   "execution_count": 15,
   "id": "8dd021cb-f729-4137-8139-273b8c0473eb",
   "metadata": {},
   "outputs": [],
   "source": [
    "#fig, ax = plt.subplots(figsize=(15,10))\n",
    "\n",
    "#y_pred = w1*X[:,0] + w2*X[:, 1] + w3*X[:,2] + w4*X[:,3] + w5*X[:,4] + w6*X[:,5] + w7*X[:,6] + w8*X[:,7] + w9*X[:,8] + w10\n",
    "#sns.scatterplot(x=X, y=y, ax=ax)\n",
    "#sns.lineplot(x=X, y=y_pred, ax=ax)"
   ]
  },
  {
   "cell_type": "markdown",
   "id": "a743ead3-771c-43c9-b7e5-0662cba80d76",
   "metadata": {},
   "source": [
    "# LINEAR REGRESSION SK LEARN"
   ]
  },
  {
   "cell_type": "code",
   "execution_count": 16,
   "id": "1da2f65f-9178-4823-ac1f-ce27698ba3f5",
   "metadata": {},
   "outputs": [],
   "source": [
    "X = model_data.drop(labels=['charges'],axis=1)\n",
    "y = model_data['charges']\n",
    "X_train, X_test, y_train, y_test = train_test_split(X, y, test_size=0.3, random_state=42)"
   ]
  },
  {
   "cell_type": "code",
   "execution_count": 17,
   "id": "c0c06dc8-37bb-41ba-8618-b6c703a69be4",
   "metadata": {},
   "outputs": [],
   "source": [
    "from sklearn.linear_model import LinearRegression"
   ]
  },
  {
   "cell_type": "code",
   "execution_count": 18,
   "id": "b79aa531-8566-49ca-8c41-88891a2bdd6d",
   "metadata": {},
   "outputs": [
    {
     "data": {
      "text/plain": [
       "0.742394780754031"
      ]
     },
     "execution_count": 18,
     "metadata": {},
     "output_type": "execute_result"
    }
   ],
   "source": [
    "reg = LinearRegression().fit(X_train, y_train)\n",
    "reg.score(X_train, y_train)"
   ]
  },
  {
   "cell_type": "code",
   "execution_count": 19,
   "id": "42d79a97-ff56-4fad-ab63-f24dfbc1a779",
   "metadata": {},
   "outputs": [
    {
     "data": {
      "text/plain": [
       "0.7696124184215903"
      ]
     },
     "execution_count": 19,
     "metadata": {},
     "output_type": "execute_result"
    }
   ],
   "source": [
    "reg.score(X_test, y_test)"
   ]
  },
  {
   "cell_type": "code",
   "execution_count": 20,
   "id": "b194cdec-665f-4d24-bbff-4d5587d6cbd1",
   "metadata": {},
   "outputs": [
    {
     "data": {
      "text/plain": [
       "['age',\n",
       " 'sex',\n",
       " 'bmi',\n",
       " 'children',\n",
       " 'smoker',\n",
       " 'charges',\n",
       " 'x0_northeast',\n",
       " 'x0_northwest',\n",
       " 'x0_southeast',\n",
       " 'x0_southwest']"
      ]
     },
     "execution_count": 20,
     "metadata": {},
     "output_type": "execute_result"
    }
   ],
   "source": [
    "list(model_data.columns)"
   ]
  },
  {
   "cell_type": "code",
   "execution_count": 21,
   "id": "ee7aaa9e-2025-41ed-aaca-fe35e429911d",
   "metadata": {},
   "outputs": [
    {
     "data": {
      "image/png": "[encoded data removed]",
      "text/plain": [
       "<Figure size 1080x720 with 1 Axes>"
      ]
     },
     "metadata": {},
     "output_type": "display_data"
    }
   ],
   "source": [
    "sns.set(font_scale = 1)\n",
    "reg = LinearRegression().fit(X_train, y_train)\n",
    "cols = list(X.columns)\n",
    "fig, ax = plt.subplots(figsize=(15,10))\n",
    "sns.barplot(x=reg.coef_, y=cols)\n",
    "\n",
    "for p in ax.patches:\n",
    "     width = p.get_width() # get bar length\n",
    "     ax.text(width - .5, # set the text at 1 unit right of the bar\n",
    "               p.get_y() + p.get_height() / 2, # get Y coordinate + X coordinate / 2\n",
    "               '{:1.2f}'.format(width), # set variable to display, 2 decimals\n",
    "               ha = 'left', # horizontal alignment\n",
    "               va = 'center',fontsize=13) # vertical alignment"
   ]
  },
  {
   "cell_type": "markdown",
   "id": "7c2d0bee-b8e7-4b23-91cd-96957569545a",
   "metadata": {},
   "source": [
    "# LINEAR REGRESSION OLS"
   ]
  },
  {
   "cell_type": "code",
   "execution_count": 22,
   "id": "135af389-ff58-4641-ad81-21aa389aa761",
   "metadata": {},
   "outputs": [
    {
     "ename": "ModuleNotFoundError",
     "evalue": "No module named 'statsmodels'",
     "output_type": "error",
     "traceback": [
      "\u001b[0;31m---------------------------------------------------------------------------\u001b[0m",
      "\u001b[0;31mModuleNotFoundError\u001b[0m                       Traceback (most recent call last)",
      "Input \u001b[0;32mIn [22]\u001b[0m, in \u001b[0;36m<cell line: 1>\u001b[0;34m()\u001b[0m\n\u001b[0;32m----> 1\u001b[0m \u001b[38;5;28;01mimport\u001b[39;00m \u001b[38;5;21;01mstatsmodels\u001b[39;00m\u001b[38;5;21;01m.\u001b[39;00m\u001b[38;5;21;01mapi\u001b[39;00m \u001b[38;5;28;01mas\u001b[39;00m \u001b[38;5;21;01msm\u001b[39;00m\n\u001b[1;32m      2\u001b[0m \u001b[38;5;28;01mimport\u001b[39;00m \u001b[38;5;21;01mstatsmodels\u001b[39;00m\u001b[38;5;21;01m.\u001b[39;00m\u001b[38;5;21;01mformula\u001b[39;00m\u001b[38;5;21;01m.\u001b[39;00m\u001b[38;5;21;01mapi\u001b[39;00m \u001b[38;5;28;01mas\u001b[39;00m \u001b[38;5;21;01msmf\u001b[39;00m\n\u001b[1;32m      3\u001b[0m \u001b[38;5;28;01mimport\u001b[39;00m \u001b[38;5;21;01mstatsmodels\u001b[39;00m\u001b[38;5;21;01m.\u001b[39;00m\u001b[38;5;21;01mapi\u001b[39;00m \u001b[38;5;28;01mas\u001b[39;00m \u001b[38;5;21;01msm\u001b[39;00m\n",
      "\u001b[0;31mModuleNotFoundError\u001b[0m: No module named 'statsmodels'"
     ]
    }
   ],
   "source": [
    "import statsmodels.api as sm\n",
    "import statsmodels.formula.api as smf\n",
    "import statsmodels.api as sm\n",
    "\n",
    "reg =  sm.OLS(y_train, X_train).fit()\n",
    "reg.summary()"
   ]
  },
  {
   "cell_type": "code",
   "execution_count": null,
   "id": "9aa2f145-0145-48d1-909b-6bfaf080d71f",
   "metadata": {},
   "outputs": [],
   "source": [
    "reg =  sm.OLS(y_test, X_test).fit()\n",
    "reg.summary()"
   ]
  },
  {
   "cell_type": "code",
   "execution_count": null,
   "id": "7af824fb-a39b-4c80-bc23-51a85f71b1ab",
   "metadata": {},
   "outputs": [],
   "source": [
    "sns.set(font_scale = 1)\n",
    "reg = sm.OLS(y_test, X_test).fit()\n",
    "cols = list(X.columns)\n",
    "fig, ax = plt.subplots(figsize=(15,10))\n",
    "sns.barplot(x=reg.params, y=cols)\n",
    "\n",
    "for p in ax.patches:\n",
    "     width = p.get_width() # get bar length\n",
    "     ax.text(width - .5, # set the text at 1 unit right of the bar\n",
    "               p.get_y() + p.get_height() / 2, # get Y coordinate + X coordinate / 2\n",
    "               '{:1.2f}'.format(width), # set variable to display, 2 decimals\n",
    "               ha = 'left', # horizontal alignment\n",
    "               va = 'center',fontsize=13) # vertical alignment"
   ]
  }
 ],
 "metadata": {
  "kernelspec": {
   "display_name": "Python 3 (ipykernel)",
   "language": "python",
   "name": "python3"
  },
  "language_info": {
   "codemirror_mode": {
    "name": "ipython",
    "version": 3
   },
   "file_extension": ".py",
   "mimetype": "text/x-python",
   "name": "python",
   "nbconvert_exporter": "python",
   "pygments_lexer": "ipython3",
   "version": "3.10.4"
  },
  "vscode": {
   "interpreter": {
    "hash": "d4d1e4263499bec80672ea0156c357c1ee493ec2b1c70f0acce89fc37c4a6abe"
   }
  }
 },
 "nbformat": 4,
 "nbformat_minor": 5
}
